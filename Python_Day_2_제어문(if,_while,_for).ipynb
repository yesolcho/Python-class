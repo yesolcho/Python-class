{
  "nbformat": 4,
  "nbformat_minor": 0,
  "metadata": {
    "colab": {
      "provenance": [],
      "authorship_tag": "ABX9TyPnoAeAClR80CKLWFvd9Qyd",
      "include_colab_link": true
    },
    "kernelspec": {
      "name": "python3",
      "display_name": "Python 3"
    },
    "language_info": {
      "name": "python"
    }
  },
  "cells": [
    {
      "cell_type": "markdown",
      "metadata": {
        "id": "view-in-github",
        "colab_type": "text"
      },
      "source": [
        "<a href=\"https://colab.research.google.com/github/yesolcho/Python-class/blob/main/Python_Day_2_%EC%A0%9C%EC%96%B4%EB%AC%B8(if%2C_while%2C_for).ipynb\" target=\"_parent\"><img src=\"https://colab.research.google.com/assets/colab-badge.svg\" alt=\"Open In Colab\"/></a>"
      ]
    },
    {
      "cell_type": "markdown",
      "source": [
        "#인공지능 알바\n",
        "\n",
        "https://www.aimmo.ai/ko/\n",
        "\n",
        "https://www.crowdworks.kr/ (신뢰도 짱!)\n",
        "\n",
        "https://labelr.io/\n",
        "\n",
        "\n",
        "숙제는 코랩, 수업은 파이썬으로\n",
        "\n",
        "파이썬 깔때는 아나콘다가 진리. 다 깔아줌~ -> 주피터 노트북으로 실행 -> 엔진 돌아가는건 끄지 말고 인터넷 뜬거로 -> 도큐먼트에 새 폴더 만들고 거기에 파이썬\n",
        "만약에 웹이 안 뜰 경우 엔진에 뜬 링크로 들어가기\n",
        "\n",
        "draw io로 그림그리는 것을 익히기\n",
        "\n",
        "코딩할때 그림(설계) 그리고 하기"
      ],
      "metadata": {
        "id": "ADfGD7GBZWQY"
      }
    },
    {
      "cell_type": "markdown",
      "source": [
        "#제어문 : if, while, for\n",
        "가장 많이 쓰고 중요한 파트, while과 for는 100% 호환가능\n",
        "\n",
        "for 을 가장 많이 씀!\n",
        "\n",
        "가장 중요한 건 if"
      ],
      "metadata": {
        "id": "z9BDW8RzZsgY"
      }
    },
    {
      "cell_type": "markdown",
      "source": [
        "# 1. if 문\n",
        "조건을 판단하여 참일 경우와 거짓일 경우의 실행이 달라지게 흐름을 구성할 수 있다.\n",
        "\n",
        "Ada Lovelace(에이다 러브레이스): 인공지능의 시초, 인류최초의 컴퓨터 프로그래머, if문과 같은 제어문을 만든 사람. 멋지다!\n",
        "\n",
        "\n",
        "**if 조건식:** 조건이 참일 경우\n",
        "\n",
        "**else:** 조건이 거짓일 경우\n",
        "\n",
        "T면 if로가서 끝. 뒤로 가지 않음. F이면 else로 간다. "
      ],
      "metadata": {
        "id": "JHeXyhGWbQ_I"
      }
    },
    {
      "cell_type": "markdown",
      "source": [
        "Q. 만약 가진 돈이 있으면 택시를 타고 없으면 걸어가는 상황을 코드로 표현해보자."
      ],
      "metadata": {
        "id": "fx5cnlL-eVq4"
      }
    },
    {
      "cell_type": "code",
      "source": [
        "money = True #돈이 있다\n",
        "\n",
        "if 돈이 있으면:\n",
        "    print(\"택시를 타자\")\n",
        "\n",
        "else:\n",
        "    print(\"걸어 가자\")"
      ],
      "metadata": {
        "id": "Wqu1RzjZe1_P"
      },
      "execution_count": null,
      "outputs": []
    },
    {
      "cell_type": "markdown",
      "source": [
        "웹개발은 주로 로컬에서 (장고, 플라스크)\n",
        "\n"
      ],
      "metadata": {
        "id": "dg8X2UDhpfGO"
      }
    },
    {
      "cell_type": "code",
      "source": [
        "money = True\n",
        "\n",
        "if money == True:  #같니? 하고 물어보는 건 ==\n",
        "    print(\"택시를 타자\")\n",
        "else:\n",
        "    print(\"걸어가자\")"
      ],
      "metadata": {
        "id": "IXtAF4JwrRNu"
      },
      "execution_count": null,
      "outputs": []
    },
    {
      "cell_type": "markdown",
      "source": [
        "# if문 기본문법\n",
        "\n",
        "\n",
        "**1. 경우의 수가 여러 개일 경우**\n",
        "\n",
        "- if 조건식1:\n",
        "    조건이 참일 경우\n",
        "- elif 조건식2:\n",
        "    조건2가 참일 경우\n",
        "- else:\n",
        "    조건이 거짓일 경우"
      ],
      "metadata": {
        "id": "G-bWs3wCqMc8"
      }
    },
    {
      "cell_type": "code",
      "source": [
        "money = 8000\n",
        "\n",
        "if money >= 5000: \n",
        "    print(\"택시를 타자\")\n",
        "elif money >=1000: \n",
        "    print(\"버스를 타자\")\n",
        "else:\n",
        "    print(\"걸어가자\")\n",
        "\n",
        "# :는 '~하면'의 의미다.\n",
        "#True, False는 앞글자 언제나 대문자로 써라."
      ],
      "metadata": {
        "id": "ivsLOB7xrWWF"
      },
      "execution_count": null,
      "outputs": []
    },
    {
      "cell_type": "code",
      "source": [
        "# Q. 학생의 성적을 입력 받아서\n",
        "#점수가 90 이상이면 \"A학점입니다.\"\n",
        "#점수가 80 이상이면 \"B학점입니다.\"\n",
        "#점수가 70 이상이면 \"C학점입니다.\"\n",
        "#점수가 60 이상이면 \"D학점입니다.\"\n",
        "#나머지는 모두 \"F학점입니다.\"\n",
        "\n",
        "score = input(\"점수를 입력하시오: \")\n",
        "score_int = int(score)\n",
        "\n",
        "if score_int >= 90:\n",
        "    print(\"A학점입니다.\")\n",
        "elif score_int >= 80:\n",
        "    print(\"B학점입니다.\")\n",
        "elif score_int >= 70:\n",
        "    print(\"C학점입니다.\")\n",
        "elif score_int >= 60:\n",
        "    print(\"D학점입니다.\")\n",
        "else:\n",
        "    print(\"F학점입니다.\")\n",
        "\n",
        "\n",
        "#input함수를 int로 씌워줘도 된다! 앞으로 이렇게 하자.\n",
        "score = int(input(\"점수를 입력하시오: \"))\n",
        "\n",
        "if score >= 90:\n",
        "    print(\"A학점입니다.\")\n",
        "elif score >= 80:\n",
        "    print(\"B학점입니다.\")\n",
        "elif score >= 70:\n",
        "    print(\"C학점입니다.\")\n",
        "elif score >= 60:\n",
        "    print(\"D학점입니다.\")\n",
        "else:\n",
        "    print(\"F학점입니다.\")\n",
        "\n",
        "\n",
        "# 점수비교를 위해선 입력값을 정수로 바꿔주자!"
      ],
      "metadata": {
        "id": "lMWX4QJAvI7i"
      },
      "execution_count": null,
      "outputs": []
    },
    {
      "cell_type": "markdown",
      "source": [
        "# 2. 반복문 while, for\n",
        "\n",
        "파이썬에서의 반복문은 이 두개를 쓴다. while과 for 반복문은 서로 100% 호환된다. 둘 중 뭘 쓸지 모르겠으면 **for**을 쓰자.\n",
        "\n",
        "하지만, while이 적합한 때가 있다: **반복 횟수가 정확하지 않을 경우 주로 while**을 쓴다. ex) 운동장을 해질때까지 돌아라.\n",
        "\n",
        "**반복 횟수가 명확할 때 주로 for문**을 쓴다. ex) 운동장을 100바퀴 돌아라."
      ],
      "metadata": {
        "id": "AdSQXq3JzCbU"
      }
    },
    {
      "cell_type": "markdown",
      "source": [
        "#while 기본문법\n",
        "\n",
        "**while 조건:**\n",
        "    **조건을 만족할 경우 수행할 구문**"
      ],
      "metadata": {
        "id": "V19jAREO0BpE"
      }
    },
    {
      "cell_type": "code",
      "source": [
        "#while\n",
        "\n",
        "num = 10\n",
        "\n",
        "while num >= 0:  # num이 0보다 크거나 같을 때만 10을 찍어라.\n",
        "    print(num)\n",
        "    num = num - 1  # num에서 1뺀 것을 다시 넣고 조건에 맞으면 반복해라."
      ],
      "metadata": {
        "id": "K3ixOws81GPM"
      },
      "execution_count": null,
      "outputs": []
    },
    {
      "cell_type": "code",
      "source": [
        "prompt = \"1. 덧셈 / 2. 뺄셈 / 3. 곱셈 / 4. 나눗셈 / 5. 종료\"\n",
        "num = 0\n",
        "\n",
        "while num <= 4:\n",
        "    print(prompt)  #4이하면 계속 반복해서 물어보다가 5가 나오면 끝남!\n",
        "    num = int(input())\n",
        "    \n",
        "\n",
        "#5가 나올 때까지 몇 번 반복할지 모르는 게임. 따라서 while 문이 더 어울린다!"
      ],
      "metadata": {
        "id": "8epg6ugT2g-L",
        "colab": {
          "base_uri": "https://localhost:8080/"
        },
        "outputId": "2c3e4e99-bded-48d5-ac03-3d7458f24d00"
      },
      "execution_count": null,
      "outputs": [
        {
          "name": "stdout",
          "output_type": "stream",
          "text": [
            "1. 덧셈 / 2. 뺄셈 / 3. 곱셈 / 4. 나눗셈 / 5. 종료\n",
            "1\n",
            "1. 덧셈 / 2. 뺄셈 / 3. 곱셈 / 4. 나눗셈 / 5. 종료\n",
            "2\n",
            "1. 덧셈 / 2. 뺄셈 / 3. 곱셈 / 4. 나눗셈 / 5. 종료\n",
            "3\n",
            "1. 덧셈 / 2. 뺄셈 / 3. 곱셈 / 4. 나눗셈 / 5. 종료\n",
            "4\n",
            "1. 덧셈 / 2. 뺄셈 / 3. 곱셈 / 4. 나눗셈 / 5. 종료\n",
            "5\n"
          ]
        }
      ]
    },
    {
      "cell_type": "markdown",
      "source": [
        "while 문의 경우 반복 횟수가 정확하지 않을 경우가 많기 때문에 조건에서 뿐만이 아니라 **while문 중간에 반복을 종료 시키는 방법**도 필요하다."
      ],
      "metadata": {
        "id": "FmktJ8Zl29vD"
      }
    },
    {
      "cell_type": "code",
      "source": [
        "num = 0\n",
        "\n",
        "while num <= 10:  #조건을 걸어서 무한반복을 못하게 하는 경우\n",
        "    print(num)\n",
        "    num = num + 1"
      ],
      "metadata": {
        "colab": {
          "base_uri": "https://localhost:8080/"
        },
        "id": "3VfSn3Gl3LnS",
        "outputId": "5d0ffe15-72e9-4bda-a0d7-419982b3ea83"
      },
      "execution_count": null,
      "outputs": [
        {
          "output_type": "stream",
          "name": "stdout",
          "text": [
            "0\n",
            "1\n",
            "2\n",
            "3\n",
            "4\n",
            "5\n",
            "6\n",
            "7\n",
            "8\n",
            "9\n",
            "10\n"
          ]
        }
      ]
    },
    {
      "cell_type": "code",
      "source": [
        "num = 0\n",
        "\n",
        "while True:   #무한반복. 아래에 탈출 지점이 필요하다.\n",
        "    print(num)\n",
        "    num = num + 1\n",
        "    \n",
        "    if num > 10: \n",
        "        break   #무한반복하다가 중간에 반복을 종료하는'break'로 빠져나간다. 위의 코드와 비교해보자!\n",
        "\n",
        "#그림은 둘이 똑같다."
      ],
      "metadata": {
        "colab": {
          "base_uri": "https://localhost:8080/"
        },
        "id": "Y2vfH-Of4hAS",
        "outputId": "7fdedeb6-e758-40b6-e00c-09f44a66cc2c"
      },
      "execution_count": null,
      "outputs": [
        {
          "output_type": "stream",
          "name": "stdout",
          "text": [
            "0\n",
            "1\n",
            "2\n",
            "3\n",
            "4\n",
            "5\n",
            "6\n",
            "7\n",
            "8\n",
            "9\n",
            "10\n"
          ]
        }
      ]
    },
    {
      "cell_type": "code",
      "source": [
        "# Q. while문을 사용하여 1부터 100까지의 수 중 3의 배수만의 합을 구하시오.\n",
        "\n",
        "num = 1\n",
        "sum = 0  #초기화\n",
        "\n",
        "#햄버거 시작: while 쓰자\n",
        "\n",
        "while num <= 100:\n",
        "    if num % 3 == 0:  \n",
        "        sum = sum + num  #3의 배수면 True ok!\n",
        "#만약 3의 배수가 아니라면\n",
        "    num = num + 1   # num += 1\n",
        "\n",
        "# 햄버거 끝\n",
        "\n",
        "print(sum)"
      ],
      "metadata": {
        "colab": {
          "base_uri": "https://localhost:8080/"
        },
        "id": "sEHF9E-GRrA_",
        "outputId": "4af3db9e-5d19-421a-b2cb-eab6508a78e1"
      },
      "execution_count": 12,
      "outputs": [
        {
          "output_type": "stream",
          "name": "stdout",
          "text": [
            "1683\n"
          ]
        }
      ]
    },
    {
      "cell_type": "markdown",
      "source": [
        "# for 문의 기본문법\n",
        "\n",
        "**for 변수명 in 리스트():**\n",
        "    **수행 구문**"
      ],
      "metadata": {
        "id": "ReCTE7lzSLX-"
      }
    },
    {
      "cell_type": "code",
      "source": [
        "#for 문\n",
        "#보통 변수명은 i를 많이쓴다.\n",
        "\n",
        "for i in [1,2,3,4,5,6,7,8,9,10]:\n",
        "    print(i)\n",
        "\n",
        "#리스트의 항목이 하나씩 출력된다."
      ],
      "metadata": {
        "colab": {
          "base_uri": "https://localhost:8080/"
        },
        "id": "pwTNe0RkTHFO",
        "outputId": "a812081a-0c1c-4d62-d9b5-66f9a1acfd93"
      },
      "execution_count": null,
      "outputs": [
        {
          "output_type": "stream",
          "name": "stdout",
          "text": [
            "1\n",
            "2\n",
            "3\n",
            "4\n",
            "5\n",
            "6\n",
            "7\n",
            "8\n",
            "9\n",
            "10\n"
          ]
        }
      ]
    },
    {
      "cell_type": "code",
      "source": [
        "#90점 이상이 합격\n",
        "\n",
        "math = [80,90,70,70,100]\n",
        "\n",
        "j = 1  # if와 else에 둘다 걸리기 위해 밖에서\n",
        "\n",
        "for i in math:   #math리스트에서 가져와\n",
        "    if i >= 90:\n",
        "        print(j, \"번째 학생은 합격입니다.\")\n",
        "    else:\n",
        "        print(j, \"번째 학생은 불합격입니다.\")\n",
        "    j += 1"
      ],
      "metadata": {
        "colab": {
          "base_uri": "https://localhost:8080/"
        },
        "id": "6qCnKHyaTSUm",
        "outputId": "68e5905c-5c25-479b-d174-202ba39b57f8"
      },
      "execution_count": null,
      "outputs": [
        {
          "output_type": "stream",
          "name": "stdout",
          "text": [
            "1 번째 학생은 불합격입니다.\n",
            "2 번째 학생은 합격입니다.\n",
            "3 번째 학생은 불합격입니다.\n",
            "4 번째 학생은 불합격입니다.\n",
            "5 번째 학생은 합격입니다.\n"
          ]
        }
      ]
    },
    {
      "cell_type": "markdown",
      "source": [
        "#continue\n",
        "\n",
        "만나는 순간 밑으로 내려가지 않고 다시 반복문 진행!\n",
        "break와 비슷하지만 다르다.\n"
      ],
      "metadata": {
        "id": "F8fgvo6YUa1t"
      }
    },
    {
      "cell_type": "code",
      "source": [
        "# 짝수만 찍고 싶다 => 홀수는 안 찍고 싶다.\n",
        "\n",
        "for i in [1,2,3,4,5,6,7,8,9,10]:\n",
        "    if i%2 != 0 :   #0이 아니다 !=\n",
        "        continue   #컨티뉴면 안 내려가고 다시 위로 올라감.\n",
        "    \n",
        "    print(i)"
      ],
      "metadata": {
        "colab": {
          "base_uri": "https://localhost:8080/"
        },
        "id": "DCN3B5WWVe8e",
        "outputId": "d1c2f4c4-c1a3-4496-efeb-3b17509e2e86"
      },
      "execution_count": null,
      "outputs": [
        {
          "output_type": "stream",
          "name": "stdout",
          "text": [
            "2\n",
            "4\n",
            "6\n",
            "8\n",
            "10\n"
          ]
        }
      ]
    },
    {
      "cell_type": "markdown",
      "source": [
        "#range 함수\n",
        "\n",
        "숫자를 자동으로 생성해준다. for문과 함께 사용되는 경우가 아~~~주 많다.\n",
        "\n",
        "range(시작,미만)\n",
        "\n",
        "for i in range(1,11):"
      ],
      "metadata": {
        "id": "1FLVcPVkVxk9"
      }
    },
    {
      "cell_type": "code",
      "source": [
        "# for문으로 구구단 출력하기\n",
        "\n",
        "for i in range(2,10):  # 2단부터 9단까지. i = 단\n",
        "    for j in range(1,10):   # j = 곱해지는 수\n",
        "        print(i, \"*\", j, \"=\", i*j)\n",
        "\n",
        "# 2중 for문은 자주 사용한다. \n",
        "# 9바퀴 돌고 다시 올라가고를 반복!"
      ],
      "metadata": {
        "id": "_U7w9wKsW_Cm"
      },
      "execution_count": null,
      "outputs": []
    },
    {
      "cell_type": "code",
      "source": [
        "# for문으로 구구단 출력하기: n단마다 줄바꿈\n",
        "\n",
        "for i in range(2,10): \n",
        "    for j in range(1,10):\n",
        "        print(i*j, end = \"\\t\")  # 줄 바꾸지 말고 탭해라.\n",
        "    print()  #n단 다 돌때 줄바꿈!\n",
        "\n",
        "\n",
        "# for가 중첩되어 쓰면 2차원 구조가 된다. 자주 쓰이니 외우자."
      ],
      "metadata": {
        "colab": {
          "base_uri": "https://localhost:8080/"
        },
        "id": "1nMTBoB5X_lV",
        "outputId": "79dd56b5-a1ad-46d2-80c9-f9821e498455"
      },
      "execution_count": null,
      "outputs": [
        {
          "output_type": "stream",
          "name": "stdout",
          "text": [
            "2\t4\t6\t8\t10\t12\t14\t16\t18\t\n",
            "3\t6\t9\t12\t15\t18\t21\t24\t27\t\n",
            "4\t8\t12\t16\t20\t24\t28\t32\t36\t\n",
            "5\t10\t15\t20\t25\t30\t35\t40\t45\t\n",
            "6\t12\t18\t24\t30\t36\t42\t48\t54\t\n",
            "7\t14\t21\t28\t35\t42\t49\t56\t63\t\n",
            "8\t16\t24\t32\t40\t48\t56\t64\t72\t\n",
            "9\t18\t27\t36\t45\t54\t63\t72\t81\t\n"
          ]
        }
      ]
    },
    {
      "cell_type": "code",
      "source": [
        "# for문으로 구구단 출력하기: n단마다 오른쪽 이동\n",
        "for i in range(1,10): \n",
        "    for j in range(2,10):\n",
        "        print(i*j, end = \"\\t\")\n",
        "    print()"
      ],
      "metadata": {
        "colab": {
          "base_uri": "https://localhost:8080/"
        },
        "id": "WGUvAJpNZ8qF",
        "outputId": "f223ea5c-071c-450f-bb3a-852c1055e90c"
      },
      "execution_count": null,
      "outputs": [
        {
          "output_type": "stream",
          "name": "stdout",
          "text": [
            "2\t3\t4\t5\t6\t7\t8\t9\t\n",
            "4\t6\t8\t10\t12\t14\t16\t18\t\n",
            "6\t9\t12\t15\t18\t21\t24\t27\t\n",
            "8\t12\t16\t20\t24\t28\t32\t36\t\n",
            "10\t15\t20\t25\t30\t35\t40\t45\t\n",
            "12\t18\t24\t30\t36\t42\t48\t54\t\n",
            "14\t21\t28\t35\t42\t49\t56\t63\t\n",
            "16\t24\t32\t40\t48\t56\t64\t72\t\n",
            "18\t27\t36\t45\t54\t63\t72\t81\t\n"
          ]
        }
      ]
    },
    {
      "cell_type": "code",
      "source": [
        "# range를 사용하여 100 이하의 수 중 짝수들만의 합계를 구하세요.\n",
        "\n",
        "sum = 0\n",
        "\n",
        "for i in range(1,101):\n",
        "    if i % 2 == 0:\n",
        "        sum += i \n",
        "    \n",
        "print(sum)"
      ],
      "metadata": {
        "colab": {
          "base_uri": "https://localhost:8080/"
        },
        "id": "XrOxrluIeKRF",
        "outputId": "fcf91def-49de-453f-c2e3-a55458412d82"
      },
      "execution_count": null,
      "outputs": [
        {
          "output_type": "stream",
          "name": "stdout",
          "text": [
            "2550\n"
          ]
        }
      ]
    },
    {
      "cell_type": "code",
      "source": [
        "#더 쉬운 버전!\n",
        "\n",
        "sum = 0\n",
        "\n",
        "for i in range(0,101,2):\n",
        "    sum += i \n",
        "    \n",
        "print(sum)"
      ],
      "metadata": {
        "id": "chd-2EEGelXc"
      },
      "execution_count": null,
      "outputs": []
    },
    {
      "cell_type": "markdown",
      "source": [
        "#리스트 축약/내포 List comprehension\n",
        "\n",
        "리스트를 좀 더 편리하고 직관적으로 만드는 방법이다. 파이썬에서만 사용한다.\n",
        "\n",
        "최종 결과는 리스트가 된다.\n"
      ],
      "metadata": {
        "id": "nx8kMM8MeSvL"
      }
    },
    {
      "cell_type": "code",
      "source": [
        "#List Comprehension\n",
        "\n",
        "list1 = [1,2,3,4]\n",
        "print(list1)\n",
        "\n",
        "\n",
        "list2 = [num           for num in list1]  # 리스트1에서 항목을 하나씩 가져와 num에 넣는다.\n",
        "print(list2)\n",
        "\n",
        "\n",
        "list3 = [num*2           for num in list1]  # 리스트를 만들기 전에 하나씩 곱해 만든다.\n",
        "print(list3)\n",
        "\n",
        "\n",
        "list4 = [num          for num in list1          if num % 2 == 0]  #리스트에서 꺼내서 조건에 해당하는 것만 num에 넣는다.\n",
        "print(list4)\n"
      ],
      "metadata": {
        "colab": {
          "base_uri": "https://localhost:8080/"
        },
        "id": "BT8sI1DKgEPs",
        "outputId": "e4c5acc5-c35e-478f-f9db-f62381be22de"
      },
      "execution_count": null,
      "outputs": [
        {
          "output_type": "stream",
          "name": "stdout",
          "text": [
            "[1, 2, 3, 4]\n",
            "[1, 2, 3, 4]\n",
            "[2, 4, 6, 8]\n",
            "[2, 4]\n"
          ]
        }
      ]
    },
    {
      "cell_type": "code",
      "source": [
        "#if 고급형: if를 표현하는 또 다른 방법\n",
        "\n",
        "num = 70\n",
        "\n",
        "if num >= 70:\n",
        "    print(\"합격입니다.\")\n",
        "else:\n",
        "    print(\"불합격입니다.\")\n",
        "    \n",
        "    \n",
        "print(\"합격입니다.\"    if num >= 80    else \"불합격입니다.\") \n",
        "#앞이 T 케이스, 뒤가 F 케이스"
      ],
      "metadata": {
        "colab": {
          "base_uri": "https://localhost:8080/"
        },
        "id": "su03C5HIhP-U",
        "outputId": "b4fc85ce-6bff-4abf-f6f8-b110145e19a9"
      },
      "execution_count": null,
      "outputs": [
        {
          "output_type": "stream",
          "name": "stdout",
          "text": [
            "합격입니다.\n",
            "불합격입니다.\n"
          ]
        }
      ]
    },
    {
      "cell_type": "markdown",
      "source": [
        "# git hub\n",
        "\n",
        "개발자들의 명함같은 것. 반드시 있어야 함.\n",
        "전세계 개발자들의 코드 저장소.\n",
        "\n",
        "repositories : 폴더\n",
        "\n",
        "앞으로 수업하는 모든 건 깃허브에 저장\n",
        "\n",
        "Add a README file 는 항상 눌러라\n",
        "\n",
        "\n",
        "코랩은 바로 누르기만 하면 보낼 수 있음\n",
        "\n",
        "주피터는 로컬에 저장해서 올려야함: document -> 제목.ipynb  애를 깃허브에 업로드\n",
        "\n",
        "\n",
        "앞으로 숙제 전부 깃허브에 올려라\n",
        "\n",
        "\n",
        "# 포트폴리오 템플릿\n",
        "\n",
        "pass: jesus\n"
      ],
      "metadata": {
        "id": "0J6GIKzuh46E"
      }
    },
    {
      "cell_type": "code",
      "source": [
        "# Quiz 1\n",
        "\n",
        "a = int(input(\"number1: \"))\n",
        "b = int(input(\"number2: \"))\n",
        "c = int(input(\"number3: \"))\n",
        "\n",
        "if a>b and a>c:\n",
        "    print(a)\n",
        "elif b>a and b>c:\n",
        "    print(b)\n",
        "else:\n",
        "    print(c)"
      ],
      "metadata": {
        "colab": {
          "base_uri": "https://localhost:8080/"
        },
        "id": "SV2n80MyF3YV",
        "outputId": "00795ad9-d29c-400c-d42b-a91c4e54d98e"
      },
      "execution_count": 1,
      "outputs": [
        {
          "output_type": "stream",
          "name": "stdout",
          "text": [
            "number1: 4\n",
            "number2: 7\n",
            "number3: 3\n",
            "7\n"
          ]
        }
      ]
    },
    {
      "cell_type": "code",
      "source": [
        "# Quiz 2\n",
        "\n",
        "a = input(\"주민번호: \")\n",
        "\n",
        "if a[7] == \"2\" or a[7] == \"4\":\n",
        "    print(\"여자\")\n",
        "else:\n",
        "    print(\"남자\")\n",
        "\n",
        "#문자숫자 통일좀해...ㅜㅜ"
      ],
      "metadata": {
        "colab": {
          "base_uri": "https://localhost:8080/"
        },
        "id": "bTbWxegSF8s_",
        "outputId": "16e665df-3b44-4b0b-97b5-0a12cfc7d48f"
      },
      "execution_count": 2,
      "outputs": [
        {
          "output_type": "stream",
          "name": "stdout",
          "text": [
            "주민번호: 123456-2123456\n",
            "여자\n"
          ]
        }
      ]
    },
    {
      "cell_type": "code",
      "source": [
        "# Quiz 3\n",
        "\n",
        "리스트 = ['dog', 'cat', 'parrot']\n",
        "\n",
        "for i in 리스트:\n",
        "    print(i[0])"
      ],
      "metadata": {
        "colab": {
          "base_uri": "https://localhost:8080/"
        },
        "id": "p1V3UOFLGLMX",
        "outputId": "41a7142a-638a-4546-bf85-da25b9bda693"
      },
      "execution_count": 3,
      "outputs": [
        {
          "output_type": "stream",
          "name": "stdout",
          "text": [
            "d\n",
            "c\n",
            "p\n"
          ]
        }
      ]
    },
    {
      "cell_type": "code",
      "source": [
        "# Quiz 4\n",
        "\n",
        "ohlc = [[\"open\", \"hight\", \"low\", \"close\"],\n",
        "        [100, 110, 70, 100],\n",
        "        [200, 210, 180, 190],\n",
        "        [300,310, 300, 310]]\n",
        "\n",
        "for i in range(1,4):\n",
        "  print(ohlc[i][3])"
      ],
      "metadata": {
        "colab": {
          "base_uri": "https://localhost:8080/"
        },
        "id": "CYKeS7eHGlp8",
        "outputId": "f4e2a283-0cda-487c-9e2a-a5722e6412c6"
      },
      "execution_count": 4,
      "outputs": [
        {
          "output_type": "stream",
          "name": "stdout",
          "text": [
            "100\n",
            "190\n",
            "310\n"
          ]
        }
      ]
    },
    {
      "cell_type": "code",
      "source": [
        "import requests  # 웹상에서 데이터를 가져올 때 사용\n",
        "\n",
        "btc = requests.get(\"https://api.bithumb.com/public/ticker/\").json()['data']\n",
        "\n",
        "print(btc)"
      ],
      "metadata": {
        "colab": {
          "base_uri": "https://localhost:8080/"
        },
        "id": "iyD76lpWHJMk",
        "outputId": "27759c67-73f0-4e0f-f8fc-54c2ea57d0c9"
      },
      "execution_count": 5,
      "outputs": [
        {
          "output_type": "stream",
          "name": "stdout",
          "text": [
            "{'opening_price': '22739000', 'closing_price': '23051000', 'min_price': '22708000', 'max_price': '23300000', 'units_traded': '1052.3663839', 'acc_trade_value': '24201322629.0241', 'prev_closing_price': '22739000', 'units_traded_24H': '1843.67070019', 'acc_trade_value_24H': '42209361966.8336', 'fluctate_24H': '362000', 'fluctate_rate_24H': '1.6', 'date': '1668747739457'}\n"
          ]
        }
      ]
    },
    {
      "cell_type": "code",
      "source": [
        "# Quiz 5 While문을 사용하요 다음과 같이 별(*)을 표시하는 프로그램을 작성해보자. (트리)\n",
        "\n",
        "n = 1\n",
        "\n",
        "while n <= 5:\n",
        "  print(\"*\"*n)\n",
        "  n += 1"
      ],
      "metadata": {
        "colab": {
          "base_uri": "https://localhost:8080/"
        },
        "id": "Q2juP3KMHb3_",
        "outputId": "a97136ec-1174-4708-a128-01e013898e43"
      },
      "execution_count": 6,
      "outputs": [
        {
          "output_type": "stream",
          "name": "stdout",
          "text": [
            "*\n",
            "**\n",
            "***\n",
            "****\n",
            "*****\n"
          ]
        }
      ]
    },
    {
      "cell_type": "code",
      "source": [
        "# Quiz 5-2 사용자가 단을 입력하면 그 단 만큼 트리를 만들어보자.\n",
        "\n",
        "L = int(input(\"트리를 몇 단 만큼 만들까? \"))\n",
        "n = 1\n",
        "\n",
        "while n <= L:\n",
        "  print(\"*\"*n)\n",
        "  n += 1"
      ],
      "metadata": {
        "colab": {
          "base_uri": "https://localhost:8080/"
        },
        "id": "hWtrXgwgICL5",
        "outputId": "c6a2645a-08a9-426c-c658-274597d666c3"
      },
      "execution_count": 8,
      "outputs": [
        {
          "output_type": "stream",
          "name": "stdout",
          "text": [
            "트리를 몇 단 만큼 만들까? 8\n",
            "*\n",
            "**\n",
            "***\n",
            "****\n",
            "*****\n",
            "******\n",
            "*******\n",
            "********\n"
          ]
        }
      ]
    },
    {
      "cell_type": "markdown",
      "source": [
        "#난수 발생 기능\n",
        "\n",
        "import.random\n",
        "\n",
        "num = random.randrange(1,101)\n",
        "\n",
        "- 해당 범위 내에서 num을 랜덤으로 결정한다.\n",
        "\n",
        "print(num)"
      ],
      "metadata": {
        "id": "ofkPte5kJBrL"
      }
    },
    {
      "cell_type": "code",
      "source": [
        "# Quiz 6\n",
        "\n",
        "# ex) 정답 : 75\n",
        "# 숫자를 입력하세요 (1~100)\n",
        "# 50 입력 >>> 더 큰 수를 입력하세요.\n",
        "# 80입력 >>> 더 작은 수를 입력하세요.\n",
        "# 70입력 >>> 더 큰 수를 입력하세요.\n",
        "# 75 입력 >>> 정답입니다. 4번째 시도에 맞추셨습니다.축하합니다.\n",
        "\n",
        "import random\n",
        "num = random.randrange(1,101)\n",
        "t = 0\n",
        "\n",
        "user = int(input(\"숫자를 입력하세요(1~100) >>> \"))\n",
        "\n",
        "while num != user:\n",
        "  t += 1\n",
        "  if num > user:\n",
        "    print(\"더 큰 수를 입력하세요.\")\n",
        "    user = int(input(\"숫자를 입력하세요(1~100) >>> \"))\n",
        "  else: \n",
        "    print(\"더 작은 수를 입력하세요.\")\n",
        "    user = int(input(\"숫자를 입력하세요(1~100) >>> \"))\n",
        "\n",
        "print(\"정답입니다.\",t+1,\"번째 시도에 맞추셨습니다. 축하합니다.\")"
      ],
      "metadata": {
        "colab": {
          "base_uri": "https://localhost:8080/"
        },
        "id": "MnNVHcAAI1Rs",
        "outputId": "8ef29ca5-d3e3-473b-eb88-6e52f8a3a29d"
      },
      "execution_count": 17,
      "outputs": [
        {
          "output_type": "stream",
          "name": "stdout",
          "text": [
            "숫자를 입력하세요(1~100) >>> 50\n",
            "더 작은 수를 입력하세요.\n",
            "숫자를 입력하세요(1~100) >>> 25\n",
            "더 작은 수를 입력하세요.\n",
            "숫자를 입력하세요(1~100) >>> 15\n",
            "더 작은 수를 입력하세요.\n",
            "숫자를 입력하세요(1~100) >>> 7\n",
            "더 큰 수를 입력하세요.\n",
            "숫자를 입력하세요(1~100) >>> 11\n",
            "더 큰 수를 입력하세요.\n",
            "숫자를 입력하세요(1~100) >>> 13\n",
            "더 작은 수를 입력하세요.\n",
            "숫자를 입력하세요(1~100) >>> 12\n",
            "정답입니다. 7 번째 시도에 맞추셨습니다. 축하합니다.\n"
          ]
        }
      ]
    },
    {
      "cell_type": "code",
      "source": [
        "#while문 안이더라도 if 다음에는 꼭 else로 끝맺어야 한다.\n",
        "#같이 시행되는 코드들은 같은 줄탭에 쓰자.\n",
        "#while문의 조건이 아닐때의 출력값은 첫줄에."
      ],
      "metadata": {
        "id": "kLhH1U04c_d4"
      },
      "execution_count": null,
      "outputs": []
    }
  ]
}