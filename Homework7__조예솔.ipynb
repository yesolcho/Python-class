{
  "nbformat": 4,
  "nbformat_minor": 0,
  "metadata": {
    "colab": {
      "provenance": [],
      "authorship_tag": "ABX9TyNxkGCGmM1rVI7ANaScfGps",
      "include_colab_link": true
    },
    "kernelspec": {
      "name": "python3",
      "display_name": "Python 3"
    },
    "language_info": {
      "name": "python"
    }
  },
  "cells": [
    {
      "cell_type": "markdown",
      "metadata": {
        "id": "view-in-github",
        "colab_type": "text"
      },
      "source": [
        "<a href=\"https://colab.research.google.com/github/yesolcho/Python-class/blob/main/Homework7__%EC%A1%B0%EC%98%88%EC%86%94.ipynb\" target=\"_parent\"><img src=\"https://colab.research.google.com/assets/colab-badge.svg\" alt=\"Open In Colab\"/></a>"
      ]
    },
    {
      "cell_type": "code",
      "source": [
        "#111\n",
        "\n",
        "user = input(\"입력하시오: \")\n",
        "\n",
        "print(user*2)"
      ],
      "metadata": {
        "colab": {
          "base_uri": "https://localhost:8080/"
        },
        "id": "M9WbESE7Dhba",
        "outputId": "e238fda2-3331-4fee-a800-19c183db11a1"
      },
      "execution_count": null,
      "outputs": [
        {
          "output_type": "stream",
          "name": "stdout",
          "text": [
            "입력하시오: 안녕하세요\n",
            "안녕하세요안녕하세요\n"
          ]
        }
      ]
    },
    {
      "cell_type": "code",
      "source": [
        "#112\n",
        "\n",
        "num = int(input(\"하나의 숫자를 입력하시오: \"))\n",
        "\n",
        "print(num+10)"
      ],
      "metadata": {
        "colab": {
          "base_uri": "https://localhost:8080/"
        },
        "id": "nAiJr8sHDyRj",
        "outputId": "7873c406-8a53-44f8-ea0a-e90a9eeb352b"
      },
      "execution_count": null,
      "outputs": [
        {
          "output_type": "stream",
          "name": "stdout",
          "text": [
            "하나의 숫자를 입력하시오: 5\n",
            "15\n"
          ]
        }
      ]
    },
    {
      "cell_type": "code",
      "source": [
        "#113\n",
        "\n",
        "num = int(input(\"숫자 하나를 입력하시오: \"))\n",
        "\n",
        "if num%2 == 0:\n",
        "  print(\"짝수\")\n",
        "\n",
        "else:\n",
        "  print(\"홀수\")"
      ],
      "metadata": {
        "colab": {
          "base_uri": "https://localhost:8080/"
        },
        "id": "DkWjwkbhD7kY",
        "outputId": "25d53c88-0c82-43a9-e821-ebfcd3346b2b"
      },
      "execution_count": null,
      "outputs": [
        {
          "output_type": "stream",
          "name": "stdout",
          "text": [
            "숫자 하나를 입력하시오: 7\n",
            "홀수\n"
          ]
        }
      ]
    },
    {
      "cell_type": "code",
      "source": [
        "#114\n",
        "\n",
        "입력값 = int(input(\"입력값: \"))\n",
        "\n",
        "a = 입력값+20\n",
        "\n",
        "if a <= 255:\n",
        "  print(\"출력값:\",a)\n",
        "\n",
        "else:\n",
        "  print(\"출력값:\",255)"
      ],
      "metadata": {
        "colab": {
          "base_uri": "https://localhost:8080/"
        },
        "id": "bIVEpVF4ElDz",
        "outputId": "ac16296e-06f5-4364-aefc-93ccb8103373"
      },
      "execution_count": null,
      "outputs": [
        {
          "output_type": "stream",
          "name": "stdout",
          "text": [
            "입력값: 240\n",
            "출력값: 255\n"
          ]
        }
      ]
    },
    {
      "cell_type": "code",
      "source": [
        "#115\n",
        "\n",
        "num = int(input(\"입력값: \"))\n",
        "\n",
        "a = num-20\n",
        "\n",
        "if a < 0:\n",
        "  print(\"출력값:\",0)\n",
        "\n",
        "elif a > 255:\n",
        "  print(\"출력값:\",255)\n",
        "\n",
        "else:\n",
        "  print(\"출력값:\",a)"
      ],
      "metadata": {
        "colab": {
          "base_uri": "https://localhost:8080/"
        },
        "id": "1w8EP_LwFY7Q",
        "outputId": "62a86657-245a-420d-8972-a1ed14ba5def"
      },
      "execution_count": null,
      "outputs": [
        {
          "output_type": "stream",
          "name": "stdout",
          "text": [
            "입력값: 300\n",
            "출력값: 255\n"
          ]
        }
      ]
    },
    {
      "cell_type": "code",
      "source": [
        "#116\n",
        "\n",
        "user = input(\"현재시간: \")\n",
        "\n",
        "if user[3] == '0' and user[4] == '0':   # if user[-2:0] == '00':\n",
        "  print(\"정각입니다.\")\n",
        "\n",
        "else:\n",
        "  print(\"정각이 아닙니다.\")\n",
        "\n",
        "\n",
        "#and, or을 쓸 때는 등호식을 하나씩 써줘야 한다!!!!"
      ],
      "metadata": {
        "colab": {
          "base_uri": "https://localhost:8080/"
        },
        "id": "jyJ2zjLwGc1k",
        "outputId": "c2cc598f-c953-4127-fcbb-f8c55eee9656"
      },
      "execution_count": null,
      "outputs": [
        {
          "output_type": "stream",
          "name": "stdout",
          "text": [
            "현재시간: 02:00\n",
            "정각입니다.\n"
          ]
        }
      ]
    },
    {
      "cell_type": "code",
      "source": [
        "#117\n",
        "\n",
        "fruit = [\"사과\", \"포도\", \"홍시\"]\n",
        "\n",
        "user = input(\"좋아하는 과일은? \")\n",
        "\n",
        "if user in fruit:\n",
        "  print(\"정답입니다.\")\n",
        "\n",
        "else:\n",
        "  print(\"오답입니다.\")"
      ],
      "metadata": {
        "colab": {
          "base_uri": "https://localhost:8080/"
        },
        "id": "WYhNCwZ8H1vX",
        "outputId": "4edcbf7c-c017-42ee-b305-e3e04f68620f"
      },
      "execution_count": null,
      "outputs": [
        {
          "output_type": "stream",
          "name": "stdout",
          "text": [
            "좋아하는 과일은? 메론\n",
            "오답입니다.\n"
          ]
        }
      ]
    },
    {
      "cell_type": "markdown",
      "source": [
        "# in, not in\n",
        "\n",
        "리스트, 튜플, 문자열에 찾는 것이 있는지 확인해주는 함수."
      ],
      "metadata": {
        "id": "FAZSxCRWKtXA"
      }
    },
    {
      "cell_type": "code",
      "source": [
        "#118\n",
        "\n",
        "warn_investment_list = [\"Microsoft\", \"Google\", \"Naver\", \"Kakao\", \"SAMSUNG\", \"LG\"]\n",
        "\n",
        "user = input(\"투자 종목명: \")\n",
        "\n",
        "if user in warn_investment_list:\n",
        "  print(\"투자 경고 종목입니다.\")\n",
        "\n",
        "else:\n",
        "  print(\"투자 경고 종목이 아닙니다.\")"
      ],
      "metadata": {
        "colab": {
          "base_uri": "https://localhost:8080/"
        },
        "id": "MNC_IPTfLIkj",
        "outputId": "35f8ef1e-39bb-434e-fad6-892b5a3a3115"
      },
      "execution_count": null,
      "outputs": [
        {
          "output_type": "stream",
          "name": "stdout",
          "text": [
            "투자 종목명: 아마존\n",
            "투자 경고 종목이 아닙니다.\n"
          ]
        }
      ]
    },
    {
      "cell_type": "code",
      "source": [
        "#119\n",
        "\n",
        "fruit = {\"봄\" : \"딸기\", \"여름\" : \"토마토\", \"가을\" : \"사과\"}\n",
        "\n",
        "user = input(\"제가 좋아하는 계절은: \")\n",
        "\n",
        "if user in fruit:\n",
        "  print(\"정답입니다.\")\n",
        "\n",
        "else:\n",
        "  print(\"오답입니다.\")\n",
        "\n",
        "# 딕셔너리에서는 key 값만 찾아볼 수 있나보다. value값 넣으니 오답이 나온다. "
      ],
      "metadata": {
        "colab": {
          "base_uri": "https://localhost:8080/"
        },
        "id": "b4Lpb6mILhbk",
        "outputId": "37b4a9c8-be3c-48c1-9c63-8deb5774eaa9"
      },
      "execution_count": null,
      "outputs": [
        {
          "output_type": "stream",
          "name": "stdout",
          "text": [
            "제가 좋아하는 계절은: 여름\n",
            "정답입니다.\n"
          ]
        }
      ]
    },
    {
      "cell_type": "code",
      "source": [
        "#120\n",
        "\n",
        "fruit = {\"봄\" : \"딸기\", \"여름\" : \"토마토\", \"가을\" : \"사과\"}\n",
        "\n",
        "user = input(\"좋아하는 과일은?: \")\n",
        "\n",
        "if user in fruit.values():\n",
        "  print(\"정답입니다.\")\n",
        "\n",
        "else:\n",
        "  print(\"오답입니다.\")"
      ],
      "metadata": {
        "colab": {
          "base_uri": "https://localhost:8080/"
        },
        "id": "RAdggjdZM3YF",
        "outputId": "4e1e348e-d68a-4c81-a3c1-fd84068a12c3"
      },
      "execution_count": null,
      "outputs": [
        {
          "output_type": "stream",
          "name": "stdout",
          "text": [
            "좋아하는 과일은?: 딸기\n",
            "정답입니다.\n"
          ]
        }
      ]
    },
    {
      "cell_type": "code",
      "source": [
        "#121\n",
        "\n",
        "user = input(\"문자 한 개를 입력하시오: \")\n",
        "\n",
        "if user.islower():\n",
        "  print(user.upper())\n",
        "\n",
        "else:\n",
        "  print(user.lower())"
      ],
      "metadata": {
        "colab": {
          "base_uri": "https://localhost:8080/"
        },
        "id": "HenMmKMqNs-3",
        "outputId": "96495c61-db3e-4848-aa1b-71406c73900f"
      },
      "execution_count": null,
      "outputs": [
        {
          "output_type": "stream",
          "name": "stdout",
          "text": [
            "문자 한 개를 입력하시오: B\n",
            "b\n"
          ]
        }
      ]
    },
    {
      "cell_type": "markdown",
      "source": [
        "# islower() 함수\n",
        "\n",
        "**islower()** : 문자의 소문자 여부를 판별한다. 소문자일 경우 True, 대문자일 경우 False를 반환한다.\n",
        "\n",
        "\n",
        "**upper()**, **lower()** 함수는 각각 대문자, 소문자로 변경해준다."
      ],
      "metadata": {
        "id": "WqIrEjx0NzOP"
      }
    },
    {
      "cell_type": "code",
      "source": [
        "#122\n",
        "\n",
        "score = int(input(\"score: \"))\n",
        "\n",
        "if score > 80:\n",
        "  print(\"grade is A\")\n",
        "\n",
        "elif 80 >= score > 60:\n",
        "  print(\"grade is B\")\n",
        "\n",
        "elif 60 >= score > 40:\n",
        "  print(\"grade is C\")\n",
        "\n",
        "elif 40 >= score > 20:\n",
        "  print(\"grade is D\")\n",
        "\n",
        "else:\n",
        "  print(\"grade is E\")"
      ],
      "metadata": {
        "colab": {
          "base_uri": "https://localhost:8080/"
        },
        "id": "-zwvaynpPuje",
        "outputId": "166f6aa3-00bd-4f5e-a2cc-2d0897f82825"
      },
      "execution_count": null,
      "outputs": [
        {
          "output_type": "stream",
          "name": "stdout",
          "text": [
            "score: 57\n",
            "grade is C\n"
          ]
        }
      ]
    },
    {
      "cell_type": "code",
      "source": [
        "#123\n",
        "\n",
        "user = input(\"금액(달러/엔/유로/위안): \")\n",
        "\n",
        "money = user.split()\n",
        "\n",
        "if '달러' in money:\n",
        "  print(float(money[0]) * 1167)\n",
        "\n",
        "elif '엔' in money:\n",
        "  print(float(money[0]) * 1.096)\n",
        "\n",
        "elif '유로' in money:\n",
        "  print(float(money[0]) * 1268)\n",
        "\n",
        "else:\n",
        "  print(float(money[0]) * 171)\n",
        "\n",
        "# 최대한 변수 활용해서 풀자! 오류 줄이자."
      ],
      "metadata": {
        "colab": {
          "base_uri": "https://localhost:8080/"
        },
        "id": "7TRMtv9bQd8-",
        "outputId": "a9c5f930-5f1d-490f-f9c7-7512393ae397"
      },
      "execution_count": 3,
      "outputs": [
        {
          "output_type": "stream",
          "name": "stdout",
          "text": [
            "금액(달러/엔/유로/위안): 100 달러\n",
            "116700.0\n"
          ]
        }
      ]
    },
    {
      "cell_type": "code",
      "source": [
        "#123 - T\n",
        "\n",
        "환율 = {\"달러\":1167, \"엔\":1.096, \"유로\":1268, \"위안\":171}\n",
        "\n",
        "user = input(\"금액을 입력하시오: \")\n",
        "\n",
        "num, unit = user.split()\n",
        "\n",
        "print(float(num) * 환율[unit], \"원\")"
      ],
      "metadata": {
        "colab": {
          "base_uri": "https://localhost:8080/"
        },
        "id": "beT-MyZJEU2X",
        "outputId": "16861703-607d-40ff-94e4-066e4b7e7ec6"
      },
      "execution_count": 4,
      "outputs": [
        {
          "output_type": "stream",
          "name": "stdout",
          "text": [
            "금액을 입력하시오: 100 달러\n",
            "116700.0 원\n"
          ]
        }
      ]
    },
    {
      "cell_type": "code",
      "source": [
        "#124\n",
        "\n",
        "a = int(input(\"number1 : \"))\n",
        "b = int(input(\"number2 : \"))\n",
        "c = int(input(\"number3 : \"))\n",
        "\n",
        "if a>=b and a>=c:\n",
        "  print(a)\n",
        "\n",
        "elif b>=a and b>=c:\n",
        "  print(b)\n",
        "\n",
        "else:\n",
        "  print(c)\n"
      ],
      "metadata": {
        "colab": {
          "base_uri": "https://localhost:8080/"
        },
        "id": "2kluBFJ8PupD",
        "outputId": "d8cf8b37-43f3-4b56-ac53-8bd4c3deb0f5"
      },
      "execution_count": null,
      "outputs": [
        {
          "output_type": "stream",
          "name": "stdout",
          "text": [
            "number1 : 10\n",
            "number2 : 9\n",
            "number3 : 20\n",
            "20\n"
          ]
        }
      ]
    },
    {
      "cell_type": "code",
      "source": [
        "#125\n",
        "\n",
        "phone = input(\"휴대전화 번호 입력: \")\n",
        "\n",
        "front = phone[0:3]   #미만이야 바보야 ㅠㅠㅠ\n",
        "\n",
        "if front == '011':\n",
        "  print(\"당신은 SKT 사용자입니다.\")\n",
        "\n",
        "elif front == '016':\n",
        "  print(\"당신은 KT 사용자입니다.\")\n",
        "\n",
        "elif front == '019':\n",
        "  print(\"당신은 LGU 사용자입니다.\")\n",
        "\n",
        "else:\n",
        "  print(\"통신사를 알 수 없음.\")"
      ],
      "metadata": {
        "colab": {
          "base_uri": "https://localhost:8080/"
        },
        "id": "GbW8mwDBVFSi",
        "outputId": "f2a4fa54-6bd8-4941-c88b-707ad3e34c17"
      },
      "execution_count": null,
      "outputs": [
        {
          "output_type": "stream",
          "name": "stdout",
          "text": [
            "휴대전화 번호 입력: 011-345-1922\n",
            "당신은 SKT 사용자입니다.\n"
          ]
        }
      ]
    },
    {
      "cell_type": "code",
      "source": [
        "#126\n",
        "\n",
        "num = input(\"우편번호: \")\n",
        "\n",
        "if num[0:3] == '010' or num[0:3] == '011' or num[0:3] == '012':\n",
        "  print(\"강북구\")\n",
        "\n",
        "elif num[0:3] == '013' or num[0:3] == '014' or num[0:3] == '015':\n",
        "  print(\"도봉구\")\n",
        "\n",
        "else:\n",
        "  print(\"노원구\")"
      ],
      "metadata": {
        "colab": {
          "base_uri": "https://localhost:8080/"
        },
        "id": "38UVi0wqWpur",
        "outputId": "9655a3eb-c21e-4b47-d5cc-c2829ab43105"
      },
      "execution_count": null,
      "outputs": [
        {
          "output_type": "stream",
          "name": "stdout",
          "text": [
            "우편번호: 01400\n",
            "도봉구\n"
          ]
        }
      ]
    },
    {
      "cell_type": "code",
      "source": [
        "#127\n",
        "\n",
        "ss = input(\"주민등록번호: \")\n",
        "\n",
        "ssf = int(ss[7])\n",
        "\n",
        "if ssf == 1 or ssf == 3:\n",
        "  print(\"남자\")\n",
        "\n",
        "else:\n",
        "  print(\"여자\")\n",
        "\n",
        "\n",
        "# 주민번호 = input(\"주민등록번호: \") ; 주민번호 = 주민번호.split(\"-\")[1]\n",
        "# 위처럼 변수를 재설정해서 풀면 좀 더 깔끔하다."
      ],
      "metadata": {
        "colab": {
          "base_uri": "https://localhost:8080/"
        },
        "id": "leHh2X-1YMaa",
        "outputId": "0a4fbd52-a18b-4ea6-c02b-5e646dbfd9e4"
      },
      "execution_count": null,
      "outputs": [
        {
          "output_type": "stream",
          "name": "stdout",
          "text": [
            "주민등록번호: 821010-4635210\n",
            "여자\n"
          ]
        }
      ]
    },
    {
      "cell_type": "code",
      "source": [
        "#128\n",
        "\n",
        "ss = input(\"주민등록번호: \")\n",
        "\n",
        "ssl = ss[8:10]\n",
        "\n",
        "seoul = ['00','01','02','03','04','05','06','07','08']\n",
        "\n",
        "if ssl in seoul:\n",
        "  print(\"서울입니다.\")\n",
        "\n",
        "else:\n",
        "  print(\"서울이 아닙니다.\")\n",
        "\n",
        "\n",
        "  "
      ],
      "metadata": {
        "colab": {
          "base_uri": "https://localhost:8080/"
        },
        "id": "MBVKAY8caule",
        "outputId": "bc353398-01f1-4303-adf7-3bac817d47a0"
      },
      "execution_count": null,
      "outputs": [
        {
          "output_type": "stream",
          "name": "stdout",
          "text": [
            "주민등록번호: 861010-1015210\n",
            "서울입니다.\n"
          ]
        }
      ]
    },
    {
      "cell_type": "code",
      "source": [
        "#128 - T\n",
        "\n",
        "주민번호 = input(\"주민등록번호: \")\n",
        "\n",
        "뒷자리 = 주민번호.split(\"-\")[1]\n",
        "\n",
        "if 0 <= int(뒷자리[1:3]) <= 8:   # 정수화 해줬으니 01은 1이 되어 프로그램이 돌아감!\n",
        "    print(\"서울입니다.\")\n",
        "\n",
        "else:\n",
        "    print(\"서울이 아닙니다.\")"
      ],
      "metadata": {
        "colab": {
          "base_uri": "https://localhost:8080/"
        },
        "id": "WEMy708GGc3i",
        "outputId": "3eb4859d-a7cb-4878-bc15-6b79c5169810"
      },
      "execution_count": 7,
      "outputs": [
        {
          "output_type": "stream",
          "name": "stdout",
          "text": [
            "주민등록번호: 861010-1015210\n",
            "서울입니다.\n"
          ]
        }
      ]
    },
    {
      "cell_type": "code",
      "source": [
        "#129\n",
        "\n",
        "ss = input(\"주민등록번호: \")\n",
        "\n",
        "sss = int(ss[0])*2 + int(ss[1])*3 + int(ss[2])*4 + int(ss[3])*5 + int(ss[4])*6 + int(ss[5])*7 + int(ss[7])*8 + int(ss[8])*9 + int(ss[9])*2 + int(ss[10])*3 + int(ss[11])*4 + int(ss[12])*5\n",
        "\n",
        "lss = 11-(sss%11)\n",
        "\n",
        "if int(ss[13]) == lss:\n",
        "  print(\"유효한 주민등록번호입니다.\")\n",
        "\n",
        "else:\n",
        "  print(\"유효하지 않은 주민등록번호입니다.\")\n"
      ],
      "metadata": {
        "colab": {
          "base_uri": "https://localhost:8080/"
        },
        "id": "4R4OaipPb_qD",
        "outputId": "946211f7-2181-430b-ef46-a329b4cee994"
      },
      "execution_count": null,
      "outputs": [
        {
          "output_type": "stream",
          "name": "stdout",
          "text": [
            "주민등록번호: 821010-1635214\n",
            "유효한 주민등록번호입니다.\n"
          ]
        }
      ]
    },
    {
      "cell_type": "code",
      "source": [
        "#130\n",
        "\n",
        "import requests\n",
        "btc = requests.get(\"https://api.bithumb.com/public/ticker/\").json()['data']\n",
        "\n",
        "v = float(btc['max_price'])-float(btc['min_price'])   #되도록 소숫점 살리게 float을 쓰자\n",
        "\n",
        "sv = float(btc['opening_price']) + v   # 시가는  opening \n",
        "\n",
        "if sv > int(btc['max_price']):\n",
        "  print(\"상승장\")\n",
        "\n",
        "else:\n",
        "  print(\"하락장\")"
      ],
      "metadata": {
        "colab": {
          "base_uri": "https://localhost:8080/"
        },
        "id": "RKYMORJ-h_R2",
        "outputId": "02f696ae-20fd-46fd-b7fb-b21f36b60ba6"
      },
      "execution_count": null,
      "outputs": [
        {
          "output_type": "stream",
          "name": "stdout",
          "text": [
            "상승장\n"
          ]
        }
      ]
    }
  ]
}