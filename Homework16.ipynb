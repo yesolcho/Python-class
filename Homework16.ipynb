{
  "cells": [
    {
      "cell_type": "markdown",
      "metadata": {
        "id": "view-in-github",
        "colab_type": "text"
      },
      "source": [
        "<a href=\"https://colab.research.google.com/github/yesolcho/Python-class/blob/main/Homework16.ipynb\" target=\"_parent\"><img src=\"https://colab.research.google.com/assets/colab-badge.svg\" alt=\"Open In Colab\"/></a>"
      ]
    },
    {
      "cell_type": "markdown",
      "metadata": {
        "id": "C-iwpcvM8Yyg"
      },
      "source": [
        "# 모듈\n",
        "\n",
        "모듈이란, 함수나 변수 또는 클래스를 모아 놓은 파일이다. \n",
        "이미 만들어 놓은 파이썬 모듈을 사용할 수 있게 해준다.\n",
        "\n",
        "**모듈 불러오기**\n",
        "\n",
        "        import 모듈이름\n",
        "        print (모듈이름.함수이름(a,b))\n",
        "\n",
        "\n",
        "**특정 함수만 쓰기**\n",
        "\n",
        "        from 모듈이름 import 모듈함수,\n",
        "        모듈함수(a,b)\n",
        "\n",
        "콤마를 사용해 여러개의 함수를 불러올 수 있다.\n",
        "\n",
        "\n",
        "\n",
        "# if _ _ name _ _ == \"_ _ main _ _\"\n",
        "\n",
        "불러온 모듈에 print문이 있을 경우 import를 수행하는 순간 실행이 되어 결괏값을 출력한다.\n",
        "따라서 단지 파일의 함수만 사용하고 싶을 때 사용한다.\n",
        "\n",
        "'파일 명이 메인과 같을 경우에만 실행한다.'\n",
        "\n",
        "\n",
        "\n",
        "# 다른 파일에서 모듈 불러오기\n",
        "\n",
        "        import sys\n",
        "        sys.path.append(모듈을 저장한 디렉터리)"
      ]
    },
    {
      "cell_type": "code",
      "execution_count": 1,
      "metadata": {
        "id": "HpAPn27J8Yyh",
        "colab": {
          "base_uri": "https://localhost:8080/",
          "height": 137
        },
        "outputId": "8abf2f96-e42f-4e0c-8f8c-b502b4c89da0"
      },
      "outputs": [
        {
          "output_type": "error",
          "ename": "SyntaxError",
          "evalue": "ignored",
          "traceback": [
            "\u001b[0;36m  File \u001b[0;32m\"<ipython-input-1-06bd936d222b>\"\u001b[0;36m, line \u001b[0;32m5\u001b[0m\n\u001b[0;31m    defn_plus_1 (n) :\u001b[0m\n\u001b[0m                     ^\u001b[0m\n\u001b[0;31mSyntaxError\u001b[0m\u001b[0;31m:\u001b[0m invalid syntax\n"
          ]
        }
      ],
      "source": [
        "# 231 *\n",
        "\n",
        "#답: 오류가 발생한다. \n",
        "# 함수 내부에서 사용한 변수는 외부로의 접근이 불가능하다.\n",
        "# 따라서 함수 내부에서 계산한 값을 전달하기 위해서 'return'을 사용해야한다.\n",
        "\n",
        "def n_plus_1(n):\n",
        "    result = n + 1\n",
        "\n",
        "n_plus_1(3)\n",
        "\n",
        "print(result)\n"
      ]
    },
    {
      "cell_type": "code",
      "execution_count": null,
      "metadata": {
        "id": "bv1S9tzk8Yyi",
        "outputId": "8557b466-1706-487e-f407-f035aea85544"
      },
      "outputs": [
        {
          "name": "stdout",
          "output_type": "stream",
          "text": [
            "www.naver.com\n"
          ]
        }
      ],
      "source": [
        "# 232\n",
        "\n",
        "def make_url(str):\n",
        "    print(\"www.\"+str+\".com\")\n",
        "\n",
        "make_url(\"naver\")\n"
      ]
    },
    {
      "cell_type": "code",
      "execution_count": null,
      "metadata": {
        "id": "SUoFBxT38Yyi",
        "outputId": "3b2ff1bd-a242-4fe4-8d4e-d501a1d4e645"
      },
      "outputs": [
        {
          "name": "stdout",
          "output_type": "stream",
          "text": [
            "['a', 'b', 'c', 'd']\n"
          ]
        }
      ],
      "source": [
        "#233\n",
        "\n",
        "def make_list(str):\n",
        "    a = []\n",
        "    for i in range(len(str)):\n",
        "        a.append(str[i])   # . ~에\n",
        "    print(a)\n",
        "\n",
        "make_list(\"abcd\")\n"
      ]
    },
    {
      "cell_type": "code",
      "source": [
        "#233 - 2\n",
        "\n",
        "def make_list(string):\n",
        "  my_list = []\n",
        "  for 변수 in string:   # for문의 in 다음에 \"문자열\"이 들어가면, 문자열의 글자 하나하나씩 변수에 넣는다.\n",
        "    my_list.append(변수)\n",
        "  return my_list\n",
        "\n",
        "print(make_list(\"abcd\"))"
      ],
      "metadata": {
        "colab": {
          "base_uri": "https://localhost:8080/"
        },
        "id": "Ucfrpv_8LeHF",
        "outputId": "1324c826-eb4c-42f3-9938-7657aca08575"
      },
      "execution_count": 11,
      "outputs": [
        {
          "output_type": "stream",
          "name": "stdout",
          "text": [
            "['a', 'b', 'c', 'd']\n"
          ]
        }
      ]
    },
    {
      "cell_type": "code",
      "source": [
        "# 233 - 3\n",
        "\n",
        "def make_list(str):\n",
        "  return list(str)\n",
        "\n",
        "print(make_list(\"abcd\"))\n",
        "\n",
        "\n",
        "# list()함수는 하나의 문자열을 리스트로 바꿀 때 글자 하나하나씩 쪼개 넣는다."
      ],
      "metadata": {
        "colab": {
          "base_uri": "https://localhost:8080/"
        },
        "id": "8xLiSTS0NGCt",
        "outputId": "349d8be8-6fd6-4335-9aca-b240fc7990e5"
      },
      "execution_count": 14,
      "outputs": [
        {
          "output_type": "stream",
          "name": "stdout",
          "text": [
            "['a', 'b', 'c', 'd']\n"
          ]
        }
      ]
    },
    {
      "cell_type": "code",
      "execution_count": null,
      "metadata": {
        "id": "2ThK5aJy8Yyj",
        "outputId": "ebd76189-7e20-4829-f7e0-aa4c237d9167"
      },
      "outputs": [
        {
          "name": "stdout",
          "output_type": "stream",
          "text": [
            "[4, 6, 8]\n"
          ]
        }
      ],
      "source": [
        "# 234\n",
        "\n",
        "def pickup_even(list):\n",
        "    evenlist = []\n",
        "    for i in list:\n",
        "        if i%2 == 0:\n",
        "            evenlist.append(i)\n",
        "    print(evenlist)\n",
        "\n",
        "pickup_even([3, 4, 5, 6, 7, 8])"
      ]
    },
    {
      "cell_type": "code",
      "execution_count": 16,
      "metadata": {
        "id": "lvdj3jHg8Yyj",
        "outputId": "d3609319-9617-4083-a40a-1ba5b08a0ea8",
        "colab": {
          "base_uri": "https://localhost:8080/"
        }
      },
      "outputs": [
        {
          "output_type": "stream",
          "name": "stdout",
          "text": [
            "1234567\n"
          ]
        }
      ],
      "source": [
        "# 235 ***\n",
        "\n",
        "def convert_int(str):\n",
        "  return int(str.replace(\",\", \"\"))\n",
        "\n",
        "print(convert_int(\"1,234,567\"))\n",
        "\n",
        "# replace(바뀔문자,바꿀문자)"
      ]
    },
    {
      "cell_type": "code",
      "execution_count": null,
      "metadata": {
        "id": "LR_o9pTy8Yyj",
        "outputId": "64ee4561-3d95-4994-ba07-26fb11dd8d1f"
      },
      "outputs": [
        {
          "name": "stdout",
          "output_type": "stream",
          "text": [
            "22\n"
          ]
        }
      ],
      "source": [
        "# 236\n",
        "\n",
        "#답: 22\n",
        "\n",
        "def 함수(num) :\n",
        "    return num + 4\n",
        "\n",
        "a = 함수(10)\n",
        "b = 함수(a)\n",
        "c = 함수(b)\n",
        "print(c)"
      ]
    },
    {
      "cell_type": "code",
      "execution_count": null,
      "metadata": {
        "id": "jK_hPsbi8Yyj",
        "outputId": "09913b9d-00e2-4993-fbcb-c364b86726b4"
      },
      "outputs": [
        {
          "name": "stdout",
          "output_type": "stream",
          "text": [
            "22\n"
          ]
        }
      ],
      "source": [
        "# 237\n",
        "\n",
        "#답: 22\n",
        "\n",
        "def 함수(num) :\n",
        "    return num + 4\n",
        "\n",
        "c = 함수(함수(함수(10)))\n",
        "print(c)\n"
      ]
    },
    {
      "cell_type": "code",
      "execution_count": null,
      "metadata": {
        "id": "pgb0Y5y58Yyk",
        "outputId": "1e82c791-f6f3-444a-bae4-9e517066bb56"
      },
      "outputs": [
        {
          "name": "stdout",
          "output_type": "stream",
          "text": [
            "140\n"
          ]
        }
      ],
      "source": [
        "# 238\n",
        "\n",
        "#답: 140\n",
        "\n",
        "def 함수1(num) :\n",
        "    return num + 4\n",
        "\n",
        "def 함수2(num) :\n",
        "    return num * 10\n",
        "\n",
        "a = 함수1(10)\n",
        "c = 함수2(a)\n",
        "print(c)"
      ]
    },
    {
      "cell_type": "code",
      "execution_count": null,
      "metadata": {
        "id": "qngicYli8Yyk",
        "outputId": "ce77bbc9-dd8f-42a1-8caf-ae7d0214d672"
      },
      "outputs": [
        {
          "name": "stdout",
          "output_type": "stream",
          "text": [
            "16\n"
          ]
        }
      ],
      "source": [
        "# 239\n",
        "\n",
        "#답: 16\n",
        "\n",
        "def 함수1(num) :\n",
        "    return num + 4\n",
        "\n",
        "def 함수2(num) :\n",
        "    num = num + 2\n",
        "    return 함수1(num)\n",
        "\n",
        "c = 함수2(10)\n",
        "print(c)"
      ]
    },
    {
      "cell_type": "code",
      "execution_count": null,
      "metadata": {
        "id": "PlOatoFm8Yyk",
        "outputId": "45ec97f4-ddf5-4e12-fd82-b104af515b9d"
      },
      "outputs": [
        {
          "name": "stdout",
          "output_type": "stream",
          "text": [
            "28\n"
          ]
        }
      ],
      "source": [
        "# 240\n",
        "\n",
        "#답: 28\n",
        "\n",
        "def 함수0(num) :\n",
        "    return num * 2\n",
        "\n",
        "def 함수1(num) :\n",
        "    return 함수0(num + 2)\n",
        "\n",
        "def 함수2(num) :\n",
        "    num = num + 10\n",
        "    return 함수1(num)\n",
        "\n",
        "c = 함수2(2)\n",
        "print(c)"
      ]
    },
    {
      "cell_type": "markdown",
      "metadata": {
        "id": "pMUHvPNl8Yyk"
      },
      "source": [
        "# datetime 패키지\n",
        "- 날짜+시간: datetime 클래스\n",
        "- 날짜: date 클래스\n",
        "- 시간: time 클래스\n",
        "- 시간 구간 정보: timedelta 클래스\n",
        "\n",
        "        import datetime as dt   # 패키지 불러오기\n",
        "\n",
        "\n",
        "# 1. datetime 클래스\n",
        "\n",
        "다른 클래스와 달리 이름이 대문자로 시작하지 않는다. \n",
        "객체를 생성하지 않고도 바로 클래스에서 사용할 수 있는 클래스 매서드를 제공한다.\n",
        "\n",
        "- now()\n",
        "        x = dt.datetime.now()\n",
        "        x\n",
        "\n",
        "now 클래스 매서드는 컴퓨터의 현재 시각을 datetime클래스 객체로 만들어 반환한다.\n",
        "반환된 클래스 객체는 다음과 같은 속성을 가진다.\n",
        "\n",
        "- year: 연도\n",
        "- month: 월\n",
        "- day: 일\n",
        "- hour: 시\n",
        "- minute: 분\n",
        "- second: 초\n",
        "- microsecond: 마이크로초\n",
        "\n",
        "다음과 같은 매서드도 제공한다,\n",
        "\n",
        "- weekday: 요일 반환 (0:월, 1:화, 2:수, 3:목, 4:금, 5:토, 6:일)\n",
        "- strftime: 문자열 반환\n",
        "- date: 날짜 정보만 가지는 date 클래스 객체 반환\n",
        "- time: 시간 정보만 가지는 time 클래스 객체 반환\n"
      ]
    },
    {
      "cell_type": "code",
      "execution_count": null,
      "metadata": {
        "id": "h5F8n7138Yyl",
        "outputId": "f4ec7063-0630-463a-a436-8cdbdff0c4ef"
      },
      "outputs": [
        {
          "name": "stdout",
          "output_type": "stream",
          "text": [
            "2022-11-28 18:44:22.766612\n",
            "18\n",
            "44\n",
            "22\n"
          ]
        }
      ],
      "source": [
        "# 현재 컴퓨터 시간\n",
        "\n",
        "import datetime as dt\n",
        "x = dt.datetime.now()\n",
        "print(x)\n",
        "\n",
        "\n",
        "# 현재 시간만\n",
        "print(x.hour)\n",
        "\n",
        "\n",
        "#현재 분만\n",
        "print(x.minute)\n",
        "\n",
        "\n",
        "# 초\n",
        "print(x.second)"
      ]
    },
    {
      "cell_type": "code",
      "execution_count": 17,
      "metadata": {
        "id": "GBTjtpzA8Yyl",
        "outputId": "3efa60a6-bda4-4508-d4aa-d3878d153fd2",
        "colab": {
          "base_uri": "https://localhost:8080/"
        }
      },
      "outputs": [
        {
          "output_type": "stream",
          "name": "stdout",
          "text": [
            "2022-11-29 02:52:50.644294\n",
            "2022-11-29 02:52:50.645026\n"
          ]
        }
      ],
      "source": [
        "# 241\n",
        "\n",
        "import datetime as dt\n",
        "a = dt.datetime.now()\n",
        "print(a)\n",
        "\n",
        "import datetime\n",
        "now = datetime.datetime.now()\n",
        "print(now)\n"
      ]
    },
    {
      "cell_type": "code",
      "execution_count": null,
      "metadata": {
        "id": "ebLRm83l8Yyl",
        "outputId": "04d7f5e3-09f2-4e06-afbc-3e1f61285eed"
      },
      "outputs": [
        {
          "name": "stdout",
          "output_type": "stream",
          "text": [
            "<class 'datetime.datetime'>\n"
          ]
        }
      ],
      "source": [
        "# 242\n",
        "\n",
        "import datetime as dt\n",
        "a = dt.datetime.now()\n",
        "print(type(a))"
      ]
    },
    {
      "cell_type": "markdown",
      "metadata": {
        "id": "Ze8UkbwV8Yyl"
      },
      "source": [
        "# 날짜/시간 연산: timedelta 매서드\n",
        "\n",
        "특정한 시간의 '양'을 저장하며, 이를 이용해 어떤 시점으로부터 얼마만큼의 시간의 양이 차이가 났을 때 어느 시점으로 변할지를 계산한다. \n",
        "\n",
        "날짜나 시간의 간격을 구할 때는 두 개의 datetime 클래스 객체의 차이를 구한다.\n",
        "이 결과는 timedelta 클래스 객체로 반환된다.\n",
        "\n",
        "ex)\n",
        "\n",
        "        dt1 = datetime.datetime(2016, 2, 19, 14)\n",
        "        dt2 = datetime.datetime(2016, 1, 2, 13)\n",
        "        td = dt1 - dt2\n",
        "        td\n",
        "\n",
        "        datetime.timedelta(days=48, seconds=3600)\n"
      ]
    },
    {
      "cell_type": "code",
      "execution_count": null,
      "metadata": {
        "id": "unLd2Tf28Yyl",
        "outputId": "82887a2c-b764-460f-e8b5-ed0d65ebb91a"
      },
      "outputs": [
        {
          "name": "stdout",
          "output_type": "stream",
          "text": [
            "5일 전: 2022-11-23 19:08:09.702328\n",
            "4일 전: 2022-11-24 19:08:09.702328\n",
            "3일 전: 2022-11-25 19:08:09.702328\n",
            "2일 전: 2022-11-26 19:08:09.702328\n",
            "1일 전: 2022-11-27 19:08:09.702328\n"
          ]
        }
      ],
      "source": [
        "# 243\n",
        "\n",
        "from datetime import datetime, timedelta\n",
        "\n",
        "now = datetime.now()\n",
        "\n",
        "d5 = now - timedelta(days=5)\n",
        "print(\"5일 전:\",d5)\n",
        "\n",
        "d4 = now - timedelta(days=4)\n",
        "print(\"4일 전:\", d4)\n",
        "\n",
        "d3 = now - timedelta(days=3)\n",
        "print(\"3일 전:\",d3)\n",
        "\n",
        "d2 = now - timedelta(days=2)\n",
        "print(\"2일 전:\",d2)\n",
        "\n",
        "d1 = now - timedelta(days=1)\n",
        "print(\"1일 전:\",d1)\n"
      ]
    },
    {
      "cell_type": "code",
      "source": [
        "# 243 - 2\n",
        "\n",
        "import datetime\n",
        "\n",
        "now = datetime.datetime.now()\n",
        "\n",
        "for i in range(5,0,-1):\n",
        "  delta = now - datetime.timedelta(days=i)\n",
        "  print(i,\"일 전: \",delta)"
      ],
      "metadata": {
        "colab": {
          "base_uri": "https://localhost:8080/"
        },
        "id": "7QasUyPET0Nj",
        "outputId": "8261e42b-13a9-4892-8bee-fe9781939811"
      },
      "execution_count": 20,
      "outputs": [
        {
          "output_type": "stream",
          "name": "stdout",
          "text": [
            "5 일 전:  2022-11-24 02:59:02.722461\n",
            "4 일 전:  2022-11-25 02:59:02.722461\n",
            "3 일 전:  2022-11-26 02:59:02.722461\n",
            "2 일 전:  2022-11-27 02:59:02.722461\n",
            "1 일 전:  2022-11-28 02:59:02.722461\n"
          ]
        }
      ]
    },
    {
      "cell_type": "markdown",
      "metadata": {
        "id": "Y8sj-CZv8Yym"
      },
      "source": [
        "# strftime() 매서드\n",
        "\n",
        "datetime 클래스 매서드로, 원하는 서식을 지정해 날짜 형식을 변경할 수 있다.\n",
        "\n",
        "        print(바꾸고자 하는 날짜.strftime('형식'))\n",
        "\n",
        "ex)\n",
        "\n",
        "        print(now.strftime('%Y-%m-%d %H:%M:%S'))\n",
        "\n",
        "\n",
        "**주요 서식**\n",
        "- %d : 0을 채운 10진수 표기로 날짜를 표시 (ex. 01)\n",
        "- %m : 0을 채운 10진수 표기로 월을 표시 (ex. 01)\n",
        "- %y : 0을 채운 10진수 표기로 2자리 년도 (ex. 22)\n",
        "- %Y : 0을 채운 10진수 표기로 4자리 년도 (ex. 2022)\n",
        "- %H : 0을 채운 10진수 표기로 시간 (24시간 표기) \n",
        "- %I : 0을 채운 10진수 표기로 시간 (12시간 표기)\n",
        "- %M : 0을 채운 10진수 표기로 분\n",
        "- %S : 0을 채운 10진수 표기로 초\n",
        "\n"
      ]
    },
    {
      "cell_type": "code",
      "execution_count": null,
      "metadata": {
        "id": "qMG763Ka8Yym",
        "outputId": "c85a785f-1a43-4582-e65f-f5f88c35f922"
      },
      "outputs": [
        {
          "name": "stdout",
          "output_type": "stream",
          "text": [
            "19:18:16\n"
          ]
        }
      ],
      "source": [
        "# 244\n",
        "\n",
        "from datetime import datetime\n",
        "\n",
        "now = datetime.now()\n",
        "\n",
        "print(now.strftime('%H:%M:%S'))"
      ]
    },
    {
      "cell_type": "markdown",
      "metadata": {
        "id": "CW8ck1fp8Yym"
      },
      "source": [
        "# strptime() 매서드\n",
        "\n",
        "날짜와 시간 형식의 문자열을 datetime으로 변환하는 매서드\n",
        "\n",
        "        datetime.datetime.strptime(문자열, '형식')"
      ]
    },
    {
      "cell_type": "code",
      "execution_count": 21,
      "metadata": {
        "id": "HWxDr_PV8Yym",
        "outputId": "1538bd23-8824-45ae-ff87-32f2fced338e",
        "colab": {
          "base_uri": "https://localhost:8080/"
        }
      },
      "outputs": [
        {
          "output_type": "stream",
          "name": "stdout",
          "text": [
            "2020-05-04 00:00:00 <class 'datetime.datetime'>\n"
          ]
        }
      ],
      "source": [
        "# 245\n",
        "\n",
        "import datetime\n",
        "\n",
        "a = '2020-05-04'\n",
        "\n",
        "cona = datetime.datetime.strptime(a, '%Y-%m-%d')\n",
        "\n",
        "print(cona, type(cona))"
      ]
    },
    {
      "cell_type": "markdown",
      "metadata": {
        "id": "jLZwdMQI8Yym"
      },
      "source": [
        "# sleep 모듈\n",
        "\n",
        "time 모듈에 있는 함수로, 실행 동작을 초단위로 일시 정지 시킨다.\n",
        "\n",
        "        from time import sleep   # import time\n",
        "        print(\"Start\")\n",
        "        sleep(float 초 단위)\n",
        "        print(\"End\")"
      ]
    },
    {
      "cell_type": "code",
      "execution_count": null,
      "metadata": {
        "id": "dLfMIGk68Yym",
        "outputId": "70400d39-d6c3-49cd-9e0f-0dc7043f2720"
      },
      "outputs": [
        {
          "name": "stdout",
          "output_type": "stream",
          "text": [
            "2022-11-28 19:36:19.315306\n",
            "2022-11-28 19:36:19.315306\n",
            "2022-11-28 19:36:19.315306\n",
            "2022-11-28 19:36:19.315306\n",
            "2022-11-28 19:36:19.315306\n",
            "2022-11-28 19:36:19.315306\n",
            "2022-11-28 19:36:19.315306\n",
            "2022-11-28 19:36:19.315306\n",
            "2022-11-28 19:36:19.315306\n",
            "2022-11-28 19:36:19.315306\n",
            "2022-11-28 19:36:19.315306\n",
            "2022-11-28 19:36:19.315306\n",
            "2022-11-28 19:36:19.315306\n",
            "2022-11-28 19:36:19.315306\n",
            "2022-11-28 19:36:19.315306\n",
            "2022-11-28 19:36:19.315306\n",
            "2022-11-28 19:36:19.315306\n",
            "2022-11-28 19:36:19.315306\n",
            "2022-11-28 19:36:19.315306\n",
            "2022-11-28 19:36:19.315306\n",
            "2022-11-28 19:36:19.315306\n",
            "2022-11-28 19:36:19.315306\n",
            "2022-11-28 19:36:19.315306\n"
          ]
        },
        {
          "ename": "KeyboardInterrupt",
          "evalue": "",
          "output_type": "error",
          "traceback": [
            "\u001b[1;31m---------------------------------------------------------------------------\u001b[0m",
            "\u001b[1;31mKeyboardInterrupt\u001b[0m                         Traceback (most recent call last)",
            "\u001b[1;32m~\\AppData\\Local\\Temp\\ipykernel_1540\\971053385.py\u001b[0m in \u001b[0;36m<module>\u001b[1;34m\u001b[0m\n\u001b[0;32m      8\u001b[0m \u001b[1;32mwhile\u001b[0m \u001b[1;32mTrue\u001b[0m\u001b[1;33m:\u001b[0m\u001b[1;33m\u001b[0m\u001b[1;33m\u001b[0m\u001b[0m\n\u001b[0;32m      9\u001b[0m     \u001b[0mprint\u001b[0m\u001b[1;33m(\u001b[0m\u001b[0mnow\u001b[0m\u001b[1;33m)\u001b[0m\u001b[1;33m\u001b[0m\u001b[1;33m\u001b[0m\u001b[0m\n\u001b[1;32m---> 10\u001b[1;33m     \u001b[0mtime\u001b[0m\u001b[1;33m.\u001b[0m\u001b[0msleep\u001b[0m\u001b[1;33m(\u001b[0m\u001b[1;36m1\u001b[0m\u001b[1;33m)\u001b[0m\u001b[1;33m\u001b[0m\u001b[1;33m\u001b[0m\u001b[0m\n\u001b[0m",
            "\u001b[1;31mKeyboardInterrupt\u001b[0m: "
          ]
        }
      ],
      "source": [
        "# 246\n",
        "\n",
        "import time\n",
        "import datetime\n",
        "\n",
        "now = datetime.datetime.now()\n",
        "\n",
        "while True:\n",
        "    print(now)\n",
        "    time.sleep(1)\n"
      ]
    },
    {
      "cell_type": "code",
      "execution_count": null,
      "metadata": {
        "id": "t2sTw9dy8Yyn"
      },
      "outputs": [],
      "source": [
        "# 247\n",
        "\n",
        "#1. import 모듈이름\n",
        "#2. from 모듈이름 import 모듈 함수\n",
        "#3. sys.path.append(\"모듈을 저장한 디렉터리\")\n"
      ]
    },
    {
      "cell_type": "markdown",
      "metadata": {
        "id": "RGBt5zf48Yyn"
      },
      "source": [
        "# os 모듈\n",
        "\n",
        "Operating System. 운영체제에서 제공되는 여러 기능을 파이썬에서 수행할 수 있게 해준다.\n",
        "\n",
        "- 현재 경로 구하기: getcwd()\n",
        "\n",
        "        os.getcwd()\n",
        "\n",
        "- 특정 경로에 존재하는 파일과 디렉터리 목록 구하기: listdir()\n",
        "\n",
        "        os.listdir(인자: 특정 경로 지정)\n",
        "\n",
        "- 파일 이름 바꾸기: rename()\n",
        "\n",
        "        os.rename(\"수정 전 이름.txt\",\"수정 후 이름.txt\")\n",
        "\n",
        "해당 코드가 실행되는 디렉토리와 '동일한 위치'에 있는 파일 이름을 변경함."
      ]
    },
    {
      "cell_type": "code",
      "execution_count": null,
      "metadata": {
        "id": "5WwifQ2D8Yyn",
        "outputId": "64dd1846-1d54-492b-ba01-85424edaae15"
      },
      "outputs": [
        {
          "data": {
            "text/plain": [
              "'c:\\\\Users\\\\yesol\\\\Documents\\\\Python Class'"
            ]
          },
          "execution_count": 108,
          "metadata": {},
          "output_type": "execute_result"
        }
      ],
      "source": [
        "# 248\n",
        "\n",
        "import os\n",
        "\n",
        "os.getcwd()"
      ]
    },
    {
      "cell_type": "code",
      "execution_count": 24,
      "metadata": {
        "id": "m0sVnNi88Yyn",
        "outputId": "1fbf8344-ddbb-40a9-e2bc-de1422a78771",
        "colab": {
          "base_uri": "https://localhost:8080/",
          "height": 248
        }
      },
      "outputs": [
        {
          "output_type": "error",
          "ename": "FileNotFoundError",
          "evalue": "ignored",
          "traceback": [
            "\u001b[0;31m---------------------------------------------------------------------------\u001b[0m",
            "\u001b[0;31mFileNotFoundError\u001b[0m                         Traceback (most recent call last)",
            "\u001b[0;32m<ipython-input-24-3dcbce72c2aa>\u001b[0m in \u001b[0;36m<module>\u001b[0;34m\u001b[0m\n\u001b[1;32m      3\u001b[0m \u001b[0;32mimport\u001b[0m \u001b[0mos\u001b[0m\u001b[0;34m\u001b[0m\u001b[0;34m\u001b[0m\u001b[0m\n\u001b[1;32m      4\u001b[0m \u001b[0;34m\u001b[0m\u001b[0m\n\u001b[0;32m----> 5\u001b[0;31m \u001b[0mos\u001b[0m\u001b[0;34m.\u001b[0m\u001b[0mrename\u001b[0m\u001b[0;34m(\u001b[0m\u001b[0;34m\"C:/Users/yesol/Desktop/before.txt\"\u001b[0m\u001b[0;34m,\u001b[0m\u001b[0;34m\"C:/Users/yesol/Desktop/after.txt\"\u001b[0m\u001b[0;34m)\u001b[0m\u001b[0;34m\u001b[0m\u001b[0;34m\u001b[0m\u001b[0m\n\u001b[0m\u001b[1;32m      6\u001b[0m \u001b[0;34m\u001b[0m\u001b[0m\n\u001b[1;32m      7\u001b[0m \u001b[0;34m\u001b[0m\u001b[0m\n",
            "\u001b[0;31mFileNotFoundError\u001b[0m: [Errno 2] No such file or directory: 'C:/Users/yesol/Desktop/before.txt' -> 'C:/Users/yesol/Desktop/after.txt'"
          ]
        }
      ],
      "source": [
        "# 249 *\n",
        "\n",
        "import os\n",
        "os.rename(\"C:/Users/yesol/Desktop/before.txt\",\"C:/Users/yesol/Desktop/after.txt\")\n",
        "\n",
        "\n",
        "# 코드가 실행되는 디렉토리와 위치가 다른 곳은 경로를 넣어야 한다.\n",
        "# 근데 왜 안되지..."
      ]
    },
    {
      "cell_type": "markdown",
      "metadata": {
        "id": "ojQQWq_X8Yyn"
      },
      "source": [
        "# numpy 모듈\n",
        "\n",
        "        import numpy\n",
        "\n",
        "벡터 및 행렬 연산에 편리한 기능을 제공한다.\n",
        "\n",
        "np.zeros(), np.ones(), np.arange() \n",
        "\n",
        "# arange() 함수\n",
        "\n",
        "        numpy.arange(시작,끝,간격)\n",
        "    \n"
      ]
    },
    {
      "cell_type": "code",
      "execution_count": 26,
      "metadata": {
        "id": "S1dXoTIx8Yyn",
        "outputId": "7fef2103-d623-46b1-9ba9-3027faf07c5f",
        "colab": {
          "base_uri": "https://localhost:8080/"
        }
      },
      "outputs": [
        {
          "output_type": "execute_result",
          "data": {
            "text/plain": [
              "array([0. , 0.1, 0.2, 0.3, 0.4, 0.5, 0.6, 0.7, 0.8, 0.9, 1. , 1.1, 1.2,\n",
              "       1.3, 1.4, 1.5, 1.6, 1.7, 1.8, 1.9, 2. , 2.1, 2.2, 2.3, 2.4, 2.5,\n",
              "       2.6, 2.7, 2.8, 2.9, 3. , 3.1, 3.2, 3.3, 3.4, 3.5, 3.6, 3.7, 3.8,\n",
              "       3.9, 4. , 4.1, 4.2, 4.3, 4.4, 4.5, 4.6, 4.7, 4.8, 4.9])"
            ]
          },
          "metadata": {},
          "execution_count": 26
        }
      ],
      "source": [
        "# 250\n",
        "\n",
        "import numpy\n",
        "\n",
        "numpy.arange(0,5,0.1)"
      ]
    },
    {
      "cell_type": "code",
      "source": [
        "# 250 - 2\n",
        "\n",
        "import numpy\n",
        "\n",
        "for i in numpy.arange(0,5,0.1):\n",
        "  print(round(i,1))   #부동소수점 해결을 위해 round 사용."
      ],
      "metadata": {
        "colab": {
          "base_uri": "https://localhost:8080/"
        },
        "id": "wYz8okR8Y3Rs",
        "outputId": "167d2c09-97c4-47ba-9ecd-45a00167aa95"
      },
      "execution_count": 30,
      "outputs": [
        {
          "output_type": "stream",
          "name": "stdout",
          "text": [
            "0.0\n",
            "0.1\n",
            "0.2\n",
            "0.3\n",
            "0.4\n",
            "0.5\n",
            "0.6\n",
            "0.7\n",
            "0.8\n",
            "0.9\n",
            "1.0\n",
            "1.1\n",
            "1.2\n",
            "1.3\n",
            "1.4\n",
            "1.5\n",
            "1.6\n",
            "1.7\n",
            "1.8\n",
            "1.9\n",
            "2.0\n",
            "2.1\n",
            "2.2\n",
            "2.3\n",
            "2.4\n",
            "2.5\n",
            "2.6\n",
            "2.7\n",
            "2.8\n",
            "2.9\n",
            "3.0\n",
            "3.1\n",
            "3.2\n",
            "3.3\n",
            "3.4\n",
            "3.5\n",
            "3.6\n",
            "3.7\n",
            "3.8\n",
            "3.9\n",
            "4.0\n",
            "4.1\n",
            "4.2\n",
            "4.3\n",
            "4.4\n",
            "4.5\n",
            "4.6\n",
            "4.7\n",
            "4.8\n",
            "4.9\n"
          ]
        }
      ]
    }
  ],
  "metadata": {
    "kernelspec": {
      "display_name": "Python 3.9.13 ('base')",
      "language": "python",
      "name": "python3"
    },
    "language_info": {
      "codemirror_mode": {
        "name": "ipython",
        "version": 3
      },
      "file_extension": ".py",
      "mimetype": "text/x-python",
      "name": "python",
      "nbconvert_exporter": "python",
      "pygments_lexer": "ipython3",
      "version": "3.9.13"
    },
    "orig_nbformat": 4,
    "vscode": {
      "interpreter": {
        "hash": "42a3cfd936dca6cd9134016eb9598fa6c0736d544a7437139bac2f86277545e6"
      }
    },
    "colab": {
      "provenance": [],
      "include_colab_link": true
    }
  },
  "nbformat": 4,
  "nbformat_minor": 0
}