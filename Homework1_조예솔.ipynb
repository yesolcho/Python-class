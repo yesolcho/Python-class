{
  "nbformat": 4,
  "nbformat_minor": 0,
  "metadata": {
    "colab": {
      "provenance": [],
      "collapsed_sections": [],
      "authorship_tag": "ABX9TyM6PixKWMifqXYbGszM/BJ5",
      "include_colab_link": true
    },
    "kernelspec": {
      "name": "python3",
      "display_name": "Python 3"
    },
    "language_info": {
      "name": "python"
    }
  },
  "cells": [
    {
      "cell_type": "markdown",
      "metadata": {
        "id": "view-in-github",
        "colab_type": "text"
      },
      "source": [
        "<a href=\"https://colab.research.google.com/github/yesolcho/Python-class/blob/main/Homework1_%EC%A1%B0%EC%98%88%EC%86%94.ipynb\" target=\"_parent\"><img src=\"https://colab.research.google.com/assets/colab-badge.svg\" alt=\"Open In Colab\"/></a>"
      ]
    },
    {
      "cell_type": "code",
      "execution_count": null,
      "metadata": {
        "colab": {
          "base_uri": "https://localhost:8080/"
        },
        "id": "l9EOCn-yVe8R",
        "outputId": "0a8aac78-9056-42f1-809f-63fc87519b1f"
      },
      "outputs": [
        {
          "output_type": "stream",
          "name": "stdout",
          "text": [
            "Hello World\n"
          ]
        }
      ],
      "source": [
        "#001\n",
        "\n",
        "print(\"Hello World\")"
      ]
    },
    {
      "cell_type": "code",
      "source": [
        "#002\n",
        "\n",
        "print(\"Mary's cosmetics\")"
      ],
      "metadata": {
        "colab": {
          "base_uri": "https://localhost:8080/"
        },
        "id": "e6h-3cPEVvfJ",
        "outputId": "00ee0d31-1316-4865-88f9-eab49e00fd60"
      },
      "execution_count": null,
      "outputs": [
        {
          "output_type": "stream",
          "name": "stdout",
          "text": [
            "Mary's cosmetics\n"
          ]
        }
      ]
    },
    {
      "cell_type": "code",
      "source": [
        "#003\n",
        "\n",
        "print('신씨가 소리질렀다. \"도둑이야\".')"
      ],
      "metadata": {
        "colab": {
          "base_uri": "https://localhost:8080/"
        },
        "id": "ZOC9UiuDV3_9",
        "outputId": "bb603fab-8f01-432a-cde6-040929b46fd8"
      },
      "execution_count": null,
      "outputs": [
        {
          "output_type": "stream",
          "name": "stdout",
          "text": [
            "신씨가 소리질렀다. \"도둑이야\".\n"
          ]
        }
      ]
    },
    {
      "cell_type": "code",
      "source": [
        "#004\n",
        "\n",
        "print('\"C:＼Windows\"')"
      ],
      "metadata": {
        "colab": {
          "base_uri": "https://localhost:8080/"
        },
        "id": "rjZJ9sUwV_Bf",
        "outputId": "56ad975e-3975-4719-c5f3-f6cad627d224"
      },
      "execution_count": null,
      "outputs": [
        {
          "output_type": "stream",
          "name": "stdout",
          "text": [
            "\"C:＼Windows\"\n"
          ]
        }
      ]
    },
    {
      "cell_type": "code",
      "source": [
        "#005\n",
        "\n",
        "print(\"안녕하세요.\\n만나서\\t\\t반갑습니다.\")\n",
        "\n",
        "# 이스케이프 코드 \\t : 탭 간격\n",
        "# 이스케이프 코드 \\n : 줄바꿈"
      ],
      "metadata": {
        "colab": {
          "base_uri": "https://localhost:8080/"
        },
        "id": "KQOyp6xXWV3j",
        "outputId": "0a3b14cc-c60c-4f88-fcc8-26b1c2ba721d"
      },
      "execution_count": null,
      "outputs": [
        {
          "output_type": "stream",
          "name": "stdout",
          "text": [
            "안녕하세요.\n",
            "만나서\t\t반갑습니다.\n"
          ]
        }
      ]
    },
    {
      "cell_type": "code",
      "source": [
        "#006\n",
        "\n",
        "# 답: 오늘은 일요일\n",
        "\n",
        "# 쉼표는 출력되지 않는다."
      ],
      "metadata": {
        "id": "tLvLQqcRW84j"
      },
      "execution_count": null,
      "outputs": []
    },
    {
      "cell_type": "code",
      "source": [
        "#007\n",
        "\n",
        "print(\"naver;kakao;sk;samsung\")\n",
        "\n",
        "#세미콜론(;) : 한줄에 여러 개의 명령을 작성하기 위해 사용함."
      ],
      "metadata": {
        "colab": {
          "base_uri": "https://localhost:8080/"
        },
        "id": "AXZ6_uB4Z-HP",
        "outputId": "401a6d15-94aa-47e3-f9eb-60a12905538e"
      },
      "execution_count": null,
      "outputs": [
        {
          "output_type": "stream",
          "name": "stdout",
          "text": [
            "naver;kakao;sk;samsung\n"
          ]
        }
      ]
    },
    {
      "cell_type": "code",
      "source": [
        "#008\n",
        "\n",
        "print(\"naver/kakao/sk/samsung\")"
      ],
      "metadata": {
        "colab": {
          "base_uri": "https://localhost:8080/"
        },
        "id": "2Gu-SwgEaORA",
        "outputId": "b5ecc426-158e-4021-f62a-79f3ea359b18"
      },
      "execution_count": null,
      "outputs": [
        {
          "output_type": "stream",
          "name": "stdout",
          "text": [
            "naver/kakao/sk/samsung\n"
          ]
        }
      ]
    },
    {
      "cell_type": "code",
      "source": [
        "#009\n",
        "\n",
        "#원래 코드 : 세미콜론 사용해 실행하면 줄바꿈되어 출력\n",
        "# print(\"first\");print(\"second\")\n",
        "\n",
        "#수정 코드\n",
        "print(\"first\", end=\"\");print(\"second\")\n"
      ],
      "metadata": {
        "colab": {
          "base_uri": "https://localhost:8080/"
        },
        "id": "SriWKyVMak3S",
        "outputId": "e6b13fdc-4e2f-4119-fe83-ca9c0111c8b3"
      },
      "execution_count": null,
      "outputs": [
        {
          "output_type": "stream",
          "name": "stdout",
          "text": [
            "firstsecond\n"
          ]
        }
      ]
    },
    {
      "cell_type": "markdown",
      "source": [
        "#**end=\"\"**\n",
        "\n",
        "**end=\"\"**는 print 출력을 완료한 뒤의 내용을 수정할 수 있게 해준다.\n",
        "\n",
        "print문은 \\n이 기본으로 들어가있는데,end=\"\"을 사용해서 \\n을 없애주거나 내용을 추가하는데 쓰인다."
      ],
      "metadata": {
        "id": "iqbg8CKrjoHK"
      }
    },
    {
      "cell_type": "code",
      "source": [
        "#010\n",
        "\n",
        "print(5/3)"
      ],
      "metadata": {
        "colab": {
          "base_uri": "https://localhost:8080/"
        },
        "id": "mlZ1YykF-OT3",
        "outputId": "fc5f7180-4b34-4d2e-b2d5-698a02e11281"
      },
      "execution_count": null,
      "outputs": [
        {
          "output_type": "stream",
          "name": "stdout",
          "text": [
            "1.6666666666666667\n"
          ]
        }
      ]
    },
    {
      "cell_type": "code",
      "source": [
        "#011\n",
        "\n",
        "삼성전자 = 50000\n",
        "\n",
        "print(삼성전자*10)\n",
        "\n",
        "print(\"총 평가금액은 \",삼성전자*10,\"원 입니다. \")\n"
      ],
      "metadata": {
        "colab": {
          "base_uri": "https://localhost:8080/"
        },
        "id": "k5bW8oHI-haU",
        "outputId": "29cb28ab-fd04-422b-d219-8db9a8fce765"
      },
      "execution_count": null,
      "outputs": [
        {
          "output_type": "stream",
          "name": "stdout",
          "text": [
            "500000\n",
            "총 평가금액은  500000 원 입니다. \n"
          ]
        }
      ]
    },
    {
      "cell_type": "code",
      "source": [
        "#012\n",
        "\n",
        "시가총액 = 2980000000000\n",
        "현재가 = 50000\n",
        "PER = 15.79"
      ],
      "metadata": {
        "id": "Sc6P-tm7_BxQ"
      },
      "execution_count": null,
      "outputs": []
    },
    {
      "cell_type": "code",
      "source": [
        "#013\n",
        "\n",
        "s = \"hello\"\n",
        "t = \"python\"\n",
        "\n",
        "print(s+\"!\",t)\n",
        "\n",
        "# 문자열 출력시 \"\" 잊지말기!!!"
      ],
      "metadata": {
        "colab": {
          "base_uri": "https://localhost:8080/"
        },
        "id": "44YTLbE_Aap7",
        "outputId": "37c7b49e-0f3f-4fc2-b8b8-9d216910ed76"
      },
      "execution_count": null,
      "outputs": [
        {
          "output_type": "stream",
          "name": "stdout",
          "text": [
            "hello! python\n"
          ]
        }
      ]
    },
    {
      "cell_type": "markdown",
      "source": [
        "**선생님 코멘트**\n",
        "\n",
        "print 함수에서 어떤 값들을 이을 때 사용할 수 있는 대표적인 방법은 콤마(,)를 사용하는 것과 덧셈(+)을 사용하는 방법이 있습니다.\n",
        "\n",
        "- 콤마(,)를 사용해서 값들을 이어서 출력하면 공백이 추가되는 반면, 덧셈(+)을 사용하면 공백이 추가되지 않습니다.\n",
        "\n",
        "- 콤마(,)는 모든 자료형의 값을 연결할 수 있는 반면, 덧셈(+)은 문자열들만을 연결할 수 있습니다."
      ],
      "metadata": {
        "id": "SKTBOFb3hRZq"
      }
    },
    {
      "cell_type": "code",
      "source": [
        "#014\n",
        "\n",
        "# 답: 8\n",
        "\n",
        "print(2+2*3)"
      ],
      "metadata": {
        "colab": {
          "base_uri": "https://localhost:8080/"
        },
        "id": "MT3Hm8clBd0_",
        "outputId": "0921407e-616c-469c-c045-71b845535b02"
      },
      "execution_count": null,
      "outputs": [
        {
          "output_type": "stream",
          "name": "stdout",
          "text": [
            "8\n"
          ]
        }
      ]
    },
    {
      "cell_type": "code",
      "source": [
        "#015\n",
        "\n",
        "# int = 정수형\n",
        "\n",
        "a = \"132\"\n",
        "print(type(a))\n",
        "\n",
        "# float = 실수형\n",
        "# str = 문자열"
      ],
      "metadata": {
        "colab": {
          "base_uri": "https://localhost:8080/"
        },
        "id": "dvRHvsmSBqyo",
        "outputId": "8f8c7f3e-ae98-405b-c0fa-eb0e175102b8"
      },
      "execution_count": null,
      "outputs": [
        {
          "output_type": "stream",
          "name": "stdout",
          "text": [
            "<class 'str'>\n"
          ]
        }
      ]
    },
    {
      "cell_type": "code",
      "source": [
        "#016\n",
        "\n",
        "num_str = \"720\"\n",
        "\n",
        "print(int(num_str))\n",
        "#or\n",
        "print(int(\"720\"))\n",
        "\n",
        "#형변환\n",
        "# int로 : print(int(변환할 자료형))\n",
        "# float로 : print(float(변환할 자료형))\n",
        "# str로 : print(str(변환할 자료형))"
      ],
      "metadata": {
        "colab": {
          "base_uri": "https://localhost:8080/"
        },
        "id": "6cjeOqpOCnAp",
        "outputId": "985fa850-37e2-45f3-c2a0-e7679bc80d3e"
      },
      "execution_count": null,
      "outputs": [
        {
          "output_type": "stream",
          "name": "stdout",
          "text": [
            "720\n",
            "720\n"
          ]
        }
      ]
    },
    {
      "cell_type": "code",
      "source": [
        "#017\n",
        "\n",
        "num = 100\n",
        "\n",
        "print(str(num))"
      ],
      "metadata": {
        "colab": {
          "base_uri": "https://localhost:8080/"
        },
        "id": "H3YCmQGvESI1",
        "outputId": "6353c491-bafb-4c61-fb76-52b75b518338"
      },
      "execution_count": null,
      "outputs": [
        {
          "output_type": "stream",
          "name": "stdout",
          "text": [
            "100\n"
          ]
        }
      ]
    },
    {
      "cell_type": "code",
      "source": [
        "#018\n",
        "\n",
        "print(float(\"15.79\"))"
      ],
      "metadata": {
        "colab": {
          "base_uri": "https://localhost:8080/"
        },
        "id": "6wvGwhCkEsnT",
        "outputId": "d812f94f-680c-4d38-97d8-c542adb491bc"
      },
      "execution_count": null,
      "outputs": [
        {
          "output_type": "stream",
          "name": "stdout",
          "text": [
            "15.79\n"
          ]
        }
      ]
    },
    {
      "cell_type": "code",
      "source": [
        "#019\n",
        "\n",
        "year = \"2020\"\n",
        "\n",
        "print(int(year))\n",
        "\n",
        "print(int(year)+1)\n",
        "print(int(year)+2)\n",
        "\n",
        "\n",
        "#다른 방법\n",
        "\n",
        "year = \"2020\"\n",
        "n = int(year)\n",
        "print(n, n+1, n+2)"
      ],
      "metadata": {
        "colab": {
          "base_uri": "https://localhost:8080/"
        },
        "id": "NfbTQGYfEzPy",
        "outputId": "4061cec2-fe7f-45a3-968f-df191e508128"
      },
      "execution_count": null,
      "outputs": [
        {
          "output_type": "stream",
          "name": "stdout",
          "text": [
            "2020\n",
            "2021\n",
            "2022\n",
            "2020 2021 2022\n"
          ]
        }
      ]
    },
    {
      "cell_type": "code",
      "source": [
        "#020\n",
        "\n",
        "a = 48584\n",
        "\n",
        "print(\"총 금액은 \",a*36,\"원 입니다. \")"
      ],
      "metadata": {
        "colab": {
          "base_uri": "https://localhost:8080/"
        },
        "id": "FaBMRPuaQozw",
        "outputId": "67e795d1-15f0-4e40-a61d-e2fc33e98c9a"
      },
      "execution_count": null,
      "outputs": [
        {
          "output_type": "stream",
          "name": "stdout",
          "text": [
            "총 금액은  1749024 원 입니다. \n"
          ]
        }
      ]
    }
  ]
}