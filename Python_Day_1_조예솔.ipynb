{
  "nbformat": 4,
  "nbformat_minor": 0,
  "metadata": {
    "colab": {
      "provenance": [],
      "include_colab_link": true
    },
    "kernelspec": {
      "name": "python3",
      "display_name": "Python 3"
    },
    "language_info": {
      "name": "python"
    }
  },
  "cells": [
    {
      "cell_type": "markdown",
      "metadata": {
        "id": "view-in-github",
        "colab_type": "text"
      },
      "source": [
        "<a href=\"https://colab.research.google.com/github/yesolcho/Python-class/blob/main/Python_Day_1_%EC%A1%B0%EC%98%88%EC%86%94.ipynb\" target=\"_parent\"><img src=\"https://colab.research.google.com/assets/colab-badge.svg\" alt=\"Open In Colab\"/></a>"
      ]
    },
    {
      "cell_type": "code",
      "execution_count": null,
      "metadata": {
        "colab": {
          "base_uri": "https://localhost:8080/"
        },
        "id": "HZ58QsPTd2KL",
        "outputId": "d3de20df-208e-4a79-a845-80def8249719"
      },
      "outputs": [
        {
          "output_type": "stream",
          "name": "stdout",
          "text": [
            "Hello World!!!\n"
          ]
        }
      ],
      "source": [
        "print(\"Hello World!!!\")"
      ]
    },
    {
      "cell_type": "markdown",
      "source": [
        "실행이 안되는 메모용\n",
        "숙제는 코랩으로 제출\n",
        "\n",
        "\n",
        "---\n",
        "#**파이썬**이란,\n",
        "귀도 반 로썸이 90년에 개발한 인터프리터 언어\n",
        "\n",
        "\n",
        "컴퓨터 언어\n",
        "- 인터프리터: 한줄한줄 코드를 해석해서 실행, 결과를 바로 확인 가능 ex) 파이썬,R\n",
        "- 컴파일러: 덩어리로 한번에 실행 ex) 자바,C\n",
        "  *자바로 인공지능은 비추 \n",
        "\n",
        "\n",
        "기능\n",
        "- 교육용\n",
        "- 업무용\n",
        "\n",
        "\n",
        "특징\n",
        "- 문법이 쉽다\n",
        "- 빠르게 배울 수 있다\n",
        "- 무료지만 강력\n",
        "- 즐거운 프로그래밍 가능^ㅁ^\n",
        " *JS 백앤드\n",
        " *파이썬 마스터 후 Java\n",
        "\n",
        "\n",
        "파이썬의 장점\n",
        "- **인공지능**\n",
        "- **빅데이터**\n",
        "- GUI(그래픽유저인터페이스) 애플리케이션\n",
        " *막주에 인공지능-머신러닝 구경 시켜주심!\n",
        "  *GUI 해보는것두 재미있다\n",
        "- C, C++ 라이브러리 결합이 원활\n",
        "  *RUST: C를 대체할 언어로 급부상\n",
        "- 웹 프로그래밍 (**Flast, Django**) \n",
        " *장고가 사업용\n",
        "- 데이터베이스 활용\n",
        "\n",
        "\n",
        "파이썬의 약점\n",
        "- 시스템과 밀접한 프로그래밍\n",
        "  *하드웨어(embedded)에 강력한 언어는 자바\n",
        "- 모바일 프로그래밍 (앱개발)\n",
        "\n",
        "\n",
        "IDE 개발도구: 언어마다 그 언어의 개발도구가 있다\n",
        "- Colab \n",
        "- Anaconda \n",
        "- **VS Code**: 하나로 모든 언어를 다 다룰 수 있기 때문에 사용 방법이 동일, 다른 언어에 쉽게 접근할 수 있음\n",
        "- PyCharm: 가장 많이 쓰고 유명, 젤좋음 유료\n",
        "\n"
      ],
      "metadata": {
        "id": "pzBownOuhxbH"
      }
    },
    {
      "cell_type": "markdown",
      "source": [],
      "metadata": {
        "id": "bi307LdrqC58"
      }
    },
    {
      "cell_type": "markdown",
      "source": [
        "#**변수**\n",
        "\n",
        "숫자, 문자 등 데이터를 다룰 때 컴퓨터에선 변수(variable)을 사용하게된다.\n",
        "아래 예시의 변수(a, b)에 데이터(1, Python)을 담음.\n",
        "변수에 나중에 담은 것이 출력됨."
      ],
      "metadata": {
        "id": "4wpdrbJXrvHK"
      }
    },
    {
      "cell_type": "code",
      "source": [
        "a=1\n",
        "a=2\n",
        "b=\"Python\"\n",
        "b=\"Java\"\n",
        "\n",
        "print(a)\n",
        "print(b)"
      ],
      "metadata": {
        "colab": {
          "base_uri": "https://localhost:8080/"
        },
        "id": "TZ1B0_gZrzLi",
        "outputId": "5ae3ea44-ca3b-4f6f-f748-5a67a2a3f92d"
      },
      "execution_count": null,
      "outputs": [
        {
          "output_type": "stream",
          "name": "stdout",
          "text": [
            "2\n",
            "Java\n"
          ]
        }
      ]
    },
    {
      "cell_type": "markdown",
      "source": [
        "#**자료형**\n",
        "\n",
        "자료형이란, 프로그래밍에서 자료 형태로 문자, 숫자 등을 사용하는 것. 프로그래밍의 핵심이자 기본. 자료형을 충분히 이해해야만 프로그래밍을 잘 할 수 있다. \n",
        "\n",
        "#1. **숫자형**\n",
        "숫자 형태(ex. 정수, 실수)로 이루어진 자료형\n",
        "\n",
        "정수 1, 2\n",
        "실수 2.14, 3.84\n",
        "\n",
        "\n",
        "\n",
        "\n",
        "\n"
      ],
      "metadata": {
        "id": "t8r3SaN9qIzz"
      }
    },
    {
      "cell_type": "code",
      "source": [
        "a=3\n",
        "b=5\n",
        "\n",
        "print(a+b)  # 옆에 붙일 수도 있다\n",
        "# print( )는 생략 가능하지만 안되는 곳도 있음. \n",
        "\n",
        "print(a-b)\n",
        "print(a*b)\n",
        "print(a/b)\n"
      ],
      "metadata": {
        "colab": {
          "base_uri": "https://localhost:8080/"
        },
        "id": "0JPkiQdevddA",
        "outputId": "37e65cc9-e4b9-49e4-e6c7-17c2a114679f"
      },
      "execution_count": null,
      "outputs": [
        {
          "output_type": "stream",
          "name": "stdout",
          "text": [
            "8\n",
            "-2\n",
            "15\n",
            "0.6\n"
          ]
        }
      ]
    },
    {
      "cell_type": "code",
      "source": [
        "# 나머지 연산자 % : 나머지를 구한다.\n",
        "# 나머지 연산자를 통해 짝수, 홀수, 배수를 알아낼 수 있다. 무진장 많이 씀!\n",
        "\n",
        "a=7\n",
        "b=3\n",
        "\n",
        "print(a%b)\n",
        "print(a%2)\n",
        "print(8%2)  # 어떤 수를 2로 나눈 나머지가 1이면 홀수, 0이면 짝수\n",
        "print(8%4)  # A를 B로 나눈 나머지가 0이면, A는 항상 B의 배수이다."
      ],
      "metadata": {
        "colab": {
          "base_uri": "https://localhost:8080/"
        },
        "id": "D5q1dxqAxFIf",
        "outputId": "73f20a67-99c7-4337-83a5-628a002b6fc0"
      },
      "execution_count": null,
      "outputs": [
        {
          "output_type": "stream",
          "name": "stdout",
          "text": [
            "1\n",
            "1\n",
            "0\n",
            "0\n"
          ]
        }
      ]
    },
    {
      "cell_type": "code",
      "source": [
        "# 몫: //\n",
        "\n",
        "print(9//2)"
      ],
      "metadata": {
        "colab": {
          "base_uri": "https://localhost:8080/"
        },
        "id": "6vFwyfCmyniv",
        "outputId": "d96e6d27-ecdf-4e2f-ff1f-92d925031b2d"
      },
      "execution_count": null,
      "outputs": [
        {
          "output_type": "stream",
          "name": "stdout",
          "text": [
            "4\n"
          ]
        }
      ]
    },
    {
      "cell_type": "markdown",
      "source": [
        "#2. **문자열 자료형**\n",
        "문자, 단어, 문장 등으로 구성된 글자들의 집합\n",
        "\n"
      ],
      "metadata": {
        "id": "9IhRwYXpy6bp"
      }
    },
    {
      "cell_type": "code",
      "source": [
        "a = \"b\"\n",
        "b = \"Hello\"\n",
        "c = \"awesome class\"\n",
        "d = \"123\" # \" \"안에 있으면 컴퓨터는 '문자'로 인식한다!\n",
        "\n",
        "print(a)\n",
        "print(b)\n",
        "print(c)\n",
        "print(d)\n",
        "\n",
        "# 자바 등의 언어에서는 변수의 '형'도 지정을 해줘야 한다. (대형 프로젝트에 유용)\n",
        "# char a = \"b\";\n",
        "# String b = \"Hello\";\n",
        "# int c = 5;\n",
        "\n",
        "\n",
        "\n"
      ],
      "metadata": {
        "colab": {
          "base_uri": "https://localhost:8080/"
        },
        "id": "7MRIjNERzPu-",
        "outputId": "9a9931d0-862d-4bf3-aefd-316a95a8a1d0"
      },
      "execution_count": null,
      "outputs": [
        {
          "output_type": "stream",
          "name": "stdout",
          "text": [
            "b\n",
            "Hello\n",
            "awesome class\n",
            "123\n"
          ]
        }
      ]
    },
    {
      "cell_type": "code",
      "source": [
        "# 파이썬에서 문자열은 기본적으로 \" \", ' '을 동일하게 취급한다.\n",
        "\n",
        "a = \"Hello\"\n",
        "b = 'Hello'\n",
        "\n",
        "print(a)\n",
        "print(b)\n",
        "\n",
        "\n",
        "# 하지만, 아래의 경우 약간 다르게 처리된다.\n",
        "\n",
        "a = 'Hello \"Ven\"'  # 출력값에 \" \"까지 넣고 싶을 때 작은따옴표를 쓴다!\n",
        "print(a)\n",
        "\n",
        "b = \"Hello 'Amy'\"  # ' '를 넣고 싶을 때는 큰따옴표!\n",
        "print(b)\n",
        "\n",
        "\n",
        "# doc string: 컴퓨터도 읽지만 영향을 미치진 않는 주석\n",
        "# \" \" \"   \" \" \"\n",
        "# ' ' '   ' ' ' \n",
        "\n",
        "\n",
        "# 백슬래시(\\)를 넣으면 뒤의 것이 기능이 무시되고 글자로만 취급된다.\n",
        "a = \"Hello \\\"World\\\"\"\n",
        "print(a)\n",
        "\n",
        "b=\"Hello \\\"Ven\\\"\"\n",
        "print(b)\n",
        "\n",
        "#백슬래시(\\)를 사용하는 것을 '이스케이프 코드'를 사용한다고 표현한다.\n",
        "# \\'\n",
        "# \\\"\n",
        "# \\n 강제 줄바꿈\n",
        "# \\t 탭 간격\n",
        "\n",
        "a=\"hello\\nWorld\"\n",
        "print(a)\n",
        "\n",
        "b= \"Hello\\tVen\"\n",
        "print(b)\n",
        "\n",
        "c= \"Hello \\t\\\"Ven\\\"\"\n",
        "print(c)"
      ],
      "metadata": {
        "colab": {
          "base_uri": "https://localhost:8080/"
        },
        "id": "KbikyUtL1GaN",
        "outputId": "f7159673-e2d9-40e0-caac-e825c83b36b1"
      },
      "execution_count": null,
      "outputs": [
        {
          "output_type": "stream",
          "name": "stdout",
          "text": [
            "Hello\n",
            "Hello\n",
            "Hello \"Ven\"\n",
            "Hello 'Amy'\n",
            "Hello \"World\"\n",
            "Hello \"Ven\"\n",
            "hello\n",
            "World\n",
            "Hello\tVen\n",
            "Hello \t\"Ven\"\n"
          ]
        }
      ]
    },
    {
      "cell_type": "markdown",
      "source": [
        "#**파이썬에서 아주 중요한 자료형 4가지** \n",
        "  *면접 단골 질문, List가 가장 중요함!\n",
        "- List\n",
        "- Tuple\n",
        "- Dict\n",
        "- Set\n",
        "\n",
        "\n",
        "**List  [   ]**\n",
        "- mutable 수정 가능\n",
        "- indexing, slicing 가능\n",
        "- 파이썬에서 가장 많이 사용됨\n",
        "\n",
        "\n",
        "**Tuple  (   )**\n",
        "- immutable 수정 불가능\n",
        "- indexing, slicing 가능\n",
        "- 요소를 하나만 저장할때도 쉼표를 붙임\n",
        "\n",
        "\n",
        "**Dic   {   }**\n",
        "- mutable 수정 가능\n",
        "- indexing, slicing 불가능\n",
        "- 키값-밸류값 쌍으로 구성됨: Set과의 구분 방법\n",
        "\n",
        "\n",
        "**Set   {   }**\n",
        "- mutable 수정 가능\n",
        "- indexing, slicing 불가능\n",
        "- 중복 값을 허용하지 않음\n",
        "\n"
      ],
      "metadata": {
        "id": "6LsSDxvk5FT7"
      }
    },
    {
      "cell_type": "markdown",
      "source": [
        "#1.   List  [   ]\n",
        "특징\n",
        "- mutable 수정 가능\n",
        "- indexing, slicing 가능\n",
        "- 파이썬에서 가장 많이 사용됨"
      ],
      "metadata": {
        "id": "JbjZmrtVTNLG"
      }
    },
    {
      "cell_type": "code",
      "source": [
        "# 리스트 작성(1차원)\n",
        "# 1개의 변수에 n개의 데이터를 담음\n",
        "\n",
        "emp2 = [ ] # 빈 리스트\n",
        "odd3 = [1,3,5,7,9]\n",
        "str4 = [\"하나\",\"둘\",\"셋\"]\n",
        "mix4 = [1,2,\"삼\"]  # 파이썬은 문자형, 숫자형 섞어서 쓰기가 가능\n",
        "\n",
        "print(emp2)\n",
        "print(odd3)\n",
        "print(str4)\n",
        "print(mix4)"
      ],
      "metadata": {
        "colab": {
          "base_uri": "https://localhost:8080/"
        },
        "id": "OBBbmAkyTQ7G",
        "outputId": "d45da87e-d289-46e1-a5f3-13142f50d948"
      },
      "execution_count": null,
      "outputs": [
        {
          "output_type": "stream",
          "name": "stdout",
          "text": [
            "[]\n",
            "[1, 3, 5, 7, 9]\n",
            "['하나', '둘', '셋']\n",
            "[1, 2, '삼']\n"
          ]
        }
      ]
    },
    {
      "cell_type": "code",
      "source": [
        "# List에서의 indexing(추출)\n",
        "\n",
        "aList = [10,20,30,40,50]\n",
        "\n",
        "print(aList[1]) # 파이썬에서의 indexing은 시작이 '0'부터. 따라서,\n",
        "\n",
        "print(aList[0])\n",
        "\n",
        "print(aList[0] + aList[1])\n",
        "\n",
        "print((aList[0]+aList[1]+aList[2]+aList[3]+aList[4])/5)"
      ],
      "metadata": {
        "colab": {
          "base_uri": "https://localhost:8080/"
        },
        "id": "hVxh6T4cVclu",
        "outputId": "650b117e-a66f-42be-ab63-c4cc007cd571"
      },
      "execution_count": null,
      "outputs": [
        {
          "output_type": "stream",
          "name": "stdout",
          "text": [
            "20\n",
            "10\n",
            "30\n",
            "30.0\n"
          ]
        }
      ]
    },
    {
      "cell_type": "code",
      "source": [
        "# List에서의 slicing: 하나씩 추출하는 인덱싱과는 달리 여러개를 추출한다.\n",
        "\n",
        "bList = \"12345\"\n",
        "\n",
        "bList[0:2] # 0부터 2'미만'\n",
        "bList[:3] # 시작 생략: 처음부터 3미만까지\n",
        "bList [0:] # 마지막 생략: 마지막까지\n",
        "\n"
      ],
      "metadata": {
        "colab": {
          "base_uri": "https://localhost:8080/",
          "height": 35
        },
        "id": "zVnw_rb7XMtK",
        "outputId": "19f305fb-88a1-4d35-e4cf-47e5eddb24aa"
      },
      "execution_count": null,
      "outputs": [
        {
          "output_type": "execute_result",
          "data": {
            "text/plain": [
              "'12345'"
            ],
            "application/vnd.google.colaboratory.intrinsic+json": {
              "type": "string"
            }
          },
          "metadata": {},
          "execution_count": 80
        }
      ]
    },
    {
      "cell_type": "code",
      "source": [
        "# 리스트에서의 연산\n",
        "\n",
        "# 리스트 더하기 : 리스트들의 연결된 합으로 나타낸다.\n",
        "aList = [1,2,3,4,5]\n",
        "bList = [6,7,8,9,10]\n",
        "\n",
        "print(aList + bList)\n",
        "\n",
        "\n",
        "# 리스트 곱하기 : 리스트들을 반복하여 연결된 합으로 나타낸다. \n",
        "print(aList * 3)\n",
        "\n",
        "\n",
        "# 리스트 갯수 구하기\n",
        "print(len(bList)) # length\n",
        "\n",
        "\n",
        "\n"
      ],
      "metadata": {
        "colab": {
          "base_uri": "https://localhost:8080/"
        },
        "id": "MC-ff4FbbQ9y",
        "outputId": "a5620545-2a5e-414a-dcd0-f17b86e999b6"
      },
      "execution_count": null,
      "outputs": [
        {
          "output_type": "stream",
          "name": "stdout",
          "text": [
            "[1, 2, 3, 4, 5, 6, 7, 8, 9, 10]\n",
            "[1, 2, 3, 4, 5, 1, 2, 3, 4, 5, 1, 2, 3, 4, 5]\n",
            "5\n"
          ]
        }
      ]
    },
    {
      "cell_type": "code",
      "source": [
        "# 리스트의 수정 mutable\n",
        "\n",
        "aList = [1,2,3,4,5]\n",
        "aList[2] = 0  # a리스트의 2번째를 0으로 수정한다.\n",
        "print(aList)\n",
        "\n",
        "\n",
        "# 리스트의 삭제\n",
        "\n",
        "del aList[2]  # a리스트의 2번째를 삭제하라.\n",
        "print(aList)"
      ],
      "metadata": {
        "colab": {
          "base_uri": "https://localhost:8080/"
        },
        "id": "zYTeqVY1cUrh",
        "outputId": "0fa73df1-d9e7-4705-bca9-a164be1c2b20"
      },
      "execution_count": null,
      "outputs": [
        {
          "output_type": "stream",
          "name": "stdout",
          "text": [
            "[1, 2, 0, 4, 5]\n",
            "[1, 2, 4, 5]\n"
          ]
        }
      ]
    },
    {
      "cell_type": "code",
      "source": [
        "# 리스트에서 많이 사용되는 함수들\n",
        "\n",
        "# append : 리스트의 맨 뒤에 새 요소를 추가하는 기능\n",
        "aList = [1,2,3,4,5]\n",
        "aList.append(6)  # a리스트 .(를)\n",
        "print(aList)\n",
        "\n",
        "\n",
        "# sort : 리스트에서 요소들을 정렬하는 기능\n",
        "bList = [2,4,3,5,1]\n",
        "bList.sort()  # print와 함께는 못써진당\n",
        "print(bList)\n",
        "\n",
        "\n",
        "# reverse : 리스트에서 요소들을 그대로 뒤집는 기능\n",
        "cList = [1,2,3]\n",
        "cList.reverse()\n",
        "print(cList)\n",
        "print(\"원래 리스트를 역순으로 출력한 결과는 \",cList, \"입니다. \")\n",
        "\n",
        "\n",
        "# index : 리스트에서 특정 값의 위치를 반환하는(알려주는) 기능\n",
        "dList = [1,2,3,4,5]\n",
        "print(dList.index(2)) #2는 1번째\n",
        "print(\"숫자 2의 인덱스 값은 \",dList.index(2), \"입니다. \")  # 쉼표를 이용해 문자와 함께 쓸 수 있다.\n",
        "\n",
        "\n",
        "# insert : 리스트의 특정 위치에 요소를 추가하는 함수\n",
        "eList = [1,2,3,4,5]\n",
        "eList.insert(0,8)  #(특정 위치의 인덱스,넣을 값)\n",
        "print(eList)\n",
        "\n",
        "\n",
        "# remove : 리스트에서 특정 요소를 삭제하는 기능\n",
        "fList = [1,2,3,4,5,3]\n",
        "fList.remove(3)  #f리스트에서 3이라는 요소를 삭제해라. 같은 값이 여러개일 경우 가장 맨 처음 것을 삭제함.\n",
        "print(fList)\n",
        "#del과의 차이: del은 n번째 것을 삭제해라. remove는 n이란 요소를 삭제해라.\n",
        "\n",
        "\n",
        "# pop : 리스트에서 마지막 요소를 제거하는 용도로 주로 쓰이지만, 특정 위치로도 삭제\n",
        "gList = [1,2,3,4,5]\n",
        "\n",
        "gList.pop()\n",
        "gList.pop()\n",
        "print(gList)\n",
        "\n",
        "gList.pop(0)\n",
        "gList.pop(0)  # 0번째 2번 제거\n",
        "print(gList)\n",
        "\n",
        "\n",
        "# count : 리스트에서 특정 요소의 개수 세기 기능\n",
        "jList = [1,2,3,1]\n",
        "\n",
        "jList.count(1)\n",
        "\n",
        "\n",
        "# extend : 리스트의 확장(리스트와 리스트를 붙여서 하나의 리스트로 만들기)\n",
        "\n",
        "a = [1,2,3]\n",
        "\n",
        "a.extend([4,5])\n",
        "print(a)"
      ],
      "metadata": {
        "colab": {
          "base_uri": "https://localhost:8080/"
        },
        "id": "3WcMyK_cc7CS",
        "outputId": "a7d357c2-9898-4bdb-81f2-77342701de0d"
      },
      "execution_count": null,
      "outputs": [
        {
          "output_type": "stream",
          "name": "stdout",
          "text": [
            "[1, 2, 3, 4, 5, 6]\n",
            "[1, 2, 3, 4, 5]\n",
            "[3, 2, 1]\n",
            "원래 리스트를 역순으로 출력한 결과는  [3, 2, 1] 입니다. \n",
            "1\n",
            "숫자 2의 인덱스 값은  1 입니다. \n",
            "[8, 1, 2, 3, 4, 5]\n",
            "[1, 2, 4, 5, 3]\n",
            "[1, 2, 3]\n",
            "[3]\n",
            "[1, 2, 3, 4, 5]\n"
          ]
        }
      ]
    },
    {
      "cell_type": "code",
      "source": [
        "# Quiz 1. 오늘자 영화 순위 1,2,3위 리스트를 만드시오\n",
        "\n",
        "MovieList = [\"자백\",\"리멤버\",\"블랙아담\",\"공조2:인터네셔날\"]\n",
        "\n",
        "print(MovieList[0:3])\n"
      ],
      "metadata": {
        "colab": {
          "base_uri": "https://localhost:8080/"
        },
        "id": "vc0KkzV0lD09",
        "outputId": "509df069-bdb8-4490-d995-b7a3ef9bd996"
      },
      "execution_count": null,
      "outputs": [
        {
          "output_type": "stream",
          "name": "stdout",
          "text": [
            "['자백', '리멤버', '블랙아담']\n"
          ]
        }
      ]
    },
    {
      "cell_type": "markdown",
      "source": [
        "#2.   Tuple  (   )\n",
        "특징\n",
        "- immutable 수정 불가능\n",
        "- indexing, slicing 가능\n",
        "- 요소를 하나만 저장할때도 쉼표를 붙임\n",
        "\n",
        "리스트와 거의 동일하지만 immutable. 4가지 자료형 중 유일하게 immutable. 즉, 한번 생성하면 수정도 삭제도 불가능하다."
      ],
      "metadata": {
        "id": "DGfs_CsmmgfD"
      }
    },
    {
      "cell_type": "code",
      "source": [
        "# () 소괄호로 만든다.\n",
        "\n",
        "tuple1 = ()  # 빈 튜플\n",
        "tuple2 = (1,)  # 튜플은 원소 하나짜리로 만들 때 쉼표(,)를 넣는다.\n",
        "tuple3 = (1,2,3)\n",
        "tuple4 = 1,2,3  # 튜플은 괄호 생략이 가능하다.\n",
        "tuple5 = (1,2,3,(4,5,6))  # 튜플 안에 튜플을 포함할 수 있다.\n",
        "\n"
      ],
      "metadata": {
        "id": "N8Jd4PRWmc2E"
      },
      "execution_count": null,
      "outputs": []
    },
    {
      "cell_type": "code",
      "source": [
        "# immutable 속성\n",
        "\n",
        "tuple1 = (1,2,3,4)\n",
        "# del tuple1[0] : 삭제 불가능\n",
        "\n",
        "# tuple1[0] = 0 : 변경 불가능\n",
        "\n",
        "# append도 불가능"
      ],
      "metadata": {
        "id": "RzMGrpQgoQn7"
      },
      "execution_count": null,
      "outputs": []
    },
    {
      "cell_type": "code",
      "source": [
        "# indexing 가능\n",
        "tuple1 = [1,2,3,4,5]\n",
        "\n",
        "tuple1[-1]  # -1은 리스트와 튜플에서 마지막 인덱스 번호이다. 따라서 5를 index\n"
      ],
      "metadata": {
        "colab": {
          "base_uri": "https://localhost:8080/"
        },
        "id": "SIILcwJwouTb",
        "outputId": "429c8fee-9b12-4146-a042-875aba0f5339"
      },
      "execution_count": null,
      "outputs": [
        {
          "output_type": "execute_result",
          "data": {
            "text/plain": [
              "5"
            ]
          },
          "metadata": {},
          "execution_count": 135
        }
      ]
    },
    {
      "cell_type": "code",
      "source": [
        "# slicing 가능\n",
        "tu1 = (1,2,3,4,5)  \n",
        "\n",
        "tu1[0:3]  # 0부터 3'미만' 숫자를 추출"
      ],
      "metadata": {
        "colab": {
          "base_uri": "https://localhost:8080/"
        },
        "id": "GqNiyX5_pTR2",
        "outputId": "5df4db58-1e19-46ef-f4cb-6c02b2fc00b0"
      },
      "execution_count": null,
      "outputs": [
        {
          "output_type": "execute_result",
          "data": {
            "text/plain": [
              "(1, 2, 3)"
            ]
          },
          "metadata": {},
          "execution_count": 136
        }
      ]
    },
    {
      "cell_type": "code",
      "source": [
        "# 튜플의 요소 갯수\n",
        "tu1 = [1,2,3,4,5]\n",
        "\n",
        "print(len(tu1))"
      ],
      "metadata": {
        "colab": {
          "base_uri": "https://localhost:8080/"
        },
        "id": "aV7GbkEppo9S",
        "outputId": "999ba6ae-b717-4651-f7c2-81181364332c"
      },
      "execution_count": null,
      "outputs": [
        {
          "output_type": "stream",
          "name": "stdout",
          "text": [
            "5\n"
          ]
        }
      ]
    },
    {
      "cell_type": "markdown",
      "source": [
        "#3. Dict { }\n",
        "\n",
        "- mutable 수정 가능\n",
        "- indexing, slicing **불가능**\n",
        "- 키값-밸류값 쌍으로 구성됨: Set과의 구분 방법\n",
        "\n",
        "*데이터 분석에서 많이 쓰임. 파이썬에서 2번째로 많이 쓰임."
      ],
      "metadata": {
        "id": "6nXUeX4pqC2p"
      }
    },
    {
      "cell_type": "code",
      "source": [
        "# dictionary 사전처럼 키값:밸류값 쌍으로 데이터가 저장되는 자료형\n",
        "# mutable\n",
        "# indexing, slicing 불가능 -> '순서'가 없다! => 키값으로 밸류값을 꺼낸다.\n",
        "\n",
        "aDict = {5:'a',3:'b',2:'c'}  # 키값:'밸류값'\n",
        "\n",
        "print(aDict[5])  # 키값 5에 해당하는 밸류값을 꺼내라\n",
        "\n",
        "print(aDict)\n",
        "\n",
        "\n",
        "# mutable\n",
        "aDict[9] = 'd'  # '순서'가 없으니 그냥 추가 가능\n",
        "print(aDict)\n",
        "\n",
        "\n",
        "del aDict[3]  \n",
        "print(aDict)  # 키와 밸류가 한번에 삭제됨\n",
        "\n",
        "\n",
        "# aDict[0]  # 인덱싱과 슬라이싱이 불가능하다. 순서가 없으니까.\n"
      ],
      "metadata": {
        "colab": {
          "base_uri": "https://localhost:8080/"
        },
        "id": "6jDvSygFdvaX",
        "outputId": "34d913ac-89aa-47c9-861e-111752590d65"
      },
      "execution_count": null,
      "outputs": [
        {
          "output_type": "stream",
          "name": "stdout",
          "text": [
            "a\n",
            "{5: 'a', 3: 'b', 2: 'c'}\n",
            "{5: 'a', 3: 'b', 2: 'c', 9: 'd'}\n",
            "{5: 'a', 2: 'c', 9: 'd'}\n"
          ]
        }
      ]
    },
    {
      "cell_type": "code",
      "source": [
        "# keys : Dict에서 키값만 추출하는 기능\n",
        "aDict = {5:'a',3:'b',2:'c'}\n",
        "\n",
        "print(aDict.keys())\n",
        "\n",
        "\n",
        "# values : Dict에서 밸류값만 추출하는 기능\n",
        "print(aDict.values())  \n",
        "\n",
        "\n",
        "# items : Dict에서 쌍으로 추출하는 기능\n",
        "print(aDict.items())\n",
        "\n",
        "# 리스트, 튜플로 추출을 해준다. (???)\n",
        "\n",
        "\n",
        "# in : Dict에 해당 키값이 존재하는지 확인하는 기능\n",
        "5 in aDict"
      ],
      "metadata": {
        "colab": {
          "base_uri": "https://localhost:8080/"
        },
        "id": "IrIrlhF-r8FZ",
        "outputId": "943d9357-084b-4648-cb03-c9abeee29f05"
      },
      "execution_count": null,
      "outputs": [
        {
          "output_type": "stream",
          "name": "stdout",
          "text": [
            "dict_keys([5, 3, 2])\n",
            "dict_values(['a', 'b', 'c'])\n",
            "dict_items([(5, 'a'), (3, 'b'), (2, 'c')])\n"
          ]
        },
        {
          "output_type": "execute_result",
          "data": {
            "text/plain": [
              "True"
            ]
          },
          "metadata": {},
          "execution_count": 170
        }
      ]
    },
    {
      "cell_type": "markdown",
      "source": [
        "# 4. Set { }\n",
        "\n",
        "- mutable 수정 가능\n",
        "- indexing, slicing 불가능\n",
        "- 중복 값을 허용하지 않음"
      ],
      "metadata": {
        "id": "kfbr-uBDthsg"
      }
    },
    {
      "cell_type": "code",
      "source": [
        "# 중복 허용X\n",
        "# mutable\n",
        "# 순서가 없음 -> indexing, slicing 불가능\n",
        "\n",
        "s1 = {1,2,3,4,1,2,}\n",
        "\n",
        "print(s1)  # 중복을 허용하지 않아서, 중복된 걸 삭제해 알려주기 때문에 에러가 나지 않는다.\n",
        "\n",
        "\n",
        "# s1이 무슨 자료형인지 확인하는 함수\n",
        "print(type(s1)) "
      ],
      "metadata": {
        "colab": {
          "base_uri": "https://localhost:8080/"
        },
        "id": "ka5AJ5Q-uANP",
        "outputId": "11131727-f68a-4dff-d44f-4a69525a1ec2"
      },
      "execution_count": null,
      "outputs": [
        {
          "output_type": "stream",
          "name": "stdout",
          "text": [
            "{1, 2, 3, 4}\n",
            "<class 'set'>\n"
          ]
        }
      ]
    },
    {
      "cell_type": "code",
      "source": [
        "# Boolean : 오직 T와 F만 존재, 반드시 대문자 (p.105)"
      ],
      "metadata": {
        "id": "1u2TDPRcunSA"
      },
      "execution_count": null,
      "outputs": []
    },
    {
      "cell_type": "code",
      "source": [
        "# 숙제용 문법\n",
        "\n",
        "a = \"Hi\"\n",
        "print(a)"
      ],
      "metadata": {
        "colab": {
          "base_uri": "https://localhost:8080/"
        },
        "id": "lkoy4iL_z2Mc",
        "outputId": "ebf76788-adb3-40cd-e0a8-5fde5887caca"
      },
      "execution_count": null,
      "outputs": [
        {
          "output_type": "stream",
          "name": "stdout",
          "text": [
            "Hi\n"
          ]
        }
      ]
    },
    {
      "cell_type": "code",
      "source": [
        "#사용자로부터 입력을 받아서 변수로 들어가는 방법\n",
        "a = input(\"출력할 내용을 입력하세요.\")\n",
        "print(\"입력하신 내용은 \",a, \"입니다.\")"
      ],
      "metadata": {
        "colab": {
          "base_uri": "https://localhost:8080/"
        },
        "id": "x16tBUWa0ZDM",
        "outputId": "28ce8d65-8381-42ca-9e4c-070a0ce3a8f6"
      },
      "execution_count": null,
      "outputs": [
        {
          "output_type": "stream",
          "name": "stdout",
          "text": [
            "출력할 내용을 입력하세요.방가워용\n",
            "입력하신 내용은  방가워용 입니다.\n"
          ]
        }
      ]
    },
    {
      "cell_type": "markdown",
      "source": [],
      "metadata": {
        "id": "xrVXMPdItdsJ"
      }
    }
  ]
}