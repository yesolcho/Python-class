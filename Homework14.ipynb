{
  "cells": [
    {
      "cell_type": "markdown",
      "metadata": {
        "id": "view-in-github",
        "colab_type": "text"
      },
      "source": [
        "<a href=\"https://colab.research.google.com/github/yesolcho/Python-class/blob/main/Homework14.ipynb\" target=\"_parent\"><img src=\"https://colab.research.google.com/assets/colab-badge.svg\" alt=\"Open In Colab\"/></a>"
      ]
    },
    {
      "cell_type": "markdown",
      "metadata": {
        "id": "HooR4hIW9Jsp"
      },
      "source": [
        "# word.capitalize()\n",
        "\n",
        "문자열의 제일 앞 글자를 대문자로 바꿔주는 함수.\n",
        "\n",
        "\n",
        "# word.title()\n",
        "\n",
        "모든 단어의 첫글자를 대문자로 바꿔주는 함수.\n"
      ]
    },
    {
      "cell_type": "code",
      "execution_count": null,
      "metadata": {
        "id": "NWaOBnP49Jst",
        "outputId": "0abdb7e0-c9ae-4c4b-8b58-f1042fc222dd"
      },
      "outputs": [
        {
          "name": "stdout",
          "output_type": "stream",
          "text": [
            "length of your first name: 5\n"
          ]
        }
      ],
      "source": [
        "# 020\n",
        "\n",
        "fn = input(\"first name: \")\n",
        "\n",
        "print(\"length of your first name:\",len(fn))"
      ]
    },
    {
      "cell_type": "code",
      "execution_count": null,
      "metadata": {
        "id": "3vyeZMxf9Jsv",
        "outputId": "d9ddfb6a-85be-4d61-b460-4db2b2591fc4"
      },
      "outputs": [
        {
          "name": "stdout",
          "output_type": "stream",
          "text": [
            "Yesol Cho 8\n"
          ]
        }
      ],
      "source": [
        "# 021\n",
        "\n",
        "fn = input(\"first name: \")\n",
        "sn = input(\"surname: \")\n",
        "\n",
        "print(fn,sn,len(fn)+len(sn))"
      ]
    },
    {
      "cell_type": "code",
      "execution_count": null,
      "metadata": {
        "id": "eqPL4D-89Jsv",
        "outputId": "1c760ff3-726c-4679-d7d8-ccf080c556aa"
      },
      "outputs": [
        {
          "name": "stdout",
          "output_type": "stream",
          "text": [
            "Yesol Cho\n"
          ]
        }
      ],
      "source": [
        "# 022\n",
        "\n",
        "fn = input(\"first name: \").title()\n",
        "sn = input(\"surname: \").title()\n",
        "\n",
        "print(fn,sn)"
      ]
    },
    {
      "cell_type": "code",
      "execution_count": null,
      "metadata": {
        "id": "z0RAsSci9Jsw",
        "outputId": "81c64484-3f24-4410-fe1c-38aeae4fb328"
      },
      "outputs": [
        {
          "name": "stdout",
          "output_type": "stream",
          "text": [
            "13\n",
            "개나리 노란\n"
          ]
        }
      ],
      "source": [
        "# 023\n",
        "\n",
        "nur = input(\"Type a first line of a nursery rhyme: \")\n",
        "\n",
        "print(len(nur))\n",
        "\n",
        "num1 = int(input(\"Starting number: \"))\n",
        "num2 = int(input(\"Ending number: \"))\n",
        "\n",
        "print(nur[num1-1:num2+1])"
      ]
    },
    {
      "cell_type": "code",
      "execution_count": null,
      "metadata": {
        "id": "lv2yd4HI9Jsw",
        "outputId": "9874aa1f-c85b-41d8-9e6c-4f2888acdb5c"
      },
      "outputs": [
        {
          "name": "stdout",
          "output_type": "stream",
          "text": [
            "APPLE\n"
          ]
        }
      ],
      "source": [
        "# 024\n",
        "\n",
        "a = input(\"Type any word: \")\n",
        "\n",
        "print(a.upper())"
      ]
    },
    {
      "cell_type": "code",
      "execution_count": null,
      "metadata": {
        "id": "ynwyt-FL9Jsw",
        "outputId": "749ce546-d84e-4e37-8b44-96bc7e3429b4"
      },
      "outputs": [
        {
          "name": "stdout",
          "output_type": "stream",
          "text": [
            "yesol\n"
          ]
        }
      ],
      "source": [
        "# 025\n",
        "\n",
        "f = input(\"First name: \")\n",
        "\n",
        "if len(f) < 5:\n",
        "    s = input(\"Surname: \")\n",
        "    print((f+s).upper())\n",
        "else:\n",
        "    print(f.lower())\n"
      ]
    },
    {
      "cell_type": "code",
      "execution_count": null,
      "metadata": {
        "id": "r3U4ZFyF9Jsx",
        "outputId": "3a1a2a28-43ca-4e68-d5db-0d4c6c06bb10"
      },
      "outputs": [
        {
          "name": "stdout",
          "output_type": "stream",
          "text": [
            "ntaway\n"
          ]
        }
      ],
      "source": [
        "# 026\n",
        "\n",
        "word = input(\"Type any word: \")\n",
        "vowel = [\"a\",\"e\",\"i\",\"o\",\"u\"]\n",
        "a = word[0]\n",
        "b = word[1:]\n",
        "\n",
        "if word[0] not in vowel:\n",
        "    print(b+a+\"ay\")\n",
        "else:\n",
        "    print(b+a+\"way\")\n",
        "\n",
        "# in, not in"
      ]
    }
  ],
  "metadata": {
    "kernelspec": {
      "display_name": "Python 3.9.13 ('base')",
      "language": "python",
      "name": "python3"
    },
    "language_info": {
      "codemirror_mode": {
        "name": "ipython",
        "version": 3
      },
      "file_extension": ".py",
      "mimetype": "text/x-python",
      "name": "python",
      "nbconvert_exporter": "python",
      "pygments_lexer": "ipython3",
      "version": "3.9.13"
    },
    "orig_nbformat": 4,
    "vscode": {
      "interpreter": {
        "hash": "42a3cfd936dca6cd9134016eb9598fa6c0736d544a7437139bac2f86277545e6"
      }
    },
    "colab": {
      "provenance": [],
      "include_colab_link": true
    }
  },
  "nbformat": 4,
  "nbformat_minor": 0
}