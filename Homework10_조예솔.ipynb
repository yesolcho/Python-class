{
  "nbformat": 4,
  "nbformat_minor": 0,
  "metadata": {
    "colab": {
      "provenance": [],
      "authorship_tag": "ABX9TyN/C6Oay70MI1Wa5o0QlsO+",
      "include_colab_link": true
    },
    "kernelspec": {
      "name": "python3",
      "display_name": "Python 3"
    },
    "language_info": {
      "name": "python"
    }
  },
  "cells": [
    {
      "cell_type": "markdown",
      "metadata": {
        "id": "view-in-github",
        "colab_type": "text"
      },
      "source": [
        "<a href=\"https://colab.research.google.com/github/yesolcho/Python-class/blob/main/Homework10_%EC%A1%B0%EC%98%88%EC%86%94.ipynb\" target=\"_parent\"><img src=\"https://colab.research.google.com/assets/colab-badge.svg\" alt=\"Open In Colab\"/></a>"
      ]
    },
    {
      "cell_type": "code",
      "execution_count": null,
      "metadata": {
        "colab": {
          "base_uri": "https://localhost:8080/"
        },
        "id": "58v7ZMLvzo5I",
        "outputId": "7a0fb119-9705-445a-de79-6124a7bb6668"
      },
      "outputs": [
        {
          "output_type": "stream",
          "name": "stdout",
          "text": [
            "Number1 : 5\n",
            "Number2 : 7\n",
            "5 7\n"
          ]
        }
      ],
      "source": [
        "#012\n",
        "\n",
        "a = int(input(\"Number1 : \"))\n",
        "b = int(input(\"Number2 : \"))\n",
        "\n",
        "if a > b:\n",
        "  print(b, a)\n",
        "\n",
        "else:\n",
        "  print(a, b)"
      ]
    },
    {
      "cell_type": "code",
      "source": [
        "#013\n",
        "\n",
        "num = int(input(\"Enter a number under 20 : \"))\n",
        "\n",
        "if num >= 20:\n",
        "  print(\"Too high\")\n",
        "\n",
        "else:\n",
        "  print(\"Thank you\")"
      ],
      "metadata": {
        "colab": {
          "base_uri": "https://localhost:8080/"
        },
        "id": "JmHORUwR2cSn",
        "outputId": "67cd9892-5ef4-4113-eed4-23041252f82b"
      },
      "execution_count": null,
      "outputs": [
        {
          "output_type": "stream",
          "name": "stdout",
          "text": [
            "Enter a number under 20 : 30\n",
            "Too high\n"
          ]
        }
      ]
    },
    {
      "cell_type": "code",
      "source": [
        "#014\n",
        "\n",
        "num = int(input(\"Enter a number between 10 and 20(inclusive): \"))\n",
        "\n",
        "if 10 <= num <= 20:\n",
        "  print(\"Thank you\")\n",
        "\n",
        "else:\n",
        "  print(\"Incorrect answer\")"
      ],
      "metadata": {
        "colab": {
          "base_uri": "https://localhost:8080/"
        },
        "id": "xZElXe9x2wl2",
        "outputId": "a7c6e27b-ce64-4318-b2bf-69f850e13a2c"
      },
      "execution_count": null,
      "outputs": [
        {
          "output_type": "stream",
          "name": "stdout",
          "text": [
            "Enter a number between 10 and 20(inclusive): 15\n",
            "Thank you\n"
          ]
        }
      ]
    },
    {
      "cell_type": "code",
      "source": [
        "#015\n",
        "\n",
        "color = input(\"Favorite color: \")\n",
        "\n",
        "if color == \"red\" or color == \"RED\" or color == \"Red\":\n",
        "  print(\"I like red too\")\n",
        "\n",
        "else:\n",
        "  print(\"I don't like\",color+\", I prefer red.\")"
      ],
      "metadata": {
        "colab": {
          "base_uri": "https://localhost:8080/"
        },
        "id": "2d3rMtV_3EJj",
        "outputId": "af790cdf-3fee-4bf9-c032-1d30ede3c97e"
      },
      "execution_count": null,
      "outputs": [
        {
          "output_type": "stream",
          "name": "stdout",
          "text": [
            "Favorite color: Green\n",
            "I don't like Green, I prefer red.\n"
          ]
        }
      ]
    },
    {
      "cell_type": "code",
      "source": [
        "#016\n",
        "\n",
        "r = input(\"Is it raining? \")\n",
        "\n",
        "if r == \"yes\":\n",
        "  w = input(\"Is it windy? \")\n",
        "  if w == \"yes\":\n",
        "    print(\"It is too windy for an umbrella.\")\n",
        "  else:\n",
        "    print(\"Take an umbrella.\")\n",
        "\n",
        "else:\n",
        "  print(\"Enjoy your day.\")"
      ],
      "metadata": {
        "colab": {
          "base_uri": "https://localhost:8080/"
        },
        "id": "F2DAkJQZ3i7j",
        "outputId": "9333db83-6b59-4598-fd7d-895b3302c37d"
      },
      "execution_count": null,
      "outputs": [
        {
          "output_type": "stream",
          "name": "stdout",
          "text": [
            "Is it raining? no\n",
            "Enjoy your day.\n"
          ]
        }
      ]
    },
    {
      "cell_type": "code",
      "source": [
        "#017\n",
        "\n",
        "age = int(input(\"What is your age? \"))\n",
        "\n",
        "if age >= 18:\n",
        "  print(\"You can vote.\")\n",
        "\n",
        "elif age == 17:\n",
        "  print(\"You can learn to drive.\")\n",
        "\n",
        "elif age == 16:\n",
        "  print(\"You can buy a lottery ticket.\")\n",
        "\n",
        "else:\n",
        "  print(\"You can go Trick-or-Treating.\")\n"
      ],
      "metadata": {
        "colab": {
          "base_uri": "https://localhost:8080/"
        },
        "id": "S4jMxduL4zq3",
        "outputId": "57ae5dd0-1ba2-4133-edd8-90e038c79623"
      },
      "execution_count": null,
      "outputs": [
        {
          "output_type": "stream",
          "name": "stdout",
          "text": [
            "What is your age? 15\n",
            "You can go Trick-or-Treating.\n"
          ]
        }
      ]
    },
    {
      "cell_type": "code",
      "source": [
        "#018\n",
        "\n",
        "num = int(input(\"Enter a number: \"))\n",
        "\n",
        "if num < 10:\n",
        "  print(\"Too low.\")\n",
        "\n",
        "elif 10 < num <20:\n",
        "  print(\"Correct.\")\n",
        "\n",
        "else:\n",
        "  print(\"Too high.\")"
      ],
      "metadata": {
        "colab": {
          "base_uri": "https://localhost:8080/"
        },
        "id": "dHsMcW075VCW",
        "outputId": "22de6d58-f6f0-452a-bfdb-07c0f7527df8"
      },
      "execution_count": null,
      "outputs": [
        {
          "output_type": "stream",
          "name": "stdout",
          "text": [
            "Enter a number: 25\n",
            "Too high.\n"
          ]
        }
      ]
    },
    {
      "cell_type": "code",
      "source": [
        "#019\n",
        "\n",
        "num = int(input(\"Enter 1, 2 or 3 : \"))\n",
        "\n",
        "if num == 1:\n",
        "  print(\"Thank you\")\n",
        "\n",
        "elif num == 2:\n",
        "  print(\"Well done\")\n",
        "\n",
        "elif num == 3:\n",
        "  print(\"Correct\")\n",
        "\n",
        "else:\n",
        "  print(\"Error message\")"
      ],
      "metadata": {
        "colab": {
          "base_uri": "https://localhost:8080/"
        },
        "id": "FCQ0Tuue5s36",
        "outputId": "bbb35270-a6a8-42a5-bbfe-43f14da169fa"
      },
      "execution_count": null,
      "outputs": [
        {
          "output_type": "stream",
          "name": "stdout",
          "text": [
            "Enter 1, 2 or 3 : 5\n",
            "Error message\n"
          ]
        }
      ]
    }
  ]
}