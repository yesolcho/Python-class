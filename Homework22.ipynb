{
  "cells": [
    {
      "cell_type": "markdown",
      "metadata": {
        "id": "view-in-github",
        "colab_type": "text"
      },
      "source": [
        "<a href=\"https://colab.research.google.com/github/yesolcho/Python-class/blob/main/Homework22.ipynb\" target=\"_parent\"><img src=\"https://colab.research.google.com/assets/colab-badge.svg\" alt=\"Open In Colab\"/></a>"
      ]
    },
    {
      "cell_type": "markdown",
      "metadata": {
        "id": "6BWA1Ytz5tXR"
      },
      "source": [
        "# sorted(names_list) 와 name_list.sort()의 차이\n",
        "\n",
        "전자는 리스트를 알파뱃 순서로 정렬해 출력하지만, 원본 리스트 순서 자체가 바뀌진 않는다. 또 리스트 뿐만 아니라 딕셔너리도 지원한다!\n",
        "sorted 함수의 결과는 '리스트'로 변환된다.\n",
        "\n",
        "반면 후자는 원본 리스트의 순서를 바꿔준다.\n",
        "\n",
        "\n",
        "# 리스트 함수들\n",
        "\n",
        "        x.insert(위치,숫자)\n",
        "\n",
        "x 리스트의 특정 위치에 원하는 숫자를 넣어주는 함수\n",
        "\n",
        "        x.remove(어쩌구)\n",
        "\n",
        "x 리스트 안의 특정 원소를 제거한다. 원소의 위치를 모를 때 유용!\n",
        "\n"
      ]
    },
    {
      "cell_type": "code",
      "execution_count": null,
      "metadata": {
        "id": "1jqjQliG5tXS",
        "outputId": "ef11cc3e-2560-4f52-93d0-a070c2b42cf2"
      },
      "outputs": [
        {
          "name": "stdout",
          "output_type": "stream",
          "text": [
            "('Korea', 'Japan', 'China', 'America', 'Rusia')\n",
            "Index number: 0\n"
          ]
        }
      ],
      "source": [
        "# 069\n",
        "\n",
        "countries = (\"Korea\", \"Japan\", \"China\", \"America\", \"Rusia\")\n",
        "\n",
        "print(countries)\n",
        "user = input(\"Enter one of the countries: \")\n",
        "print(\"Index number:\",countries.index(user))"
      ]
    },
    {
      "cell_type": "code",
      "execution_count": null,
      "metadata": {
        "id": "V-6awJDD5tXT",
        "outputId": "5dabdafd-438a-437c-e581-ce014c9d9a7f"
      },
      "outputs": [
        {
          "name": "stdout",
          "output_type": "stream",
          "text": [
            "('Korea', 'Japan', 'China', 'America', 'Rusia')\n",
            "Index number: 0\n",
            "Country number 4 is Rusia\n"
          ]
        }
      ],
      "source": [
        "# 070\n",
        "\n",
        "countries = (\"Korea\", \"Japan\", \"China\", \"America\", \"Rusia\")\n",
        "\n",
        "print(countries)\n",
        "user = input(\"Enter one of the countries: \")\n",
        "print(\"Index number:\",countries.index(user))\n",
        "\n",
        "num = int(input(\"Enter a number: \"))\n",
        "print(f\"Country number {num} is {countries[num]}\")"
      ]
    },
    {
      "cell_type": "code",
      "execution_count": null,
      "metadata": {
        "id": "GsQubV7F5tXU",
        "outputId": "b779ad49-668a-4175-8928-f39a33b54278"
      },
      "outputs": [
        {
          "name": "stdout",
          "output_type": "stream",
          "text": [
            "['soccer', 'swimming', 'tennis']\n"
          ]
        }
      ],
      "source": [
        "# 071\n",
        "\n",
        "sports = [\"tennis\", \"swimming\"]\n",
        "\n",
        "user = input(\"What is your favorite sport? : \")\n",
        "sports.append(user)\n",
        "sports.sort()\n",
        "print(sports)"
      ]
    },
    {
      "cell_type": "code",
      "execution_count": null,
      "metadata": {
        "id": "uJG4UN2N5tXU",
        "outputId": "7b0b6b84-4b19-46e1-ce76-e5d8ea650346"
      },
      "outputs": [
        {
          "name": "stdout",
          "output_type": "stream",
          "text": [
            "['Korean', 'math', 'English', 'science', 'music', 'athletic']\n",
            "['math', 'English', 'science', 'music', 'athletic']\n"
          ]
        }
      ],
      "source": [
        "# 072\n",
        "\n",
        "subjects = [\"Korean\", \"math\", \"English\", \"science\", \"music\", \"athletic\"]\n",
        "print(subjects)\n",
        "\n",
        "user = input(\"Which of these subjects you don't like: \")\n",
        "subjects.remove(user)\n",
        "print(subjects)"
      ]
    },
    {
      "cell_type": "code",
      "execution_count": null,
      "metadata": {
        "id": "rh_hrBM05tXU",
        "outputId": "29d79de7-282a-4ceb-d25b-6895340631da"
      },
      "outputs": [
        {
          "name": "stdout",
          "output_type": "stream",
          "text": [
            "{1: 'pizza', 2: 'pasta', 3: 'cake', 4: 'beef'}\n",
            "{1: 'pizza', 3: 'cake', 4: 'beef'}\n"
          ]
        }
      ],
      "source": [
        "# 073\n",
        "\n",
        "foods = {}\n",
        "\n",
        "for i in range(4):\n",
        "    user = input(\"Enter your favorite food: \")\n",
        "    foods[i+1] = user\n",
        "\n",
        "print(foods)\n",
        "\n",
        "user2 = int(input(\"Enter a number you want to remove : \"))\n",
        "\n",
        "del foods[user2]\n",
        "print(dict(sorted(foods.items())))\n",
        "\n",
        "\n",
        "# x.sort() 함수는 리스트 함수지만, sorted() 함수는 딕셔너리도 쓸 수 있다.\n",
        "# sorted()에 딕셔너리 이름만 넣으면 'key'값만 빠져 정렬되어 리스트가 된다.\n",
        "# 딕셔너리 전체를 정렬하려면 sorted(x.item())으로 입력해야 한다.\n",
        "# sorted 함수의 결과는 리스트로 출력된다."
      ]
    },
    {
      "cell_type": "code",
      "execution_count": null,
      "metadata": {
        "id": "CDD6mISW5tXU",
        "outputId": "de75ab10-848b-48f9-bb8b-b0091d5bb825"
      },
      "outputs": [
        {
          "name": "stdout",
          "output_type": "stream",
          "text": [
            "['green', 'yellow', 'pupple', 'black', 'white', 'sky blue', 'pink', 'brown']\n"
          ]
        }
      ],
      "source": [
        "# 074\n",
        "\n",
        "colors = [\"red\", \"blue\", \"green\", \"yellow\", \"pupple\", \"black\", \"white\", \"sky blue\", \"pink\", \"brown\"]\n",
        "\n",
        "start = int(input(\"Enter a starting number between 0 and 4 : \"))\n",
        "end = int(input(\"Enter an end number between 5 and 9 : \"))\n",
        "\n",
        "print(colors[start:end+1])\n"
      ]
    },
    {
      "cell_type": "code",
      "execution_count": null,
      "metadata": {
        "id": "1dD0Do2F5tXV",
        "outputId": "f83449af-1946-4397-e04a-e58d0e0f6f6d"
      },
      "outputs": [
        {
          "name": "stdout",
          "output_type": "stream",
          "text": [
            "333\n",
            "251\n",
            "932\n",
            "That is not in the list\n"
          ]
        }
      ],
      "source": [
        "# 075\n",
        "\n",
        "numbers = [333, 251, 932]\n",
        "\n",
        "for i in numbers:\n",
        "    print(i)\n",
        "\n",
        "num = int(input(\"Enter a three-digit number : \"))\n",
        "\n",
        "if num in numbers:\n",
        "    print(f\"{num} is in index {numbers.index(num)}.\")\n",
        "else:\n",
        "    print(\"That is not in the list\")"
      ]
    },
    {
      "cell_type": "code",
      "execution_count": null,
      "metadata": {
        "id": "SPwbMsrM5tXV",
        "outputId": "d72dfba3-bdeb-4c67-d3c5-1c964d4b9e3c"
      },
      "outputs": [
        {
          "name": "stdout",
          "output_type": "stream",
          "text": [
            "5 of people are invited to the party.\n"
          ]
        }
      ],
      "source": [
        "# 076\n",
        "\n",
        "party = []\n",
        "\n",
        "for i in range(3):\n",
        "    name = input(\"Enter the name of people you want to invite to a party : \")\n",
        "    party.append(name)\n",
        "\n",
        "add = input(\"Do you want to add another? (yes/no) : \")\n",
        "\n",
        "while add == \"yes\":\n",
        "    name = input(\"Enter the name : \")\n",
        "    party.append(name)\n",
        "    add = input(\"Do you want to add another? (yes/no) : \")\n",
        "\n",
        "print(f\"{len(party)} of people are invited to the party.\")\n",
        "        \n",
        "\n"
      ]
    },
    {
      "cell_type": "code",
      "execution_count": null,
      "metadata": {
        "id": "H_yJQiqk5tXV",
        "outputId": "c889225b-fa21-4d73-800b-ed29507aced3"
      },
      "outputs": [
        {
          "name": "stdout",
          "output_type": "stream",
          "text": [
            "['Ven', 'Amy', 'Andrew', 'Emily']\n",
            "Position of that name is 1\n",
            "['Ven', 'Andrew', 'Emily']\n"
          ]
        }
      ],
      "source": [
        "# 077\n",
        "\n",
        "party = []\n",
        "\n",
        "for i in range(3):\n",
        "    name = input(\"Enter the name of people you want to invite to a party : \")\n",
        "    party.append(name)\n",
        "\n",
        "add = input(\"Do you want to add another? (yes/no) : \")\n",
        "\n",
        "while add == \"yes\":\n",
        "    name = input(\"Enter the name : \")\n",
        "    party.append(name)\n",
        "    add = input(\"Do you want to add another? (yes/no) : \")\n",
        "\n",
        "print(party)\n",
        "\n",
        "a = input(\"Enter one of the names on the list : \")\n",
        "print(f\"Position of that name is {party.index(a)}\")\n",
        "\n",
        "ask = input(\"Do you still want to invite that person? (yes/no)\")\n",
        "\n",
        "if ask == \"no\":\n",
        "    party.remove(a)\n",
        "    print(party)"
      ]
    },
    {
      "cell_type": "code",
      "execution_count": null,
      "metadata": {
        "id": "BM06CNsS5tXW",
        "outputId": "94bb614c-734d-42eb-ddcd-4f2cdfb35fe5"
      },
      "outputs": [
        {
          "name": "stdout",
          "output_type": "stream",
          "text": [
            "무한도전\n",
            "놀면 뭐하니\n",
            "런닝맨\n",
            "유퀴즈\n",
            "['무한도전', '놀면 뭐하니', '신서유기', '런닝맨', '유퀴즈']\n"
          ]
        }
      ],
      "source": [
        "# 078\n",
        "\n",
        "TV = [\"무한도전\", \"놀면 뭐하니\", \"런닝맨\", \"유퀴즈\"]\n",
        "\n",
        "for i in TV:\n",
        "    print(i)\n",
        "\n",
        "ask = input(\"Enter another show : \")\n",
        "ask2 = int(input(\"Enter a position you want it inserted : \"))\n",
        "\n",
        "TV.insert(ask2, ask)\n",
        "\n",
        "print(TV)"
      ]
    },
    {
      "cell_type": "code",
      "execution_count": null,
      "metadata": {
        "id": "fXZ7IDMW5tXW",
        "outputId": "c6cd91f9-11e3-4426-e37d-18856ef02249"
      },
      "outputs": [
        {
          "name": "stdout",
          "output_type": "stream",
          "text": [
            "[4]\n",
            "[4, 6]\n",
            "[4, 6, 2]\n",
            "[4, 6]\n"
          ]
        }
      ],
      "source": [
        "# 079\n",
        "\n",
        "nums = []\n",
        "\n",
        "total = 0\n",
        "\n",
        "for i in range(3):\n",
        "    num = int(input(\"Enter number:\"))\n",
        "    nums.append(num)\n",
        "    print(nums)\n",
        "\n",
        "ask = input(\"Do you still want the last number saved? (yes/no) : \")\n",
        "\n",
        "if ask == \"no\":\n",
        "    nums.remove(nums[2])\n",
        "\n",
        "print(nums)\n"
      ]
    }
  ],
  "metadata": {
    "kernelspec": {
      "display_name": "Python 3.9.13 ('base')",
      "language": "python",
      "name": "python3"
    },
    "language_info": {
      "codemirror_mode": {
        "name": "ipython",
        "version": 3
      },
      "file_extension": ".py",
      "mimetype": "text/x-python",
      "name": "python",
      "nbconvert_exporter": "python",
      "pygments_lexer": "ipython3",
      "version": "3.9.13"
    },
    "orig_nbformat": 4,
    "vscode": {
      "interpreter": {
        "hash": "42a3cfd936dca6cd9134016eb9598fa6c0736d544a7437139bac2f86277545e6"
      }
    },
    "colab": {
      "provenance": [],
      "include_colab_link": true
    }
  },
  "nbformat": 4,
  "nbformat_minor": 0
}