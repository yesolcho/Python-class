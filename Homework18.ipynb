{
  "cells": [
    {
      "cell_type": "markdown",
      "metadata": {
        "id": "view-in-github",
        "colab_type": "text"
      },
      "source": [
        "<a href=\"https://colab.research.google.com/github/yesolcho/Python-class/blob/main/Homework18.ipynb\" target=\"_parent\"><img src=\"https://colab.research.google.com/assets/colab-badge.svg\" alt=\"Open In Colab\"/></a>"
      ]
    },
    {
      "cell_type": "code",
      "execution_count": null,
      "metadata": {
        "id": "vBBD7FhxdP27"
      },
      "outputs": [],
      "source": [
        "# 271\n",
        "\n",
        "class Account:\n",
        "\n",
        "    def __init__(self,name,dep):   # 예금액: balance\n",
        "        self.name = name\n",
        "        self.dep = dep\n",
        "        import random\n",
        "        num1 = random.randrange(100,1000)   # random.randint()\n",
        "        num2 = random.randrange(10,100)\n",
        "        num3 = random.randrange(100000,1000000)\n",
        "        self.acc = f\"{num1}-{num2}-{num3}\"\n",
        "\n",
        "\n",
        "a = Account(\"이름\",0)\n",
        "\n",
        "\n",
        "# 개선할 점\n",
        "# 이렇게 계좌번호를 randrange하면 000-01-000001 같은 계좌번호를 지정할 수 없다.\n",
        "# randrange보다는 randint를 쓰자.\n",
        "# import는 클레스 바깥에 쓰는 게 깔끔하다."
      ]
    },
    {
      "cell_type": "code",
      "source": [
        "# 271 - 2\n",
        "\n",
        "# str.zfill() 함수 사용하기\n",
        "\n",
        "import random\n",
        "\n",
        "class Account:\n",
        "  def __init__(self,name,balance):\n",
        "    self.name = name\n",
        "    self.balance = balance\n",
        "    self.bank = \"sc은행\"\n",
        "    num1 = random.randint(0,999)   # randint는 범위가 '이하'이다! 주의하자.\n",
        "    num2 = random.randint(0,99)\n",
        "    num3 = random.randint(0,999999)\n",
        "\n",
        "    num1 = str(num1).zfill(3)\n",
        "    num2 = str(num2).zfill(2)\n",
        "    num3 = str(num3).zfill(6)\n",
        "    self.account = f\"{num1}-{num2}-{num3}\"\n",
        "\n",
        "\n",
        "kim = Account(\"김민수\", 100)\n"
      ],
      "metadata": {
        "id": "a4Of83kiQcl0"
      },
      "execution_count": null,
      "outputs": []
    },
    {
      "cell_type": "markdown",
      "source": [
        "# string 앞에 0을 채우는 방법\n",
        "\n",
        "**str.zfill(width)**\n",
        "\n",
        "인수 만큼의 자리수에서 해당 '문자열'을 오른쪽 정렬하고, 그 앞에 남은 자리엔 0을 채운다.\n",
        "\n",
        "\n",
        "**str.rjust(width,\"fillchar\")**\n",
        "\n",
        "인수 만큼의 자리수에서 해당 '문자열'을 오른쪽 정렬하고, 그 앞에 남은 자리엔 두번째 인수(문자열)을 채운다. 원하는 문자를 지정할 수 있다는 점에서 zfill함수와 다르다!"
      ],
      "metadata": {
        "id": "gUuUUFfKU5UL"
      }
    },
    {
      "cell_type": "markdown",
      "metadata": {
        "id": "zWLLD4spdP28"
      },
      "source": [
        "# 클레스 변수, 인스턴스 변수\n",
        "\n",
        "- **클레스 변수**\n",
        "\n",
        "    클래스 내부에서 선언된 변수. class의 네임스페이스에 위치한다. \n",
        "    여러 인스턴스 간에 서로 공유해야 하는 값은 클레스 변수를 통해 바인딩 해야한다.\n",
        "\n",
        "- **인스턴스 변수**\n",
        "\n",
        "    self가 붙어있는 변수. 인스턴스의 네임스페이스에 위치한다."
      ]
    },
    {
      "cell_type": "code",
      "execution_count": null,
      "metadata": {
        "id": "TO9R6p1AdP29"
      },
      "outputs": [],
      "source": [
        "# 272\n",
        "\n",
        "import random\n",
        "\n",
        "class Account:\n",
        "\n",
        "  num_account = 0\n",
        "\n",
        "  def __init__(self,name,balance):\n",
        "    self.name = name\n",
        "    self.balance = balance\n",
        "    self.bank = \"sc은행\"\n",
        "    num1 = random.randint(0,999)  \n",
        "    num2 = random.randint(0,99)\n",
        "    num3 = random.randint(0,999999)\n",
        "\n",
        "    num1 = str(num1).zfill(3)\n",
        "    num2 = str(num2).zfill(2)\n",
        "    num3 = str(num3).zfill(6)\n",
        "    self.account = f\"{num1}-{num2}-{num3}\"\n",
        "\n",
        "    Account.num_account += 1   # 클레스 이름 혹은 인스턴스 이름을 사용해 접근한다.\n",
        "\n",
        "\n",
        "kim = Account(\"김민수\", 100)"
      ]
    },
    {
      "cell_type": "code",
      "execution_count": null,
      "metadata": {
        "id": "UtaM4hQCdP2-",
        "outputId": "b47d91ca-7dd8-47f0-d7b3-7add88c41be3",
        "colab": {
          "base_uri": "https://localhost:8080/"
        }
      },
      "outputs": [
        {
          "output_type": "stream",
          "name": "stdout",
          "text": [
            "2\n"
          ]
        }
      ],
      "source": [
        "# 273\n",
        "\n",
        "import random\n",
        "\n",
        "class Account:\n",
        "\n",
        "  num_account = 0\n",
        "\n",
        "  def __init__(self,name,balance):\n",
        "    self.name = name\n",
        "    self.balance = balance\n",
        "    self.bank = \"sc은행\"\n",
        "    num1 = random.randint(0,999)  \n",
        "    num2 = random.randint(0,99)\n",
        "    num3 = random.randint(0,999999)\n",
        "    num1 = str(num1).zfill(3)\n",
        "    num2 = str(num2).zfill(2)\n",
        "    num3 = str(num3).zfill(6)\n",
        "    self.account = f\"{num1}-{num2}-{num3}\"\n",
        "    Account.num_account += 1 \n",
        "\n",
        "  def get_account_num(self):   # def get_account_num(cls):\n",
        "        print(Account.num_account)   # print(cls.num_account)\n",
        "\n",
        "\n",
        "kim = Account(\"김민수\", 100)\n",
        "lee = Account(\"이민수\", 100)\n",
        "\n",
        "kim.get_account_num()\n",
        "\n",
        "\n",
        "# 개선할 점\n",
        "# classmethod는 self대신 cls를 주로 쓰나?"
      ]
    },
    {
      "cell_type": "code",
      "execution_count": null,
      "metadata": {
        "id": "QKe8Bld0dP2-",
        "outputId": "ad60065d-acbf-4da1-d5cc-9c7b13f531e1",
        "colab": {
          "base_uri": "https://localhost:8080/"
        }
      },
      "outputs": [
        {
          "output_type": "stream",
          "name": "stdout",
          "text": [
            "12\n"
          ]
        }
      ],
      "source": [
        "# 274\n",
        "\n",
        "import random\n",
        "\n",
        "class Account:\n",
        "\n",
        "  num_account = 0\n",
        "\n",
        "  def __init__(self,name,balance):\n",
        "    self.name = name\n",
        "    self.balance = balance\n",
        "    self.bank = \"sc은행\"\n",
        "    num1 = random.randint(0,999)  \n",
        "    num2 = random.randint(0,99)\n",
        "    num3 = random.randint(0,999999)\n",
        "    num1 = str(num1).zfill(3)\n",
        "    num2 = str(num2).zfill(2)\n",
        "    num3 = str(num3).zfill(6)\n",
        "    self.account = f\"{num1}-{num2}-{num3}\"\n",
        "    Account.num_account += 1 \n",
        "\n",
        "  def get_account_num(self):\n",
        "        print(Account.num_account)\n",
        "\n",
        "  def deposit(self,amount):   # 입금액은 amount라고 한다.\n",
        "    if amount >= 1:\n",
        "      self.balance += amount\n",
        "    else:\n",
        "      print(\"입금은 최소 1원 이상만 가능합니다.\")\n",
        "\n",
        "\n",
        "a = Account(\"이름\",0)\n",
        "\n",
        "a.deposit(12) \n",
        "print(a.balance)\n",
        "\n",
        "# 메서드 이름과 변수명이 같으면 안된다!"
      ]
    },
    {
      "cell_type": "code",
      "execution_count": null,
      "metadata": {
        "id": "cNTD_c8CdP2-",
        "outputId": "8f655eae-fe79-4bd9-ea00-e2ae25289b94",
        "colab": {
          "base_uri": "https://localhost:8080/"
        }
      },
      "outputs": [
        {
          "output_type": "stream",
          "name": "stdout",
          "text": [
            "현재 잔고는: 12\n",
            "현재 잔고는: 9\n"
          ]
        }
      ],
      "source": [
        "# 275\n",
        "\n",
        "import random\n",
        "\n",
        "class Account:\n",
        "\n",
        "  num_account = 0\n",
        "\n",
        "  def __init__(self,name,balance):\n",
        "    self.name = name\n",
        "    self.balance = balance\n",
        "    self.bank = \"sc은행\"\n",
        "    num1 = random.randint(0,999)  \n",
        "    num2 = random.randint(0,99)\n",
        "    num3 = random.randint(0,999999)\n",
        "    num1 = str(num1).zfill(3)\n",
        "    num2 = str(num2).zfill(2)\n",
        "    num3 = str(num3).zfill(6)\n",
        "    self.account = f\"{num1}-{num2}-{num3}\"\n",
        "    Account.num_account += 1 \n",
        "\n",
        "  def get_account_num(self):   # def get_account_num(cls):\n",
        "    print(Account.num_account)   # print(cls.num_account)\n",
        "\n",
        "  def deposit(self,amount):  \n",
        "    if amount >= 1:\n",
        "      self.balance += amount\n",
        "    else:\n",
        "      print(\"입금은 최소 1원 이상만 가능합니다.\")\n",
        "\n",
        "  def withdraw(self,amount):\n",
        "    if self.balance >= amount: \n",
        "      self.balance -= amount\n",
        "    else:\n",
        "      print(\"출금은 계좌의 잔고 이상으로 출금할 수 없습니다.\")\n",
        "\n",
        "\n",
        "a = Account(\"이름\",0)\n",
        "\n",
        "a.deposit(12) \n",
        "print(\"현재 잔고는:\",a.balance)\n",
        "\n",
        "a.withdraw(3)\n",
        "print(\"현재 잔고는:\",a.balance)"
      ]
    },
    {
      "cell_type": "markdown",
      "metadata": {
        "id": "nS_2u0oFdP2_"
      },
      "source": [
        "# 숫자 3자리마다 콤마 넣는 방법\n",
        "\n",
        "1. format()\n",
        "\n",
        "        format(num, \",\")\n",
        "\n",
        "2. 문자열 format\n",
        "\n",
        "        \"{0:,}\".format(num)\n",
        "\n",
        "3. f string\n",
        "\n",
        "        f\"{num:,}\""
      ]
    },
    {
      "cell_type": "code",
      "execution_count": null,
      "metadata": {
        "id": "3aavTZ3sdP2_",
        "outputId": "c6815c3a-0ecd-4cec-cd49-92e4547f19f5",
        "colab": {
          "base_uri": "https://localhost:8080/"
        }
      },
      "outputs": [
        {
          "output_type": "stream",
          "name": "stdout",
          "text": [
            "은행이름: SC은행\n",
            "예금주: 파이썬\n",
            "계좌번호: 206-28-792557\n",
            "잔고: 119,700원\n"
          ]
        }
      ],
      "source": [
        "# 276\n",
        "\n",
        "import random\n",
        "\n",
        "class Account:\n",
        "\n",
        "  num_account = 0\n",
        "\n",
        "  def __init__(self,name,balance):\n",
        "    self.name = name\n",
        "    self.balance = balance\n",
        "    self.bank = \"sc은행\"\n",
        "    num1 = random.randint(0,999)  \n",
        "    num2 = random.randint(0,99)\n",
        "    num3 = random.randint(0,999999)\n",
        "    num1 = str(num1).zfill(3)\n",
        "    num2 = str(num2).zfill(2)\n",
        "    num3 = str(num3).zfill(6)\n",
        "    self.account = f\"{num1}-{num2}-{num3}\"\n",
        "    Account.num_account += 1 \n",
        "\n",
        "  def get_account_num(self):   # def get_account_num(cls):\n",
        "    print(Account.num_account)   # print(cls.num_account)\n",
        "\n",
        "  def deposit(self,amount):  \n",
        "    if amount >= 1:\n",
        "      self.balance += amount\n",
        "    else:\n",
        "      print(\"입금은 최소 1원 이상만 가능합니다.\")\n",
        "\n",
        "  def withdraw(self,amount):\n",
        "    if self.balance >= amount: \n",
        "      self.balance -= amount\n",
        "    else:\n",
        "      print(\"출금은 계좌의 잔고 이상으로 출금할 수 없습니다.\")\n",
        "\n",
        "  def display_info(self):\n",
        "    self.balance = format(self.balance, \",\")\n",
        "    print(f\"은행이름: SC은행\\n예금주: {self.name}\\n계좌번호: {self.account}\\n잔고: {self.balance}원\")\n",
        "\n",
        "\n",
        "a = Account(\"파이썬\",0)\n",
        "\n",
        "a.deposit(120000) \n",
        "a.withdraw(300)\n",
        "\n",
        "a.display_info()"
      ]
    },
    {
      "cell_type": "code",
      "execution_count": null,
      "metadata": {
        "id": "IqEgdHQ4dP3A",
        "outputId": "d8842420-1943-4a65-9645-5affbea8a73a",
        "colab": {
          "base_uri": "https://localhost:8080/"
        }
      },
      "outputs": [
        {
          "output_type": "stream",
          "name": "stdout",
          "text": [
            "\n",
            "100\n",
            "200\n",
            "300\n",
            "400\n",
            "505.0\n"
          ]
        }
      ],
      "source": [
        "# 277\n",
        "\n",
        "import random\n",
        "\n",
        "class Account:\n",
        "\n",
        "  num_account = 0\n",
        "\n",
        "  def __init__(self,name,balance):\n",
        "    self.name = name\n",
        "    self.balance = balance\n",
        "    self.bank = \"sc은행\"\n",
        "    self.num_deposit = 0   # 객체마다 고유의 값을 가지므로 클레스 변수가 아닌 인스턴스 변수로 설정해야 함!!!\n",
        "    num1 = random.randint(0,999)  \n",
        "    num2 = random.randint(0,99)\n",
        "    num3 = random.randint(0,999999)\n",
        "    num1 = str(num1).zfill(3)\n",
        "    num2 = str(num2).zfill(2)\n",
        "    num3 = str(num3).zfill(6)\n",
        "    self.account = f\"{num1}-{num2}-{num3}\"\n",
        "    Account.num_account += 1 \n",
        "\n",
        "  def get_account_num(self):   # def get_account_num(cls):\n",
        "    print(Account.num_account)   # print(cls.num_account)\n",
        "\n",
        "  def deposit(self,amount):  \n",
        "    if amount >= 1:\n",
        "      self.balance += amount\n",
        "      self.num_deposit += 1\n",
        "      if self.num_deposit%5 == 0:\n",
        "        self.balance += self.balance*0.01\n",
        "    else:\n",
        "      print(\"입금은 최소 1원 이상만 가능합니다.\")\n",
        "\n",
        "  def withdraw(self,amount):\n",
        "    if self.balance >= amount: \n",
        "      self.balance -= amount\n",
        "    else:\n",
        "      print(\"출금은 계좌의 잔고 이상으로 출금할 수 없습니다.\")\n",
        "\n",
        "  def display_info(self):\n",
        "    self.balance = format(self.balance, \",\")\n",
        "    print(f\"은행이름: SC은행\\n예금주: {self.name}\\n계좌번호: {self.account}\\n잔고: {self.balance}원\")\n",
        "\n",
        "\n",
        "a = Account(\"파이썬\",0)\n",
        "\n",
        "print()\n",
        "\n",
        "a.deposit(100)\n",
        "print(a.balance)\n",
        "\n",
        "a.deposit(100)\n",
        "print(a.balance)\n",
        "\n",
        "a.deposit(100)\n",
        "print(a.balance)\n",
        "\n",
        "a.deposit(100)\n",
        "print(a.balance)\n",
        "\n",
        "a.deposit(100)\n",
        "print(a.balance)\n",
        "\n"
      ]
    },
    {
      "cell_type": "code",
      "execution_count": null,
      "metadata": {
        "id": "Dgcdi3pXdP3B",
        "outputId": "47e25749-9e00-485a-d502-a9a4e28a086d",
        "colab": {
          "base_uri": "https://localhost:8080/"
        }
      },
      "outputs": [
        {
          "output_type": "stream",
          "name": "stdout",
          "text": [
            "[<__main__.Account object at 0x7f3a5d24e2e0>, <__main__.Account object at 0x7f3a5d24e760>, <__main__.Account object at 0x7f3a5d24eb50>]\n"
          ]
        }
      ],
      "source": [
        "# 278\n",
        "\n",
        "import random\n",
        "\n",
        "class Account:\n",
        "\n",
        "  num_account = 0\n",
        "\n",
        "  def __init__(self,name,balance):\n",
        "    self.name = name\n",
        "    self.balance = balance\n",
        "    self.bank = \"sc은행\"\n",
        "    self.num_deposit = 0\n",
        "    num1 = random.randint(0,999)  \n",
        "    num2 = random.randint(0,99)\n",
        "    num3 = random.randint(0,999999)\n",
        "    num1 = str(num1).zfill(3)\n",
        "    num2 = str(num2).zfill(2)\n",
        "    num3 = str(num3).zfill(6)\n",
        "    self.account = f\"{num1}-{num2}-{num3}\"\n",
        "    Account.num_account += 1 \n",
        "\n",
        "  def get_account_num(self):   # def get_account_num(cls):\n",
        "    print(Account.num_account)   # print(cls.num_account)\n",
        "\n",
        "  def deposit(self,amount):  \n",
        "    if amount >= 1:\n",
        "      self.balance += amount\n",
        "      self.num_deposit += 1\n",
        "      if self.num_deposit%5 == 0:\n",
        "        self.balance += self.balance*0.01\n",
        "    else:\n",
        "      print(\"입금은 최소 1원 이상만 가능합니다.\")\n",
        "\n",
        "  def withdraw(self,amount):\n",
        "    if self.balance >= amount: \n",
        "      self.balance -= amount\n",
        "    else:\n",
        "      print(\"출금은 계좌의 잔고 이상으로 출금할 수 없습니다.\")\n",
        "\n",
        "  def display_info(self):\n",
        "    self.balance = format(self.balance, \",\")\n",
        "    print(f\"은행이름: SC은행\\n예금주: {self.name}\\n계좌번호: {self.account}\\n잔고: {self.balance}원\")\n",
        "\n",
        "\n",
        "a = Account(\"Amy\",0)\n",
        "b = Account(\"Ven\",0)\n",
        "c = Account(\"Andraw\",0)\n",
        "\n",
        "alist = []\n",
        "\n",
        "alist.append(a)\n",
        "alist.append(b)\n",
        "alist.append(c)\n",
        "\n",
        "print(alist)\n"
      ]
    },
    {
      "cell_type": "code",
      "execution_count": null,
      "metadata": {
        "id": "cEVUGKaCdP3B",
        "outputId": "d1dfe041-2385-44c1-bca5-e3526e97f294",
        "colab": {
          "base_uri": "https://localhost:8080/"
        }
      },
      "outputs": [
        {
          "output_type": "stream",
          "name": "stdout",
          "text": [
            "\n",
            "은행이름: SC은행\n",
            "예금주: Amy\n",
            "계좌번호: 699-17-362201\n",
            "잔고: 1,000,000원\n",
            "\n",
            "은행이름: SC은행\n",
            "예금주: Andraw\n",
            "계좌번호: 673-91-487066\n",
            "잔고: 2,000,000원\n",
            "\n"
          ]
        }
      ],
      "source": [
        "# 279\n",
        "\n",
        "import random\n",
        "\n",
        "class Account:\n",
        "\n",
        "  num_account = 0\n",
        "\n",
        "  def __init__(self,name,balance):\n",
        "    self.name = name\n",
        "    self.balance = balance\n",
        "    self.bank = \"sc은행\"\n",
        "    self.num_deposit = 0\n",
        "    num1 = random.randint(0,999)  \n",
        "    num2 = random.randint(0,99)\n",
        "    num3 = random.randint(0,999999)\n",
        "    num1 = str(num1).zfill(3)\n",
        "    num2 = str(num2).zfill(2)\n",
        "    num3 = str(num3).zfill(6)\n",
        "    self.account = f\"{num1}-{num2}-{num3}\"\n",
        "    Account.num_account += 1 \n",
        "\n",
        "  def get_account_num(self):   # def get_account_num(cls):\n",
        "    print(Account.num_account)   # print(cls.num_account)\n",
        "\n",
        "  def deposit(self,amount):  \n",
        "    if amount >= 1:\n",
        "      self.balance += amount\n",
        "      self.num_deposit += 1\n",
        "      if self.num_deposit%5 == 0:\n",
        "        self.balance += self.balance*0.01\n",
        "    else:\n",
        "      print(\"입금은 최소 1원 이상만 가능합니다.\")\n",
        "\n",
        "  def withdraw(self,amount):\n",
        "    if self.balance >= amount: \n",
        "      self.balance -= amount\n",
        "    else:\n",
        "      print(\"출금은 계좌의 잔고 이상으로 출금할 수 없습니다.\")\n",
        "\n",
        "  def display_info(self):\n",
        "    self.balance = format(self.balance, \",\")\n",
        "    print(f\"은행이름: SC은행\\n예금주: {self.name}\\n계좌번호: {self.account}\\n잔고: {self.balance}원\")\n",
        "\n",
        "\n",
        "\n",
        "a = Account(\"Amy\",1000000)\n",
        "b = Account(\"Ven\",90000)\n",
        "c = Account(\"Andraw\",2000000)\n",
        "\n",
        "alist = []\n",
        "\n",
        "alist.append(a)\n",
        "alist.append(b)\n",
        "alist.append(c)\n",
        "\n",
        "print()\n",
        "\n",
        "for i in alist:\n",
        "    if i.balance >= 1000000:\n",
        "        i.display_info()\n",
        "        print()"
      ]
    },
    {
      "cell_type": "code",
      "execution_count": null,
      "metadata": {
        "id": "O56iywgGdP3C",
        "outputId": "d264c4e5-e610-486f-d6cf-077be3d742f7",
        "colab": {
          "base_uri": "https://localhost:8080/"
        }
      },
      "outputs": [
        {
          "output_type": "stream",
          "name": "stdout",
          "text": [
            "\n",
            "<Ven고객님의 입금 내역>\n",
            "100\n",
            "100\n",
            "100\n",
            "100\n",
            "100\n",
            "914.0500000000001\n",
            "100\n",
            "\n",
            "<Ven고객님의 출금 내역>\n",
            "100\n",
            "50\n"
          ]
        }
      ],
      "source": [
        "# 280\n",
        "\n",
        "import random\n",
        "\n",
        "class Account:\n",
        "\n",
        "  num_account = 0\n",
        "\n",
        "  def __init__(self,name,balance):\n",
        "    self.name = name\n",
        "    self.balance = balance\n",
        "    self.bank = \"sc은행\"\n",
        "    self.num_deposit = 0\n",
        "    self.d_history = []   # deposit_log / 객체마다 다르니 인스턴스 변수\n",
        "    self.w_history = []   # withdraw_log / 객체마다 다르니 인스턴스 변수\n",
        "    num1 = random.randint(0,999)  \n",
        "    num2 = random.randint(0,99)\n",
        "    num3 = random.randint(0,999999)\n",
        "    num1 = str(num1).zfill(3)\n",
        "    num2 = str(num2).zfill(2)\n",
        "    num3 = str(num3).zfill(6)\n",
        "    self.account = f\"{num1}-{num2}-{num3}\"\n",
        "    Account.num_account += 1 \n",
        "\n",
        "  def get_account_num(self):   # def get_account_num(cls):\n",
        "    print(Account.num_account)   # print(cls.num_account)\n",
        "\n",
        "  def deposit(self,amount):  \n",
        "    if amount >= 1:\n",
        "      self.balance += amount\n",
        "      self.num_deposit += 1\n",
        "      self.d_history.append(amount)\n",
        "      if self.num_deposit%5 == 0:\n",
        "        self.balance += self.balance*0.01\n",
        "        self.d_history.append(self.balance*0.01)\n",
        "    else:\n",
        "      print(\"입금은 최소 1원 이상만 가능합니다.\")\n",
        "\n",
        "  def withdraw(self,amount):\n",
        "    if self.balance >= amount: \n",
        "      self.balance -= amount\n",
        "      self.w_history.append(amount)\n",
        "    else:\n",
        "      print(\"출금은 계좌의 잔고 이상으로 출금할 수 없습니다.\")\n",
        "\n",
        "  def display_info(self):\n",
        "    self.balance = format(self.balance, \",\")\n",
        "    print(f\"은행이름: SC은행\\n예금주: {self.name}\\n계좌번호: {self.account}\\n잔고: {self.balance}원\")\n",
        "\n",
        "  def deposit_history(self):\n",
        "    print(f\"<{self.name}고객님의 입금 내역>\")\n",
        "    for i in self.d_history:\n",
        "      print(i)\n",
        "\n",
        "  def withdraw_history(self):\n",
        "    print(f\"<{self.name}고객님의 출금 내역>\")\n",
        "    for i in self.w_history:\n",
        "      print(i)\n",
        "\n",
        "\n",
        "\n",
        "a = Account(\"Amy\",1000000)\n",
        "b = Account(\"Ven\",90000)\n",
        "c = Account(\"Andraw\",2000000)\n",
        "\n",
        "print()\n",
        "\n",
        "b.deposit(100)\n",
        "b.deposit(100)\n",
        "b.deposit(100)\n",
        "b.deposit(100)\n",
        "b.deposit(100)\n",
        "b.deposit(100)\n",
        "b.withdraw(100)\n",
        "b.withdraw(50)\n",
        "\n",
        "\n",
        "b.deposit_history()\n",
        "print()\n",
        "b.withdraw_history()\n",
        "\n",
        "\n",
        "# 클레스 변수 쓸 때 클레스명 쓰는거 잊지말기!\n",
        "# 클레스 변수와 인스턴스 변수 중 뭐를 써야할지 잘 생각해보기."
      ]
    },
    {
      "cell_type": "code",
      "execution_count": null,
      "metadata": {
        "id": "VUjWrEhddP3C",
        "outputId": "734e8b71-0465-4e34-de12-c39c90292d71"
      },
      "outputs": [
        {
          "name": "stdout",
          "output_type": "stream",
          "text": [
            "2\n",
            "1000\n"
          ]
        }
      ],
      "source": [
        "# 281\n",
        "\n",
        "class 차:\n",
        "\n",
        "    def __init__(self,바퀴,가격):\n",
        "        self.바퀴 = 바퀴\n",
        "        self.가격 = 가격\n",
        "\n",
        "car = 차(2, 1000)\n",
        "\n",
        "print(car.바퀴)\n",
        "print(car.가격)\n",
        "\n"
      ]
    },
    {
      "cell_type": "code",
      "execution_count": null,
      "metadata": {
        "id": "jS7iXgb6dP3C",
        "outputId": "310d7c6f-5865-4e25-ac64-4cda944c9707",
        "colab": {
          "base_uri": "https://localhost:8080/"
        }
      },
      "outputs": [
        {
          "output_type": "stream",
          "name": "stdout",
          "text": [
            "<class 'type'>\n"
          ]
        }
      ],
      "source": [
        "# 282\n",
        "\n",
        "class 차:\n",
        "\n",
        "    def __init__(self,바퀴,가격):\n",
        "        self.바퀴 = 바퀴\n",
        "        self.가격 = 가격\n",
        "\n",
        "class 자전차(차):\n",
        "    pass\n",
        "\n",
        "print(type(자전차))\n",
        "\n",
        "\n",
        "# 클래스를 상속할 때 이전 셀에서 작업한 클래스를 그대로 갖고오지 않아도 상속된다!"
      ]
    },
    {
      "cell_type": "code",
      "execution_count": null,
      "metadata": {
        "id": "_Z_Kj2EhdP3D",
        "outputId": "fa793fe1-8b64-4c64-c3c2-5c921928801e",
        "colab": {
          "base_uri": "https://localhost:8080/"
        }
      },
      "outputs": [
        {
          "output_type": "execute_result",
          "data": {
            "text/plain": [
              "100"
            ]
          },
          "metadata": {},
          "execution_count": 19
        }
      ],
      "source": [
        "# 283\n",
        "\n",
        "class 차:\n",
        "\n",
        "    def __init__(self,바퀴,가격):\n",
        "        self.바퀴 = 바퀴\n",
        "        self.가격 = 가격\n",
        "\n",
        "class 자전차(차):\n",
        "    def __init__(self,바퀴,가격):\n",
        "      self.바퀴 = 바퀴\n",
        "      self.가격 = 가격\n",
        "\n",
        "bicycle = 자전차(2, 100)\n",
        "\n",
        "bicycle.가격"
      ]
    },
    {
      "cell_type": "code",
      "execution_count": null,
      "metadata": {
        "id": "8tG_2QQTdP3D",
        "outputId": "135efc80-bf21-4564-879f-a24b9ccfb992",
        "colab": {
          "base_uri": "https://localhost:8080/",
          "height": 35
        }
      },
      "outputs": [
        {
          "output_type": "execute_result",
          "data": {
            "text/plain": [
              "'시마노'"
            ],
            "application/vnd.google.colaboratory.intrinsic+json": {
              "type": "string"
            }
          },
          "metadata": {},
          "execution_count": 21
        }
      ],
      "source": [
        "# 284\n",
        "\n",
        "class 차:\n",
        "\n",
        "    def __init__(self,바퀴,가격):\n",
        "        self.바퀴 = 바퀴\n",
        "        self.가격 = 가격\n",
        "\n",
        "class 자전차(차):\n",
        "    \n",
        "    def __init__(self,바퀴,가격,구동계):\n",
        "        self.바퀴 = 바퀴\n",
        "        self.가격 = 가격\n",
        "        self.구동계 = 구동계\n",
        "\n",
        "bicycle = 자전차(2, 100, \"시마노\")\n",
        "bicycle.구동계\n",
        "\n",
        "\n",
        "# 개선할 점\n",
        "# 바퀴, 가격 변수의 경우 super()__init__으로 부모 클래스의 생성자를 호출해 사용하고\n",
        "# 부모 클래스의 생성자에 없는 구동계만 추가해줘야 한다."
      ]
    },
    {
      "cell_type": "code",
      "source": [
        "# 284 - 2\n",
        "\n",
        "class 차:\n",
        "    def __init__(self,바퀴,가격):\n",
        "        self.바퀴 = 바퀴\n",
        "        self.가격 = 가격\n",
        "\n",
        "class 자전차(차):\n",
        "    def __init__(self,바퀴,가격,구동계):\n",
        "        super().__init__(바퀴,가격)   # 차.__init__(self,바퀴,가격)\n",
        "        self.구동계 = 구동계\n",
        "\n",
        "bicycle = 자전차(2, 100, \"시마노\")\n",
        "\n",
        "print(bicycle.가격)"
      ],
      "metadata": {
        "colab": {
          "base_uri": "https://localhost:8080/"
        },
        "id": "BZn3-bcFM0n4",
        "outputId": "bebfe382-8788-491b-9f52-96f7235684ff"
      },
      "execution_count": null,
      "outputs": [
        {
          "output_type": "stream",
          "name": "stdout",
          "text": [
            "시마노\n",
            "100\n"
          ]
        }
      ]
    },
    {
      "cell_type": "code",
      "execution_count": null,
      "metadata": {
        "id": "kBaspbnsdP3D",
        "outputId": "1cc3b45f-ca7f-485b-e6a9-1ecd288ce17d",
        "colab": {
          "base_uri": "https://localhost:8080/"
        }
      },
      "outputs": [
        {
          "output_type": "stream",
          "name": "stdout",
          "text": [
            "바퀴수 4\n",
            "가격 1000\n"
          ]
        }
      ],
      "source": [
        "# 285\n",
        "\n",
        "class 차:\n",
        "    def __init__(self,바퀴,가격):\n",
        "        self.바퀴 = 바퀴\n",
        "        self.가격 = 가격\n",
        "\n",
        "class 자동차(차):\n",
        "    def __init__(self,바퀴,가격):\n",
        "        super().__init__(바퀴,가격)\n",
        "\n",
        "    def 정보(self):\n",
        "        print(f\"바퀴수 {self.바퀴}\")\n",
        "        print(f\"가격 {self.가격}\")\n",
        "\n",
        "car = 자동차(4, 1000)\n",
        "car.정보()"
      ]
    },
    {
      "cell_type": "code",
      "execution_count": null,
      "metadata": {
        "id": "3Yv6kWkydP3D",
        "outputId": "658a5e71-c04f-4485-86bb-93ba297942fc",
        "colab": {
          "base_uri": "https://localhost:8080/"
        }
      },
      "outputs": [
        {
          "output_type": "stream",
          "name": "stdout",
          "text": [
            "바퀴수 2\n",
            "가격 100\n"
          ]
        }
      ],
      "source": [
        "# 286\n",
        "\n",
        "class 차:\n",
        "    def __init__(self,바퀴,가격):\n",
        "        self.바퀴 = 바퀴\n",
        "        self.가격 = 가격\n",
        "\n",
        "    def 정보(self):\n",
        "        print(f\"바퀴수 {self.바퀴}\")\n",
        "        print(f\"가격 {self.가격}\")\n",
        "\n",
        "class 자동차(차):\n",
        "    def __init__(self,바퀴,가격):\n",
        "        super().__init__(바퀴,가격)\n",
        "\n",
        "class 자전차(차):\n",
        "    def __init__(self,바퀴,가격,구동계):\n",
        "        super().__init__(바퀴,가격)\n",
        "        self.구동계 = 구동계\n",
        "\n",
        "        \n",
        "\n",
        "bicycle = 자전차(2, 100, \"시마노\")\n",
        "\n",
        "bicycle.정보()"
      ]
    },
    {
      "cell_type": "code",
      "execution_count": null,
      "metadata": {
        "id": "SMu4bFdHdP3D",
        "outputId": "77956205-595b-4cf3-ea31-89b466fd9108",
        "colab": {
          "base_uri": "https://localhost:8080/"
        }
      },
      "outputs": [
        {
          "output_type": "stream",
          "name": "stdout",
          "text": [
            "바퀴수 2\n",
            "가격 100\n",
            "구동계 시마노\n"
          ]
        }
      ],
      "source": [
        "# 287\n",
        "\n",
        "# 문제에서 '자전차의 정보() 메서드로'라고 했으니 부모 클래스는 수정하지 않는다.\n",
        "\n",
        "\n",
        "class 차:\n",
        "    def __init__(self,바퀴,가격):\n",
        "        self.바퀴 = 바퀴\n",
        "        self.가격 = 가격\n",
        "\n",
        "    def 정보(self):\n",
        "        print(f\"바퀴수 {self.바퀴}\")\n",
        "        print(f\"가격 {self.가격}\")\n",
        "\n",
        "class 자동차(차):\n",
        "    def __init__(self,바퀴,가격):\n",
        "        super().__init__(바퀴,가격)\n",
        "\n",
        "class 자전차(차):\n",
        "    def __init__(self,바퀴,가격,구동계):\n",
        "        super().__init__(바퀴,가격)\n",
        "        self.구동계 = 구동계\n",
        "\n",
        "    def 정보(self):\n",
        "        super().정보()   # 바퀴수, 가격은 있으니 super을 통해 그대로 호출하고\n",
        "        print(f\"구동계 {self.구동계}\")   # 없는 구동계만 새로 만들어준다.\n",
        "\n",
        "\n",
        "bicycle = 자전차(2, 100, \"시마노\")\n",
        "\n",
        "\n",
        "bicycle.정보()"
      ]
    },
    {
      "cell_type": "code",
      "execution_count": null,
      "metadata": {
        "id": "B89K4aJYdP3D",
        "colab": {
          "base_uri": "https://localhost:8080/"
        },
        "outputId": "32d820a8-696b-46ac-b860-56620437c770"
      },
      "outputs": [
        {
          "output_type": "stream",
          "name": "stdout",
          "text": [
            "자식호출\n"
          ]
        }
      ],
      "source": [
        "# 288\n",
        "\n",
        "#답: 자식호출\n",
        "\n",
        "class 부모:\n",
        "    def 호출(self):\n",
        "        print(\"부모호출\")\n",
        "\n",
        "class 자식(부모):\n",
        "    def 호출(self):\n",
        "        print(\"자식호출\")\n",
        "\n",
        "\n",
        "나 = 자식()\n",
        "나.호출()"
      ]
    },
    {
      "cell_type": "code",
      "execution_count": null,
      "metadata": {
        "id": "gNo2CrIpdP3E",
        "colab": {
          "base_uri": "https://localhost:8080/"
        },
        "outputId": "cae83a72-5033-4a4d-9934-fc415bb409b9"
      },
      "outputs": [
        {
          "output_type": "stream",
          "name": "stdout",
          "text": [
            "자식생성\n"
          ]
        }
      ],
      "source": [
        "# 289\n",
        "\n",
        "#답: 자식생성\n",
        "\n",
        "class 부모:\n",
        "    def __init__(self):\n",
        "        print(\"부모생성\")\n",
        "\n",
        "class 자식(부모):\n",
        "    def __init__(self):\n",
        "        print(\"자식생성\")\n",
        "\n",
        "나 = 자식()"
      ]
    },
    {
      "cell_type": "markdown",
      "metadata": {
        "id": "uiSL0-YVdP3E"
      },
      "source": [
        "# 부모 클래스 생성자 호출 super().__init__\n",
        "\n",
        "오버로딩. 부모 class의 생성자를 호출해서 사용할 수 있게 해준다.\n",
        "\n",
        "\n",
        "# 부모 클래스의 메소드 호출 super()\n",
        "\n",
        "자식 클래스에서 어떤 메소드를 새롭게 구현했음에도,\n",
        "부모 클래스에서 구현되었던 그 메소드를 호출할 때 사용."
      ]
    },
    {
      "cell_type": "code",
      "execution_count": null,
      "metadata": {
        "id": "cMSKxcv_dP3E",
        "colab": {
          "base_uri": "https://localhost:8080/"
        },
        "outputId": "92ebd18d-7520-44fe-ceed-c3e3cba52b6a"
      },
      "outputs": [
        {
          "output_type": "stream",
          "name": "stdout",
          "text": [
            "자식생성\n",
            "부모생성\n"
          ]
        }
      ],
      "source": [
        "# 290 *\n",
        "\n",
        "#답: 자식생성\n",
        "# 부모생성\n",
        "\n",
        "class 부모:\n",
        "    def __init__(self):\n",
        "        print(\"부모생성\")\n",
        "\n",
        "class 자식(부모):\n",
        "    def __init__(self):\n",
        "        print(\"자식생성\")\n",
        "        super().__init__()\n",
        "\n",
        "나 = 자식()"
      ]
    }
  ],
  "metadata": {
    "kernelspec": {
      "display_name": "Python 3.9.13 ('base')",
      "language": "python",
      "name": "python3"
    },
    "language_info": {
      "codemirror_mode": {
        "name": "ipython",
        "version": 3
      },
      "file_extension": ".py",
      "mimetype": "text/x-python",
      "name": "python",
      "nbconvert_exporter": "python",
      "pygments_lexer": "ipython3",
      "version": "3.9.13"
    },
    "orig_nbformat": 4,
    "vscode": {
      "interpreter": {
        "hash": "42a3cfd936dca6cd9134016eb9598fa6c0736d544a7437139bac2f86277545e6"
      }
    },
    "colab": {
      "provenance": [],
      "include_colab_link": true
    }
  },
  "nbformat": 4,
  "nbformat_minor": 0
}