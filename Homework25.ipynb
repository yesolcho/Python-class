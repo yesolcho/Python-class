{
  "cells": [
    {
      "cell_type": "markdown",
      "metadata": {
        "id": "view-in-github",
        "colab_type": "text"
      },
      "source": [
        "<a href=\"https://colab.research.google.com/github/yesolcho/Python-class/blob/main/Homework25.ipynb\" target=\"_parent\"><img src=\"https://colab.research.google.com/assets/colab-badge.svg\" alt=\"Open In Colab\"/></a>"
      ]
    },
    {
      "cell_type": "markdown",
      "metadata": {
        "id": "PCXRM5BYhEn6"
      },
      "source": [
        "# 파이썬에서의 2차원 배열\n",
        "\n",
        "기본적으로 이중 리스트/딕셔너리의 형태다.\n",
        "\n",
        "1. 리스트\n",
        "    행: n번째 행은 리스트의 n번째 index\n",
        "\n",
        "    열: n번째 열은 리스트의 리스트 내 리스트의 n번째 원소\n",
        "\n",
        "2. 딕셔너리\n",
        "    딕셔너리의 경우 행렬에 각 key값의 이름을 붙여야 한다.\n",
        "\n",
        "    행: Key 값\n",
        "\n",
        "    열: value값에 들어가는 딕셔너리 내의 n번째 원소\n"
      ]
    },
    {
      "cell_type": "code",
      "execution_count": null,
      "metadata": {
        "id": "wdjJB3x1hEn8",
        "outputId": "9434bcf9-ed09-42c1-9596-2a1400a7fe2c"
      },
      "outputs": [
        {
          "name": "stdout",
          "output_type": "stream",
          "text": [
            "[[2, 5, 8], [3, 7, 4], [1, 6, 9], [4, 2, 0]]\n"
          ]
        }
      ],
      "source": [
        "# 096\n",
        "\n",
        "simple_array = [[2,5,8], [3,7,4], [1,6,9], [4,2,0]]\n",
        "\n",
        "print(simple_array)"
      ]
    },
    {
      "cell_type": "code",
      "execution_count": null,
      "metadata": {
        "id": "feRrwyCChEn9",
        "outputId": "e0baa8c0-dc91-45e3-f436-81725d8958b5"
      },
      "outputs": [
        {
          "name": "stdout",
          "output_type": "stream",
          "text": [
            "4\n"
          ]
        }
      ],
      "source": [
        "# 097\n",
        "\n",
        "simple_array = [[2,5,8], [3,7,4], [1,6,9], [4,2,0]]\n",
        "\n",
        "row = int(input(\"Select row: \"))\n",
        "column = int(input(\"Select column: \"))\n",
        "\n",
        "print(simple_array[row][column])"
      ]
    },
    {
      "cell_type": "code",
      "execution_count": null,
      "metadata": {
        "id": "u0Gc10FIhEn9",
        "outputId": "e23e45a5-ae86-4185-829c-767dfa21c075"
      },
      "outputs": [
        {
          "name": "stdout",
          "output_type": "stream",
          "text": [
            "[2, 5, 8]\n",
            "[2, 5, 8, 9]\n"
          ]
        }
      ],
      "source": [
        "# 098\n",
        "\n",
        "simple_array = [[2,5,8], [3,7,4], [1,6,9], [4,2,0]]\n",
        "\n",
        "user = int(input(\"Which row would like displayed? \"))\n",
        "\n",
        "print(simple_array[user])\n",
        "\n",
        "user2 = int(input(\"Enter a new value: \"))\n",
        "\n",
        "simple_array[user].append(user2)\n",
        "print(simple_array[user])"
      ]
    },
    {
      "cell_type": "code",
      "execution_count": null,
      "metadata": {
        "id": "ipDtQoVmhEn9",
        "outputId": "802017ff-9905-4f57-a95e-993f91137c5b"
      },
      "outputs": [
        {
          "name": "stdout",
          "output_type": "stream",
          "text": [
            "[4, 2, 0]\n",
            "4\n",
            "[1, 2, 0]\n"
          ]
        }
      ],
      "source": [
        "# 099\n",
        "\n",
        "simple_array = [[2,5,8], [3,7,4], [1,6,9], [4,2,0]]\n",
        "\n",
        "user = int(input(\"Which row would like displayed? \"))\n",
        "print(simple_array[user])\n",
        "\n",
        "user2 = int(input(\"Which column in that row would like displayed? \"))\n",
        "print(simple_array[user][user2])\n",
        "\n",
        "user3 = input(\"Do you want to change the value? (y/n)\")\n",
        "\n",
        "if user3 == \"y\":\n",
        "    user4 = int(input(\"Enter a new value: \"))\n",
        "    simple_array[user][user2] = user4\n",
        "    print(simple_array[user])"
      ]
    },
    {
      "cell_type": "code",
      "execution_count": null,
      "metadata": {
        "id": "Vq5mmzM_hEn-",
        "outputId": "a78ac352-ee91-4d1a-8213-4e0810215434"
      },
      "outputs": [
        {
          "name": "stdout",
          "output_type": "stream",
          "text": [
            "{'John': {'N': 3056, 'S': 8463, 'E': 8441, 'W': 2694}, 'Tom': {'N': 4832, 'S': 6786, 'E': 4737, 'W': 3612}, 'Anne': {'N': 5239, 'S': 4802, 'E': 5820, 'W': 1859}, 'Fiona': {'N': 3904, 'S': 3645, 'E': 8821, 'W': 2451}}\n"
          ]
        }
      ],
      "source": [
        "# 100\n",
        "\n",
        "simple_array = {\"John\":{\"N\":3056, \"S\":8463, \"E\":8441, \"W\":2694},\n",
        "                \"Tom\":{\"N\":4832, \"S\":6786, \"E\":4737, \"W\":3612},\n",
        "                \"Anne\":{\"N\":5239, \"S\":4802, \"E\":5820, \"W\":1859},\n",
        "                \"Fiona\":{\"N\":3904, \"S\":3645, \"E\":8821, \"W\":2451}}\n",
        "\n",
        "print(simple_array)\n"
      ]
    },
    {
      "cell_type": "code",
      "execution_count": null,
      "metadata": {
        "id": "C7z5XaxKhEn-",
        "outputId": "e2d1858c-67dc-4828-96e4-6012e4e8af04"
      },
      "outputs": [
        {
          "name": "stdout",
          "output_type": "stream",
          "text": [
            "{'John': {'N': 3056, 'S': 8463, 'E': 8441, 'W': 2694}, 'Tom': {'N': 4832, 'S': 6786, 'E': 4737, 'W': 3612}, 'Anne': {'N': 5239, 'S': 4802, 'E': 5820, 'W': 1859}, 'Fiona': {'N': 3904, 'S': 3645, 'E': 8821, 'W': 2451}}\n",
            "{'N': 3333, 'S': 3645, 'E': 8821, 'W': 2451}\n"
          ]
        }
      ],
      "source": [
        "# 101\n",
        "\n",
        "simple_array = {\"John\":{\"N\":3056, \"S\":8463, \"E\":8441, \"W\":2694},\n",
        "                \"Tom\":{\"N\":4832, \"S\":6786, \"E\":4737, \"W\":3612},\n",
        "                \"Anne\":{\"N\":5239, \"S\":4802, \"E\":5820, \"W\":1859},\n",
        "                \"Fiona\":{\"N\":3904, \"S\":3645, \"E\":8821, \"W\":2451}}\n",
        "\n",
        "print(simple_array)\n",
        "\n",
        "name = input(\"Enter a name of data you want to change: \")\n",
        "region = input(\"Enter a region of data you want to change: \")\n",
        "new = int(input(\"Enter the alternation to the sales figure: \"))\n",
        "\n",
        "simple_array[name][region] = new\n",
        "\n",
        "print(simple_array[name])\n"
      ]
    },
    {
      "cell_type": "code",
      "execution_count": null,
      "metadata": {
        "id": "MZ0xAWu8hEn-",
        "outputId": "f639868e-fff4-4f97-b6f0-fe3985b8c742"
      },
      "outputs": [
        {
          "name": "stdout",
          "output_type": "stream",
          "text": [
            "{'age': 25, 'size': 280}\n"
          ]
        }
      ],
      "source": [
        "# 102\n",
        "\n",
        "dic = {}\n",
        "\n",
        "for i in range(4):\n",
        "    name = input(\"Enter your name: \")\n",
        "    age = int(input(\"Enter your age: \"))\n",
        "    size = int(input(\"Enter you shoe size: \"))\n",
        "    dic[name] = {\"age\":age, \"size\":size}\n",
        "\n",
        "name = input(\"Enter the name of one of the people in the list: \")\n",
        "\n",
        "print(dic[name])"
      ]
    },
    {
      "cell_type": "code",
      "execution_count": 4,
      "metadata": {
        "id": "YxKnC9YJhEn-",
        "outputId": "3bbc0077-1be6-4abb-d0be-935e70aab3ec",
        "colab": {
          "base_uri": "https://localhost:8080/"
        }
      },
      "outputs": [
        {
          "output_type": "stream",
          "name": "stdout",
          "text": [
            "Enter your name: 1\n",
            "Enter your age: 1\n",
            "Enter you shoe size: 1\n",
            "Enter your name: 2\n",
            "Enter your age: 2\n",
            "Enter you shoe size: 2\n",
            "Enter your name: 3\n",
            "Enter your age: 3\n",
            "Enter you shoe size: 3\n",
            "Enter your name: 4\n",
            "Enter your age: 4\n",
            "Enter you shoe size: 4\n",
            "1 1\n",
            "2 2\n",
            "3 3\n",
            "4 4\n"
          ]
        }
      ],
      "source": [
        "# 103\n",
        "\n",
        "dic = {}\n",
        "\n",
        "for i in range(4):\n",
        "    name = input(\"Enter your name: \")\n",
        "    age = int(input(\"Enter your age: \"))\n",
        "    size = int(input(\"Enter you shoe size: \"))\n",
        "    dic[name] = {\"age\":age, \"size\":size}\n",
        "\n",
        "for name in dic:   # dictionary로 for문을 설정하면 key값이 변수로 나간다\n",
        "    print(name,dic[name][\"age\"])   # 딕셔너리가 아닌 값만 출력\n"
      ]
    },
    {
      "cell_type": "code",
      "execution_count": 5,
      "metadata": {
        "id": "dHz7gOZhhEn_",
        "outputId": "6a34f182-d289-42d1-f7bc-2dbf7e2ee923",
        "colab": {
          "base_uri": "https://localhost:8080/"
        }
      },
      "outputs": [
        {
          "output_type": "stream",
          "name": "stdout",
          "text": [
            "Enter the name you want to remove from the list: Amy\n",
            "Ven 25 285\n",
            "Andrew 17 275\n",
            "Emily 16 250\n"
          ]
        }
      ],
      "source": [
        "# 104\n",
        "\n",
        "dic = {\"Ven\":{\"age\":25, \"size\":285}, \"Amy\":{\"age\":25, \"size\":245}, \"Andrew\":{\"age\":17, \"size\":275}, \"Emily\":{\"age\":16, \"size\":250}}\n",
        "\n",
        "name = input(\"Enter the name you want to remove from the list: \")\n",
        "\n",
        "del dic[name]\n",
        "\n",
        "for i in dic:\n",
        "    print(i, dic[i][\"age\"], dic[i][\"size\"])"
      ]
    }
  ],
  "metadata": {
    "kernelspec": {
      "display_name": "Python 3.9.13 ('base')",
      "language": "python",
      "name": "python3"
    },
    "language_info": {
      "codemirror_mode": {
        "name": "ipython",
        "version": 3
      },
      "file_extension": ".py",
      "mimetype": "text/x-python",
      "name": "python",
      "nbconvert_exporter": "python",
      "pygments_lexer": "ipython3",
      "version": "3.9.13"
    },
    "orig_nbformat": 4,
    "vscode": {
      "interpreter": {
        "hash": "42a3cfd936dca6cd9134016eb9598fa6c0736d544a7437139bac2f86277545e6"
      }
    },
    "colab": {
      "provenance": [],
      "include_colab_link": true
    }
  },
  "nbformat": 4,
  "nbformat_minor": 0
}