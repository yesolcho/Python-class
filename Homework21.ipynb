{
  "nbformat": 4,
  "nbformat_minor": 0,
  "metadata": {
    "colab": {
      "provenance": [],
      "authorship_tag": "ABX9TyPZkhWcd3H8cO5cbuF5Owub",
      "include_colab_link": true
    },
    "kernelspec": {
      "name": "python3",
      "display_name": "Python 3"
    },
    "language_info": {
      "name": "python"
    }
  },
  "cells": [
    {
      "cell_type": "markdown",
      "metadata": {
        "id": "view-in-github",
        "colab_type": "text"
      },
      "source": [
        "<a href=\"https://colab.research.google.com/github/yesolcho/Python-class/blob/main/Homework21.ipynb\" target=\"_parent\"><img src=\"https://colab.research.google.com/assets/colab-badge.svg\" alt=\"Open In Colab\"/></a>"
      ]
    },
    {
      "cell_type": "code",
      "execution_count": null,
      "metadata": {
        "colab": {
          "base_uri": "https://localhost:8080/"
        },
        "id": "FHj7QeYKas60",
        "outputId": "4e00bff5-6a85-4264-8df8-563c1c701316"
      },
      "outputs": [
        {
          "output_type": "stream",
          "name": "stdout",
          "text": [
            "47\n"
          ]
        }
      ],
      "source": [
        "# 052\n",
        "\n",
        "import random\n",
        "\n",
        "num = random.randint(1,100)\n",
        "print(num)"
      ]
    },
    {
      "cell_type": "markdown",
      "source": [
        "# 리스트에서 값 랜덤추출\n",
        "\n",
        "    random.choice(리스트)"
      ],
      "metadata": {
        "id": "BOYG76r2bxLa"
      }
    },
    {
      "cell_type": "code",
      "source": [
        "# 053\n",
        "\n",
        "import random\n",
        "\n",
        "fruits = [\"apple\", \"banana\", \"orange\", \"pineapple\", \"mango\"]\n",
        "\n",
        "f = random.choice(fruits)\n",
        "print(f)"
      ],
      "metadata": {
        "colab": {
          "base_uri": "https://localhost:8080/"
        },
        "id": "wSoO4mUmbnLr",
        "outputId": "daa40fbb-466c-420f-dc3e-8ae393e44636"
      },
      "execution_count": null,
      "outputs": [
        {
          "output_type": "stream",
          "name": "stdout",
          "text": [
            "banana\n"
          ]
        }
      ]
    },
    {
      "cell_type": "code",
      "source": [
        "# 054\n",
        "\n",
        "import random\n",
        "hort = [\"h\", \"t\"]\n",
        "answer = random.choice(hort)\n",
        "\n",
        "user = input(\"Choose heads or tails (h/t) : \")\n",
        "\n",
        "if user == answer:\n",
        "  print(\"You win\")\n",
        "\n",
        "else:\n",
        "  print(\"Bad luck\")\n",
        "\n",
        "print(f\"Computer selected {answer}.\")\n"
      ],
      "metadata": {
        "colab": {
          "base_uri": "https://localhost:8080/"
        },
        "id": "A856EIuGcLmN",
        "outputId": "be148ae3-123d-4ea8-f9ff-4eafc4c33543"
      },
      "execution_count": null,
      "outputs": [
        {
          "output_type": "stream",
          "name": "stdout",
          "text": [
            "Choose heads or tails (h/t) : t\n",
            "You win\n",
            "Computer selected t.\n"
          ]
        }
      ]
    },
    {
      "cell_type": "code",
      "source": [
        "# 055\n",
        "\n",
        "import random \n",
        "\n",
        "num = random.randint(1,5)\n",
        "num2 = int(input(\"Pick a number between 1 and 5 : \"))\n",
        "\n",
        "if num == num2:\n",
        "  print(\"Well done.\")\n",
        "\n",
        "elif num > num2:\n",
        "  num = int(input(\"Too low.Pick a second number: \"))\n",
        "  if num == num2:\n",
        "    print(\"Correct.\")\n",
        "  else:\n",
        "    print(\"You lose.\")\n",
        "\n",
        "else:\n",
        "  num2 = int(input(\"Too high.Pick a second number: \"))\n",
        "  if num == num2:\n",
        "    print(\"Correct.\")\n",
        "  else:\n",
        "    print(\"You lose.\")\n",
        "\n",
        "\n",
        "# 이 풀이가 좀 더 낫다."
      ],
      "metadata": {
        "colab": {
          "base_uri": "https://localhost:8080/"
        },
        "id": "N56Kq42Rf0bh",
        "outputId": "eb62fd24-354c-4241-fc8c-2ee73fc58c31"
      },
      "execution_count": null,
      "outputs": [
        {
          "output_type": "stream",
          "name": "stdout",
          "text": [
            "Pick a number between 1 and 5 : 5\n",
            "Too high.Pick a second number: 3\n",
            "Correct.\n"
          ]
        }
      ]
    },
    {
      "cell_type": "code",
      "source": [
        "# 055 - 2\n",
        "\n",
        "import random \n",
        "\n",
        "num = random.randint(1,5)\n",
        "num2 = int(input(\"Pick a number between 1 and 5 : \"))\n",
        "\n",
        "if num == num2:\n",
        "  print(\"Well done.\")\n",
        "\n",
        "elif num > num2:\n",
        "  num2 = int(input(\"Too low.Pick a second number: \"))\n",
        "\n",
        "else:\n",
        "  num2 = int(input(\"Too high.Pick a second number: \"))\n",
        "\n",
        "if num == num2:\n",
        "  print(\"Correct.\")\n",
        "else:\n",
        "  print(\"You lose.\")\n"
      ],
      "metadata": {
        "colab": {
          "base_uri": "https://localhost:8080/"
        },
        "id": "SQDARSHerg4P",
        "outputId": "6bfbe1a3-ba6a-400b-d162-8620831364b4"
      },
      "execution_count": null,
      "outputs": [
        {
          "output_type": "stream",
          "name": "stdout",
          "text": [
            "Pick a number between 1 and 5 : 5\n",
            "Too high.Pick a second number: 1\n",
            "Correct.\n"
          ]
        }
      ]
    },
    {
      "cell_type": "code",
      "source": [
        "#056\n",
        "\n",
        "import random\n",
        "\n",
        "num = random.randint(1,10)\n",
        "num2 = int(input(\"Enter a number between 1 and 10: \"))\n",
        "\n",
        "while num != num2:\n",
        "  num2 = int(input(\"Enter a number between 1 and 10 again : \"))"
      ],
      "metadata": {
        "colab": {
          "base_uri": "https://localhost:8080/"
        },
        "id": "tVQbyJ2Ug03A",
        "outputId": "54d07b49-f7ba-4e56-97c1-19aad5b367cb"
      },
      "execution_count": null,
      "outputs": [
        {
          "name": "stdout",
          "output_type": "stream",
          "text": [
            "Enter a number between 1 and 10: 5\n",
            "Enter a number between 1 and 10 again : 3\n",
            "Enter a number between 1 and 10 again : 1\n",
            "Enter a number between 1 and 10 again : 6\n",
            "Enter a number between 1 and 10 again : 7\n",
            "Enter a number between 1 and 10 again : 8\n",
            "Enter a number between 1 and 10 again : 9\n",
            "Enter a number between 1 and 10 again : 10\n"
          ]
        }
      ]
    },
    {
      "cell_type": "code",
      "source": [
        "# 056 - 2\n",
        "\n",
        "import random\n",
        "\n",
        "num = random.randint(1,10)\n",
        "correct = False   # 일단 '정답이 아니다'라고 설정\n",
        "\n",
        "while correct == False:\n",
        "  user = int(input(\"Enter a number: \"))\n",
        "  if num == user:\n",
        "    correct = True   # 정답을 맞추면 '정답이 맞다'로 변수를 바꾸고 while문을 빠져나가게 한다."
      ],
      "metadata": {
        "id": "WdXu7_956v9E"
      },
      "execution_count": null,
      "outputs": []
    },
    {
      "cell_type": "code",
      "source": [
        "# 057\n",
        "\n",
        "import random\n",
        "\n",
        "num = random.randint(1,10)\n",
        "num2 = int(input(\"Enter a number between 1 and 10: \"))\n",
        "\n",
        "while num != num2:\n",
        "  if num > num2:\n",
        "    num2 = int(input(\"It's too low. Enter another number between 1 and 10 : \"))\n",
        "  else:\n",
        "    num2 = int(input(\"It's too high. Enter another number between 1 and 10 : \"))"
      ],
      "metadata": {
        "colab": {
          "base_uri": "https://localhost:8080/"
        },
        "id": "8Fx_AH9Thn-Z",
        "outputId": "338fd07d-ee37-4a11-a58e-51a9382a09b7"
      },
      "execution_count": null,
      "outputs": [
        {
          "name": "stdout",
          "output_type": "stream",
          "text": [
            "Enter a number between 1 and 10: 1\n",
            "It's too low. Enter another number between 1 and 10 : 2\n",
            "It's too low. Enter another number between 1 and 10 : 3\n",
            "It's too low. Enter another number between 1 and 10 : 4\n",
            "It's too low. Enter another number between 1 and 10 : 5\n",
            "It's too low. Enter another number between 1 and 10 : 6\n",
            "It's too low. Enter another number between 1 and 10 : 7\n",
            "It's too low. Enter another number between 1 and 10 : 8\n",
            "It's too low. Enter another number between 1 and 10 : 10\n",
            "It's too high. Enter another number between 1 and 10 : 9\n"
          ]
        }
      ]
    },
    {
      "cell_type": "code",
      "source": [
        "# 057\n",
        "\n",
        "import random\n",
        "\n",
        "num = random.randint(1,10)\n",
        "correct = False\n",
        "\n",
        "while correct == False:\n",
        "  num2 = int(input(\"Enter a number between 1 and 10 : \"))\n",
        "  if num > num2:\n",
        "    print(\"Too low.\")\n",
        "  elif num < num2:\n",
        "    print(\"Too high.\")\n",
        "  else:\n",
        "    correct = True"
      ],
      "metadata": {
        "id": "3bRCRP7J7RFB"
      },
      "execution_count": null,
      "outputs": []
    },
    {
      "cell_type": "code",
      "source": [
        "# 058\n",
        "\n",
        "import random\n",
        "\n",
        "score = 0\n",
        "\n",
        "for i in range(5):\n",
        "  num1 = random.randint(1,9)\n",
        "  num2 = random.randint(1,9)\n",
        "  print(f\"Q1. {num1} + {num2} = ?\")\n",
        "  user = int(input(\"Answer: \"))\n",
        "  if user == num1+num2:\n",
        "    score += 1\n",
        "  else:\n",
        "    pass\n",
        "\n",
        "print(f\"Your score is {score}\")"
      ],
      "metadata": {
        "colab": {
          "base_uri": "https://localhost:8080/"
        },
        "id": "IqhTrI78ivsA",
        "outputId": "b401e917-7be3-4804-fb27-3713cf17be6e"
      },
      "execution_count": null,
      "outputs": [
        {
          "output_type": "stream",
          "name": "stdout",
          "text": [
            "Q1. 4 + 9 = ?\n",
            "Answer: 13\n",
            "Q1. 7 + 1 = ?\n",
            "Answer: 2\n",
            "Q1. 6 + 6 = ?\n",
            "Answer: 12\n",
            "Q1. 1 + 4 = ?\n",
            "Answer: 5\n",
            "Q1. 4 + 9 = ?\n",
            "Answer: 13\n",
            "Your score is 4\n"
          ]
        }
      ]
    },
    {
      "cell_type": "code",
      "source": [
        "# 059\n",
        "\n",
        "import random\n",
        "\n",
        "color = [\"Red\", \"Yellow\", \"Green\", \"Blue\", \"Black\"]\n",
        "com = random.choice(color)\n",
        "user = input(\"[Red / Yellow / Green / Blue / Black]\\nPick one: \")\n",
        "\n",
        "while com != user:\n",
        "  if com == \"Red\":\n",
        "    user = input(\"Your face is RED with anger. Try again : \")\n",
        "  elif com == \"Yellow\":\n",
        "    user = input(\"I like YELLOW flower. Try again: \")\n",
        "  elif com == \"Green\":\n",
        "    user = input(\"Green make me feel calm down. Try again: \")\n",
        "  elif com == \"Blue\":\n",
        "    user == input(\"You are probably feeling BLUE right now. Try again: \")\n",
        "  else:\n",
        "    user == input(\"Have you watched 'BLACK panther2'? Try again: \")\n",
        "\n",
        "print(\"Well done.\")"
      ],
      "metadata": {
        "colab": {
          "base_uri": "https://localhost:8080/"
        },
        "id": "JjCGclVklmzv",
        "outputId": "a9f5fcc5-3ac7-4629-c95d-d1ebd9b456de"
      },
      "execution_count": null,
      "outputs": [
        {
          "output_type": "stream",
          "name": "stdout",
          "text": [
            "[Red / Yellow / Green / Blue / Black]\n",
            "Pick one: Red\n",
            "Green make me feel calm down. Try again: Blue\n",
            "Green make me feel calm down. Try again: Green\n",
            "Well done.\n"
          ]
        }
      ]
    }
  ]
}