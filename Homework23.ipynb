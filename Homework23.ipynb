{
  "cells": [
    {
      "cell_type": "markdown",
      "metadata": {
        "id": "view-in-github",
        "colab_type": "text"
      },
      "source": [
        "<a href=\"https://colab.research.google.com/github/yesolcho/Python-class/blob/main/Homework23.ipynb\" target=\"_parent\"><img src=\"https://colab.research.google.com/assets/colab-badge.svg\" alt=\"Open In Colab\"/></a>"
      ]
    },
    {
      "cell_type": "code",
      "execution_count": null,
      "metadata": {
        "id": "3LDK3Msk9oPJ",
        "outputId": "4397e018-8eae-4e85-f889-7561d9b81d35"
      },
      "outputs": [
        {
          "name": "stdout",
          "output_type": "stream",
          "text": [
            "Length of your first name is 3\n",
            "Length of your surname is 9\n",
            "Length of your full name is 13\n"
          ]
        }
      ],
      "source": [
        "# 080\n",
        "\n",
        "name = input(\"Enter your first name: \")\n",
        "\n",
        "print(f\"Length of your first name is {len(name)}\")\n",
        "\n",
        "surname = input(\"Enter you surname: \")\n",
        "\n",
        "print(f\"Length of your surname is {len(surname)}\")\n",
        "\n",
        "full = name+\" \"+surname\n",
        "\n",
        "print(f\"Length of your full name is {len(full)}\")\n",
        "\n"
      ]
    },
    {
      "cell_type": "code",
      "execution_count": null,
      "metadata": {
        "id": "2Qpr_ulo9oPL",
        "outputId": "d1bedcaf-b71e-4e24-b899-2e472c20d780"
      },
      "outputs": [
        {
          "name": "stdout",
          "output_type": "stream",
          "text": [
            "m-a-t-h-"
          ]
        }
      ],
      "source": [
        "# 081\n",
        "\n",
        "sub = input(\"Enter your favorite school subject: \")\n",
        "\n",
        "for i in sub:\n",
        "    print(i+\"-\", end=\"\")"
      ]
    },
    {
      "cell_type": "code",
      "execution_count": null,
      "metadata": {
        "id": "JJ-Atqxk9oPL",
        "outputId": "42faecdb-90b5-4bcf-ad2d-974b7af1bf56"
      },
      "outputs": [
        {
          "name": "stdout",
          "output_type": "stream",
          "text": [
            "바람이 스밀 때 정신은 점점 쇠락하여지나 가슴에는 비애의 싹이 돋기 시작한다.\n",
            "밀 때 정신은 \n"
          ]
        }
      ],
      "source": [
        "# 082\n",
        "\n",
        "p = \"바람이 스밀 때 정신은 점점 쇠락하여지나 가슴에는 비애의 싹이 돋기 시작한다.\"\n",
        "print(p)\n",
        "\n",
        "start = int(input(\"Enter starting point: \"))\n",
        "end = int(input(\"Enter ending point: \"))\n",
        "\n",
        "print(p[start:end])"
      ]
    },
    {
      "cell_type": "code",
      "execution_count": null,
      "metadata": {
        "id": "Ks5K373R9oPL",
        "outputId": "b45957b3-1b54-4e34-c001-88d1be715edc"
      },
      "outputs": [
        {
          "name": "stdout",
          "output_type": "stream",
          "text": [
            "APPLE\n"
          ]
        }
      ],
      "source": [
        "# 083\n",
        "\n",
        "user = input(\"Enter a word in upper case: \")\n",
        "\n",
        "while user.islower():\n",
        "    user = input(\"Try again: \")\n",
        "\n",
        "print(user)"
      ]
    },
    {
      "cell_type": "code",
      "execution_count": null,
      "metadata": {
        "id": "Vkr4GhDv9oPM",
        "outputId": "0306a2ac-7a17-47ed-812d-9abacfefcffc"
      },
      "outputs": [
        {
          "name": "stdout",
          "output_type": "stream",
          "text": [
            "SW3 1k24\n"
          ]
        }
      ],
      "source": [
        "# 084 *\n",
        "\n",
        "user = input(\"Enter your postcode: \")\n",
        "\n",
        "print(user[0:2].upper()+user[2:])\n",
        "\n",
        "# 대소문자 메서드는 원본 문자열 자체를 수정해 주지 않는다. 출력만 바꿔서 해줌!\n",
        "# replace()함수로 문자열을 바꿀 수 있다.\n"
      ]
    },
    {
      "cell_type": "code",
      "execution_count": null,
      "metadata": {
        "id": "D0P23I7u9oPM",
        "outputId": "15eef4d9-3825-42d9-a9c2-cdc51c4536ff"
      },
      "outputs": [
        {
          "name": "stdout",
          "output_type": "stream",
          "text": [
            "2\n"
          ]
        }
      ],
      "source": [
        "# 085\n",
        "\n",
        "vowel = [\"a\",\"e\",\"i\",\"o\",\"u\"]\n",
        "name = input(\"Enter your name: \")\n",
        "c = 0\n",
        "\n",
        "for i in name:\n",
        "    if i in vowel:\n",
        "        c += 1\n",
        "\n",
        "print(c)\n"
      ]
    },
    {
      "cell_type": "code",
      "execution_count": null,
      "metadata": {
        "id": "qqEY0_AX9oPM"
      },
      "outputs": [],
      "source": [
        "# 086\n",
        "\n",
        "pass = input(\"Enter a new password: \")\n",
        "pass2 = input(\"Enter a new password again: \")\n",
        "\n",
        "if pass == pass2:\n",
        "    print('Thank you.')\n",
        "\n",
        "elif pass.lower() == pass.lower():\n",
        "  print(\"They must be the same case.\")\n",
        "\n",
        "else:\n",
        "  print(\"Incorrect.\")\n"
      ]
    },
    {
      "cell_type": "code",
      "execution_count": null,
      "metadata": {
        "id": "HdfYp8Uq9oPM",
        "outputId": "e4ed7c9f-c856-4f63-af0f-00d47a237a33"
      },
      "outputs": [
        {
          "name": "stdout",
          "output_type": "stream",
          "text": [
            "o\n",
            "l\n",
            "l\n",
            "e\n",
            "H\n"
          ]
        }
      ],
      "source": [
        "# 087\n",
        "\n",
        "user = input(\"Enter a word: \")\n",
        "\n",
        "for i in range(len(user)):\n",
        "    print(user[len(user)-1-i])"
      ]
    }
  ],
  "metadata": {
    "kernelspec": {
      "display_name": "Python 3.9.13 ('base')",
      "language": "python",
      "name": "python3"
    },
    "language_info": {
      "codemirror_mode": {
        "name": "ipython",
        "version": 3
      },
      "file_extension": ".py",
      "mimetype": "text/x-python",
      "name": "python",
      "nbconvert_exporter": "python",
      "pygments_lexer": "ipython3",
      "version": "3.9.13"
    },
    "orig_nbformat": 4,
    "vscode": {
      "interpreter": {
        "hash": "42a3cfd936dca6cd9134016eb9598fa6c0736d544a7437139bac2f86277545e6"
      }
    },
    "colab": {
      "provenance": [],
      "include_colab_link": true
    }
  },
  "nbformat": 4,
  "nbformat_minor": 0
}