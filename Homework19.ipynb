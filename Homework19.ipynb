{
  "cells": [
    {
      "cell_type": "markdown",
      "metadata": {
        "id": "view-in-github",
        "colab_type": "text"
      },
      "source": [
        "<a href=\"https://colab.research.google.com/github/yesolcho/Python-class/blob/main/Homework19.ipynb\" target=\"_parent\"><img src=\"https://colab.research.google.com/assets/colab-badge.svg\" alt=\"Open In Colab\"/></a>"
      ]
    },
    {
      "cell_type": "code",
      "execution_count": null,
      "metadata": {
        "id": "d6p7WSejj0Yb",
        "outputId": "47ace226-7bfe-4bfe-8189-35ba171aa0e6"
      },
      "outputs": [
        {
          "name": "stdout",
          "output_type": "stream",
          "text": [
            "Ven\n",
            "Ven\n",
            "Ven\n"
          ]
        }
      ],
      "source": [
        "# 035\n",
        "\n",
        "name = input(\"Enter your name: \")\n",
        "\n",
        "for i in range(3):\n",
        "    print(name)"
      ]
    },
    {
      "cell_type": "code",
      "execution_count": null,
      "metadata": {
        "id": "jckyVk1Yj0Yd",
        "outputId": "95e59a25-21c1-4ed3-a0c0-d3f4fb169032"
      },
      "outputs": [
        {
          "name": "stdout",
          "output_type": "stream",
          "text": [
            "Ven\n",
            "Ven\n",
            "Ven\n",
            "Ven\n",
            "Ven\n",
            "Ven\n",
            "Ven\n",
            "Ven\n"
          ]
        }
      ],
      "source": [
        "# 036\n",
        "\n",
        "name = input(\"Enter your name: \")\n",
        "num = int(input(\"Enter a number: \"))\n",
        "\n",
        "for i in range(num):\n",
        "    print(name)"
      ]
    },
    {
      "cell_type": "code",
      "execution_count": null,
      "metadata": {
        "id": "WhF5cZRxj0Ye",
        "outputId": "9586681f-ee4b-4a3c-8324-12125a901742"
      },
      "outputs": [
        {
          "name": "stdout",
          "output_type": "stream",
          "text": [
            "V\n",
            "e\n",
            "n\n"
          ]
        }
      ],
      "source": [
        "# 037\n",
        "\n",
        "name = input(\"Enter your name: \")\n",
        "\n",
        "for i in name:\n",
        "    print(i)"
      ]
    },
    {
      "cell_type": "code",
      "execution_count": null,
      "metadata": {
        "id": "wGs5lMfIj0Ye",
        "outputId": "ead4a92c-6203-46ec-eb5f-a37978d064fa"
      },
      "outputs": [
        {
          "name": "stdout",
          "output_type": "stream",
          "text": [
            "V\n",
            "e\n",
            "n\n",
            "V\n",
            "e\n",
            "n\n",
            "V\n",
            "e\n",
            "n\n"
          ]
        }
      ],
      "source": [
        "# 038\n",
        "\n",
        "name = input(\"Enter your name: \")\n",
        "num = int(input(\"Enter a number: \"))\n",
        "\n",
        "for i in range(num):\n",
        "    for j in name:\n",
        "        print(j)"
      ]
    },
    {
      "cell_type": "code",
      "execution_count": null,
      "metadata": {
        "id": "YZ2d8q9zj0Ye",
        "outputId": "b6e76c17-bf2b-4eda-9288-5a1662fcc53e"
      },
      "outputs": [
        {
          "name": "stdout",
          "output_type": "stream",
          "text": [
            "1x1=1\n",
            "1x2=2\n",
            "1x3=3\n",
            "1x4=4\n",
            "1x5=5\n",
            "1x6=6\n",
            "1x7=7\n",
            "1x8=8\n",
            "1x9=9\n",
            "2x1=2\n",
            "2x2=4\n",
            "2x3=6\n",
            "2x4=8\n",
            "2x5=10\n",
            "2x6=12\n",
            "2x7=14\n",
            "2x8=16\n",
            "2x9=18\n",
            "3x1=3\n",
            "3x2=6\n",
            "3x3=9\n",
            "3x4=12\n",
            "3x5=15\n",
            "3x6=18\n",
            "3x7=21\n",
            "3x8=24\n",
            "3x9=27\n",
            "4x1=4\n",
            "4x2=8\n",
            "4x3=12\n",
            "4x4=16\n",
            "4x5=20\n",
            "4x6=24\n",
            "4x7=28\n",
            "4x8=32\n",
            "4x9=36\n"
          ]
        }
      ],
      "source": [
        "# 039\n",
        "\n",
        "num = int(input(\"Enter a number between 1 and 12: \"))\n",
        "\n",
        "for i in range(1,num+1):\n",
        "    for j in range (1,10):\n",
        "        print(f\"{i}x{j}={i*j}\")"
      ]
    },
    {
      "cell_type": "code",
      "execution_count": null,
      "metadata": {
        "id": "s4PPzXkLj0Yf",
        "outputId": "4d68a8fe-0252-4df3-d355-ff713a066786"
      },
      "outputs": [
        {
          "name": "stdout",
          "output_type": "stream",
          "text": [
            "number: 40\n",
            "50\n",
            "49\n",
            "48\n",
            "47\n",
            "46\n",
            "45\n",
            "44\n",
            "43\n",
            "42\n",
            "41\n",
            "40\n"
          ]
        }
      ],
      "source": [
        "# 040\n",
        "\n",
        "num = int(input(\"Enter a number below 50\"))\n",
        "\n",
        "print(\"number:\",num)\n",
        "\n",
        "for i in range(50,num-1,-1):\n",
        "    print(i)\n"
      ]
    },
    {
      "cell_type": "code",
      "execution_count": null,
      "metadata": {
        "id": "IhaJxeArj0Yf",
        "outputId": "9ef87b7e-74fa-4e29-8ec5-409fb80923c5"
      },
      "outputs": [
        {
          "name": "stdout",
          "output_type": "stream",
          "text": [
            "Too high\n"
          ]
        }
      ],
      "source": [
        "# 041\n",
        "\n",
        "name = input(\"Enter your name: \")\n",
        "num = int(input(\"Enter a number: \"))\n",
        "\n",
        "if num < 10:\n",
        "    for i in range(num):\n",
        "        print(name)\n",
        "else:\n",
        "    print(\"Too high\")"
      ]
    },
    {
      "cell_type": "code",
      "execution_count": null,
      "metadata": {
        "id": "-xSP0flhj0Yf",
        "outputId": "e071a881-75bc-4e7f-9baf-9923033f6c0e"
      },
      "outputs": [
        {
          "name": "stdout",
          "output_type": "stream",
          "text": [
            "3\n"
          ]
        }
      ],
      "source": [
        "# 042\n",
        "\n",
        "total = 0\n",
        "\n",
        "for i in range(5):\n",
        "    numi = int(input(\"Enter a number: \"))\n",
        "    ask = input(\"Do you want that number included?\\n1. do\\n2. do not\")\n",
        "    if ask == \"1\":\n",
        "        total += numi\n",
        "\n",
        "print(total)\n",
        "\n"
      ]
    },
    {
      "cell_type": "code",
      "execution_count": null,
      "metadata": {
        "id": "qp16x9W6j0Yf",
        "outputId": "2a854bb5-33fb-42c3-cfee-0dccbd4c6be6"
      },
      "outputs": [
        {
          "name": "stdout",
          "output_type": "stream",
          "text": [
            "I don't understand.\n"
          ]
        }
      ],
      "source": [
        "# 043\n",
        "\n",
        "direction = input(\"up or down: \")\n",
        "\n",
        "if direction == \"up\":\n",
        "    num = int(input(\"Enter top number: \"))\n",
        "    for i in range(1,num+1):\n",
        "        print(i)\n",
        "elif direction == \"down\":\n",
        "    num = int(input(\"Enter a number below 20: \"))\n",
        "    for i in range(20,num-1,-1):\n",
        "        print(i)\n",
        "else:\n",
        "    print(\"I don't understand.\")"
      ]
    },
    {
      "cell_type": "code",
      "execution_count": null,
      "metadata": {
        "id": "cYqUoaEJj0Yg",
        "outputId": "3fe496b6-8605-4cac-e6e4-b72da705145a"
      },
      "outputs": [
        {
          "name": "stdout",
          "output_type": "stream",
          "text": [
            "Ven has been invited.\n",
            "Amy has been invited.\n",
            "Andrew has been invited.\n",
            "Emily has been invited.\n"
          ]
        }
      ],
      "source": [
        "# 044\n",
        "\n",
        "people = int(input(\"How many people do you want to invite to a party? \"))\n",
        "\n",
        "if people < 10:\n",
        "    for i in range(people):\n",
        "        namei = input(\"Enter the name: \")\n",
        "        print(f\"{namei} has been invited.\")\n",
        "else:\n",
        "    print(\"Too many people\")"
      ]
    }
  ],
  "metadata": {
    "kernelspec": {
      "display_name": "Python 3.9.13 ('base')",
      "language": "python",
      "name": "python3"
    },
    "language_info": {
      "codemirror_mode": {
        "name": "ipython",
        "version": 3
      },
      "file_extension": ".py",
      "mimetype": "text/x-python",
      "name": "python",
      "nbconvert_exporter": "python",
      "pygments_lexer": "ipython3",
      "version": "3.9.13"
    },
    "orig_nbformat": 4,
    "vscode": {
      "interpreter": {
        "hash": "42a3cfd936dca6cd9134016eb9598fa6c0736d544a7437139bac2f86277545e6"
      }
    },
    "colab": {
      "provenance": [],
      "include_colab_link": true
    }
  },
  "nbformat": 4,
  "nbformat_minor": 0
}