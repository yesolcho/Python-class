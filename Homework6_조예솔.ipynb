{
  "nbformat": 4,
  "nbformat_minor": 0,
  "metadata": {
    "colab": {
      "provenance": [],
      "authorship_tag": "ABX9TyMzNoIlnVEhk12P8mwtZmOF",
      "include_colab_link": true
    },
    "kernelspec": {
      "name": "python3",
      "display_name": "Python 3"
    },
    "language_info": {
      "name": "python"
    }
  },
  "cells": [
    {
      "cell_type": "markdown",
      "metadata": {
        "id": "view-in-github",
        "colab_type": "text"
      },
      "source": [
        "<a href=\"https://colab.research.google.com/github/yesolcho/Python-class/blob/main/Homework6_%EC%A1%B0%EC%98%88%EC%86%94.ipynb\" target=\"_parent\"><img src=\"https://colab.research.google.com/assets/colab-badge.svg\" alt=\"Open In Colab\"/></a>"
      ]
    },
    {
      "cell_type": "code",
      "execution_count": null,
      "metadata": {
        "colab": {
          "base_uri": "https://localhost:8080/"
        },
        "id": "v_fpz5y9X4zI",
        "outputId": "b898eff4-8778-4a3d-ff90-da5c85254e76"
      },
      "outputs": [
        {
          "output_type": "stream",
          "name": "stdout",
          "text": [
            "{'메로나': [300, 20], '비비빅': [400, 3], '죠스바': [250, 100]}\n"
          ]
        }
      ],
      "source": [
        "#091\n",
        "\n",
        "inventory = {'메로나':[300, 20], '비비빅':[400, 3], '죠스바':[250,100]}\n",
        "\n",
        "print(inventory)"
      ]
    },
    {
      "cell_type": "code",
      "source": [
        "#092\n",
        "\n",
        "inventory = {'메로나':[300, 20], '비비빅':[400, 3], '죠스바':[250,100]}\n",
        "\n",
        "print(inventory['메로나'][0],\"원\")\n",
        "# 찾고자 하는 value값의 키 값을 넣어라."
      ],
      "metadata": {
        "colab": {
          "base_uri": "https://localhost:8080/"
        },
        "id": "oUXLV0S4YPHB",
        "outputId": "1eb43a15-8364-41ad-9cf6-ddd8cc91e7de"
      },
      "execution_count": null,
      "outputs": [
        {
          "output_type": "stream",
          "name": "stdout",
          "text": [
            "300 원\n"
          ]
        }
      ]
    },
    {
      "cell_type": "code",
      "source": [
        "#093\n",
        "\n",
        "inventory = {'메로나':[300, 20], '비비빅':[400, 3], '죠스바':[250,100]}\n",
        "\n",
        "print(inventory['메로나'][1],\"개\")"
      ],
      "metadata": {
        "colab": {
          "base_uri": "https://localhost:8080/"
        },
        "id": "al09a-x-ZL50",
        "outputId": "d3ef233d-1bb6-4a14-fc6f-969ad6fd8a03"
      },
      "execution_count": null,
      "outputs": [
        {
          "output_type": "stream",
          "name": "stdout",
          "text": [
            "20 개\n"
          ]
        }
      ]
    },
    {
      "cell_type": "code",
      "source": [
        "#094\n",
        "\n",
        "inventory = {'메로나':[300,20], '비비빅':[400,3], '죠스바':[250,100]}\n",
        "\n",
        "inventory['월드콘'] = [500,70]\n",
        "\n",
        "print(inventory)"
      ],
      "metadata": {
        "colab": {
          "base_uri": "https://localhost:8080/"
        },
        "id": "ea2yj2VXbRL2",
        "outputId": "00dbc18a-54cc-4c79-ce82-7c8c2d4cb4c6"
      },
      "execution_count": null,
      "outputs": [
        {
          "output_type": "stream",
          "name": "stdout",
          "text": [
            "{'메로나': [300, 20], '비비빅': [400, 3], '죠스바': [250, 100], '월드콘': [500, 70]}\n"
          ]
        }
      ]
    },
    {
      "cell_type": "code",
      "source": [
        "#095\n",
        "\n",
        "icecream = {'탱크보이': 1200, '폴라포': 1200, '빵빠레': 1800, '월드콘': 1500, '메로나': 1000}\n",
        "\n",
        "ice = icecream.keys()\n",
        "\n",
        "print(list(ice))"
      ],
      "metadata": {
        "colab": {
          "base_uri": "https://localhost:8080/"
        },
        "id": "oJDcCUbgbftX",
        "outputId": "74ba5448-f031-4587-d0dd-e1f9b7fc43d5"
      },
      "execution_count": null,
      "outputs": [
        {
          "output_type": "stream",
          "name": "stdout",
          "text": [
            "['탱크보이', '폴라포', '빵빠레', '월드콘', '메로나']\n"
          ]
        }
      ]
    },
    {
      "cell_type": "markdown",
      "source": [
        "# 딕셔너리 Keys() 함수\n",
        "\n",
        "**a.keys()**는 딕셔너리 a의 Key만을 모아서 key로만 구성된 dict_keys([  ]) 객체를 돌려준다.\n",
        "\n",
        "리스트처럼 생긴 것 같지만 리스트가 아니다."
      ],
      "metadata": {
        "id": "GVS3-s75bxo6"
      }
    },
    {
      "cell_type": "code",
      "source": [
        "#096\n",
        "\n",
        "icecream = {'탱크보이': 1200, '폴라포': 1200, '빵빠레': 1800, '월드콘': 1500, '메로나': 1000}\n",
        "\n",
        "list(icecream.values())"
      ],
      "metadata": {
        "colab": {
          "base_uri": "https://localhost:8080/"
        },
        "id": "9cUHxAM_cVYO",
        "outputId": "38fd2ac5-2a87-422a-c023-767a0d8faa64"
      },
      "execution_count": null,
      "outputs": [
        {
          "output_type": "execute_result",
          "data": {
            "text/plain": [
              "[1200, 1200, 1800, 1500, 1000]"
            ]
          },
          "metadata": {},
          "execution_count": 17
        }
      ]
    },
    {
      "cell_type": "markdown",
      "source": [
        "# 딕셔너리 Values() 함수\n",
        "\n",
        "**a.values()**는 딕셔너리 a의 value만을 모아서 value로만 구성된 dict_values([  ]) 객체를 돌려준다."
      ],
      "metadata": {
        "id": "3TYL-C7hclbr"
      }
    },
    {
      "cell_type": "code",
      "source": [
        "#097\n",
        "\n",
        "icecream = {'탱크보이': 1200, '폴라포': 1200, '빵빠레': 1800, '월드콘': 1500, '메로나': 1000}\n",
        "\n",
        "sum(icecream.values())"
      ],
      "metadata": {
        "colab": {
          "base_uri": "https://localhost:8080/"
        },
        "id": "6TJZxaIic3zh",
        "outputId": "554b51ac-7d17-4903-cd6b-14cb5b3af484"
      },
      "execution_count": null,
      "outputs": [
        {
          "output_type": "execute_result",
          "data": {
            "text/plain": [
              "6700"
            ]
          },
          "metadata": {},
          "execution_count": 18
        }
      ]
    },
    {
      "cell_type": "code",
      "source": [
        "#098 \n",
        "\n",
        "icecream = {'탱크보이': 1200, '폴라포': 1200, '빵빠레': 1800, '월드콘': 1500, '메로나': 1000}\n",
        "new_product = {'팥빙수':2700, '아맛나':1000}\n",
        "\n",
        "icecream.update(new_product)\n",
        "\n",
        "print(icecream)"
      ],
      "metadata": {
        "colab": {
          "base_uri": "https://localhost:8080/"
        },
        "id": "rDxSjhhjdhtp",
        "outputId": "f5d7f364-8fc4-4d65-c4ec-c5ea07c4e768"
      },
      "execution_count": null,
      "outputs": [
        {
          "output_type": "stream",
          "name": "stdout",
          "text": [
            "{'탱크보이': 1200, '폴라포': 1200, '빵빠레': 1800, '월드콘': 1500, '메로나': 1000, '팥빙수': 2700, '아맛나': 1000}\n"
          ]
        }
      ]
    },
    {
      "cell_type": "markdown",
      "source": [
        "# 딕셔너리 update 함수\n",
        "\n",
        "기존 딕셔너리의 데이터를 수정하거나 추가할 때 쓰는 함수.\n",
        "\n",
        "a.update({  })"
      ],
      "metadata": {
        "id": "s3IwgNXfe2A0"
      }
    },
    {
      "cell_type": "code",
      "source": [
        "#099\n",
        "\n",
        "keys = (\"apple\", \"pear\", \"peach\")\n",
        "vals = (300, 250, 400)\n",
        "\n",
        "result = dict(zip(keys,vals))\n",
        "\n",
        "print(result)"
      ],
      "metadata": {
        "colab": {
          "base_uri": "https://localhost:8080/"
        },
        "id": "IyHbnuUcecvQ",
        "outputId": "d760b970-e9e7-4010-caeb-07c63ce2a275"
      },
      "execution_count": null,
      "outputs": [
        {
          "output_type": "stream",
          "name": "stdout",
          "text": [
            "{'apple': 300, 'pear': 250, 'peach': 400}\n"
          ]
        }
      ]
    },
    {
      "cell_type": "markdown",
      "source": [
        "# zip() 함수\n",
        "\n",
        "zip은 1, 2번째 모두 길이가 같은 객체를 받아 각각의 요소를 차례로 짝지어주는 역할을 한다. \n",
        "\n",
        "zip(객체a,객체b) "
      ],
      "metadata": {
        "id": "uoEovxvGnuLk"
      }
    },
    {
      "cell_type": "code",
      "source": [
        "#100\n",
        "\n",
        "date = ['09/05', '09/06', '09/07', '09/08', '09/09']\n",
        "close_price = [10500, 10300, 10100, 10800, 11000]\n",
        "\n",
        "close_table = dict(zip(date,close_price))\n",
        "\n",
        "print(close_table)"
      ],
      "metadata": {
        "colab": {
          "base_uri": "https://localhost:8080/"
        },
        "id": "XAFVnUzkn9ME",
        "outputId": "7ceadf9d-06ad-425d-e4a6-b6d89933a1c3"
      },
      "execution_count": null,
      "outputs": [
        {
          "output_type": "stream",
          "name": "stdout",
          "text": [
            "{'09/05': 10500, '09/06': 10300, '09/07': 10100, '09/08': 10800, '09/09': 11000}\n"
          ]
        }
      ]
    },
    {
      "cell_type": "code",
      "source": [
        "#101\n",
        "\n",
        "#답: 불(bool) 자료형"
      ],
      "metadata": {
        "id": "eGq4nbfwolKm"
      },
      "execution_count": null,
      "outputs": []
    },
    {
      "cell_type": "markdown",
      "source": [
        "#불 bool 자료형\n",
        "\n",
        "True와 False를 나타내는 자료형으로, 오직 True와 False 두 값만 가질 수 있다. 조건문의 반환값으로도 사용이 된다.\n",
        "\n",
        "\n",
        "자료형이 거짓인 경우\n",
        "- **\"\", (), {}, []** : 비어있는 문자열, 튜플, 딕셔너리, 리스트는 False\n",
        "\n",
        "- **0** : 숫자형의 0은 False\n",
        "\n",
        "- **None** : False"
      ],
      "metadata": {
        "id": "-aIjXNCHqq5E"
      }
    },
    {
      "cell_type": "code",
      "source": [
        "#102\n",
        "\n",
        "#답: False\n",
        "\n",
        "print(3 == 5)"
      ],
      "metadata": {
        "colab": {
          "base_uri": "https://localhost:8080/"
        },
        "id": "qr86aW90rmzj",
        "outputId": "696a65dc-7dcb-4ef5-ef88-9499db60d20b"
      },
      "execution_count": null,
      "outputs": [
        {
          "output_type": "stream",
          "name": "stdout",
          "text": [
            "False\n"
          ]
        }
      ]
    },
    {
      "cell_type": "code",
      "source": [
        "#103\n",
        "\n",
        "#답: True\n",
        "\n",
        "print(3 < 5)"
      ],
      "metadata": {
        "colab": {
          "base_uri": "https://localhost:8080/"
        },
        "id": "eAq4xLI5rrXw",
        "outputId": "47ce3d2d-9ac9-44a1-dabb-8e6c6c71915a"
      },
      "execution_count": null,
      "outputs": [
        {
          "output_type": "stream",
          "name": "stdout",
          "text": [
            "True\n"
          ]
        }
      ]
    },
    {
      "cell_type": "code",
      "source": [
        "#104\n",
        "\n",
        "#답: True\n",
        "\n",
        "x = 4\n",
        "print(1 < x < 5)"
      ],
      "metadata": {
        "colab": {
          "base_uri": "https://localhost:8080/"
        },
        "id": "BaGcoymqrwWb",
        "outputId": "2dc9d63b-6960-4966-f7ce-c65a73ce04ef"
      },
      "execution_count": null,
      "outputs": [
        {
          "output_type": "stream",
          "name": "stdout",
          "text": [
            "True\n"
          ]
        }
      ]
    },
    {
      "cell_type": "code",
      "source": [
        "#105\n",
        "\n",
        "#답: True\n",
        "\n",
        "print ((3 == 3)and (4 != 3))"
      ],
      "metadata": {
        "colab": {
          "base_uri": "https://localhost:8080/"
        },
        "id": "31UXhWj3r1ws",
        "outputId": "e166cc25-9278-423a-af0a-92006048e37f"
      },
      "execution_count": null,
      "outputs": [
        {
          "output_type": "stream",
          "name": "stdout",
          "text": [
            "True\n"
          ]
        }
      ]
    },
    {
      "cell_type": "code",
      "source": [
        "#106\n",
        "\n",
        "#답: '크거나 같다' 혹은 '작거나 같다'를 표시할 때는 부등호가 먼저 온 뒤 등호가 다음에 와야한다.\n",
        "\n",
        "print(3 >= 4)"
      ],
      "metadata": {
        "colab": {
          "base_uri": "https://localhost:8080/"
        },
        "id": "G4AAHjdrr96y",
        "outputId": "334e6720-0715-4ff7-fa96-e49079e9df6f"
      },
      "execution_count": null,
      "outputs": [
        {
          "output_type": "stream",
          "name": "stdout",
          "text": [
            "False\n"
          ]
        }
      ]
    },
    {
      "cell_type": "code",
      "source": [
        "#107\n",
        "\n",
        "#답: 정답확인 조건을 완료하지 못했기 때문에 아무것도 출력되지 않는다.\n",
        "\n",
        "if 4 < 3:\n",
        "    print(\"Hello World\")"
      ],
      "metadata": {
        "id": "JA6om5lHsMsv"
      },
      "execution_count": null,
      "outputs": []
    },
    {
      "cell_type": "code",
      "source": [
        "#108\n",
        "\n",
        "#답: Hi, there.\n",
        "\n",
        "if 4 < 3:\n",
        "    print(\"Hello World.\")\n",
        "else:\n",
        "    print(\"Hi, there.\")"
      ],
      "metadata": {
        "colab": {
          "base_uri": "https://localhost:8080/"
        },
        "id": "mV_KviFatSdS",
        "outputId": "11671d7f-bfaa-4af2-a0bb-cc2161f51e0c"
      },
      "execution_count": null,
      "outputs": [
        {
          "output_type": "stream",
          "name": "stdout",
          "text": [
            "Hi, there.\n"
          ]
        }
      ]
    },
    {
      "cell_type": "code",
      "source": [
        "#109 \n",
        "\n",
        "#답: 1\n",
        "2\n",
        "4\n",
        "\n",
        "if True :\n",
        "    print (\"1\")\n",
        "    print (\"2\")\n",
        "else :\n",
        "    print(\"3\")\n",
        "print(\"4\")"
      ],
      "metadata": {
        "colab": {
          "base_uri": "https://localhost:8080/"
        },
        "id": "cWs1W4LetZBP",
        "outputId": "4d376a61-a8d7-461d-bc73-4bb7aeecf443"
      },
      "execution_count": null,
      "outputs": [
        {
          "output_type": "stream",
          "name": "stdout",
          "text": [
            "1\n",
            "2\n",
            "4\n"
          ]
        }
      ]
    },
    {
      "cell_type": "code",
      "source": [
        "#110 \n",
        "\n",
        "#답: 3\n",
        "5\n",
        "\n",
        "if True :\n",
        "  if False:\n",
        "        print(\"1\")\n",
        "        print(\"2\")\n",
        "  else:\n",
        "        print(\"3\")\n",
        "else :\n",
        "    print(\"4\")\n",
        "print(\"5\")"
      ],
      "metadata": {
        "colab": {
          "base_uri": "https://localhost:8080/"
        },
        "id": "ljll21j2uAsv",
        "outputId": "a8566b91-c087-4784-f8dc-92bac2f4ebb9"
      },
      "execution_count": 1,
      "outputs": [
        {
          "output_type": "stream",
          "name": "stdout",
          "text": [
            "3\n",
            "5\n"
          ]
        }
      ]
    }
  ]
}