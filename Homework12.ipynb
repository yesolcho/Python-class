{
  "cells": [
    {
      "cell_type": "markdown",
      "metadata": {
        "id": "view-in-github",
        "colab_type": "text"
      },
      "source": [
        "<a href=\"https://colab.research.google.com/github/yesolcho/Python-class/blob/main/Homework12.ipynb\" target=\"_parent\"><img src=\"https://colab.research.google.com/assets/colab-badge.svg\" alt=\"Open In Colab\"/></a>"
      ]
    },
    {
      "cell_type": "code",
      "execution_count": null,
      "metadata": {
        "id": "v_AXX-05FkIW",
        "outputId": "4f91bfe1-6158-4b96-9e75-07f68a105292"
      },
      "outputs": [
        {
          "name": "stdout",
          "output_type": "stream",
          "text": [
            "2000.28\n",
            "3050.427\n",
            "2050.2870000000003\n",
            "1980.2772\n",
            "7501.05\n",
            "2050.2870000000003\n",
            "2050.2870000000003\n",
            "1980.2772\n",
            "15452.163\n",
            "15052.107\n",
            "15552.177\n",
            "14902.086000000001\n"
          ]
        }
      ],
      "source": [
        "# 191\n",
        "\n",
        "data = [\n",
        "    [ 2000,  3050,  2050,  1980],\n",
        "    [ 7500,  2050,  2050,  1980],\n",
        "    [15450, 15050, 15550, 14900]\n",
        "]\n",
        "\n",
        "for stock in data:\n",
        "    for price in stock:\n",
        "        print(price*1.00014)"
      ]
    },
    {
      "cell_type": "code",
      "execution_count": null,
      "metadata": {
        "id": "azE9X9VvFkIY",
        "outputId": "87b60115-2a65-4c52-ece5-ee7d92388181"
      },
      "outputs": [
        {
          "name": "stdout",
          "output_type": "stream",
          "text": [
            "2000.28\n",
            "3050.427\n",
            "2050.2870000000003\n",
            "1980.2772\n",
            "----\n",
            "7501.05\n",
            "2050.2870000000003\n",
            "2050.2870000000003\n",
            "1980.2772\n",
            "----\n",
            "15452.163\n",
            "15052.107\n",
            "15552.177\n",
            "14902.086000000001\n",
            "----\n"
          ]
        }
      ],
      "source": [
        "# 192\n",
        "\n",
        "data = [\n",
        "    [ 2000,  3050,  2050,  1980],\n",
        "    [ 7500,  2050,  2050,  1980],\n",
        "    [15450, 15050, 15550, 14900]\n",
        "]\n",
        "\n",
        "for stock in data:\n",
        "    for price in stock:\n",
        "        print(price*1.00014)\n",
        "    print(\"-\"*4)"
      ]
    },
    {
      "cell_type": "code",
      "execution_count": null,
      "metadata": {
        "id": "7XqKv7mDFkIY",
        "outputId": "cd3beaf6-b23a-4129-8d50-b2c9ad1bb36e"
      },
      "outputs": [
        {
          "name": "stdout",
          "output_type": "stream",
          "text": [
            "[2000.28, 3050.427, 2050.2870000000003, 1980.2772, 7501.05, 2050.2870000000003, 2050.2870000000003, 1980.2772, 15452.163, 15052.107, 15552.177, 14902.086000000001]\n"
          ]
        }
      ],
      "source": [
        "# 193\n",
        "\n",
        "data = [\n",
        "    [ 2000,  3050,  2050,  1980],\n",
        "    [ 7500,  2050,  2050,  1980],\n",
        "    [15450, 15050, 15550, 14900]\n",
        "]\n",
        "\n",
        "result = []\n",
        "\n",
        "for stock in data:\n",
        "    for price in stock:\n",
        "        result.append(price*1.00014)\n",
        "print(result)"
      ]
    },
    {
      "cell_type": "code",
      "execution_count": 2,
      "metadata": {
        "id": "hqboSuRtFkIY",
        "outputId": "f9fd18ca-ac41-4807-e0e4-9ddeb87cb501",
        "colab": {
          "base_uri": "https://localhost:8080/"
        }
      },
      "outputs": [
        {
          "output_type": "stream",
          "name": "stdout",
          "text": [
            "[[2000.28, 3050.427, 2050.2870000000003, 1980.2772, 7501.05, 2050.2870000000003, 2050.2870000000003, 1980.2772, 15452.163, 15052.107, 15552.177, 14902.086000000001], [2000.28, 3050.427, 2050.2870000000003, 1980.2772, 7501.05, 2050.2870000000003, 2050.2870000000003, 1980.2772, 15452.163, 15052.107, 15552.177, 14902.086000000001], [2000.28, 3050.427, 2050.2870000000003, 1980.2772, 7501.05, 2050.2870000000003, 2050.2870000000003, 1980.2772, 15452.163, 15052.107, 15552.177, 14902.086000000001]]\n"
          ]
        }
      ],
      "source": [
        "# 194\n",
        "\n",
        "data = [\n",
        "    [ 2000,  3050,  2050,  1980],\n",
        "    [ 7500,  2050,  2050,  1980],\n",
        "    [15450, 15050, 15550, 14900]\n",
        "]\n",
        "\n",
        "result = []\n",
        "\n",
        "for stock in data:\n",
        "  sub = []   # sub = []를 여기서 정의해줘야 두번째 for문이 한 바퀴 돌았을 때마다 새로운 sub 리스트가 생긴다!\n",
        "  for price in stock:\n",
        "    sub.append(price*1.00014)\n",
        "  result.append(sub)\n",
        "print(result)"
      ]
    },
    {
      "cell_type": "code",
      "execution_count": null,
      "metadata": {
        "id": "RggfntMcFkIZ",
        "outputId": "2ce6ec74-94ad-41f1-d4fb-df0af4c65970"
      },
      "outputs": [
        {
          "name": "stdout",
          "output_type": "stream",
          "text": [
            "100\n",
            "190\n",
            "310\n"
          ]
        }
      ],
      "source": [
        "# 195\n",
        "\n",
        "ohlc = [[\"open\", \"high\", \"low\", \"close\"],\n",
        "        [100, 110, 70, 100],\n",
        "        [200, 210, 180, 190],\n",
        "        [300, 310, 300, 310]]\n",
        "\n",
        "for i in range(1,len(ohlc)):\n",
        "    print(ohlc[i][3])\n",
        "\n",
        "# for i in ohlc[1:]:\n",
        "#   print(i[3])"
      ]
    },
    {
      "cell_type": "code",
      "execution_count": null,
      "metadata": {
        "id": "hsMrgWhjFkIZ",
        "outputId": "a9af67b4-7446-473a-f185-40b5f45f0dad"
      },
      "outputs": [
        {
          "name": "stdout",
          "output_type": "stream",
          "text": [
            "190\n",
            "310\n"
          ]
        }
      ],
      "source": [
        "# 196\n",
        "\n",
        "ohlc = [[\"open\", \"high\", \"low\", \"close\"],\n",
        "        [100, 110, 70, 100],\n",
        "        [200, 210, 180, 190],\n",
        "        [300, 310, 300, 310]]\n",
        "\n",
        "for i in range(1,len(ohlc)):\n",
        "    if ohlc[i][3] > 150:\n",
        "        print(ohlc[i][3])\n",
        "\n",
        "# 굳이 range를 쓰지 않아도 되는데 남발하지 말기.\n",
        "\n",
        "for i in ohlc[1:]:\n",
        "    if i[3] > 150:\n",
        "        print(i[3])"
      ]
    },
    {
      "cell_type": "code",
      "execution_count": null,
      "metadata": {
        "id": "JUbBGcMGFkIZ",
        "outputId": "6a718bfb-f1a5-487f-ca7a-8295a27e20bf"
      },
      "outputs": [
        {
          "name": "stdout",
          "output_type": "stream",
          "text": [
            "100\n",
            "310\n"
          ]
        }
      ],
      "source": [
        "# 197\n",
        "\n",
        "ohlc = [[\"open\", \"high\", \"low\", \"close\"],\n",
        "        [100, 110, 70, 100],\n",
        "        [200, 210, 180, 190],\n",
        "        [300, 310, 300, 310]]\n",
        "\n",
        "for i in range(1,len(ohlc)):\n",
        "    if ohlc[i][3] >= ohlc[i][0]:\n",
        "        print(ohlc[i][3])\n",
        "\n",
        "# 굳이 range를 쓰지 않아도 되는데 남발하지 말기.\n",
        "\n",
        "for i in ohlc[1:]:\n",
        "  if i[3] >= i[0]:\n",
        "    print(i[3])"
      ]
    },
    {
      "cell_type": "code",
      "execution_count": null,
      "metadata": {
        "id": "nT9WGJQtFkIZ",
        "outputId": "0953ce0d-43f5-4d54-b693-e145e52f1c84"
      },
      "outputs": [
        {
          "name": "stdout",
          "output_type": "stream",
          "text": [
            "[40, 30, 10]\n"
          ]
        }
      ],
      "source": [
        "# 198\n",
        "\n",
        "ohlc = [[\"open\", \"high\", \"low\", \"close\"],\n",
        "        [100, 110, 70, 100],\n",
        "        [200, 210, 180, 190],\n",
        "        [300, 310, 300, 310]]\n",
        "\n",
        "volatility = []\n",
        "\n",
        "for i in range(1,len(ohlc)):\n",
        "    volatility.append(ohlc[i][1]-ohlc[i][2])\n",
        "print(volatility)"
      ]
    },
    {
      "cell_type": "code",
      "execution_count": null,
      "metadata": {
        "id": "Vmk3-EqkFkIa",
        "outputId": "0a81aa30-0624-40ce-9621-e3be59a6f371"
      },
      "outputs": [
        {
          "name": "stdout",
          "output_type": "stream",
          "text": [
            "10\n"
          ]
        }
      ],
      "source": [
        "# 199\n",
        "\n",
        "ohlc = [[\"open\", \"high\", \"low\", \"close\"],\n",
        "        [100, 110, 70, 100],\n",
        "        [200, 210, 180, 190],\n",
        "        [300, 310, 300, 310]]\n",
        "\n",
        "for i in range(1,len(ohlc)):\n",
        "    if ohlc[i][3] > ohlc[i][0]:\n",
        "        print(ohlc[i][1]-ohlc[i][2]) \n",
        "\n",
        "# 굳이 range를 쓰지 않아도 되는데 남발하지 말기.\n",
        "\n",
        "for i in ohlc[1:]:\n",
        "  if i[3] > i[0]:\n",
        "    print(i[1] - i[2])"
      ]
    },
    {
      "cell_type": "code",
      "execution_count": null,
      "metadata": {
        "id": "51Y8iGJgFkIa",
        "outputId": "04a90baf-ae3f-436c-82d8-d9c81386fa67"
      },
      "outputs": [
        {
          "name": "stdout",
          "output_type": "stream",
          "text": [
            "0\n"
          ]
        }
      ],
      "source": [
        "# 200\n",
        "\n",
        "ohlc = [[\"open\", \"high\", \"low\", \"close\"],\n",
        "        [100, 110, 70, 100],\n",
        "        [200, 210, 180, 190],\n",
        "        [300, 310, 300, 310]]\n",
        "\n",
        "result = 0\n",
        "\n",
        "for i in range(1,len(ohlc)):\n",
        "    result = result + (ohlc[i][3]-ohlc[i][0])\n",
        "print(result)\n",
        "\n",
        "# 굳이 range를 쓰지 않아도 되는데 남발하지 말기.\n",
        "\n",
        "for i in ohlc[1:]:\n",
        "  result += (i[3]-i[0])"
      ]
    },
    {
      "cell_type": "code",
      "execution_count": null,
      "metadata": {
        "id": "HdApP3KcFkIa"
      },
      "outputs": [],
      "source": [
        "# 201\n",
        "\n",
        "def print_coins(a):\n",
        "    return \"비트코인\"\n",
        "\n",
        "# def print_coins():\n",
        "#   print(\"비트코인\")\n"
      ]
    },
    {
      "cell_type": "code",
      "execution_count": null,
      "metadata": {
        "id": "SoLhiAHxFkIa",
        "outputId": "13bcaba8-dd68-4bd4-8b31-734f80653dea"
      },
      "outputs": [
        {
          "name": "stdout",
          "output_type": "stream",
          "text": [
            "비트코인\n"
          ]
        }
      ],
      "source": [
        "# 202\n",
        "\n",
        "\n",
        "def print_coins(a):\n",
        "    return \"비트코인\"\n",
        "\n",
        "print(print_coins(1))\n",
        "\n",
        "# print_coins()"
      ]
    },
    {
      "cell_type": "code",
      "execution_count": null,
      "metadata": {
        "id": "UenW7caHFkIb",
        "outputId": "83c8f7f9-4a98-47b2-c022-1108f3847535"
      },
      "outputs": [
        {
          "name": "stdout",
          "output_type": "stream",
          "text": [
            "비트코인\n",
            "비트코인\n",
            "비트코인\n",
            "비트코인\n",
            "비트코인\n",
            "비트코인\n",
            "비트코인\n",
            "비트코인\n",
            "비트코인\n",
            "비트코인\n",
            "비트코인\n",
            "비트코인\n",
            "비트코인\n",
            "비트코인\n",
            "비트코인\n",
            "비트코인\n",
            "비트코인\n",
            "비트코인\n",
            "비트코인\n",
            "비트코인\n",
            "비트코인\n",
            "비트코인\n",
            "비트코인\n",
            "비트코인\n",
            "비트코인\n",
            "비트코인\n",
            "비트코인\n",
            "비트코인\n",
            "비트코인\n",
            "비트코인\n",
            "비트코인\n",
            "비트코인\n",
            "비트코인\n",
            "비트코인\n",
            "비트코인\n",
            "비트코인\n",
            "비트코인\n",
            "비트코인\n",
            "비트코인\n",
            "비트코인\n",
            "비트코인\n",
            "비트코인\n",
            "비트코인\n",
            "비트코인\n",
            "비트코인\n",
            "비트코인\n",
            "비트코인\n",
            "비트코인\n",
            "비트코인\n",
            "비트코인\n",
            "비트코인\n",
            "비트코인\n",
            "비트코인\n",
            "비트코인\n",
            "비트코인\n",
            "비트코인\n",
            "비트코인\n",
            "비트코인\n",
            "비트코인\n",
            "비트코인\n",
            "비트코인\n",
            "비트코인\n",
            "비트코인\n",
            "비트코인\n",
            "비트코인\n",
            "비트코인\n",
            "비트코인\n",
            "비트코인\n",
            "비트코인\n",
            "비트코인\n",
            "비트코인\n",
            "비트코인\n",
            "비트코인\n",
            "비트코인\n",
            "비트코인\n",
            "비트코인\n",
            "비트코인\n",
            "비트코인\n",
            "비트코인\n",
            "비트코인\n",
            "비트코인\n",
            "비트코인\n",
            "비트코인\n",
            "비트코인\n",
            "비트코인\n",
            "비트코인\n",
            "비트코인\n",
            "비트코인\n",
            "비트코인\n",
            "비트코인\n",
            "비트코인\n",
            "비트코인\n",
            "비트코인\n",
            "비트코인\n",
            "비트코인\n",
            "비트코인\n",
            "비트코인\n",
            "비트코인\n",
            "비트코인\n",
            "비트코인\n"
          ]
        }
      ],
      "source": [
        "# 203\n",
        "\n",
        "def print_coins(a):\n",
        "    return \"비트코인\"\n",
        "\n",
        "for i in range(100):\n",
        "    print(print_coins(i))\n",
        "\n",
        "# for i in range(100):\n",
        "#   print_coins()"
      ]
    },
    {
      "cell_type": "code",
      "execution_count": null,
      "metadata": {
        "id": "2aQI01nHFkIb",
        "outputId": "26abb83e-aaec-46d2-f975-f8991fd35292"
      },
      "outputs": [
        {
          "name": "stdout",
          "output_type": "stream",
          "text": [
            "비트코인\n",
            "비트코인\n",
            "비트코인\n",
            "비트코인\n",
            "비트코인\n",
            "비트코인\n",
            "비트코인\n",
            "비트코인\n",
            "비트코인\n",
            "비트코인\n",
            "비트코인\n",
            "비트코인\n",
            "비트코인\n",
            "비트코인\n",
            "비트코인\n",
            "비트코인\n",
            "비트코인\n",
            "비트코인\n",
            "비트코인\n",
            "비트코인\n",
            "비트코인\n",
            "비트코인\n",
            "비트코인\n",
            "비트코인\n",
            "비트코인\n",
            "비트코인\n",
            "비트코인\n",
            "비트코인\n",
            "비트코인\n",
            "비트코인\n",
            "비트코인\n",
            "비트코인\n",
            "비트코인\n",
            "비트코인\n",
            "비트코인\n",
            "비트코인\n",
            "비트코인\n",
            "비트코인\n",
            "비트코인\n",
            "비트코인\n",
            "비트코인\n",
            "비트코인\n",
            "비트코인\n",
            "비트코인\n",
            "비트코인\n",
            "비트코인\n",
            "비트코인\n",
            "비트코인\n",
            "비트코인\n",
            "비트코인\n",
            "비트코인\n",
            "비트코인\n",
            "비트코인\n",
            "비트코인\n",
            "비트코인\n",
            "비트코인\n",
            "비트코인\n",
            "비트코인\n",
            "비트코인\n",
            "비트코인\n",
            "비트코인\n",
            "비트코인\n",
            "비트코인\n",
            "비트코인\n",
            "비트코인\n",
            "비트코인\n",
            "비트코인\n",
            "비트코인\n",
            "비트코인\n",
            "비트코인\n",
            "비트코인\n",
            "비트코인\n",
            "비트코인\n",
            "비트코인\n",
            "비트코인\n",
            "비트코인\n",
            "비트코인\n",
            "비트코인\n",
            "비트코인\n",
            "비트코인\n",
            "비트코인\n",
            "비트코인\n",
            "비트코인\n",
            "비트코인\n",
            "비트코인\n",
            "비트코인\n",
            "비트코인\n",
            "비트코인\n",
            "비트코인\n",
            "비트코인\n",
            "비트코인\n",
            "비트코인\n",
            "비트코인\n",
            "비트코인\n",
            "비트코인\n",
            "비트코인\n",
            "비트코인\n",
            "비트코인\n",
            "비트코인\n",
            "비트코인\n"
          ]
        }
      ],
      "source": [
        "# 204\n",
        "\n",
        "def print_coins():\n",
        "    for i in range(100):\n",
        "        print(\"비트코인\")\n",
        "\n",
        "print_coins()"
      ]
    },
    {
      "cell_type": "code",
      "execution_count": null,
      "metadata": {
        "id": "s95oliDLFkIb",
        "outputId": "a47d5550-d501-4c23-c7cf-801f87188d5d"
      },
      "outputs": [
        {
          "ename": "NameError",
          "evalue": "name 'hello' is not defined",
          "output_type": "error",
          "traceback": [
            "\u001b[1;31m---------------------------------------------------------------------------\u001b[0m",
            "\u001b[1;31mNameError\u001b[0m                                 Traceback (most recent call last)",
            "\u001b[1;32m~\\AppData\\Local\\Temp\\ipykernel_11248\\2106526583.py\u001b[0m in \u001b[0;36m<module>\u001b[1;34m\u001b[0m\n\u001b[0;32m      1\u001b[0m \u001b[1;31m# 205\u001b[0m\u001b[1;33m\u001b[0m\u001b[1;33m\u001b[0m\u001b[0m\n\u001b[0;32m      2\u001b[0m \u001b[1;33m\u001b[0m\u001b[0m\n\u001b[1;32m----> 3\u001b[1;33m \u001b[0mhello\u001b[0m\u001b[1;33m(\u001b[0m\u001b[1;33m)\u001b[0m\u001b[1;33m\u001b[0m\u001b[1;33m\u001b[0m\u001b[0m\n\u001b[0m\u001b[0;32m      4\u001b[0m \u001b[1;32mdef\u001b[0m \u001b[0mhello\u001b[0m\u001b[1;33m(\u001b[0m\u001b[1;33m)\u001b[0m\u001b[1;33m:\u001b[0m\u001b[1;33m\u001b[0m\u001b[1;33m\u001b[0m\u001b[0m\n\u001b[0;32m      5\u001b[0m     \u001b[0mprint\u001b[0m\u001b[1;33m(\u001b[0m\u001b[1;34m\"Hi\"\u001b[0m\u001b[1;33m)\u001b[0m\u001b[1;33m\u001b[0m\u001b[1;33m\u001b[0m\u001b[0m\n",
            "\u001b[1;31mNameError\u001b[0m: name 'hello' is not defined"
          ]
        }
      ],
      "source": [
        "# 205\n",
        "\n",
        "hello()\n",
        "def hello():\n",
        "    print(\"Hi\")\n",
        "\n",
        "# 답: 함수가 정의되기 전에 함수를 호출했기 때문이다. 컴퓨터는 첫줄부터 순서대로 읽어내린다.\n",
        "# 수정: hello()를 제일 하단에 입력한다."
      ]
    },
    {
      "cell_type": "code",
      "execution_count": 3,
      "metadata": {
        "id": "127Kg07rFkIb",
        "outputId": "b54c730b-e7cb-4138-afc4-b9ec2bce3cf3",
        "colab": {
          "base_uri": "https://localhost:8080/"
        }
      },
      "outputs": [
        {
          "output_type": "stream",
          "name": "stdout",
          "text": [
            "A\n",
            "B\n",
            "C\n",
            "A\n",
            "B\n"
          ]
        }
      ],
      "source": [
        "# 206\n",
        "\n",
        "def message() :\n",
        "    print(\"A\")\n",
        "    print(\"B\")\n",
        "\n",
        "message()\n",
        "print(\"C\")\n",
        "message()\n",
        "\n",
        "#답: A\n",
        "# B\n",
        "# C\n",
        "# A\n",
        "# B\n",
        "\n",
        "# print가 아니라 return이었다면 A만 찍혀나왔겠지만 문제는 print이므로 찌꺼기는 전부 찍혀 나온다! "
      ]
    },
    {
      "cell_type": "code",
      "execution_count": null,
      "metadata": {
        "id": "ge-8AyUtFkIb",
        "outputId": "6a89705c-b5bb-45ef-a7f9-b9a5ad069106"
      },
      "outputs": [
        {
          "name": "stdout",
          "output_type": "stream",
          "text": [
            "A\n",
            "C\n",
            "B\n"
          ]
        }
      ],
      "source": [
        "# 207\n",
        "\n",
        "print(\"A\")\n",
        "\n",
        "def message() :\n",
        "    print(\"B\")\n",
        "\n",
        "print(\"C\")\n",
        "message()\n",
        "\n",
        "#답: A\n",
        "# C\n",
        "# B"
      ]
    },
    {
      "cell_type": "code",
      "execution_count": null,
      "metadata": {
        "id": "2etrwryuFkIc",
        "outputId": "18f4445a-4998-4cb7-8e9d-59ec559574b8"
      },
      "outputs": [
        {
          "name": "stdout",
          "output_type": "stream",
          "text": [
            "A\n",
            "C\n",
            "B\n",
            "E\n",
            "D\n"
          ]
        }
      ],
      "source": [
        "# 208\n",
        "\n",
        "print(\"A\")\n",
        "def message1() :\n",
        "    print(\"B\")\n",
        "print(\"C\")\n",
        "def message2() :\n",
        "    print(\"D\")\n",
        "message1()\n",
        "print(\"E\")\n",
        "message2()\n",
        "\n",
        "#답: A\n",
        "# C\n",
        "# B\n",
        "# E\n",
        "# D"
      ]
    },
    {
      "cell_type": "code",
      "execution_count": null,
      "metadata": {
        "id": "Ke6GSPZ4FkIc",
        "outputId": "a036e072-9827-4ec2-a50c-021a97a420bb"
      },
      "outputs": [
        {
          "name": "stdout",
          "output_type": "stream",
          "text": [
            "B\n",
            "A\n"
          ]
        }
      ],
      "source": [
        "# 209\n",
        "\n",
        "def message1():\n",
        "    print(\"A\")\n",
        "\n",
        "def message2():\n",
        "    print(\"B\")\n",
        "    message1()   # 함수 안에서 함수를 호출할 수 있다!\n",
        "\n",
        "message2()\n",
        "\n",
        "# 답: B \n",
        "# A"
      ]
    },
    {
      "cell_type": "code",
      "execution_count": null,
      "metadata": {
        "id": "kPlrQBMeFkIc",
        "outputId": "003070cc-bf36-4bcc-9320-31ceff441af0"
      },
      "outputs": [
        {
          "name": "stdout",
          "output_type": "stream",
          "text": [
            "B\n",
            "C\n",
            "B\n",
            "C\n",
            "B\n",
            "C\n",
            "A\n"
          ]
        }
      ],
      "source": [
        "# 210\n",
        "\n",
        "def message1 ():\n",
        "    print(\"A\")\n",
        "\n",
        "def message2():\n",
        "    print(\"B\")\n",
        "\n",
        "def message3():\n",
        "    for i in range (3) :\n",
        "        message2()\n",
        "        print(\"C\")\n",
        "    message1()\n",
        "\n",
        "message3()\n",
        "\n",
        "# 답: B \n",
        "# C \n",
        "# B \n",
        "# C \n",
        "# B \n",
        "# C \n",
        "# A \n"
      ]
    }
  ],
  "metadata": {
    "kernelspec": {
      "display_name": "Python 3.9.13 ('base')",
      "language": "python",
      "name": "python3"
    },
    "language_info": {
      "codemirror_mode": {
        "name": "ipython",
        "version": 3
      },
      "file_extension": ".py",
      "mimetype": "text/x-python",
      "name": "python",
      "nbconvert_exporter": "python",
      "pygments_lexer": "ipython3",
      "version": "3.9.13"
    },
    "orig_nbformat": 4,
    "vscode": {
      "interpreter": {
        "hash": "42a3cfd936dca6cd9134016eb9598fa6c0736d544a7437139bac2f86277545e6"
      }
    },
    "colab": {
      "provenance": [],
      "include_colab_link": true
    }
  },
  "nbformat": 4,
  "nbformat_minor": 0
}