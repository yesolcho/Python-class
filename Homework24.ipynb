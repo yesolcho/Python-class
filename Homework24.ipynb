{
  "cells": [
    {
      "cell_type": "markdown",
      "metadata": {
        "id": "view-in-github",
        "colab_type": "text"
      },
      "source": [
        "<a href=\"https://colab.research.google.com/github/yesolcho/Python-class/blob/main/Homework24.ipynb\" target=\"_parent\"><img src=\"https://colab.research.google.com/assets/colab-badge.svg\" alt=\"Open In Colab\"/></a>"
      ]
    },
    {
      "cell_type": "markdown",
      "metadata": {
        "id": "4Q8t9YdOpajK"
      },
      "source": [
        "# array 배열\n",
        "\n",
        "        from array import *\n",
        "        arrayname = array('type', [Values])\n",
        "\n",
        "type에는 i(int), f(float), l(long), d(double) 등이 들어갈 수 있다.\n",
        "\n",
        "array는 리스트나 튜플과 달리 한 가지 데이터 타입으로만 만들 수 있다. 그리고 타입을 직접 지정해줘야 한다.\n",
        "\n",
        "# array 연산자\n",
        "\n",
        "        append(), extend(), insert(), pop(), sorted(array), reverse(), remove(), count(), len(array)\n",
        "\n",
        "- pop() : 가장 마지막 원소를 제거해줌\n",
        "- remove() : 특정 원소를 제거해줌\n",
        "- sorted() : 오름차순 정렬\n",
        "- count() : 특정 원소가 몇 개 있는지 알려줌   \n"
      ]
    },
    {
      "cell_type": "code",
      "execution_count": null,
      "metadata": {
        "id": "SgKfPTscpajN",
        "outputId": "f88487d8-a245-4467-c1e2-7b1115c6923e"
      },
      "outputs": [
        {
          "name": "stdout",
          "output_type": "stream",
          "text": [
            "None\n"
          ]
        }
      ],
      "source": [
        "# 088 *\n",
        "\n",
        "from array import *\n",
        "\n",
        "arr = array('i',[])\n",
        "\n",
        "for i in range(5):\n",
        "    a = int(input(\"Enter a integer: \"))\n",
        "    arr.append(a)\n",
        "\n",
        "arr = sorted(arr)   # 연산자 ()안에 array가 들어가야 한다.\n",
        "print(arr.reverse())\n",
        "\n",
        "\n",
        "# 왜 None이 뜨지..?\n"
      ]
    },
    {
      "cell_type": "code",
      "execution_count": null,
      "metadata": {
        "id": "ixU-9UhYpajO",
        "outputId": "9d02f6ed-079f-4c71-9591-427a495acf0c"
      },
      "outputs": [
        {
          "name": "stdout",
          "output_type": "stream",
          "text": [
            "array('i', [70, 50, 6, 14, 11])\n",
            "5\n",
            "70\n",
            "50\n",
            "6\n",
            "14\n",
            "11\n"
          ]
        }
      ],
      "source": [
        "# 089\n",
        "\n",
        "from array import *\n",
        "\n",
        "arr = array('i',[])\n",
        "\n",
        "import random\n",
        "\n",
        "for i in range(5):\n",
        "    num = random.randint(1,100)\n",
        "    arr.append(num)\n",
        "\n",
        "print(arr)\n",
        "for i in arr:\n",
        "    print(i)   # array는 자체적으로 원소를 하나씩 꺼내 보여준다.\n"
      ]
    },
    {
      "cell_type": "code",
      "execution_count": null,
      "metadata": {
        "id": "lQmzpdDIpajO",
        "outputId": "aa22b6d1-3ff1-41ce-e6f2-b7ea4a5cc0f0"
      },
      "outputs": [
        {
          "name": "stdout",
          "output_type": "stream",
          "text": [
            "Outside the range.\n",
            "Thank you.\n",
            "11\n",
            "15\n",
            "16\n",
            "17\n",
            "18\n"
          ]
        }
      ],
      "source": [
        "# 090\n",
        "\n",
        "from array import *\n",
        "\n",
        "arr = array('i',[])\n",
        "\n",
        "while len(arr) < 5:\n",
        "    num = int(input(\"Enter a number: \"))\n",
        "    if 10 <= num <= 20:\n",
        "        arr.append(num)\n",
        "    else:\n",
        "        print(\"Outside the range.\")\n",
        "\n",
        "print(\"Thank you.\")\n",
        "\n",
        "for i in arr:\n",
        "    print(i)\n"
      ]
    },
    {
      "cell_type": "code",
      "execution_count": null,
      "metadata": {
        "id": "qJj7S2sIpajP",
        "outputId": "694c6ab8-1aaf-4c37-fa0a-81cf75ea88ad"
      },
      "outputs": [
        {
          "name": "stdout",
          "output_type": "stream",
          "text": [
            "array('i', [1, 1, 2, 3, 4])\n",
            "1 appears 2 times in the list.\n"
          ]
        }
      ],
      "source": [
        "# 091\n",
        "\n",
        "from array import *\n",
        "\n",
        "arr = array('i', [1,1,2,3,4])\n",
        "\n",
        "print(arr)\n",
        "\n",
        "ask = int(input(\"Enter on of numbers from the array: \"))\n",
        "print(f\"{ask} appears {arr.count(ask)} times in the list.\")"
      ]
    },
    {
      "cell_type": "code",
      "execution_count": null,
      "metadata": {
        "id": "-s4DGZCYpajP",
        "outputId": "8340017a-96bb-41e0-8d52-c12f09ccadc7"
      },
      "outputs": [
        {
          "name": "stdout",
          "output_type": "stream",
          "text": [
            "1\n",
            "4\n",
            "6\n",
            "7\n",
            "34\n",
            "51\n",
            "56\n",
            "90\n"
          ]
        }
      ],
      "source": [
        "# 092\n",
        "\n",
        "from array import *\n",
        "import random\n",
        "\n",
        "arr1 = array('i', [])\n",
        "arr2 = array('i', [])\n",
        "\n",
        "for i in range(3):\n",
        "    num = int(input(\"Enter a number: \"))\n",
        "    arr1.append(num)\n",
        "\n",
        "for i in range(5):\n",
        "    num = random.randint(1,100)\n",
        "    arr2.append(num)\n",
        "\n",
        "arr = arr1 + arr2\n",
        "\n",
        "arr = sorted(arr)\n",
        "\n",
        "for i in arr:\n",
        "    print(i)"
      ]
    },
    {
      "cell_type": "code",
      "execution_count": null,
      "metadata": {
        "id": "NNl0MT6MpajP",
        "outputId": "46466fab-eaf7-42be-9538-59d5e0832c96"
      },
      "outputs": [
        {
          "name": "stdout",
          "output_type": "stream",
          "text": [
            "[3, 4, 5, 6, 7]\n",
            "[3, 5, 6, 7]\n",
            "array('i', [4])\n"
          ]
        }
      ],
      "source": [
        "# 093\n",
        "\n",
        "from array import *\n",
        "arr = array('i',[])\n",
        "\n",
        "for i in range(5):\n",
        "    num = int(input(\"Enter a number: \"))\n",
        "    arr.append(num)\n",
        "\n",
        "arr = sorted(arr)\n",
        "print(arr)\n",
        "\n",
        "ask = int(input(\"Select one of the number: \"))\n",
        "\n",
        "arr.remove(ask)\n",
        "arr2 = array('i',[])\n",
        "arr2.append(ask)\n",
        "\n",
        "print(arr)\n",
        "print(arr2)\n",
        "\n",
        "# 왜 arr와 arr2가 출력되는 게 다른가?"
      ]
    },
    {
      "cell_type": "code",
      "execution_count": null,
      "metadata": {
        "id": "LyPxg7CxpajQ",
        "outputId": "e825cada-0911-4c0b-bd6c-ef623d38ea86"
      },
      "outputs": [
        {
          "name": "stdout",
          "output_type": "stream",
          "text": [
            "array('i', [1, 2, 3, 4, 5])\n",
            "Index of that number is 2\n"
          ]
        }
      ],
      "source": [
        "# 094\n",
        "\n",
        "from array import *\n",
        "\n",
        "arr = array('i',[1,2,3,4,5])\n",
        "print(arr)\n",
        "\n",
        "ask = int(input(\"Select one of the numbers: \"))\n",
        "\n",
        "while ask not in arr:\n",
        "    ask = int(input(\"Try again: \"))\n",
        "    \n",
        "print(f\"Index of that number is {arr.index(ask)}\")\n"
      ]
    },
    {
      "cell_type": "code",
      "execution_count": null,
      "metadata": {
        "id": "JXqkB5eUpajQ",
        "outputId": "1c9b9aee-e54d-4eb5-f00f-e1c266d6c0c4"
      },
      "outputs": [
        {
          "name": "stdout",
          "output_type": "stream",
          "text": [
            "It is not between 2~5. Try again: \n",
            "9.73\n",
            "6.48\n",
            "4.86\n",
            "3.89\n",
            "7.83\n",
            "5.22\n",
            "3.91\n",
            "3.13\n",
            "8.56\n",
            "5.71\n",
            "4.28\n",
            "3.42\n",
            "9.11\n",
            "6.08\n",
            "4.56\n",
            "3.65\n",
            "9.63\n",
            "6.42\n",
            "4.82\n",
            "3.85\n"
          ]
        }
      ],
      "source": [
        "# 095\n",
        "\n",
        "from array import *\n",
        "\n",
        "arr = array('f', [19.45, 15.66, 17.12, 18.23, 19.26])\n",
        "\n",
        "correct = []\n",
        "\n",
        "while True:\n",
        "    num = int(input(\"Enter a whole number between 2~5: \"))\n",
        "    if 2 <= num <= 5 and num not in correct:\n",
        "        correct.append(num)\n",
        "    else:\n",
        "        print(\"It is not between 2~5. Try again: \")\n",
        "    if len(correct) == 4:\n",
        "        break\n",
        "\n",
        "for i in arr:\n",
        "    for j in correct:\n",
        "        a = i/j\n",
        "        print(round(a, 2))\n",
        "\n",
        "        "
      ]
    }
  ],
  "metadata": {
    "kernelspec": {
      "display_name": "Python 3.9.13 ('base')",
      "language": "python",
      "name": "python3"
    },
    "language_info": {
      "codemirror_mode": {
        "name": "ipython",
        "version": 3
      },
      "file_extension": ".py",
      "mimetype": "text/x-python",
      "name": "python",
      "nbconvert_exporter": "python",
      "pygments_lexer": "ipython3",
      "version": "3.9.13"
    },
    "orig_nbformat": 4,
    "vscode": {
      "interpreter": {
        "hash": "42a3cfd936dca6cd9134016eb9598fa6c0736d544a7437139bac2f86277545e6"
      }
    },
    "colab": {
      "provenance": [],
      "include_colab_link": true
    }
  },
  "nbformat": 4,
  "nbformat_minor": 0
}