{
 "cells": [
  {
   "cell_type": "code",
   "execution_count": 3,
   "id": "24aaff8d",
   "metadata": {},
   "outputs": [
    {
     "name": "stdout",
     "output_type": "stream",
     "text": [
      "Hello World!\n"
     ]
    }
   ],
   "source": [
    "print(\"Hello World!\")"
   ]
  },
  {
   "cell_type": "code",
   "execution_count": 5,
   "id": "da59e7ec",
   "metadata": {},
   "outputs": [
    {
     "name": "stdout",
     "output_type": "stream",
     "text": [
      "택시를 타자\n"
     ]
    }
   ],
   "source": [
    "money = True\n",
    "\n",
    "if money == True:\n",
    "    print(\"택시를 타자\")\n",
    "else:\n",
    "    print(\"걸어가자\")"
   ]
  },
  {
   "cell_type": "code",
   "execution_count": 8,
   "id": "c16860ba",
   "metadata": {},
   "outputs": [
    {
     "name": "stdout",
     "output_type": "stream",
     "text": [
      "택시를 타자\n"
     ]
    }
   ],
   "source": [
    "money = 8000\n",
    "\n",
    "if money >= 5000: \n",
    "    print(\"택시를 타자\")\n",
    "elif money >=1000: \n",
    "    print(\"버스를 타자\")\n",
    "else:\n",
    "    print(\"걸어가자\")"
   ]
  },
  {
   "cell_type": "code",
   "execution_count": 11,
   "id": "4c815501",
   "metadata": {},
   "outputs": [
    {
     "name": "stdout",
     "output_type": "stream",
     "text": [
      "점수를 입력하시오: 79\n",
      "C학점입니다.\n"
     ]
    }
   ],
   "source": [
    "# Q. 학생의 성적을 입력 받아서\n",
    "#점수가 90 이상이면 \"A학점입니다.\"\n",
    "#점수가 80 이상이면 \"B학점입니다.\"\n",
    "#점수가 70 이상이면 \"C학점입니다.\"\n",
    "#점수가 60 이상이면 \"D학점입니다.\"\n",
    "#나머지는 모두 \"F학점입니다.\"\n",
    "\n",
    "score = input(\"점수를 입력하시오: \")\n",
    "score_int = int(score)\n",
    "\n",
    "#input함수를 int로 씌워줘도 된다!\n",
    "\n",
    "if score_int >= 90:\n",
    "    print(\"A학점입니다.\")\n",
    "elif score_int >= 80:\n",
    "    print(\"B학점입니다.\")\n",
    "elif score_int >= 70:\n",
    "    print(\"C학점입니다.\")\n",
    "elif score_int >= 60:\n",
    "    print(\"D학점입니다.\")\n",
    "else:\n",
    "    print(\"F학점입니다.\")"
   ]
  },
  {
   "cell_type": "code",
   "execution_count": 12,
   "id": "fae6b1a3",
   "metadata": {},
   "outputs": [
    {
     "name": "stdout",
     "output_type": "stream",
     "text": [
      "점수를 입력하시오: 65\n",
      "D학점입니다.\n"
     ]
    }
   ],
   "source": [
    "score = int(input(\"점수를 입력하시오: \"))\n",
    "\n",
    "if score >= 90:\n",
    "    print(\"A학점입니다.\")\n",
    "elif score >= 80:\n",
    "    print(\"B학점입니다.\")\n",
    "elif score >= 70:\n",
    "    print(\"C학점입니다.\")\n",
    "elif score >= 60:\n",
    "    print(\"D학점입니다.\")\n",
    "else:\n",
    "    print(\"F학점입니다.\")"
   ]
  },
  {
   "cell_type": "code",
   "execution_count": 14,
   "id": "aa287403",
   "metadata": {},
   "outputs": [
    {
     "name": "stdout",
     "output_type": "stream",
     "text": [
      "10\n",
      "9\n",
      "8\n",
      "7\n",
      "6\n",
      "5\n",
      "4\n",
      "3\n",
      "2\n",
      "1\n",
      "0\n"
     ]
    }
   ],
   "source": [
    "#새로운 셀: shift enter\n",
    "\n",
    "#while\n",
    "\n",
    "num = 10\n",
    "\n",
    "while num >= 0:  # num이 0보다 크거나 같을 때만 10을 찍어라.\n",
    "    print(num)\n",
    "    num = num - 1  # num에서 1뺀 것을 다시 넣고 조건에 맞으면 반복해라."
   ]
  },
  {
   "cell_type": "code",
   "execution_count": 20,
   "id": "6c3fa5e8",
   "metadata": {},
   "outputs": [
    {
     "name": "stdout",
     "output_type": "stream",
     "text": [
      "1. 덧셈 / 2. 뺄셈 / 3. 곱셈 / 4. 나눗셈 / 5. 종료\n",
      "1\n",
      "1. 덧셈 / 2. 뺄셈 / 3. 곱셈 / 4. 나눗셈 / 5. 종료\n",
      "2\n",
      "1. 덧셈 / 2. 뺄셈 / 3. 곱셈 / 4. 나눗셈 / 5. 종료\n",
      "3\n",
      "1. 덧셈 / 2. 뺄셈 / 3. 곱셈 / 4. 나눗셈 / 5. 종료\n",
      "4\n",
      "1. 덧셈 / 2. 뺄셈 / 3. 곱셈 / 4. 나눗셈 / 5. 종료\n",
      "5\n"
     ]
    }
   ],
   "source": [
    "prompt = \"1. 덧셈 / 2. 뺄셈 / 3. 곱셈 / 4. 나눗셈 / 5. 종료\"\n",
    "num = 0\n",
    "\n",
    "while num <= 4:\n",
    "    print(prompt)  #4이하면 계속 반복해서 물어보다가 5가 나오면 종료.\n",
    "    num = int(input())\n",
    "    \n",
    "\n",
    "#몇 번 반복할지 모르는 게임. while 문이 더 어울린다!"
   ]
  },
  {
   "cell_type": "code",
   "execution_count": 22,
   "id": "00ed3d8b",
   "metadata": {},
   "outputs": [
    {
     "name": "stdout",
     "output_type": "stream",
     "text": [
      "0\n",
      "1\n",
      "2\n",
      "3\n",
      "4\n",
      "5\n",
      "6\n",
      "7\n",
      "8\n",
      "9\n",
      "10\n"
     ]
    }
   ],
   "source": [
    "#while 문의 경우 반복 횟수가 정확하지 않을 경우가 많기 때문에 조건에서 뿐만이 아니라 while문 중간에 반복을 종료 시키는 방법도 필요하다.\n",
    "\n",
    "num = 0\n",
    "\n",
    "while num <= 10:  #while에 조건을 걸어서 무한반복을 못하게 하는 경우\n",
    "    print(num)\n",
    "    num = num + 1"
   ]
  },
  {
   "cell_type": "code",
   "execution_count": 23,
   "id": "823e02e9",
   "metadata": {
    "scrolled": true
   },
   "outputs": [
    {
     "name": "stdout",
     "output_type": "stream",
     "text": [
      "0\n",
      "1\n",
      "2\n",
      "3\n",
      "4\n",
      "5\n",
      "6\n",
      "7\n",
      "8\n",
      "9\n",
      "10\n"
     ]
    }
   ],
   "source": [
    "num = 0\n",
    "\n",
    "while True:   #무한반복. 아래에 탈출 지점이 필요하다.\n",
    "    print(num)\n",
    "    num = num + 1\n",
    "    \n",
    "    if num > 10: \n",
    "        break   #무한반복하다가 중간에 반복을 종료하는'break'로 빠져나간다. 위의 코드와 비교해보자!\n",
    "        "
   ]
  },
  {
   "cell_type": "code",
   "execution_count": 76,
   "id": "01560d0f",
   "metadata": {},
   "outputs": [
    {
     "name": "stdout",
     "output_type": "stream",
     "text": [
      "1683\n"
     ]
    }
   ],
   "source": [
    "# Q. while문을 사용하여 1부터 100까지의 수 중 3의 배수만의 합을 구하시오.\n",
    "\n",
    "num = 1\n",
    "sum = 0  #초기화\n",
    "\n",
    "#햄버거 시작: while 쓰자\n",
    "\n",
    "while num <= 100:\n",
    "    if num % 3 == 0:  \n",
    "        sum = sum + num  #3의 배수면 True ok!\n",
    "#만약 3의 배수가 아니라면\n",
    "    num = num + 1   # num += 1\n",
    "\n",
    "# 햄버거 끝\n",
    "\n",
    "print(sum)"
   ]
  },
  {
   "cell_type": "code",
   "execution_count": 80,
   "id": "607c03eb",
   "metadata": {},
   "outputs": [
    {
     "name": "stdout",
     "output_type": "stream",
     "text": [
      "1\n",
      "2\n",
      "3\n",
      "4\n",
      "5\n",
      "6\n",
      "7\n",
      "8\n",
      "9\n",
      "10\n"
     ]
    }
   ],
   "source": [
    "#for 문\n",
    "#보통 변수명은 i를 많이쓴다.\n",
    "\n",
    "for i in [1,2,3,4,5,6,7,8,9,10]:\n",
    "    print(i)"
   ]
  },
  {
   "cell_type": "code",
   "execution_count": 86,
   "id": "9c258631",
   "metadata": {},
   "outputs": [
    {
     "name": "stdout",
     "output_type": "stream",
     "text": [
      "1 번째 학생은 불합격입니다.\n",
      "2 번째 학생은 합격입니다.\n",
      "3 번째 학생은 불합격입니다.\n",
      "4 번째 학생은 불합격입니다.\n",
      "5 번째 학생은 합격입니다.\n"
     ]
    }
   ],
   "source": [
    "#90점 이상이 합격\n",
    "\n",
    "math = [80,90,70,70,100]\n",
    "\n",
    "j = 1  # if와 else에 둘다 걸리기 위해 밖에서\n",
    "\n",
    "for i in math:   #math리스트에서 가져와\n",
    "    if i >= 90:\n",
    "        print(j, \"번째 학생은 합격입니다.\")\n",
    "    else:\n",
    "        print(j, \"번째 학생은 불합격입니다.\")\n",
    "    j += 1"
   ]
  },
  {
   "cell_type": "code",
   "execution_count": 89,
   "id": "3fb6629e",
   "metadata": {},
   "outputs": [
    {
     "name": "stdout",
     "output_type": "stream",
     "text": [
      "2\n",
      "4\n",
      "6\n",
      "8\n",
      "10\n"
     ]
    }
   ],
   "source": [
    "# 짝수만 찍고 싶다\n",
    "\n",
    "for i in [1,2,3,4,5,6,7,8,9,10]:\n",
    "    if i%2 ==0 :\n",
    "        print(i)\n",
    "    "
   ]
  },
  {
   "cell_type": "code",
   "execution_count": 90,
   "id": "f44e0248",
   "metadata": {},
   "outputs": [
    {
     "name": "stdout",
     "output_type": "stream",
     "text": [
      "2\n",
      "4\n",
      "6\n",
      "8\n",
      "10\n"
     ]
    }
   ],
   "source": [
    "# 짝수만 찍고 싶다 => 홀수는 안 찍고 싶다.\n",
    "\n",
    "for i in [1,2,3,4,5,6,7,8,9,10]:\n",
    "    if i%2 != 0 :   #0이 아니다 !=\n",
    "        continue   #컨티뉴면 안 내려가고 다시 위로 올라감.\n",
    "    \n",
    "    print(i)"
   ]
  },
  {
   "cell_type": "code",
   "execution_count": 92,
   "id": "959ee7e6",
   "metadata": {},
   "outputs": [
    {
     "name": "stdout",
     "output_type": "stream",
     "text": [
      "1\n",
      "2\n",
      "3\n",
      "4\n",
      "5\n",
      "6\n",
      "7\n",
      "8\n",
      "9\n",
      "10\n"
     ]
    }
   ],
   "source": [
    "# range 함수 (for문과 궁합이 잘맞음)\n",
    "\n",
    "for i in range(1,11):\n",
    "    print(i)"
   ]
  },
  {
   "cell_type": "code",
   "execution_count": 95,
   "id": "1104c641",
   "metadata": {},
   "outputs": [
    {
     "name": "stdout",
     "output_type": "stream",
     "text": [
      "2 * 1 = 2\n",
      "2 * 2 = 4\n",
      "2 * 3 = 6\n",
      "2 * 4 = 8\n",
      "2 * 5 = 10\n",
      "2 * 6 = 12\n",
      "2 * 7 = 14\n",
      "2 * 8 = 16\n",
      "2 * 9 = 18\n",
      "3 * 1 = 3\n",
      "3 * 2 = 6\n",
      "3 * 3 = 9\n",
      "3 * 4 = 12\n",
      "3 * 5 = 15\n",
      "3 * 6 = 18\n",
      "3 * 7 = 21\n",
      "3 * 8 = 24\n",
      "3 * 9 = 27\n",
      "4 * 1 = 4\n",
      "4 * 2 = 8\n",
      "4 * 3 = 12\n",
      "4 * 4 = 16\n",
      "4 * 5 = 20\n",
      "4 * 6 = 24\n",
      "4 * 7 = 28\n",
      "4 * 8 = 32\n",
      "4 * 9 = 36\n",
      "5 * 1 = 5\n",
      "5 * 2 = 10\n",
      "5 * 3 = 15\n",
      "5 * 4 = 20\n",
      "5 * 5 = 25\n",
      "5 * 6 = 30\n",
      "5 * 7 = 35\n",
      "5 * 8 = 40\n",
      "5 * 9 = 45\n",
      "6 * 1 = 6\n",
      "6 * 2 = 12\n",
      "6 * 3 = 18\n",
      "6 * 4 = 24\n",
      "6 * 5 = 30\n",
      "6 * 6 = 36\n",
      "6 * 7 = 42\n",
      "6 * 8 = 48\n",
      "6 * 9 = 54\n",
      "7 * 1 = 7\n",
      "7 * 2 = 14\n",
      "7 * 3 = 21\n",
      "7 * 4 = 28\n",
      "7 * 5 = 35\n",
      "7 * 6 = 42\n",
      "7 * 7 = 49\n",
      "7 * 8 = 56\n",
      "7 * 9 = 63\n",
      "8 * 1 = 8\n",
      "8 * 2 = 16\n",
      "8 * 3 = 24\n",
      "8 * 4 = 32\n",
      "8 * 5 = 40\n",
      "8 * 6 = 48\n",
      "8 * 7 = 56\n",
      "8 * 8 = 64\n",
      "8 * 9 = 72\n",
      "9 * 1 = 9\n",
      "9 * 2 = 18\n",
      "9 * 3 = 27\n",
      "9 * 4 = 36\n",
      "9 * 5 = 45\n",
      "9 * 6 = 54\n",
      "9 * 7 = 63\n",
      "9 * 8 = 72\n",
      "9 * 9 = 81\n"
     ]
    }
   ],
   "source": [
    "# for문으로 구구단 출력하기\n",
    "\n",
    "for i in range(2,10):  # 2단부터 9단까지. i = 단\n",
    "    for j in range(1,10):   # j = 곱해지는 수\n",
    "        print(i, \"*\", j, \"=\", i*j)"
   ]
  },
  {
   "cell_type": "code",
   "execution_count": 97,
   "id": "6f09f6f2",
   "metadata": {},
   "outputs": [
    {
     "name": "stdout",
     "output_type": "stream",
     "text": [
      "2\t4\t6\t8\t10\t12\t14\t16\t18\t\n",
      "3\t6\t9\t12\t15\t18\t21\t24\t27\t\n",
      "4\t8\t12\t16\t20\t24\t28\t32\t36\t\n",
      "5\t10\t15\t20\t25\t30\t35\t40\t45\t\n",
      "6\t12\t18\t24\t30\t36\t42\t48\t54\t\n",
      "7\t14\t21\t28\t35\t42\t49\t56\t63\t\n",
      "8\t16\t24\t32\t40\t48\t56\t64\t72\t\n",
      "9\t18\t27\t36\t45\t54\t63\t72\t81\t\n"
     ]
    }
   ],
   "source": [
    "# for문으로 구구단 출력하기: 세련ver \n",
    "\n",
    "for i in range(2,10): \n",
    "    for j in range(1,10):\n",
    "        print(i*j, end = \"\\t\")  # 줄 바꾸지 말고 탭해라.\n",
    "    print()  #n단 다 돌때 줄바꿈!"
   ]
  },
  {
   "cell_type": "code",
   "execution_count": 100,
   "id": "2118b1c0",
   "metadata": {},
   "outputs": [
    {
     "name": "stdout",
     "output_type": "stream",
     "text": [
      "2\t3\t4\t5\t6\t7\t8\t9\t\n",
      "4\t6\t8\t10\t12\t14\t16\t18\t\n",
      "6\t9\t12\t15\t18\t21\t24\t27\t\n",
      "8\t12\t16\t20\t24\t28\t32\t36\t\n",
      "10\t15\t20\t25\t30\t35\t40\t45\t\n",
      "12\t18\t24\t30\t36\t42\t48\t54\t\n",
      "14\t21\t28\t35\t42\t49\t56\t63\t\n",
      "16\t24\t32\t40\t48\t56\t64\t72\t\n",
      "18\t27\t36\t45\t54\t63\t72\t81\t\n"
     ]
    }
   ],
   "source": [
    "# for문으로 구구단 출력하기: 세련ver2\n",
    "\n",
    "for i in range(1,10): \n",
    "    for j in range(2,10):\n",
    "        print(i*j, end = \"\\t\")\n",
    "    print()"
   ]
  },
  {
   "cell_type": "code",
   "execution_count": 111,
   "id": "9248aaf3",
   "metadata": {},
   "outputs": [
    {
     "name": "stdout",
     "output_type": "stream",
     "text": [
      "2550\n"
     ]
    }
   ],
   "source": [
    "# range를 사용하여 100 이하의 수 중 짝수들만의 합계를 구하세요.\n",
    "\n",
    "sum = 0\n",
    "\n",
    "for i in range(1,101):\n",
    "    if i % 2 == 0:\n",
    "        sum += i \n",
    "    \n",
    "print(sum)"
   ]
  },
  {
   "cell_type": "code",
   "execution_count": 112,
   "id": "7579335e",
   "metadata": {},
   "outputs": [
    {
     "name": "stdout",
     "output_type": "stream",
     "text": [
      "2550\n"
     ]
    }
   ],
   "source": [
    "sum = 0\n",
    "\n",
    "for i in range(0,101,2):\n",
    "    sum += i \n",
    "    \n",
    "print(sum)"
   ]
  },
  {
   "cell_type": "code",
   "execution_count": 116,
   "id": "d3b14747",
   "metadata": {},
   "outputs": [
    {
     "name": "stdout",
     "output_type": "stream",
     "text": [
      "[1, 2, 3, 4]\n",
      "[1, 2, 3, 4]\n",
      "[2, 4, 6, 8]\n",
      "[2, 4]\n"
     ]
    }
   ],
   "source": [
    "#List Comprehension\n",
    "\n",
    "list1 = [1,2,3,4]\n",
    "print(list1)\n",
    "\n",
    "\n",
    "list2 = [num           for num in list1]  # 리스트1에서 항목을 하나씩 가져와 num에 넣는다.\n",
    "print(list2)\n",
    "\n",
    "\n",
    "list3 = [num*2           for num in list1]  # 리스트를 만들기 전에 하나씩 곱해 만든다.\n",
    "print(list3)\n",
    "\n",
    "\n",
    "list4 = [num          for num in list1          if num % 2 == 0]  #리스트에서 꺼내서 조건에 해당하는 것만 num에 넣는다.\n",
    "print(list4)\n"
   ]
  },
  {
   "cell_type": "code",
   "execution_count": 121,
   "id": "b816b4fd",
   "metadata": {},
   "outputs": [
    {
     "name": "stdout",
     "output_type": "stream",
     "text": [
      "합격입니다.\n",
      "불합격입니다.\n"
     ]
    }
   ],
   "source": [
    "#if 고급형: if를 표현하는 또 다른 방법\n",
    "\n",
    "num = 70\n",
    "\n",
    "if num >= 70:\n",
    "    print(\"합격입니다.\")\n",
    "else:\n",
    "    print(\"불합격입니다.\")\n",
    "    \n",
    "    \n",
    "print(\"합격입니다.\"    if num >= 80    else \"불합격입니다.\") \n",
    "#앞이 T 케이스, 뒤가 F 케이스"
   ]
  },
  {
   "cell_type": "code",
   "execution_count": 123,
   "id": "c8d538cb",
   "metadata": {
    "scrolled": true
   },
   "outputs": [
    {
     "name": "stdout",
     "output_type": "stream",
     "text": [
      "number1: 4\n",
      "number2: 7\n",
      "number3: 2\n",
      "7\n"
     ]
    }
   ],
   "source": [
    "# Q1\n",
    "\n",
    "a = int(input(\"number1: \"))\n",
    "b = int(input(\"number2: \"))\n",
    "c = int(input(\"number3: \"))\n",
    "\n",
    "if a>b and a>c:\n",
    "    print(a)\n",
    "elif b>a and b>c:\n",
    "    print(b)\n",
    "else:\n",
    "    print(c)\n",
    "\n"
   ]
  },
  {
   "cell_type": "code",
   "execution_count": 132,
   "id": "3be8e1c0",
   "metadata": {},
   "outputs": [
    {
     "name": "stdout",
     "output_type": "stream",
     "text": [
      "주민번호: 123456-2123456\n",
      "여자\n"
     ]
    }
   ],
   "source": [
    "#Q2\n",
    "\n",
    "a = input(\"주민번호: \")\n",
    "\n",
    "if a[7] == \"2\" or a[7] == \"4\":\n",
    "    print(\"여자\")\n",
    "else:\n",
    "    print(\"남자\")\n",
    "\n",
    "#문자숫자 통일좀해...ㅜㅜ"
   ]
  },
  {
   "cell_type": "code",
   "execution_count": 139,
   "id": "2dc02736",
   "metadata": {},
   "outputs": [
    {
     "name": "stdout",
     "output_type": "stream",
     "text": [
      "d\n",
      "c\n",
      "p\n"
     ]
    }
   ],
   "source": [
    "#Q3\n",
    "\n",
    "리스트 = ['dog', 'cat', 'parrot']\n",
    "\n",
    "for i in 리스트:\n",
    "    print(i[0])\n",
    "    \n",
    "#이거 그림 어떻게 그리지?"
   ]
  },
  {
   "cell_type": "code",
   "execution_count": 136,
   "id": "0be93434",
   "metadata": {},
   "outputs": [
    {
     "name": "stdout",
     "output_type": "stream",
     "text": [
      "100\n",
      "190\n",
      "310\n"
     ]
    }
   ],
   "source": [
    "#Q4\n",
    "\n",
    "ohlc = [[\"open\", \"hight\", \"low\", \"close\"],\n",
    "        [100, 110, 70, 100],\n",
    "        [200, 210, 180, 190],\n",
    "        [300,310, 300, 310]]\n",
    "\n",
    "# n 번째 덩어리에서 b번째 = ohlc[n][b]\n",
    "\n",
    "for i in range (1,4):\n",
    "    print(ohlc[i][3])"
   ]
  },
  {
   "cell_type": "code",
   "execution_count": 134,
   "id": "696deb94",
   "metadata": {},
   "outputs": [
    {
     "name": "stdout",
     "output_type": "stream",
     "text": [
      "{'opening_price': '23456000', 'closing_price': '23269000', 'min_price': '23052000', 'max_price': '23786000', 'units_traded': '2200.12149774', 'acc_trade_value': '51381434265.7996', 'prev_closing_price': '23457000', 'units_traded_24H': '3809.25307428', 'acc_trade_value_24H': '89493859386.3737', 'fluctate_24H': '-792000', 'fluctate_rate_24H': '-3.29', 'date': '1668239841760'}\n"
     ]
    }
   ],
   "source": [
    "import requests # 웹상에서 데이터를 가져올 때 사용\n",
    "\n",
    "btc = requests.get(\"https://api.bithumb.com/public/ticker/\").json()['data']\n",
    "\n",
    "print(btc)"
   ]
  },
  {
   "cell_type": "code",
   "execution_count": 162,
   "id": "798d9b22",
   "metadata": {},
   "outputs": [
    {
     "name": "stdout",
     "output_type": "stream",
     "text": [
      "*\n",
      "**\n",
      "***\n",
      "****\n",
      "*****\n"
     ]
    }
   ],
   "source": [
    "#Q5\n",
    "\n",
    "a = 1\n",
    "\n",
    "while a <= 5:\n",
    "    print(a*\"*\")\n",
    "    a += 1\n",
    "    \n",
    "# 문자열의 곱하기는 반복이다!\n",
    "\n",
    "# 별 n개 입력하면 그만큼 트리 만드는거 응용해보기"
   ]
  },
  {
   "cell_type": "code",
   "execution_count": 161,
   "id": "17198afb",
   "metadata": {},
   "outputs": [
    {
     "name": "stdout",
     "output_type": "stream",
     "text": [
      "1\n"
     ]
    }
   ],
   "source": [
    "#Q6 \n",
    "\n",
    "# 정답 : 75\n",
    "# 숫자를 입력하세요 (1~100)\n",
    "# 50 입력 >>> 더 큰 수를 입력하세요.\n",
    "# 80입력 >>> 더 작은 수를 입력하세요.\n",
    "# 70입력 >>> 더 큰 수를 입력하세요.\n",
    "# 75 입력 >>> 정답입니다. 4번째 시도에 맞추셨습니다.축하합니다.\n",
    "\n",
    "\n",
    "#난수 발생시키는 기능\n",
    "\n",
    "import random\n",
    "num = random.randrange(1, 101)\n",
    "\n",
    "print(num)"
   ]
  },
  {
   "cell_type": "code",
   "execution_count": null,
   "id": "be2287ab",
   "metadata": {},
   "outputs": [],
   "source": [
    "import random\n",
    "num = random.randrange(1, 101)\n",
    "user = 0\n",
    "total = 0\n",
    "\n",
    "user = int(input(\"숫자를 입력하세요(1~100) :\"))\n",
    "\n",
    "while (num != user):\n",
    "    if user < num:\n",
    "        print(\"더 큰 수를 입력하세요.\")\n",
    "        total += 1\n",
    "    \n",
    "    if user > num:\n",
    "        pirnt(\"더 작은 수를 입력하세요.\")\n",
    "        total += 1\n",
    "    \n",
    "print(\"정답입니다.\", total,\"번째 시도에 맞추셨습니다. 축하합니다.\")"
   ]
  },
  {
   "cell_type": "code",
   "execution_count": null,
   "id": "f7b3bc98",
   "metadata": {},
   "outputs": [],
   "source": []
  }
 ],
 "metadata": {
  "kernelspec": {
   "display_name": "Python 3 (ipykernel)",
   "language": "python",
   "name": "python3"
  },
  "language_info": {
   "codemirror_mode": {
    "name": "ipython",
    "version": 3
   },
   "file_extension": ".py",
   "mimetype": "text/x-python",
   "name": "python",
   "nbconvert_exporter": "python",
   "pygments_lexer": "ipython3",
   "version": "3.9.13"
  }
 },
 "nbformat": 4,
 "nbformat_minor": 5
}
