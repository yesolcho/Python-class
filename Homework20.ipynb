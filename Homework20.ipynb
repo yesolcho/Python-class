{
  "nbformat": 4,
  "nbformat_minor": 0,
  "metadata": {
    "colab": {
      "provenance": [],
      "authorship_tag": "ABX9TyPIbglMQ8BR0Q062gj8kxUP",
      "include_colab_link": true
    },
    "kernelspec": {
      "name": "python3",
      "display_name": "Python 3"
    },
    "language_info": {
      "name": "python"
    }
  },
  "cells": [
    {
      "cell_type": "markdown",
      "metadata": {
        "id": "view-in-github",
        "colab_type": "text"
      },
      "source": [
        "<a href=\"https://colab.research.google.com/github/yesolcho/Python-class/blob/main/Homework20.ipynb\" target=\"_parent\"><img src=\"https://colab.research.google.com/assets/colab-badge.svg\" alt=\"Open In Colab\"/></a>"
      ]
    },
    {
      "cell_type": "code",
      "execution_count": null,
      "metadata": {
        "colab": {
          "base_uri": "https://localhost:8080/"
        },
        "id": "GJ4MYZ0i6BvT",
        "outputId": "3cd3e39c-618e-49cd-8357-20b07b6514d8"
      },
      "outputs": [
        {
          "output_type": "stream",
          "name": "stdout",
          "text": [
            "Enter a number: 25\n",
            "The total is... 25.\n",
            "Enter a number: 30\n",
            "The total is... 55.\n"
          ]
        }
      ],
      "source": [
        "# 045\n",
        "\n",
        "total = 0\n",
        "\n",
        "while total <= 50:\n",
        "    num = int(input(\"Enter a number: \"))\n",
        "    total += num\n",
        "    print(f\"The total is... {total}.\")\n",
        "\n",
        "# 개선할 점\n",
        "# while 뒤에 바로 조건을 쓸 수 있다.\n",
        "# while의 경우 조건이 False가 되면 저절로 반복을 멈추니 break를 쓸 필요가 없다."
      ]
    },
    {
      "cell_type": "code",
      "source": [
        "# 046\n",
        "\n",
        "num = 0  # 그래야 while을 시작할 수 있음.\n",
        "\n",
        "while num <= 5:\n",
        "  num = int(input(\"Enter a number: \"))\n",
        "\n",
        "print(f\"The last number you entered was a {num}.\")\n"
      ],
      "metadata": {
        "colab": {
          "base_uri": "https://localhost:8080/"
        },
        "id": "2SmtO2LR65PD",
        "outputId": "7a631899-e51a-4988-b2b3-a321c2dde004"
      },
      "execution_count": null,
      "outputs": [
        {
          "output_type": "stream",
          "name": "stdout",
          "text": [
            "Enter a number: 1\n",
            "Enter a number: 2\n",
            "Enter a number: 3\n",
            "Enter a number: 4\n",
            "Enter a number: 6\n",
            "The last number you entered was a 6.\n"
          ]
        }
      ]
    },
    {
      "cell_type": "code",
      "source": [
        "# 047\n",
        "\n",
        "num1 = int(input(\"Enter a number: \"))\n",
        "num2 = int(input(\"Enter another number: \"))\n",
        "\n",
        "total = num1 + num2\n",
        "\n",
        "while True:\n",
        "  ask = input(\"Do you want to add another number? (y/n)\")\n",
        "  if ask == 'y':\n",
        "    num = int(input(\"Enter another number: \"))\n",
        "    total += num\n",
        "  else:\n",
        "    print(\"total is\",total)\n",
        "    break\n"
      ],
      "metadata": {
        "colab": {
          "base_uri": "https://localhost:8080/"
        },
        "id": "XuIn-xtS7il9",
        "outputId": "4e328ff2-402b-4344-a1bd-0fb6b91b698b"
      },
      "execution_count": null,
      "outputs": [
        {
          "output_type": "stream",
          "name": "stdout",
          "text": [
            "Enter a number: 3\n",
            "Enter another number: 2\n",
            "Do you want to add another number? (y/n)y\n",
            "Enter another number: 5\n",
            "Do you want to add another number? (y/n)n\n",
            "total is 10\n"
          ]
        }
      ]
    },
    {
      "cell_type": "code",
      "source": [
        "# 047 - 2\n",
        "\n",
        "num1 = int(input(\"Enter a number: \"))\n",
        "total = num1\n",
        "again = \"y\"\n",
        "\n",
        "while again == \"y\":\n",
        "  num2 = int(input(\"Enter another number: \"))\n",
        "  total += num2\n",
        "  again = input(\"Do you want to add another number? (y/n)\")\n",
        " \n",
        "print(\"total is\",total)"
      ],
      "metadata": {
        "id": "JD7JLsiHmvQG"
      },
      "execution_count": null,
      "outputs": []
    },
    {
      "cell_type": "code",
      "source": [
        "# 048\n",
        "\n",
        "count = 0\n",
        "again = \"y\"\n",
        "\n",
        "while again == \"y\":\n",
        "  name = input(\"Enter the name of somebody you want to invite to a party: \")\n",
        "  print(f\"{name} has now been invited.\")\n",
        "  count += 1\n",
        "  again = input(\"Do you want to invite someone else? (y/n)\")\n",
        "\n",
        "print(f\"{count} of people will come to the party.\")"
      ],
      "metadata": {
        "colab": {
          "base_uri": "https://localhost:8080/"
        },
        "id": "M6skT8Lk8qmj",
        "outputId": "84620249-3624-42e9-d716-38a43bb2a150"
      },
      "execution_count": null,
      "outputs": [
        {
          "output_type": "stream",
          "name": "stdout",
          "text": [
            "Enter the name of somebody you want to invite to a party: Ven\n",
            "Venhas now been invited.\n",
            "Do you want to invite someone else? (y/n)y\n",
            "Enter the name of somebody you want to invite to a party: Amy\n",
            "Amyhas now been invited.\n",
            "Do you want to invite someone else? (y/n)n\n",
            "2 of people will come to the party.\n"
          ]
        }
      ]
    },
    {
      "cell_type": "code",
      "source": [
        "# 049\n",
        "\n",
        "compnum = 50\n",
        "count = 0\n",
        "num = int(input(\"Enter a number: \"))\n",
        "\n",
        "while num != compnum:\n",
        "  count += 1\n",
        "  if compnum > num:\n",
        "    print(\"It is too low. Try again.\")\n",
        "  else:\n",
        "    print(\"It is too high. Try again\")\n",
        "  num = int(input(\"Have another guess: \"))\n",
        "\n",
        "print(f\"Well done, you took {count} attempt.\")\n",
        "\n",
        "\n",
        "# 개선할 점\n",
        "# while문 바깥에서 입력받은 변수는 while문 안에서 언제든지 재정의 할 수 있다."
      ],
      "metadata": {
        "id": "8U0iUIQT_hnt",
        "colab": {
          "base_uri": "https://localhost:8080/"
        },
        "outputId": "02800b54-47d0-4f31-9ea7-d10dcaa1453f"
      },
      "execution_count": null,
      "outputs": [
        {
          "output_type": "stream",
          "name": "stdout",
          "text": [
            "Enter a number: 30\n",
            "It is too low. Try again.\n",
            "Enter a number: 0\n",
            "It is too low. Try again.\n",
            "Enter a number: 50\n",
            "Well done, you took 3 attempt.\n"
          ]
        }
      ]
    },
    {
      "cell_type": "code",
      "source": [
        "# 050\n",
        "\n",
        "num = int(input(\"Enter a number between 10 and 20: \"))\n",
        "\n",
        "while num < 10 or num > 20:\n",
        "  if num < 10:\n",
        "    print(\"Too low. Try again.\")\n",
        "  elif num > 20:\n",
        "    print(\"Too high. Try again.\")\n",
        "\n",
        "print(\"Thank you.\")\n",
        "\n",
        "\n"
      ],
      "metadata": {
        "colab": {
          "base_uri": "https://localhost:8080/"
        },
        "id": "gRZ52Al3yVbf",
        "outputId": "00061ae8-a682-4445-b756-1cf752c99e33"
      },
      "execution_count": null,
      "outputs": [
        {
          "output_type": "stream",
          "name": "stdout",
          "text": [
            "Enter a number between 10 and 20: 30\n",
            "Too high. Try again.\n",
            "Enter a number between 10 and 20: 9\n",
            "Too low. Try again.\n",
            "Enter a number between 10 and 20: 15\n",
            "Thank you.\n"
          ]
        }
      ]
    },
    {
      "cell_type": "code",
      "source": [
        "# 051 **\n",
        "\n",
        "bottles = 10\n",
        "\n",
        "while bottles != 0:\n",
        "  print(f\"There are {bottles} green bottles hanging on the wall, {bottles} green bottles hanging on the wall, and if 1 green bottle should accidentally fall\")\n",
        "  q = int(input(\"How many green bottles will be hanging on the wall? \"))\n",
        "  if q == (bottles-1):\n",
        "    bottles -= 1\n",
        "    print(f\"There are {bottles} green bottles hanging on the wall.\")\n",
        "    print()\n",
        "  else:\n",
        "    print(\"No, try again!\")\n",
        "\n",
        "print(\"There are no more green bottles hanging on the wall.\")\n",
        "\n",
        "# 개선할 점\n",
        "# bottle이 0이 아닌 것보다는 0보다 크다로 while을 설정하는 게 더 좋다.\n",
        "# bottle을 미리 빼고, 그 bottle과 사용자 입력값을 비교하면 좀 더 깔끔했을 것 같다.\n",
        "# while문 안에 while문 설정하기"
      ],
      "metadata": {
        "colab": {
          "base_uri": "https://localhost:8080/"
        },
        "id": "FAAe_DLjy-NG",
        "outputId": "241ef7c1-d80b-4776-ddb3-826b92747b1c"
      },
      "execution_count": 1,
      "outputs": [
        {
          "output_type": "stream",
          "name": "stdout",
          "text": [
            "There are 10 green bottles hanging on the wall, 10 green bottles hanging on the wall, and if 1 green bottle should accidentally fall\n",
            "How many green bottles will be hanging on the wall? 9\n",
            "There are 9 green bottles hanging on the wall.\n",
            "\n",
            "There are 9 green bottles hanging on the wall, 9 green bottles hanging on the wall, and if 1 green bottle should accidentally fall\n",
            "How many green bottles will be hanging on the wall? 8\n",
            "There are 8 green bottles hanging on the wall.\n",
            "\n",
            "There are 8 green bottles hanging on the wall, 8 green bottles hanging on the wall, and if 1 green bottle should accidentally fall\n",
            "How many green bottles will be hanging on the wall? 7\n",
            "There are 7 green bottles hanging on the wall.\n",
            "\n",
            "There are 7 green bottles hanging on the wall, 7 green bottles hanging on the wall, and if 1 green bottle should accidentally fall\n",
            "How many green bottles will be hanging on the wall? 6\n",
            "There are 6 green bottles hanging on the wall.\n",
            "\n",
            "There are 6 green bottles hanging on the wall, 6 green bottles hanging on the wall, and if 1 green bottle should accidentally fall\n",
            "How many green bottles will be hanging on the wall? 6\n",
            "No, try again!\n",
            "There are 6 green bottles hanging on the wall, 6 green bottles hanging on the wall, and if 1 green bottle should accidentally fall\n",
            "How many green bottles will be hanging on the wall? 5\n",
            "There are 5 green bottles hanging on the wall.\n",
            "\n",
            "There are 5 green bottles hanging on the wall, 5 green bottles hanging on the wall, and if 1 green bottle should accidentally fall\n",
            "How many green bottles will be hanging on the wall? 4\n",
            "There are 4 green bottles hanging on the wall.\n",
            "\n",
            "There are 4 green bottles hanging on the wall, 4 green bottles hanging on the wall, and if 1 green bottle should accidentally fall\n",
            "How many green bottles will be hanging on the wall? 3\n",
            "There are 3 green bottles hanging on the wall.\n",
            "\n",
            "There are 3 green bottles hanging on the wall, 3 green bottles hanging on the wall, and if 1 green bottle should accidentally fall\n",
            "How many green bottles will be hanging on the wall? 2\n",
            "There are 2 green bottles hanging on the wall.\n",
            "\n",
            "There are 2 green bottles hanging on the wall, 2 green bottles hanging on the wall, and if 1 green bottle should accidentally fall\n",
            "How many green bottles will be hanging on the wall? 1\n",
            "There are 1 green bottles hanging on the wall.\n",
            "\n",
            "There are 1 green bottles hanging on the wall, 1 green bottles hanging on the wall, and if 1 green bottle should accidentally fall\n",
            "How many green bottles will be hanging on the wall? 0\n",
            "There are 0 green bottles hanging on the wall.\n",
            "\n",
            "There are no more green bottles hanging on the wall.\n"
          ]
        }
      ]
    },
    {
      "cell_type": "code",
      "source": [
        "# 051\n",
        "\n",
        "num = 10\n",
        " \n",
        "while num > 0:\n",
        "  print(f\"There are {num} green bottles hanging on the wall.\\n{num} green bottles hanging on the wall.\\nAnd if 1 green bottle should accidentally fall,\")\n",
        "  num -= 1\n",
        "  answer = int(input(\"How many green bottles will be haning on the wall? \"))\n",
        "\n",
        "  if answer == num:\n",
        "    print(f\"There will be {num} green bottles hanging on the wall.\")\n",
        "  else:\n",
        "    while answer != num:\n",
        "      answer = int(input(\"No, try again: \"))\n",
        "\n",
        "print(\"There are no more green bottles hanging on the wall.\")"
      ],
      "metadata": {
        "id": "TjK6t7tErEJz"
      },
      "execution_count": null,
      "outputs": []
    }
  ]
}