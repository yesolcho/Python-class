{
  "nbformat": 4,
  "nbformat_minor": 0,
  "metadata": {
    "colab": {
      "provenance": [],
      "authorship_tag": "ABX9TyMJtFV0vbFEqLZ+my2S+LZ0",
      "include_colab_link": true
    },
    "kernelspec": {
      "name": "python3",
      "display_name": "Python 3"
    },
    "language_info": {
      "name": "python"
    }
  },
  "cells": [
    {
      "cell_type": "markdown",
      "metadata": {
        "id": "view-in-github",
        "colab_type": "text"
      },
      "source": [
        "<a href=\"https://colab.research.google.com/github/yesolcho/Python-class/blob/main/Homework8_%EC%A1%B0%EC%98%88%EC%86%94.ipynb\" target=\"_parent\"><img src=\"https://colab.research.google.com/assets/colab-badge.svg\" alt=\"Open In Colab\"/></a>"
      ]
    },
    {
      "cell_type": "code",
      "source": [
        "#131\n",
        "\n",
        "#답: 사과 \n",
        "귤 \n",
        "수박"
      ],
      "metadata": {
        "id": "52NrsRDXJUGG"
      },
      "execution_count": null,
      "outputs": []
    },
    {
      "cell_type": "code",
      "source": [
        "#132\n",
        "\n",
        "#답: #####\n",
        "#####\n",
        "#####\n",
        "\n",
        "과일 = [\"사과\", \"귤\", \"수박\"]\n",
        "\n",
        "for 변수 in 과일:\n",
        "  print(\"#####\")"
      ],
      "metadata": {
        "id": "WjxT2WyGjVpq",
        "colab": {
          "base_uri": "https://localhost:8080/"
        },
        "outputId": "195a86f8-e828-4446-8370-1692c0630b42"
      },
      "execution_count": 6,
      "outputs": [
        {
          "output_type": "stream",
          "name": "stdout",
          "text": [
            "#####\n",
            "#####\n",
            "#####\n"
          ]
        }
      ]
    },
    {
      "cell_type": "markdown",
      "source": [
        "# for문의 핵심\n",
        "\n",
        " 들여쓰기된 코드가 자료구조에 저장된 데이터 개수만큼 반복된다."
      ],
      "metadata": {
        "id": "Hk0ldld0lwdA"
      }
    },
    {
      "cell_type": "code",
      "source": [
        "#133\n",
        "\n",
        "list = [\"A\", \"B\", \"C\"]\n",
        "\n",
        "print(list[0]) ; print(list[1]) ; print(list[2])\n",
        "\n",
        "\n",
        "# 기왕이면 해당 for문이 어떤 순서로 코드를 실행하는지를 떠올리고 만들어보자.\n",
        "\n",
        "변수 = \"A\"\n",
        "print(변수)\n",
        "변수 = \"B\"\n",
        "print(변수)\n",
        "변수 = \"C\"\n",
        "print(변수)"
      ],
      "metadata": {
        "colab": {
          "base_uri": "https://localhost:8080/"
        },
        "id": "hK-Eh4sBj1RJ",
        "outputId": "57f9651f-dccb-4abb-9119-1ae51f67105d"
      },
      "execution_count": 7,
      "outputs": [
        {
          "output_type": "stream",
          "name": "stdout",
          "text": [
            "A\n",
            "B\n",
            "C\n",
            "A\n",
            "B\n",
            "C\n"
          ]
        }
      ]
    },
    {
      "cell_type": "code",
      "source": [
        "#134\n",
        "\n",
        "list = [\"A\", \"B\", \"C\"]\n",
        "\n",
        "print(\"출력:\",list[0]) ; print(\"출력:\",list[1]) ; print(\"출력:\",list[2])\n",
        "\n",
        "\n",
        "# 134 - 2\n",
        "\n",
        "변수 = \"A\"\n",
        "print(\"출력:\", 변수)\n",
        "변수 = \"B\"\n",
        "print(\"출력:\", 변수)\n",
        "변수 = \"C\"\n",
        "print(\"출력:\", 변수)"
      ],
      "metadata": {
        "colab": {
          "base_uri": "https://localhost:8080/"
        },
        "id": "xT8oRQjil7Sk",
        "outputId": "34aebdf8-a9a6-4802-9dc7-a2e64b7fa333"
      },
      "execution_count": 8,
      "outputs": [
        {
          "output_type": "stream",
          "name": "stdout",
          "text": [
            "출력: A\n",
            "출력: B\n",
            "출력: C\n",
            "출력: A\n",
            "출력: B\n",
            "출력: C\n"
          ]
        }
      ]
    },
    {
      "cell_type": "code",
      "source": [
        "#135\n",
        "\n",
        "list = [\"A\", \"B\", \"C\"]\n",
        "\n",
        "print(\"변환:\",list[0].lower()) ; print(\"변환:\",list[1].lower()) ; print(\"변환:\",list[2].lower())\n",
        "\n",
        "\n",
        "# 135 - 2\n",
        "\n",
        "변수 = \"A\"\n",
        "b = 변수.lower()\n",
        "print(\"변환:\", b)\n",
        "\n",
        "변수 = \"B\"\n",
        "b = 변수.lower()\n",
        "print(\"변환:\", b)\n",
        "\n",
        "변수 = \"C\"\n",
        "b = 변수.lower()\n",
        "print(\"변환:\", b)"
      ],
      "metadata": {
        "colab": {
          "base_uri": "https://localhost:8080/"
        },
        "id": "GUwXhqtAmG25",
        "outputId": "477991b3-cfa2-432b-dcd5-f7f03d150a1d"
      },
      "execution_count": 9,
      "outputs": [
        {
          "output_type": "stream",
          "name": "stdout",
          "text": [
            "변환: a\n",
            "변환: b\n",
            "변환: c\n",
            "변환: a\n",
            "변환: b\n",
            "변환: c\n"
          ]
        }
      ]
    },
    {
      "cell_type": "code",
      "source": [
        "#136\n",
        "\n",
        "for 변수 in [10,20,30]:\n",
        "  print(변수)"
      ],
      "metadata": {
        "colab": {
          "base_uri": "https://localhost:8080/"
        },
        "id": "ZqqyBuIemsxt",
        "outputId": "9d7fb80b-ac11-473d-f840-03ca51d42d85"
      },
      "execution_count": null,
      "outputs": [
        {
          "output_type": "stream",
          "name": "stdout",
          "text": [
            "10\n",
            "20\n",
            "30\n"
          ]
        }
      ]
    },
    {
      "cell_type": "code",
      "source": [
        "#137\n",
        "\n",
        "for i in [10,20,30]:\n",
        "  print(i)"
      ],
      "metadata": {
        "colab": {
          "base_uri": "https://localhost:8080/"
        },
        "id": "OTFBwk2um75M",
        "outputId": "c87215b8-ce2e-4fba-bc8a-bbc5fb2d63d6"
      },
      "execution_count": null,
      "outputs": [
        {
          "output_type": "stream",
          "name": "stdout",
          "text": [
            "10\n",
            "20\n",
            "30\n"
          ]
        }
      ]
    },
    {
      "cell_type": "code",
      "source": [
        "#138\n",
        "for i in [10,20,30]:\n",
        "  print(i)\n",
        "  print(\"-------\")"
      ],
      "metadata": {
        "colab": {
          "base_uri": "https://localhost:8080/"
        },
        "id": "n3PlAREYnFd3",
        "outputId": "20f026c7-9e26-4c77-b08c-3f74f731c26b"
      },
      "execution_count": null,
      "outputs": [
        {
          "output_type": "stream",
          "name": "stdout",
          "text": [
            "10\n",
            "-------\n",
            "20\n",
            "-------\n",
            "30\n",
            "-------\n"
          ]
        }
      ]
    },
    {
      "cell_type": "code",
      "source": [
        "#139\n",
        "\n",
        "for i in [\"++++\",10,20,30]:\n",
        "  print(i)\n",
        "\n",
        "# for문은 반복되는 코드에만 사용한다?\n",
        "\n",
        "print(\"++++\")   # 이거 왜지...\n",
        "for 변수 in [10, 20, 30]:\n",
        "  print(변수)"
      ],
      "metadata": {
        "colab": {
          "base_uri": "https://localhost:8080/"
        },
        "id": "GzM66EKunN_c",
        "outputId": "98afaa8c-37a3-491c-ab9b-d99d78669f1e"
      },
      "execution_count": null,
      "outputs": [
        {
          "output_type": "stream",
          "name": "stdout",
          "text": [
            "++++\n",
            "10\n",
            "20\n",
            "30\n"
          ]
        }
      ]
    },
    {
      "cell_type": "code",
      "source": [
        "#140\n",
        "\n",
        "for i in [1,2,3,4]:\n",
        "  print(\"-------\")"
      ],
      "metadata": {
        "colab": {
          "base_uri": "https://localhost:8080/"
        },
        "id": "P7NS1znZnilw",
        "outputId": "800f593e-bfef-48bc-d790-86ef5061be7c"
      },
      "execution_count": null,
      "outputs": [
        {
          "output_type": "stream",
          "name": "stdout",
          "text": [
            "-------\n",
            "-------\n",
            "-------\n",
            "-------\n"
          ]
        }
      ]
    },
    {
      "cell_type": "code",
      "source": [
        "#141\n",
        "\n",
        "리스트 = [100, 200, 300]\n",
        "\n",
        "for i in 리스트:\n",
        "  print(i+10)"
      ],
      "metadata": {
        "colab": {
          "base_uri": "https://localhost:8080/"
        },
        "id": "DXs7au56npvU",
        "outputId": "1d194eaa-1d9b-46dc-98e5-e5b352e2735a"
      },
      "execution_count": null,
      "outputs": [
        {
          "output_type": "stream",
          "name": "stdout",
          "text": [
            "110\n",
            "210\n",
            "310\n"
          ]
        }
      ]
    },
    {
      "cell_type": "code",
      "source": [
        "#142\n",
        "\n",
        "리스트 = [\"김밥\", \"라면\", \"튀김\"]\n",
        "\n",
        "for i in 리스트:\n",
        "  print(\"오늘의 메뉴:\",i)"
      ],
      "metadata": {
        "colab": {
          "base_uri": "https://localhost:8080/"
        },
        "id": "naY7lHFiny34",
        "outputId": "ce778465-355a-46ec-83a9-b3f5585a763e"
      },
      "execution_count": null,
      "outputs": [
        {
          "output_type": "stream",
          "name": "stdout",
          "text": [
            "오늘의 메뉴: 김밥\n",
            "오늘의 메뉴: 라면\n",
            "오늘의 메뉴: 튀김\n"
          ]
        }
      ]
    },
    {
      "cell_type": "code",
      "source": [
        "#143\n",
        "\n",
        "리스트 = [\"SK하이닉스\", \"삼성전자\", \"LG전자\"]\n",
        "\n",
        "for i in 리스트:\n",
        "  print(len(i))"
      ],
      "metadata": {
        "colab": {
          "base_uri": "https://localhost:8080/"
        },
        "id": "TRS9LxLvn7PY",
        "outputId": "79277154-d8ae-4647-fd08-8673bbdfae3c"
      },
      "execution_count": null,
      "outputs": [
        {
          "output_type": "stream",
          "name": "stdout",
          "text": [
            "6\n",
            "4\n",
            "4\n"
          ]
        }
      ]
    },
    {
      "cell_type": "code",
      "source": [
        "#144\n",
        "\n",
        "리스트 = ['dog', 'cat', 'parrot']\n",
        "\n",
        "for i in 리스트:\n",
        "  print(i, len(i))"
      ],
      "metadata": {
        "colab": {
          "base_uri": "https://localhost:8080/"
        },
        "id": "j4ncoGjyoDFf",
        "outputId": "8a320c72-a1d9-4df3-a335-99c8e76b080e"
      },
      "execution_count": null,
      "outputs": [
        {
          "output_type": "stream",
          "name": "stdout",
          "text": [
            "dog 3\n",
            "cat 3\n",
            "parrot 6\n"
          ]
        }
      ]
    },
    {
      "cell_type": "code",
      "source": [
        "#145\n",
        "\n",
        "리스트 = ['dog', 'cat', 'parrot']\n",
        "\n",
        "for i in 리스트:\n",
        "  print(i[0])"
      ],
      "metadata": {
        "colab": {
          "base_uri": "https://localhost:8080/"
        },
        "id": "MxlXIo2YoLKX",
        "outputId": "f655de82-7238-4010-9f44-41c73d95cb52"
      },
      "execution_count": null,
      "outputs": [
        {
          "output_type": "stream",
          "name": "stdout",
          "text": [
            "d\n",
            "c\n",
            "p\n"
          ]
        }
      ]
    },
    {
      "cell_type": "code",
      "source": [
        "#146\n",
        "\n",
        "리스트 = [1, 2, 3]\n",
        "\n",
        "for i in 리스트:\n",
        "  print(\"3 x\",i)"
      ],
      "metadata": {
        "colab": {
          "base_uri": "https://localhost:8080/"
        },
        "id": "lhd_fXKLoW4c",
        "outputId": "c8ba5214-3990-42ff-fc1c-61885537feda"
      },
      "execution_count": null,
      "outputs": [
        {
          "output_type": "stream",
          "name": "stdout",
          "text": [
            "3 x 1\n",
            "3 x 2\n",
            "3 x 3\n"
          ]
        }
      ]
    },
    {
      "cell_type": "code",
      "source": [
        "#147\n",
        "\n",
        "리스트 = [1, 2, 3]\n",
        "\n",
        "for i in 리스트:\n",
        "  print(\"3 x\",i,\"=\",i*3)\n",
        "\n",
        "\n",
        "# 문자열 포매팅 사용하기\n",
        "\n",
        "print(\"3 x {} = {}\".format(변수,변수*3))"
      ],
      "metadata": {
        "colab": {
          "base_uri": "https://localhost:8080/"
        },
        "id": "LLk6tEC-ogpA",
        "outputId": "61ff242d-3d70-4803-c82d-07aab1f467f2"
      },
      "execution_count": null,
      "outputs": [
        {
          "output_type": "stream",
          "name": "stdout",
          "text": [
            "3 x 1 = 3\n",
            "3 x 2 = 6\n",
            "3 x 3 = 9\n"
          ]
        }
      ]
    },
    {
      "cell_type": "code",
      "source": [
        "#148\n",
        "\n",
        "리스트 = [\"가\", \"나\", \"다\", \"라\"]\n",
        "\n",
        "for i in 리스트:\n",
        "  if i == \"가\": continue\n",
        "  print(i)\n",
        "\n",
        "\n",
        "# for문 자료구조 자리에서 슬라이싱을 할 수 있다!\n",
        "\n",
        "for i in 리스트[1:]:"
      ],
      "metadata": {
        "colab": {
          "base_uri": "https://localhost:8080/"
        },
        "id": "y5ygHtIZo518",
        "outputId": "9bf6deb7-eff5-490c-f52f-6854abed533f"
      },
      "execution_count": null,
      "outputs": [
        {
          "output_type": "stream",
          "name": "stdout",
          "text": [
            "나\n",
            "다\n",
            "라\n"
          ]
        }
      ]
    },
    {
      "cell_type": "code",
      "source": [
        "#149\n",
        "\n",
        "리스트 = [\"가\", \"나\", \"다\", \"라\"]\n",
        "\n",
        "for i in 리스트:\n",
        "  if i == \"나\" or i == \"라\": continue\n",
        "  print(i)\n",
        "\n",
        "\n",
        "# 149 -2\n",
        "\n",
        "for i in 리스트[::2]:"
      ],
      "metadata": {
        "colab": {
          "base_uri": "https://localhost:8080/"
        },
        "id": "1DVvtu2upTeA",
        "outputId": "047339b2-e84f-412e-ce9c-f04e1fe6b9c6"
      },
      "execution_count": null,
      "outputs": [
        {
          "output_type": "stream",
          "name": "stdout",
          "text": [
            "가\n",
            "다\n"
          ]
        }
      ]
    },
    {
      "cell_type": "code",
      "source": [
        "#150\n",
        "\n",
        "리스트 = [\"가\", \"나\", \"다\", \"라\"]\n",
        "\n",
        "리스트.reverse()  \n",
        "\n",
        "for i in 리스트:\n",
        "  print(i)\n",
        "\n",
        "\n",
        "# 슬라이싱의 증감폭(3번째 자리)를 음수로 설정하면 거꾸로 값을 출력한다!!!\n",
        "\n",
        "for i in 리스트[::-1]:"
      ],
      "metadata": {
        "colab": {
          "base_uri": "https://localhost:8080/"
        },
        "id": "SqHLVzudpfuL",
        "outputId": "e59eaa73-3018-46d8-c4c5-fa3f7a77572c"
      },
      "execution_count": null,
      "outputs": [
        {
          "output_type": "stream",
          "name": "stdout",
          "text": [
            "라\n",
            "다\n",
            "나\n",
            "가\n"
          ]
        }
      ]
    }
  ]
}