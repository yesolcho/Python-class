{
  "cells": [
    {
      "cell_type": "markdown",
      "metadata": {
        "id": "view-in-github",
        "colab_type": "text"
      },
      "source": [
        "<a href=\"https://colab.research.google.com/github/yesolcho/Python-class/blob/main/Homework30.ipynb\" target=\"_parent\"><img src=\"https://colab.research.google.com/assets/colab-badge.svg\" alt=\"Open In Colab\"/></a>"
      ]
    },
    {
      "cell_type": "code",
      "execution_count": null,
      "metadata": {
        "id": "WXj4e5Xe7gB0",
        "outputId": "b21556cc-407d-47dc-ca06-2fc0b79d8420"
      },
      "outputs": [
        {
          "data": {
            "text/plain": [
              "0"
            ]
          },
          "execution_count": 1,
          "metadata": {},
          "output_type": "execute_result"
        }
      ],
      "source": [
        "import sys\n",
        "from PyQt5.QtWidgets import *\n",
        "from PyQt5 import uic\n",
        "from PyQt5.QtCore import *\n",
        "\n",
        "form_class = uic.loadUiType(\"MusicChart.ui\")[0]\n",
        "\n",
        "class MyWindow(QMainWindow, form_class):\n",
        "    def __init__(self):\n",
        "        super().__init__()\n",
        "        self.setupUi(self)\n",
        "        self.pushButton.clicked.connect(self.btn_clicked)   # 지니\n",
        "        self.pushButton_2.clicked.connect(self.btn_clicked_2)   # 멜론\n",
        "        self.pushButton_3.clicked.connect(self.btn_clicked_3)   # 벅스\n",
        "\n",
        "    def btn_clicked(self):  # 지니\n",
        "        from selenium import webdriver\n",
        "        from bs4 import BeautifulSoup as bs\n",
        "        import pandas as pd\n",
        "\n",
        "        driver = webdriver.Chrome()\n",
        "        url = \"https://www.genie.co.kr/chart/top200\"\n",
        "        driver.get(url)\n",
        "        html = driver.page_source\n",
        "\n",
        "        soup = bs(html)\n",
        "        songs = soup.select(\"tbody > tr\")\n",
        "\n",
        "        rank = 1\n",
        "\n",
        "        for i, song in enumerate(songs):\n",
        "            self.tableWidget.setItem(i, 0, QTableWidgetItem(\"Genie\"))\n",
        "            self.tableWidget.setItem(i, 1, QTableWidgetItem(str(rank)))\n",
        "            rank += 1\n",
        "\n",
        "            title = song.select(\"td.info > a.ellipsis\")[0].text.strip()\n",
        "            self.tableWidget.setItem(i, 2, QTableWidgetItem(str(title)))\n",
        "\n",
        "            artist = song.select(\"td.info > a.artist.ellipsis\")[0].text.strip()\n",
        "            self.tableWidget.setItem(i, 3, QTableWidgetItem(str(artist)))\n",
        "\n",
        "    def btn_clicked_2(self):  # 멜론\n",
        "        from selenium import webdriver\n",
        "        from bs4 import BeautifulSoup as bs\n",
        "        import pandas as pd\n",
        "\n",
        "        driver = webdriver.Chrome()\n",
        "\n",
        "        url = \"https://www.melon.com/chart/\"\n",
        "        driver.get(url)\n",
        "        html = driver.page_source\n",
        "\n",
        "        soup = bs(html)\n",
        "        songs = soup.select(\"tbody > tr\")\n",
        "\n",
        "        rank = 1\n",
        "\n",
        "        for i, song in enumerate(songs):\n",
        "            self.tableWidget.setItem(i, 0, QTableWidgetItem(\"Melon\"))\n",
        "            self.tableWidget.setItem(i, 1, QTableWidgetItem(str(rank)))\n",
        "            rank += 1\n",
        "\n",
        "            title = song.select(\"div.rank01 > span > a\")[0].text\n",
        "            self.tableWidget.setItem(i, 2, QTableWidgetItem(str(title)))\n",
        "\n",
        "            artist = song.select(\"div.rank02 > a\")[0].text\n",
        "            self.tableWidget.setItem(i, 3, QTableWidgetItem(str(artist)))\n",
        "\n",
        "    def btn_clicked_3(self):  # 벅스\n",
        "        import requests\n",
        "        from bs4 import BeautifulSoup as bs\n",
        "\n",
        "        url = \"https://music.bugs.co.kr/chart\"\n",
        "        html = requests.get(url)\n",
        "\n",
        "        soup = bs(html.text)\n",
        "        songs = soup.select(\"table.byChart > tbody > tr\")\n",
        "\n",
        "        Bugs_data = []\n",
        "        rank = 1\n",
        "\n",
        "        for i, song in enumerate(songs):\n",
        "            self.tableWidget.setItem(i, 0, QTableWidgetItem(\"Bugs\"))\n",
        "            self.tableWidget.setItem(i, 1, QTableWidgetItem(str(rank)))\n",
        "            rank += 1\n",
        "\n",
        "            title = song.select(\"p.title > a\")[0].text\n",
        "            self.tableWidget.setItem(i, 2, QTableWidgetItem(str(title)))\n",
        "\n",
        "            artist = song.select(\"p.artist > a\")[0].text \n",
        "            self.tableWidget.setItem(i, 3, QTableWidgetItem(str(artist)))\n",
        "\n",
        "\n",
        "\n",
        "app = QApplication(sys.argv)\n",
        "window = MyWindow()\n",
        "window.show()\n",
        "\n",
        "app.exec_()"
      ]
    }
  ],
  "metadata": {
    "kernelspec": {
      "display_name": "base",
      "language": "python",
      "name": "python3"
    },
    "language_info": {
      "codemirror_mode": {
        "name": "ipython",
        "version": 3
      },
      "file_extension": ".py",
      "mimetype": "text/x-python",
      "name": "python",
      "nbconvert_exporter": "python",
      "pygments_lexer": "ipython3",
      "version": "3.9.13"
    },
    "orig_nbformat": 4,
    "vscode": {
      "interpreter": {
        "hash": "42a3cfd936dca6cd9134016eb9598fa6c0736d544a7437139bac2f86277545e6"
      }
    },
    "colab": {
      "provenance": [],
      "include_colab_link": true
    }
  },
  "nbformat": 4,
  "nbformat_minor": 0
}