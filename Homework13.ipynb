{
  "cells": [
    {
      "cell_type": "markdown",
      "metadata": {
        "id": "view-in-github",
        "colab_type": "text"
      },
      "source": [
        "<a href=\"https://colab.research.google.com/github/yesolcho/Python-class/blob/main/Homework13.ipynb\" target=\"_parent\"><img src=\"https://colab.research.google.com/assets/colab-badge.svg\" alt=\"Open In Colab\"/></a>"
      ]
    },
    {
      "cell_type": "code",
      "execution_count": null,
      "metadata": {
        "id": "guPHaa5Cmr2G"
      },
      "outputs": [],
      "source": [
        "# 211\n",
        "\n",
        "#답: 안녕 \n",
        "# Hi"
      ]
    },
    {
      "cell_type": "code",
      "execution_count": null,
      "metadata": {
        "id": "Y0VWUT6Rmr2J"
      },
      "outputs": [],
      "source": [
        "# 212\n",
        "\n",
        "#답: 7 \n",
        "# 15"
      ]
    },
    {
      "cell_type": "code",
      "execution_count": null,
      "metadata": {
        "id": "1hLTjY-imr2J"
      },
      "outputs": [],
      "source": [
        "# 213\n",
        "\n",
        "#답: '문자열'이라는 input 매개변수가 있는 함수인데 호출할 때 인수를 넣어주지 않았기 때문이다."
      ]
    },
    {
      "cell_type": "code",
      "execution_count": null,
      "metadata": {
        "id": "EKHP3Csxmr2K"
      },
      "outputs": [],
      "source": [
        "# 214\n",
        "\n",
        "#답: 문자열과 숫자는 (+) 할 수 없다. 함께 쓰고싶다면 print(a,b)로 수정해야 한다.\n",
        "\n",
        "#T: 정의된 함수는 같은 타입의 두 개의 값을 입력받아 덧셈 연산을 적용하려는 의도로 설계됨."
      ]
    },
    {
      "cell_type": "code",
      "execution_count": null,
      "metadata": {
        "id": "LO0-57O5mr2K",
        "outputId": "238ee071-a67d-440e-bd8b-d6ef1c331183"
      },
      "outputs": [
        {
          "name": "stdout",
          "output_type": "stream",
          "text": [
            "hello:D\n"
          ]
        }
      ],
      "source": [
        "# 215\n",
        "\n",
        "def print_with_smile(str):   #str = string\n",
        "    print(str+\":D\")\n",
        "\n",
        "print_with_smile(\"hello\")\n",
        "\n",
        "# return 뒤에 두 가지를 넣으면(,) 튜플로 생성되어 출력한다."
      ]
    },
    {
      "cell_type": "code",
      "execution_count": null,
      "metadata": {
        "id": "DrvPg9Tamr2K",
        "outputId": "8225c874-8a5e-44a0-a72e-fedf4c62d41e"
      },
      "outputs": [
        {
          "name": "stdout",
          "output_type": "stream",
          "text": [
            "안녕하세요:D\n"
          ]
        }
      ],
      "source": [
        "# 216\n",
        "\n",
        "def print_with_smile(str):\n",
        "    print(str+\":D\")\n",
        "\n",
        "print_with_smile(\"안녕하세요\")"
      ]
    },
    {
      "cell_type": "code",
      "execution_count": null,
      "metadata": {
        "id": "pU7MV7Fcmr2L",
        "outputId": "81a6556c-b1ba-48d0-d509-412c18a3c89e"
      },
      "outputs": [
        {
          "name": "stdout",
          "output_type": "stream",
          "text": [
            "1300.0\n"
          ]
        }
      ],
      "source": [
        "# 217\n",
        "\n",
        "def print_upper_price(p):\n",
        "    return p*1.3\n",
        "\n",
        "print(print_upper_price(1000))"
      ]
    },
    {
      "cell_type": "code",
      "execution_count": null,
      "metadata": {
        "id": "3G7FTjwTmr2L",
        "outputId": "154bcf07-f60c-45ae-c89e-03a96b9f2271"
      },
      "outputs": [
        {
          "name": "stdout",
          "output_type": "stream",
          "text": [
            "8\n"
          ]
        }
      ],
      "source": [
        "# 218\n",
        "\n",
        "def print_sum(a,b):\n",
        "    return a+b\n",
        "\n",
        "print(print_sum(5,3))"
      ]
    },
    {
      "cell_type": "code",
      "execution_count": 3,
      "metadata": {
        "id": "3LkGIbjZmr2L",
        "outputId": "5058624e-ee67-40b0-bdd9-8940a95b3ffd",
        "colab": {
          "base_uri": "https://localhost:8080/"
        }
      },
      "outputs": [
        {
          "output_type": "stream",
          "name": "stdout",
          "text": [
            "9 + 3 = 12\n",
            "9 - 3 = 6\n",
            "9 * 3 = 27\n",
            "9 / 3 = 3.0\n"
          ]
        }
      ],
      "source": [
        "# 219\n",
        "\n",
        "def print_arithmetic_operation(a,b):\n",
        "    print(f\"{a} + {b} = {a+b}\")\n",
        "    print(f\"{a} - {b} = {a-b}\")\n",
        "    print(f\"{a} * {b} = {a*b}\")\n",
        "    print(f\"{a} / {b} = {a/b}\")\n",
        "\n",
        "print_arithmetic_operation(9,3)"
      ]
    },
    {
      "cell_type": "code",
      "execution_count": null,
      "metadata": {
        "id": "rlcLcjcjmr2L",
        "outputId": "1da5cd06-cc38-48a5-8766-df97eb28f5f8"
      },
      "outputs": [
        {
          "name": "stdout",
          "output_type": "stream",
          "text": [
            "7\n"
          ]
        }
      ],
      "source": [
        "# 220\n",
        "\n",
        "def print_max(a,b,c):\n",
        "    if a>=b and a>=c:\n",
        "        print(a)\n",
        "    elif b>=a and b>=c:\n",
        "        print(b)\n",
        "    else:\n",
        "        print(c)\n",
        "\n",
        "print_max(5,3,7)"
      ]
    },
    {
      "cell_type": "code",
      "source": [
        "# 221 - 2\n",
        "\n",
        "def print_max(a,b,c) :\n",
        "    max_val = 0   # 변수를 하나 설정한 뒤,\n",
        "    if a > max_val :\n",
        "        max_val = a   # a는 0보다 크므로 당연히 max_val = a가 된다.\n",
        "    if b > max_val :   # 여기서 max_val = a이므로 a와 b를 비교한 것과 같다.\n",
        "        max_val = b\n",
        "    if c > max_val :\n",
        "        max_val = c   # 이렇게 if문을 모두 반복하면 가장 큰 값이 max_val가 된다. \n",
        "    print(max_val)   # 출력!\n",
        "\n",
        "print_max(5,3,7)"
      ],
      "metadata": {
        "colab": {
          "base_uri": "https://localhost:8080/"
        },
        "id": "WfY1oHb4xpHb",
        "outputId": "5054c0d6-d77c-4c0a-9305-22ab3429842c"
      },
      "execution_count": 5,
      "outputs": [
        {
          "output_type": "stream",
          "name": "stdout",
          "text": [
            "7\n"
          ]
        }
      ]
    },
    {
      "cell_type": "code",
      "execution_count": null,
      "metadata": {
        "id": "XSWbghcRmr2M",
        "outputId": "a45fbcea-0140-4112-b973-78c78c4eaaad"
      },
      "outputs": [
        {
          "name": "stdout",
          "output_type": "stream",
          "text": [
            "nohtyp\n"
          ]
        }
      ],
      "source": [
        "# 221\n",
        "\n",
        "def print_reverse(str):\n",
        "    return str[::-1]\n",
        "\n",
        "print(print_reverse(\"python\"))\n",
        "\n",
        "\n",
        "# reverse()는 '리스트'를 역순으로 뒤집어주는 매서드다!"
      ]
    },
    {
      "cell_type": "code",
      "execution_count": 7,
      "metadata": {
        "id": "3w-WNYcZmr2M",
        "outputId": "280868d0-a91b-4093-e51c-f8cde0c95a53",
        "colab": {
          "base_uri": "https://localhost:8080/"
        }
      },
      "outputs": [
        {
          "output_type": "stream",
          "name": "stdout",
          "text": [
            "2.0\n"
          ]
        }
      ],
      "source": [
        "# 222\n",
        "\n",
        "def print_score(list):\n",
        "    result = 0\n",
        "    for i in list:\n",
        "        result += i\n",
        "    return result/len(list)\n",
        "\n",
        "print(print_score([1,2,3]))\n"
      ]
    },
    {
      "cell_type": "code",
      "source": [
        "# 222 - 2\n",
        "\n",
        "# 편하게 리스트 sum()함수를 사용해도 좋다.\n",
        "# sum()함수는 한 리스트 내의 숫자를 모두 더해주는 함수다. (그냥 숫자는 불가능함)\n",
        "def print_score(list):\n",
        "  print(sum(list)/len(list))\n",
        "\n",
        "print_score([1,2,3])"
      ],
      "metadata": {
        "colab": {
          "base_uri": "https://localhost:8080/"
        },
        "id": "REAW1C93zaE_",
        "outputId": "57437096-0504-4036-9591-eb36ffe341fc"
      },
      "execution_count": 15,
      "outputs": [
        {
          "output_type": "stream",
          "name": "stdout",
          "text": [
            "2.0\n"
          ]
        }
      ]
    },
    {
      "cell_type": "code",
      "execution_count": null,
      "metadata": {
        "id": "-oSQgIeTmr2M",
        "outputId": "faf191df-1385-4253-bce4-d2ee1ac87077"
      },
      "outputs": [
        {
          "name": "stdout",
          "output_type": "stream",
          "text": [
            "2\n",
            "10\n",
            "12\n"
          ]
        }
      ],
      "source": [
        "# 223\n",
        "\n",
        "def print_even(list):\n",
        "    for i in list:\n",
        "        if i%2 == 0:\n",
        "            print(i)\n",
        "\n",
        "print_even([1,3,2,10,12,11,15])"
      ]
    },
    {
      "cell_type": "code",
      "execution_count": null,
      "metadata": {
        "id": "pdC5DDyamr2M",
        "outputId": "fb848481-8416-409a-f20e-2ebda4d127e4"
      },
      "outputs": [
        {
          "name": "stdout",
          "output_type": "stream",
          "text": [
            "이름\n",
            "나이\n",
            "성별\n"
          ]
        }
      ],
      "source": [
        "# 224\n",
        "\n",
        "def print_keys(dict):\n",
        "    for i in dict.keys():\n",
        "        print(i)\n",
        "\n",
        "print_keys({\"이름\":\"김말똥\", \"나이\":30, \"성별\":0})\n",
        "\n",
        "# keys()는 딕셔너리의 key값들을 모아 하나의 객체로 돌려준다.\n",
        "# 리스트와 같은 형태[]를 하고 있지만 리스트가 아니다. (리스트 고유 함수들 사용X)"
      ]
    },
    {
      "cell_type": "code",
      "execution_count": null,
      "metadata": {
        "id": "1wgQp3_qmr2N",
        "outputId": "c42e0b3e-580c-414b-8cef-772eb48fee85"
      },
      "outputs": [
        {
          "name": "stdout",
          "output_type": "stream",
          "text": [
            "[100, 130, 100, 100]\n"
          ]
        }
      ],
      "source": [
        "# 225\n",
        "\n",
        "my_dict = {\"10/26\" : [100, 130, 100, 100],\n",
        "           \"10/27\" : [10, 12, 10, 11]}\n",
        "\n",
        "def print_value_by_key(dict,date):\n",
        "    print(dict[date])\n",
        "\n",
        "print_value_by_key(my_dict, \"10/26\")\n",
        "\n"
      ]
    },
    {
      "cell_type": "code",
      "execution_count": null,
      "metadata": {
        "id": "dVkpob-Hmr2N",
        "outputId": "f8dcc60e-6246-4ea6-dc40-7bb116f2e09f"
      },
      "outputs": [
        {
          "name": "stdout",
          "output_type": "stream",
          "text": [
            "아이엠어보\n",
            "이유알어걸\n"
          ]
        }
      ],
      "source": [
        "# 226\n",
        "\n",
        "def print_5xn(str):\n",
        "    import textwrap\n",
        "    alist = textwrap.wrap(str, width=5)\n",
        "    print ('\\n'.join(alist))\n",
        "\n",
        "print_5xn(\"아이엠어보이유알어걸\")\n",
        "\n",
        "\n",
        "# a.join()함수는 문자열 각각의 문자 사이에 일정한 a를 삽입해준다.\n",
        "# 하지만 '리스트'에서 사용될 경우, 리스트 안 원소들 사이에 일정한 a를 삽입한 뒤 하나의 문자열로 합쳐준다.\n",
        "# 둘 차이를 잊지 말자!\n"
      ]
    },
    {
      "cell_type": "code",
      "execution_count": null,
      "metadata": {
        "id": "yVL9kAzlmr2N",
        "outputId": "061caea5-8b5b-497b-d756-0422aa118563"
      },
      "outputs": [
        {
          "name": "stdout",
          "output_type": "stream",
          "text": [
            "아이엠어보\n",
            "이유알어걸\n"
          ]
        }
      ],
      "source": [
        "# textwrap.fill() 함수를 사용하면 이 과정을 한번으로 줄일 수 있다.\n",
        "\n",
        "def print_5xn(str):\n",
        "    import textwrap\n",
        "    alist = textwrap.fill(str, width=5)\n",
        "    print (alist)\n",
        "\n",
        "print_5xn(\"아이엠어보이유알어걸\")"
      ]
    },
    {
      "cell_type": "markdown",
      "metadata": {
        "id": "ya9RV9qImr2N"
      },
      "source": [
        "# textwrap.wrap()\n",
        "\n",
        "**기본 형태**\n",
        "   \n",
        "    import textwrap\n",
        "    textwrap.wrap(long_text, width=n)\n",
        "\n",
        "긴 문자열을 width 길이만큼 자르고 이를 리스트로 만들어 변환해준다. \n",
        "\n",
        "\n",
        "# textwrap.fill()\n",
        "긴 문자열을 width 길이만큼 자르고 자른 단위만큼 줄바꿈 해준다.\n",
        "\n"
      ]
    },
    {
      "cell_type": "code",
      "source": [
        "# 226 - 2\n",
        "\n",
        "def print_5xn(str):\n",
        "  num = int(len(str)/5)\n",
        "  for i in range(num+1):  # int로 카운트 되지 않은 나머지 글자들을 포함하기 위해 +1 해준다.\n",
        "    print(str[i*5:i*5+5])\n",
        "\n",
        "print_5xn(\"아이엠어보이유알어걸맨\")"
      ],
      "metadata": {
        "colab": {
          "base_uri": "https://localhost:8080/"
        },
        "id": "x7q0MsKc09iw",
        "outputId": "37c43fbd-cdcf-4b30-eec6-96abab8542dd"
      },
      "execution_count": 16,
      "outputs": [
        {
          "output_type": "stream",
          "name": "stdout",
          "text": [
            "아이엠어보\n",
            "이유알어걸\n",
            "맨\n"
          ]
        }
      ]
    },
    {
      "cell_type": "code",
      "execution_count": null,
      "metadata": {
        "id": "fi7QU7ddmr2O",
        "outputId": "c39085c2-29e1-42b3-c226-5c532ab91c93"
      },
      "outputs": [
        {
          "name": "stdout",
          "output_type": "stream",
          "text": [
            "아이엠\n",
            "어보이\n",
            "유알어\n",
            "걸\n"
          ]
        }
      ],
      "source": [
        "# 227\n",
        "\n",
        "def print_mxn(str, a):\n",
        "    import textwrap\n",
        "    print(textwrap.fill(str, width=a))\n",
        "\n",
        "print_mxn(\"아이엠어보이유알어걸\", 3)\n"
      ]
    },
    {
      "cell_type": "code",
      "source": [
        "# 227 - 2\n",
        "\n",
        "def print_mxn(str,n):\n",
        "  num = int(len(str)/n)\n",
        "  for i in range(num+1):\n",
        "    print(str[n*i:n*i+n])\n",
        "\n",
        "print_mxn(\"아이엠어보이유알어걸\",3)"
      ],
      "metadata": {
        "colab": {
          "base_uri": "https://localhost:8080/"
        },
        "id": "rzgQirTZ2Tpf",
        "outputId": "f356e6f6-cc1e-4cfd-946f-7298b80e1071"
      },
      "execution_count": 19,
      "outputs": [
        {
          "output_type": "stream",
          "name": "stdout",
          "text": [
            "아이엠\n",
            "어보이\n",
            "유알어\n",
            "걸\n"
          ]
        }
      ]
    },
    {
      "cell_type": "code",
      "execution_count": null,
      "metadata": {
        "id": "7SfXqcmkmr2O",
        "outputId": "88c17836-f6fe-4ae0-d4e3-54f4d4c16a58"
      },
      "outputs": [
        {
          "name": "stdout",
          "output_type": "stream",
          "text": [
            "1000000\n"
          ]
        }
      ],
      "source": [
        "# 228\n",
        "\n",
        "def calc_monthly_salary(salary):\n",
        "    print(int(salary/12))\n",
        "\n",
        "calc_monthly_salary(12000000)"
      ]
    },
    {
      "cell_type": "code",
      "execution_count": null,
      "metadata": {
        "id": "UE2qE5uYmr2P",
        "outputId": "ccc50a0b-0540-44b2-c1e2-07b562cc352c"
      },
      "outputs": [
        {
          "name": "stdout",
          "output_type": "stream",
          "text": [
            "왼쪽: 100\n",
            "오른쪽: 200\n"
          ]
        }
      ],
      "source": [
        "# 229\n",
        "\n",
        "#답: 왼쪽: 100 \n",
        "# 오른쪽: 200\n",
        "\n",
        "def my_print (a, b) :\n",
        "    print(\"왼쪽:\", a)\n",
        "    print(\"오른쪽:\", b)\n",
        "\n",
        "my_print(a=100, b=200)  # 매개변수를 지정하여 호출하기\n",
        "\n",
        "# 보통은 '인수'는 함수를 호출할 때 매개변수에 순서대로 전달하는 입력값이지만,\n",
        "# 위 문제와 같이 인수 자리에 직접 매개변수를 지정하여 호출할 수도 있다.\n",
        "# 매개변수를 직접 지정하면 입력 순서에 상관없이 사용할 수 있다.\n"
      ]
    },
    {
      "cell_type": "code",
      "execution_count": null,
      "metadata": {
        "id": "Yai7YtHomr2P",
        "outputId": "21a44b0e-1f44-4166-eb4e-22495fba7cb2"
      },
      "outputs": [
        {
          "name": "stdout",
          "output_type": "stream",
          "text": [
            "왼쪽: 200\n",
            "오른쪽: 100\n"
          ]
        }
      ],
      "source": [
        "# 230\n",
        "\n",
        "# 답: 왼쪽: 200 \n",
        "# 오른쪽: 100\n",
        "\n",
        "def my_print (a, b) :\n",
        "    print(\"왼쪽:\", a)\n",
        "    print(\"오른쪽:\", b)\n",
        "\n",
        "my_print(b=100, a=200)"
      ]
    }
  ],
  "metadata": {
    "kernelspec": {
      "display_name": "Python 3.9.13 ('base')",
      "language": "python",
      "name": "python3"
    },
    "language_info": {
      "codemirror_mode": {
        "name": "ipython",
        "version": 3
      },
      "file_extension": ".py",
      "mimetype": "text/x-python",
      "name": "python",
      "nbconvert_exporter": "python",
      "pygments_lexer": "ipython3",
      "version": "3.9.13"
    },
    "orig_nbformat": 4,
    "vscode": {
      "interpreter": {
        "hash": "42a3cfd936dca6cd9134016eb9598fa6c0736d544a7437139bac2f86277545e6"
      }
    },
    "colab": {
      "provenance": [],
      "include_colab_link": true
    }
  },
  "nbformat": 4,
  "nbformat_minor": 0
}