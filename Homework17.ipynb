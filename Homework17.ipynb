{
  "cells": [
    {
      "cell_type": "markdown",
      "metadata": {
        "id": "view-in-github",
        "colab_type": "text"
      },
      "source": [
        "<a href=\"https://colab.research.google.com/github/yesolcho/Python-class/blob/main/Homework17.ipynb\" target=\"_parent\"><img src=\"https://colab.research.google.com/assets/colab-badge.svg\" alt=\"Open In Colab\"/></a>"
      ]
    },
    {
      "cell_type": "code",
      "execution_count": null,
      "metadata": {
        "id": "jpoDuCOGcBjM"
      },
      "outputs": [],
      "source": [
        "# 251\n",
        "\n",
        "# 클래스: 함수를 담아둔 일종의 설계도. 클래스를 이용해 객체를 찍어낸다.\n",
        "# 객체: 클래스로 만들어 낸 별개의 계산기. 객체들은 서로 독립적으로 각각의 역할을 수행한다.\n",
        "# 인스턴스: 특정 객체가 어떤 클래스의 객체인지 관계 위주로 설명하는 용어\n",
        "\n",
        "# a = Cookie() : 'a객체는 Cookie클래스의 인스턴스다.'"
      ]
    },
    {
      "cell_type": "code",
      "execution_count": null,
      "metadata": {
        "id": "_hN7mFINcBjO"
      },
      "outputs": [],
      "source": [
        "# 252\n",
        "\n",
        "class Human:   # class 소문자 제발...\n",
        "    pass"
      ]
    },
    {
      "cell_type": "code",
      "execution_count": null,
      "metadata": {
        "id": "z_aNsoPecBjO"
      },
      "outputs": [],
      "source": [
        "# 253\n",
        "\n",
        "class Human:\n",
        "    pass\n",
        "\n",
        "areum = Human()"
      ]
    },
    {
      "cell_type": "code",
      "execution_count": 2,
      "metadata": {
        "id": "UE0Fi0_9cBjO",
        "outputId": "1a70614f-0b54-4b83-c128-8e4c7ff51d5e",
        "colab": {
          "base_uri": "https://localhost:8080/"
        }
      },
      "outputs": [
        {
          "output_type": "stream",
          "name": "stdout",
          "text": [
            "응애응애\n"
          ]
        }
      ],
      "source": [
        "# 254\n",
        "\n",
        "# '생성자'를 추가하라고 했으니 init을 써야함.\n",
        "# init은 객체 생성과 동시에 실행되기 때문에 따로 호출하지 않아도 하위 코드가 실행된다.\n",
        "\n",
        "class Human:\n",
        "    def __init__(self):\n",
        "      print(\"응애응애\")\n",
        "\n",
        "areum = Human()"
      ]
    },
    {
      "cell_type": "code",
      "execution_count": 4,
      "metadata": {
        "id": "GDkgH2CTcBjP",
        "colab": {
          "base_uri": "https://localhost:8080/",
          "height": 35
        },
        "outputId": "667c2670-47fa-4679-9465-b72eca99bf6f"
      },
      "outputs": [
        {
          "output_type": "execute_result",
          "data": {
            "text/plain": [
              "'아름'"
            ],
            "application/vnd.google.colaboratory.intrinsic+json": {
              "type": "string"
            }
          },
          "metadata": {},
          "execution_count": 4
        }
      ],
      "source": [
        "# 255 *\n",
        "\n",
        "class Human:\n",
        "    def __init__(self,name,age,gender):\n",
        "        self.name = name\n",
        "        self.age = age\n",
        "        self.gender = gender\n",
        "    \n",
        "areum = Human(\"아름\", 25, \"여자\")\n",
        "areum.name"
      ]
    },
    {
      "cell_type": "code",
      "execution_count": null,
      "metadata": {
        "id": "Y0GqipkBcBjP",
        "outputId": "77249242-6169-401a-a5cc-40485bae7f18"
      },
      "outputs": [
        {
          "name": "stdout",
          "output_type": "stream",
          "text": [
            "아름\n",
            "25\n",
            "여자\n"
          ]
        }
      ],
      "source": [
        "# 256 *\n",
        "\n",
        "class Human:\n",
        "    def __init__(self,name,age,gender):\n",
        "        self.name = name\n",
        "        self.age = age\n",
        "        self.gender = gender\n",
        "    \n",
        "areum = Human(\"아름\", 25, \"여자\")\n",
        "\n",
        "print(areum.name)\n",
        "print(areum.age)\n",
        "print(areum.gender)"
      ]
    },
    {
      "cell_type": "code",
      "execution_count": 6,
      "metadata": {
        "id": "cMeJTzqjcBjQ",
        "outputId": "6aa2727d-4ba4-4e1e-943c-cfc31e0b0fc1",
        "colab": {
          "base_uri": "https://localhost:8080/"
        }
      },
      "outputs": [
        {
          "output_type": "stream",
          "name": "stdout",
          "text": [
            "이름: 아름, 나이: 25, 성별: 여자\n"
          ]
        }
      ],
      "source": [
        "# 257 *\n",
        "\n",
        "#'추가'하라고 했으니 기존 메소드를 이어가자.\n",
        "\n",
        "class Human:\n",
        "\n",
        "    def __init__(self,name,age,gender):\n",
        "        self.name = name\n",
        "        self.age = age\n",
        "        self.gender = gender\n",
        "\n",
        "    def who(self):\n",
        "        print(f\"이름: {self.name}, 나이: {self.age}, 성별: {self.gender}\")\n",
        "        \n",
        "areum = Human(\"아름\", 25, \"여자\")\n",
        "\n",
        "areum.who()"
      ]
    },
    {
      "cell_type": "code",
      "execution_count": 10,
      "metadata": {
        "id": "xvyq3GfIcBjQ",
        "outputId": "9af2d498-0e5a-4a91-9bbe-58cfc1d76860",
        "colab": {
          "base_uri": "https://localhost:8080/"
        }
      },
      "outputs": [
        {
          "output_type": "stream",
          "name": "stdout",
          "text": [
            "이름: 모름, 나이: 0, 성별: 모름\n",
            "이름: 아름, 나이: 25, 성별: 여자\n"
          ]
        }
      ],
      "source": [
        "# 258 *\n",
        "\n",
        "class Human:\n",
        "\n",
        "    def __init__(self,name,age,gender):\n",
        "        self.name = name\n",
        "        self.age = age\n",
        "        self.gender = gender\n",
        "\n",
        "    def who(self):\n",
        "        print(f\"이름: {self.name}, 나이: {self.age}, 성별: {self.gender}\")\n",
        "\n",
        "    def setinfo(self,name,age,gender):\n",
        "        self.name = name\n",
        "        self.age = age\n",
        "        self.gender = gender\n",
        "        \n",
        "\n",
        "areum = Human(\"모름\", 0, \"모름\")\n",
        "areum.who()\n",
        "\n",
        "areum.setinfo(\"아름\",25,\"여자\")   # setinfo 메소드를 통해 새로운 인자를 받으면서 변수들이 다시 세팅됨.\n",
        "areum.who()"
      ]
    },
    {
      "cell_type": "markdown",
      "metadata": {
        "id": "J9mdTX-scBjQ"
      },
      "source": [
        "255~258번 문제가 무엇을 묻는지 정확히 이해하기가 어렵다...\n",
        "답안지가 나오면 꼭 보면서 공부하기."
      ]
    },
    {
      "cell_type": "markdown",
      "metadata": {
        "id": "z8UEJSvucBjR"
      },
      "source": [
        "# 소멸자\n",
        "\n",
        "객체가 소멸할 때 호출된다.\n",
        "\n",
        "        class 클래스명:\n",
        "            ...\n",
        "            def _ _ del _ _ (self):\n",
        "                문장\n",
        "                ...\n",
        "\n",
        "        del 객체명 또는 del(객체)\n"
      ]
    },
    {
      "cell_type": "code",
      "execution_count": 13,
      "metadata": {
        "id": "L6DCQFcUcBjR",
        "outputId": "f038e589-8527-4522-d3d2-1bc0365107b6",
        "colab": {
          "base_uri": "https://localhost:8080/"
        }
      },
      "outputs": [
        {
          "output_type": "stream",
          "name": "stdout",
          "text": [
            "나의 죽음을 알리지 말라.\n"
          ]
        }
      ],
      "source": [
        "# 259\n",
        "\n",
        "class Human:\n",
        "\n",
        "    def __init__(self,name,age,gender):\n",
        "        self.name = name\n",
        "        self.age = age\n",
        "        self.gender = gender\n",
        "\n",
        "    def who(self):\n",
        "        print(f\"이름: {self.name}, 나이: {self.age}, 성별: {self.gender}\")\n",
        "\n",
        "    def setinfo(self,name,age,gender):\n",
        "        self.name = name\n",
        "        self.age = age\n",
        "        self.gender = gender\n",
        "\n",
        "    def __del__(self):\n",
        "        print(\"나의 죽음을 알리지 말라.\")\n",
        "        \n",
        "\n",
        "areum = Human(\"아름\",25,\"여자\")\n",
        "del(areum)"
      ]
    },
    {
      "cell_type": "code",
      "execution_count": 16,
      "metadata": {
        "id": "8iPMMF5ycBjR",
        "colab": {
          "base_uri": "https://localhost:8080/"
        },
        "outputId": "def3fde5-7327-4d47-9e29-f28f548985ef"
      },
      "outputs": [
        {
          "output_type": "stream",
          "name": "stdout",
          "text": [
            "Oh my god\n"
          ]
        }
      ],
      "source": [
        "# 260 *\n",
        "\n",
        "#답: print 매서드를 호출한 '객체 myStock'가 전달될 매개변수(위치인자)가 없기 때문이다.\n",
        "# 메서드의 첫 번째 매개변수에는 객체를 호출할 때 호출한 객체 자신이 전달된다.\n",
        "# 따라서 def print(self)로 수정해야 한다.\n",
        "\n",
        "class OMG :\n",
        "    def print(self) :\n",
        "        print(\"Oh my god\")\n",
        "\n",
        "myStock = OMG()\n",
        "\n",
        "myStock.print()\n"
      ]
    },
    {
      "cell_type": "code",
      "execution_count": null,
      "metadata": {
        "id": "E1VcnALKcBjS"
      },
      "outputs": [],
      "source": [
        "# 261\n",
        "\n",
        "class Stock:\n",
        "    pass"
      ]
    },
    {
      "cell_type": "code",
      "execution_count": null,
      "metadata": {
        "id": "ccNGLjvvcBjS"
      },
      "outputs": [],
      "source": [
        "# 262\n",
        "\n",
        "class Stock:\n",
        "    def __init__(self,name,code):\n",
        "        self.name = name\n",
        "        self.code = code\n",
        "\n",
        "삼성 = Stock(\"삼성전자\", \"005930\")"
      ]
    },
    {
      "cell_type": "code",
      "execution_count": 17,
      "metadata": {
        "id": "I88vmQaOcBjS",
        "outputId": "58240d6f-c5a5-4a03-f4a1-c4b52c1df9e2",
        "colab": {
          "base_uri": "https://localhost:8080/",
          "height": 35
        }
      },
      "outputs": [
        {
          "output_type": "execute_result",
          "data": {
            "text/plain": [
              "'삼성전자'"
            ],
            "application/vnd.google.colaboratory.intrinsic+json": {
              "type": "string"
            }
          },
          "metadata": {},
          "execution_count": 17
        }
      ],
      "source": [
        "# 263\n",
        "\n",
        "class Stock:\n",
        "    def __init__(self,name,code):\n",
        "        self.name = name\n",
        "        self.code = code\n",
        "\n",
        "    def set_name(self,name):\n",
        "        self.name = name\n",
        "\n",
        "a = Stock(None,None)  #None이라 쓰면 아무것도 뜨지 않는다.\n",
        "\n",
        "a.set_name(\"삼성전자\")   # 새로 인자가 투입되면서 변수가 갱신됨.\n",
        "a.name"
      ]
    },
    {
      "cell_type": "code",
      "execution_count": null,
      "metadata": {
        "id": "6RMcHBALcBjS",
        "outputId": "9c2d8308-6fd8-44f6-f50d-26d19c6e6c2a"
      },
      "outputs": [
        {
          "data": {
            "text/plain": [
              "'005930'"
            ]
          },
          "execution_count": 56,
          "metadata": {},
          "output_type": "execute_result"
        }
      ],
      "source": [
        "# 264\n",
        "\n",
        "class Stock:\n",
        "    def __init__(self,name,code):\n",
        "        self.name = name\n",
        "        self.code = code\n",
        "\n",
        "    def set_name(self,name):\n",
        "        self.name = name\n",
        "\n",
        "    def set_code(self,code):\n",
        "        self.code = code\n",
        "\n",
        "a = Stock(None,None)\n",
        "\n",
        "a.set_code(\"005930\")\n",
        "a.code"
      ]
    },
    {
      "cell_type": "code",
      "execution_count": null,
      "metadata": {
        "id": "SPGNb7BpcBjT",
        "outputId": "7d40d191-4e3d-4023-d006-affba844a70e"
      },
      "outputs": [
        {
          "name": "stdout",
          "output_type": "stream",
          "text": [
            "삼성전자\n",
            "005930\n"
          ]
        }
      ],
      "source": [
        "# 265\n",
        "\n",
        "class Stock:\n",
        "    def __init__(self,name,code):\n",
        "        self.name = name\n",
        "        self.code = code\n",
        "\n",
        "    def set_name(self,name):\n",
        "        self.name = name\n",
        "\n",
        "    def set_code(self,code):\n",
        "        self.code = code\n",
        "\n",
        "    def get_name(self):\n",
        "        return self.name\n",
        "\n",
        "    def get_code(self):\n",
        "        return self.code\n",
        "\n",
        "삼성 = Stock(\"삼성전자\", \"005930\")\n",
        "\n",
        "print(삼성.get_name())\n",
        "print(삼성.get_code())"
      ]
    },
    {
      "cell_type": "code",
      "execution_count": null,
      "metadata": {
        "id": "yU6xVKlgcBjT"
      },
      "outputs": [],
      "source": [
        "# 266\n",
        "\n",
        "class Stock:\n",
        "    def __init__(self,name,code,PER,PBR,div):\n",
        "        self.name = name\n",
        "        self.code = code\n",
        "        self.PER = PER\n",
        "        self.PBR = PBR\n",
        "        self.div = div\n",
        "\n",
        "    def set_name(self,name):\n",
        "        self.name = name\n",
        "\n",
        "    def set_code(self,code):\n",
        "        self.code = code\n",
        "\n",
        "    def get_name(self):\n",
        "        return self.name\n",
        "\n",
        "    def get_code(self):\n",
        "        return self.code"
      ]
    },
    {
      "cell_type": "code",
      "execution_count": null,
      "metadata": {
        "id": "w_PAPQNKcBjT",
        "outputId": "50a136db-4582-4856-8db7-5242b218f0f6"
      },
      "outputs": [
        {
          "name": "stdout",
          "output_type": "stream",
          "text": [
            "<class '__main__.Stock'>\n"
          ]
        }
      ],
      "source": [
        "# 267\n",
        "\n",
        "class Stock:\n",
        "    def __init__(self,name,code,PER,PBR,div):\n",
        "        self.name = name\n",
        "        self.code = code\n",
        "        self.PER = PER\n",
        "        self.PBR = PBR\n",
        "        self.div = div\n",
        "\n",
        "    def set_name(self,name):\n",
        "        self.name = name\n",
        "\n",
        "    def set_code(self,code):\n",
        "        self.code = code\n",
        "\n",
        "    def get_name(self):\n",
        "        return self.name\n",
        "\n",
        "    def get_code(self):\n",
        "        return self.code\n",
        "\n",
        "a = Stock(\"삼성전자\",\"005930\",15.79,1.33,2.83)\n",
        "\n",
        "print(type(a))"
      ]
    },
    {
      "cell_type": "code",
      "execution_count": null,
      "metadata": {
        "id": "sSl89TNXcBjU"
      },
      "outputs": [],
      "source": [
        "# 268\n",
        "\n",
        "class Stock:\n",
        "    def __init__(self,name,code,PER,PBR,div):\n",
        "        self.name = name\n",
        "        self.code = code\n",
        "        self.PER = PER\n",
        "        self.PBR = PBR\n",
        "        self.div = div\n",
        "\n",
        "    def set_name(self,name):\n",
        "        self.name = name\n",
        "\n",
        "    def set_code(self,code):\n",
        "        self.code = code\n",
        "\n",
        "    def get_name(self):\n",
        "        return self.name\n",
        "\n",
        "    def get_code(self):\n",
        "        return self.code\n",
        "\n",
        "    def set_per(self,PER):\n",
        "        self.PER = PER\n",
        "\n",
        "    def set_pbr(self,PBR):\n",
        "        self.PBR = PBR\n",
        "\n",
        "    def set_dividend(self,div):\n",
        "        self.div = div\n",
        "\n",
        "a = Stock(\"삼성전자\",\"005930\",15.79,1.33,2.83)"
      ]
    },
    {
      "cell_type": "code",
      "execution_count": null,
      "metadata": {
        "id": "KYE-N7DAcBjU",
        "outputId": "a579b174-cd9e-4542-eefc-300320f0e5dd"
      },
      "outputs": [
        {
          "name": "stdout",
          "output_type": "stream",
          "text": [
            "12.75\n"
          ]
        }
      ],
      "source": [
        "# 269\n",
        "\n",
        "class Stock:\n",
        "    def __init__(self,name,code,PER,PBR,div):\n",
        "        self.name = name\n",
        "        self.code = code\n",
        "        self.PER = PER\n",
        "        self.PBR = PBR\n",
        "        self.div = div\n",
        "\n",
        "    def set_name(self,name):\n",
        "        self.name = name\n",
        "\n",
        "    def set_code(self,code):\n",
        "        self.code = code\n",
        "\n",
        "    def get_name(self):\n",
        "        return self.name\n",
        "\n",
        "    def get_code(self):\n",
        "        return self.code\n",
        "\n",
        "    def set_per(self,PER):\n",
        "        self.PER = PER\n",
        "\n",
        "    def set_pbr(self,PBR):\n",
        "        self.PBR = PBR\n",
        "\n",
        "    def set_dividend(self,div):\n",
        "        self.div = div\n",
        "\n",
        "a = Stock(\"삼성전자\",\"005930\",15.79,1.33,2.83)\n",
        "\n",
        "a.set_per(12.75)\n",
        "print(a.PER)"
      ]
    },
    {
      "cell_type": "code",
      "execution_count": null,
      "metadata": {
        "id": "mHyOBK_rcBjV",
        "outputId": "a872de33-4b7f-48e1-95bc-857706b08b31"
      },
      "outputs": [
        {
          "name": "stdout",
          "output_type": "stream",
          "text": [
            "005930\n",
            "15.79\n",
            "005380\n",
            "8.7\n",
            "066570\n",
            "317.34\n"
          ]
        }
      ],
      "source": [
        "# 270\n",
        "\n",
        "class Stock:\n",
        "    def __init__(self,name,code,PER,PBR,div):\n",
        "        self.name = name\n",
        "        self.code = code\n",
        "        self.PER = PER\n",
        "        self.PBR = PBR\n",
        "        self.div = div\n",
        "\n",
        "    def set_name(self,name):\n",
        "        self.name = name\n",
        "\n",
        "    def set_code(self,code):\n",
        "        self.code = code\n",
        "\n",
        "    def get_name(self):\n",
        "        return self.name\n",
        "\n",
        "    def get_code(self):\n",
        "        return self.code\n",
        "\n",
        "    def set_per(self,PER):\n",
        "        self.PER = PER\n",
        "\n",
        "    def set_pbr(self,PBR):\n",
        "        self.PBR = PBR\n",
        "\n",
        "    def set_dividend(self,div):\n",
        "        self.div = div\n",
        "\n",
        "a = Stock(\"삼성전자\",\"005930\",15.79,1.33,2.83)\n",
        "b = Stock(\"현대차\",\"005380\",8.7,0.35,4.27)\n",
        "c = Stock(\"LG전자\",\"066570\",317.34,0.69,1.37)\n",
        "\n",
        "list = [a,b,c]   #객체도 리스트에 들어가는구나!\n",
        "\n",
        "for i in list:   # Stock 클레스의 객체를 i가 바인딩\n",
        "    print(i.code)\n",
        "    print(i.PER)"
      ]
    },
    {
      "cell_type": "code",
      "source": [
        "# 270 - 1\n",
        "\n",
        "a = Stock(\"삼성전자\",\"005930\",15.79,1.33,2.83)\n",
        "b = Stock(\"현대차\",\"005380\",8.7,0.35,4.27)\n",
        "c = Stock(\"LG전자\",\"066570\",317.34,0.69,1.37)\n",
        "\n",
        "list = []\n",
        "\n",
        "list.append(a)\n",
        "list.append(b)\n",
        "list.append(c)\n",
        "\n",
        "for i in list:\n",
        "  print(i.code, i.PER)\n"
      ],
      "metadata": {
        "id": "N9zDe9VJjTWF"
      },
      "execution_count": null,
      "outputs": []
    }
  ],
  "metadata": {
    "kernelspec": {
      "display_name": "Python 3.9.13 ('base')",
      "language": "python",
      "name": "python3"
    },
    "language_info": {
      "codemirror_mode": {
        "name": "ipython",
        "version": 3
      },
      "file_extension": ".py",
      "mimetype": "text/x-python",
      "name": "python",
      "nbconvert_exporter": "python",
      "pygments_lexer": "ipython3",
      "version": "3.9.13"
    },
    "orig_nbformat": 4,
    "vscode": {
      "interpreter": {
        "hash": "42a3cfd936dca6cd9134016eb9598fa6c0736d544a7437139bac2f86277545e6"
      }
    },
    "colab": {
      "provenance": [],
      "include_colab_link": true
    }
  },
  "nbformat": 4,
  "nbformat_minor": 0
}