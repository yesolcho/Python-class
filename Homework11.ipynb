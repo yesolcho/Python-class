{
  "cells": [
    {
      "cell_type": "markdown",
      "metadata": {
        "id": "view-in-github",
        "colab_type": "text"
      },
      "source": [
        "<a href=\"https://colab.research.google.com/github/yesolcho/Python-class/blob/main/Homework11.ipynb\" target=\"_parent\"><img src=\"https://colab.research.google.com/assets/colab-badge.svg\" alt=\"Open In Colab\"/></a>"
      ]
    },
    {
      "cell_type": "code",
      "execution_count": null,
      "metadata": {
        "id": "xIGBMoUuYrfZ",
        "outputId": "e3dc99c6-ce7f-4d92-c530-202f07392316"
      },
      "outputs": [
        {
          "name": "stdout",
          "output_type": "stream",
          "text": [
            "32100\n",
            "32150\n",
            "32000\n",
            "32500\n"
          ]
        }
      ],
      "source": [
        "# 171\n",
        "\n",
        "price_list = [32100, 32150, 32000, 32500]\n",
        "\n",
        "for i in range(0,4):\n",
        "    print(price_list[i])"
      ]
    },
    {
      "cell_type": "code",
      "source": [
        "# 171 - 2\n",
        "\n",
        "# len()함수를 이용하면 price_list가 변해도 코드 수정이 필요없다.\n",
        "# 따라서 len()함수를 이용하는 게 더 좋은 코드이다.\n",
        "\n",
        "price_list = [32100, 32150, 32000, 32500]\n",
        "\n",
        "for i in range(len(price_list)):\n",
        "  print(price_list[i])"
      ],
      "metadata": {
        "colab": {
          "base_uri": "https://localhost:8080/"
        },
        "id": "ou4VNEYxKxdg",
        "outputId": "0061817d-7474-4c60-cce0-f72a60c741f5"
      },
      "execution_count": null,
      "outputs": [
        {
          "output_type": "stream",
          "name": "stdout",
          "text": [
            "32100\n",
            "32150\n",
            "32000\n",
            "32500\n"
          ]
        }
      ]
    },
    {
      "cell_type": "code",
      "execution_count": null,
      "metadata": {
        "id": "zGQLRTzmYrfc",
        "outputId": "2ba0aa62-f132-4a42-8ffb-56b4c8658b5f"
      },
      "outputs": [
        {
          "name": "stdout",
          "output_type": "stream",
          "text": [
            "0 32100\n",
            "1 32150\n",
            "2 32000\n",
            "3 32500\n"
          ]
        }
      ],
      "source": [
        "# 172\n",
        "\n",
        "price_list = [32100, 32150, 32000, 32500]\n",
        "\n",
        "for i in range(0,4):\n",
        "    print(i, price_list[i])"
      ]
    },
    {
      "cell_type": "markdown",
      "source": [
        "# enumberate()\n",
        "\n",
        "j나 k같은 인덱스 변수 없이도 for 루프를 돌릴 수 있게 해주는 함수. 인덱스와 원소로 이루어진 튜플을 만들어준다.\n",
        "\n",
        "형태:\n",
        "\n",
        "    for i **in enumerate()**:\n",
        "\n",
        "인덱스와 원소를 각각 다른 변수에 할당하고 싶다면 unpacking을 해줘야 한다. \n",
        "\n",
        "    for **i, letter** in enumerate():\n",
        "        print(i, letter)\n",
        "\n",
        "\n",
        "인덱스를 원하는 숫자로 시작하는 방법: start인자에 시작하고 싶은 숫자를 넘긴다.\n",
        "\n",
        "    for **i, letter** in enumerate( , start = n):\n"
      ],
      "metadata": {
        "id": "2no0CA8qDQmr"
      }
    },
    {
      "cell_type": "code",
      "source": [
        "# 172 - 2\n",
        "\n",
        "price_list = [32100, 32150, 32000, 32500]\n",
        "\n",
        "for i, num in enumerate(price_list):\n",
        "  print(i, num)"
      ],
      "metadata": {
        "colab": {
          "base_uri": "https://localhost:8080/"
        },
        "id": "G4OSeBWdJJ7h",
        "outputId": "d3c8a68c-c913-4175-cf9e-b00843121954"
      },
      "execution_count": null,
      "outputs": [
        {
          "output_type": "stream",
          "name": "stdout",
          "text": [
            "0 32100\n",
            "1 32150\n",
            "2 32000\n",
            "3 32500\n"
          ]
        }
      ]
    },
    {
      "cell_type": "code",
      "execution_count": null,
      "metadata": {
        "id": "QnP-kv8kYrfc",
        "outputId": "29296fae-e565-490e-a83c-e04eac2e5b0e"
      },
      "outputs": [
        {
          "name": "stdout",
          "output_type": "stream",
          "text": [
            "3 32100\n",
            "2 32150\n",
            "1 32000\n",
            "0 32500\n"
          ]
        }
      ],
      "source": [
        "# 173\n",
        "\n",
        "price_list = [32100, 32150, 32000, 32500]\n",
        "\n",
        "for i in range(0,4):\n",
        "    print(3-i, price_list[i])"
      ]
    },
    {
      "cell_type": "code",
      "source": [
        "# 173 - 2\n",
        "\n",
        "price_list = [32100, 32150, 32000, 32500]\n",
        "\n",
        "for i in range(len(price_list)):\n",
        "  print((len(price_list)-1)-i,price_list[i])"
      ],
      "metadata": {
        "colab": {
          "base_uri": "https://localhost:8080/"
        },
        "id": "hhCLMz0hLTKr",
        "outputId": "e8c6a543-5706-4b4f-b144-c199b3555f5b"
      },
      "execution_count": null,
      "outputs": [
        {
          "output_type": "stream",
          "name": "stdout",
          "text": [
            "3 32100\n",
            "2 32150\n",
            "1 32000\n",
            "0 32500\n"
          ]
        }
      ]
    },
    {
      "cell_type": "code",
      "execution_count": null,
      "metadata": {
        "id": "T6mRCwQoYrfc",
        "outputId": "867ae7cc-db95-4196-cccb-e9f4506caa18"
      },
      "outputs": [
        {
          "name": "stdout",
          "output_type": "stream",
          "text": [
            "100 32150\n",
            "110 32000\n",
            "120 32500\n"
          ]
        }
      ],
      "source": [
        "# 174\n",
        "\n",
        "price_list = [32100, 32150, 32000, 32500]\n",
        "\n",
        "for i in range(1,4):\n",
        "    print(100+10*(i-1), price_list[i])   # print(90+10*i,price_list[i])"
      ]
    },
    {
      "cell_type": "code",
      "execution_count": null,
      "metadata": {
        "id": "bMjNnDdFYrfd",
        "outputId": "7cbf63ac-9ca8-465b-d27f-eb92765254b5",
        "colab": {
          "base_uri": "https://localhost:8080/"
        }
      },
      "outputs": [
        {
          "output_type": "stream",
          "name": "stdout",
          "text": [
            "가 나\n",
            "나 다\n",
            "다 라\n"
          ]
        }
      ],
      "source": [
        "# 175\n",
        "\n",
        "my_list = [\"가\", \"나\", \"다\", \"라\"]\n",
        "\n",
        "for i in range(0,3):  # for i in range(len(my_list)):\n",
        "    print(my_list[i],my_list[i+1])"
      ]
    },
    {
      "cell_type": "code",
      "execution_count": null,
      "metadata": {
        "id": "MznoxFSVYrfd",
        "outputId": "e379f7c7-aa42-419a-87d2-9b32efbe7be3",
        "colab": {
          "base_uri": "https://localhost:8080/"
        }
      },
      "outputs": [
        {
          "output_type": "stream",
          "name": "stdout",
          "text": [
            "가 나 다\n",
            "나 다 라\n",
            "다 라 마\n"
          ]
        }
      ],
      "source": [
        "# 176\n",
        "\n",
        "my_list = [\"가\", \"나\", \"다\", \"라\", \"마\"]\n",
        "\n",
        "for i in range(len(my_list)-2):\n",
        "    print(my_list[i],my_list[i+1],my_list[i+2])\n",
        "\n",
        "\n",
        "# for i in range( 1, len(my_list) - 1 ):\n",
        "#   print(my_list[i-1], my_list[i], my_list[i+1])\n",
        "\n",
        "\n",
        "# for i in range( 2, len(my_list) ):\n",
        "#   print(my_list[i-2], my_list[i-1], my_list[i])\n"
      ]
    },
    {
      "cell_type": "code",
      "execution_count": null,
      "metadata": {
        "id": "tFWAZZaqYrfd",
        "outputId": "652f44c6-0f86-4569-8150-36d4141de57f",
        "colab": {
          "base_uri": "https://localhost:8080/"
        }
      },
      "outputs": [
        {
          "output_type": "stream",
          "name": "stdout",
          "text": [
            "라 다\n",
            "다 나\n",
            "나 가\n"
          ]
        }
      ],
      "source": [
        "# 177\n",
        "\n",
        "my_list = [\"가\", \"나\", \"다\", \"라\"]\n",
        "\n",
        "for i in range(len(my_list)-1):\n",
        "    print(my_list[3-i],my_list[2-i])   # print(my_list[len(my_list)-1-i], my_list[len(my_list)-2-i])"
      ]
    },
    {
      "cell_type": "code",
      "execution_count": null,
      "metadata": {
        "id": "caU4Z_K8Yrfe",
        "outputId": "0f5caa31-aa4c-4eba-dd5a-7776b1f0abb0",
        "colab": {
          "base_uri": "https://localhost:8080/"
        }
      },
      "outputs": [
        {
          "output_type": "stream",
          "name": "stdout",
          "text": [
            "100\n",
            "200\n",
            "400\n"
          ]
        }
      ],
      "source": [
        "# 178\n",
        "\n",
        "my_list = [100, 200, 400, 800]\n",
        "\n",
        "for i in range(len(my_list)-1):\n",
        "    print(my_list[i+1] - my_list[i])"
      ]
    },
    {
      "cell_type": "code",
      "execution_count": null,
      "metadata": {
        "id": "J07YYobnYrfe",
        "outputId": "20302e27-580b-4d25-cf2e-b97ffb7922e8",
        "colab": {
          "base_uri": "https://localhost:8080/"
        }
      },
      "outputs": [
        {
          "output_type": "stream",
          "name": "stdout",
          "text": [
            "233.33333333333334\n",
            "466.6666666666667\n",
            "733.3333333333334\n",
            "1033.3333333333333\n"
          ]
        }
      ],
      "source": [
        "# 179\n",
        "\n",
        "my_list = [100, 200, 400, 800, 1000, 1300]\n",
        "\n",
        "for i in range(len(my_list)-2):\n",
        "    print(sum(my_list[i:i+3])/3)   #sum()함수를 리스트 슬라이싱에도 사용 가능하네 우와!"
      ]
    },
    {
      "cell_type": "code",
      "execution_count": null,
      "metadata": {
        "id": "lvptFae4Yrfe",
        "outputId": "cc0c008a-1581-4486-e277-7e18dffac8c1"
      },
      "outputs": [
        {
          "name": "stdout",
          "output_type": "stream",
          "text": [
            "[50, 100, 30, 80, 0]\n"
          ]
        }
      ],
      "source": [
        "# 180\n",
        "\n",
        "low_prices  = [100, 200, 400, 800, 1000]\n",
        "high_prices = [150, 300, 430, 880, 1000]\n",
        "\n",
        "volatility = []\n",
        "\n",
        "for i in range(len(low_prices)):\n",
        "    vol = high_prices[i]-low_prices[i]\n",
        "    volatility.append(vol)\n",
        "\n",
        "print(volatility)\n"
      ]
    },
    {
      "cell_type": "code",
      "execution_count": null,
      "metadata": {
        "id": "gcgGJXoRYrfe",
        "outputId": "be9e76ba-b263-4a18-a25f-ba231f4126ae"
      },
      "outputs": [
        {
          "name": "stdout",
          "output_type": "stream",
          "text": [
            "[['101호', '102호'], ['201호', '202호'], ['301호', '302호']]\n"
          ]
        }
      ],
      "source": [
        "# 181\n",
        "\n",
        "apart = [[\"101호\",\"102호\"],[\"201호\",\"202호\"],[\"301호\",\"302호\"]]\n",
        "print(apart)"
      ]
    },
    {
      "cell_type": "code",
      "execution_count": null,
      "metadata": {
        "id": "sWYPa-JzYrff",
        "outputId": "37efa6bb-cb63-4d70-998d-dc25bdc000f3",
        "colab": {
          "base_uri": "https://localhost:8080/"
        }
      },
      "outputs": [
        {
          "output_type": "stream",
          "name": "stdout",
          "text": [
            "[['시가', 100, 200, 300], ['종가', 80, 210, 330]]\n"
          ]
        }
      ],
      "source": [
        "# 182\n",
        "\n",
        "stock = [[\"시가\",100,200,300],[\"종가\",80,210,330]]\n",
        "print(stock)"
      ]
    },
    {
      "cell_type": "code",
      "execution_count": null,
      "metadata": {
        "id": "uePLR_2_Yrff",
        "outputId": "f0669f11-fbbf-446f-d20c-32e06e88064b"
      },
      "outputs": [
        {
          "name": "stdout",
          "output_type": "stream",
          "text": [
            "{'시가': [100, 200, 300], '종가': [80, 210, 330]}\n"
          ]
        }
      ],
      "source": [
        "# 183\n",
        "\n",
        "stock = {\"시가\":[100,200,300],\"종가\":[80,210,330]}\n",
        "\n",
        "print(stock)"
      ]
    },
    {
      "cell_type": "code",
      "execution_count": null,
      "metadata": {
        "id": "MHOKQR2VYrff",
        "outputId": "dc34fc2d-4cea-4529-ff2d-0df349fda846"
      },
      "outputs": [
        {
          "name": "stdout",
          "output_type": "stream",
          "text": [
            "{'10/10': [80, 110, 70, 90], '10/11': [210, 230, 190, 200]}\n"
          ]
        }
      ],
      "source": [
        "# 184\n",
        "\n",
        "stock = {\"10/10\":[80,110,70,90],\"10/11\":[210,230,190,200]}\n",
        "\n",
        "print(stock)"
      ]
    },
    {
      "cell_type": "code",
      "execution_count": null,
      "metadata": {
        "id": "7-dZUGDIYrff",
        "outputId": "af0370bc-6baa-40b9-a83c-0ebc2e87e5d0"
      },
      "outputs": [
        {
          "name": "stdout",
          "output_type": "stream",
          "text": [
            "101 호\n",
            "102 호\n",
            "201 호\n",
            "202 호\n",
            "301 호\n",
            "302 호\n"
          ]
        }
      ],
      "source": [
        "# 185\n",
        "\n",
        "apart = [ [101, 102], [201, 202], [301, 302] ]\n",
        "\n",
        "for i in range(3):\n",
        "    for j in range(2):\n",
        "        print(apart[i][j],\"호\")"
      ]
    },
    {
      "cell_type": "code",
      "source": [
        "# 185 -2\n",
        "\n",
        "apart = [ [101, 102], [201, 202], [301, 302] ]\n",
        "\n",
        "for floor in apart:\n",
        "  for room in floor:\n",
        "    print(room, \"호\")"
      ],
      "metadata": {
        "colab": {
          "base_uri": "https://localhost:8080/"
        },
        "id": "tnq06DJfTSja",
        "outputId": "bff852fb-fd68-453f-bdfb-9051b039f750"
      },
      "execution_count": null,
      "outputs": [
        {
          "output_type": "stream",
          "name": "stdout",
          "text": [
            "101 호\n",
            "102 호\n",
            "201 호\n",
            "202 호\n",
            "301 호\n",
            "302 호\n"
          ]
        }
      ]
    },
    {
      "cell_type": "code",
      "execution_count": null,
      "metadata": {
        "id": "f9RqxgSgYrff",
        "outputId": "e34402a7-5b32-42e6-a51f-1dd84b8222e5"
      },
      "outputs": [
        {
          "name": "stdout",
          "output_type": "stream",
          "text": [
            "301 호\n",
            "302 호\n",
            "201 호\n",
            "202 호\n",
            "101 호\n",
            "102 호\n"
          ]
        }
      ],
      "source": [
        "# 186\n",
        "\n",
        "apart = [ [101, 102], [201, 202], [301, 302] ]\n",
        "\n",
        "for i in range(3):\n",
        "    for j in range(2):\n",
        "        print(apart[2-i][j],\"호\")"
      ]
    },
    {
      "cell_type": "code",
      "source": [
        "# 186 - 2\n",
        "\n",
        "apart = [ [101, 102], [201, 202], [301, 302] ]\n",
        "\n",
        "for floor in apart[::-1]:\n",
        "  for room in floor:\n",
        "    print(room, \"호\")"
      ],
      "metadata": {
        "colab": {
          "base_uri": "https://localhost:8080/"
        },
        "id": "qYH9AUSSTq9K",
        "outputId": "9dc68dbc-e366-4593-cd3f-6bed1d4f4caa"
      },
      "execution_count": null,
      "outputs": [
        {
          "output_type": "stream",
          "name": "stdout",
          "text": [
            "301 호\n",
            "302 호\n",
            "201 호\n",
            "202 호\n",
            "101 호\n",
            "102 호\n"
          ]
        }
      ]
    },
    {
      "cell_type": "code",
      "execution_count": null,
      "metadata": {
        "id": "GzenUWgoYrfg",
        "outputId": "decf5066-257a-40bc-9680-7920ab09d33c"
      },
      "outputs": [
        {
          "name": "stdout",
          "output_type": "stream",
          "text": [
            "302 호\n",
            "301 호\n",
            "202 호\n",
            "201 호\n",
            "102 호\n",
            "101 호\n"
          ]
        }
      ],
      "source": [
        "# 187\n",
        "\n",
        "apart = [ [101, 102], [201, 202], [301, 302] ]\n",
        "\n",
        "for i in range(3):\n",
        "    for j in range(2):\n",
        "        print(apart[2-i][1-j],\"호\")"
      ]
    },
    {
      "cell_type": "code",
      "source": [
        "# 187 - 2\n",
        "\n",
        "apart = [ [101, 102], [201, 202], [301, 302] ]\n",
        "\n",
        "for floor in apart[::-1]:\n",
        "  for room in floor[::-1]:\n",
        "    print(room,\"호\")"
      ],
      "metadata": {
        "colab": {
          "base_uri": "https://localhost:8080/"
        },
        "id": "XwRz-q5kT9H6",
        "outputId": "a36ed3bd-5ffd-42a5-8859-0c33b06be909"
      },
      "execution_count": null,
      "outputs": [
        {
          "output_type": "stream",
          "name": "stdout",
          "text": [
            "302 호\n",
            "301 호\n",
            "202 호\n",
            "201 호\n",
            "102 호\n",
            "101 호\n"
          ]
        }
      ]
    },
    {
      "cell_type": "code",
      "execution_count": null,
      "metadata": {
        "id": "zJG2IBq2Yrfg",
        "outputId": "a925cf2f-31e0-4f27-add1-37ac3a732d2c"
      },
      "outputs": [
        {
          "name": "stdout",
          "output_type": "stream",
          "text": [
            "101 호\n",
            "-----\n",
            "102 호\n",
            "-----\n",
            "201 호\n",
            "-----\n",
            "202 호\n",
            "-----\n",
            "301 호\n",
            "-----\n",
            "302 호\n",
            "-----\n"
          ]
        }
      ],
      "source": [
        "# 188\n",
        "\n",
        "apart = [ [101, 102], [201, 202], [301, 302] ]\n",
        "\n",
        "for i in range(3):\n",
        "    for j in range(2):\n",
        "            print(apart[i][j],\"호\");print(\"-----\")"
      ]
    },
    {
      "cell_type": "code",
      "source": [
        "# 188 - 2\n",
        "\n",
        "apart = [ [101, 102], [201, 202], [301, 302] ]\n",
        "\n",
        "for floor in apart:\n",
        "  for room in floor:\n",
        "    print(room,\"호\")\n",
        "    print(\"-----\")"
      ],
      "metadata": {
        "colab": {
          "base_uri": "https://localhost:8080/"
        },
        "id": "yUAXVrnSUK7V",
        "outputId": "3ef39933-5c96-4922-e01e-782651548915"
      },
      "execution_count": null,
      "outputs": [
        {
          "output_type": "stream",
          "name": "stdout",
          "text": [
            "101 호\n",
            "-----\n",
            "102 호\n",
            "-----\n",
            "201 호\n",
            "-----\n",
            "202 호\n",
            "-----\n",
            "301 호\n",
            "-----\n",
            "302 호\n",
            "-----\n"
          ]
        }
      ]
    },
    {
      "cell_type": "code",
      "execution_count": null,
      "metadata": {
        "id": "ceGSbHnHYrfg",
        "outputId": "267c9323-d8d4-4519-fba5-08eb7cb1b9c8"
      },
      "outputs": [
        {
          "name": "stdout",
          "output_type": "stream",
          "text": [
            "101 호\n",
            "102 호\n",
            "-----\n",
            "201 호\n",
            "202 호\n",
            "-----\n",
            "301 호\n",
            "302 호\n",
            "-----\n"
          ]
        }
      ],
      "source": [
        "# 189\n",
        "\n",
        "apart = [ [101, 102], [201, 202], [301, 302] ]\n",
        "\n",
        "for i in range(3):\n",
        "    for j in range(2):\n",
        "            print(apart[i][j],\"호\")\n",
        "    print(\"-----\")"
      ]
    },
    {
      "cell_type": "code",
      "source": [
        "# 189 - 2\n",
        "\n",
        "apart = [ [101, 102], [201, 202], [301, 302] ]\n",
        "\n",
        "for floor in apart:\n",
        "  for room in floor:\n",
        "    print(room, \"호\")\n",
        "  print(\"-\"*5)"
      ],
      "metadata": {
        "colab": {
          "base_uri": "https://localhost:8080/"
        },
        "id": "Cyo5Is5JUeDl",
        "outputId": "8c7ae711-7c96-4e34-f64b-04fb74b18bfc"
      },
      "execution_count": null,
      "outputs": [
        {
          "output_type": "stream",
          "name": "stdout",
          "text": [
            "101 호\n",
            "102 호\n",
            "-----\n",
            "201 호\n",
            "202 호\n",
            "-----\n",
            "301 호\n",
            "302 호\n",
            "-----\n"
          ]
        }
      ]
    },
    {
      "cell_type": "code",
      "execution_count": null,
      "metadata": {
        "id": "_kMbH8DIYrfg",
        "outputId": "31d4d9ec-065f-4fcd-e7d4-1565bc86215f"
      },
      "outputs": [
        {
          "name": "stdout",
          "output_type": "stream",
          "text": [
            "101 호\n",
            "102 호\n",
            "201 호\n",
            "202 호\n",
            "301 호\n",
            "302 호\n",
            "-----\n"
          ]
        }
      ],
      "source": [
        "# 190\n",
        "\n",
        "apart = [ [101, 102], [201, 202], [301, 302] ]\n",
        "\n",
        "for i in range(3):\n",
        "    for j in range(2):\n",
        "            print(apart[i][j],\"호\")\n",
        "print(\"-----\")"
      ]
    },
    {
      "cell_type": "code",
      "source": [
        "# 190 - 2\n",
        "\n",
        "apart = [ [101, 102], [201, 202], [301, 302] ]\n",
        "\n",
        "\n",
        "for floor in apart:\n",
        "  for room in floor:\n",
        "    print(room, \"호\")\n",
        "print(\"-\"*5)"
      ],
      "metadata": {
        "colab": {
          "base_uri": "https://localhost:8080/"
        },
        "id": "6Hbcex6BVaJc",
        "outputId": "14f85d3c-16e0-421a-cb32-41690bab4307"
      },
      "execution_count": null,
      "outputs": [
        {
          "output_type": "stream",
          "name": "stdout",
          "text": [
            "101 호\n",
            "102 호\n",
            "201 호\n",
            "202 호\n",
            "301 호\n",
            "302 호\n",
            "-----\n"
          ]
        }
      ]
    }
  ],
  "metadata": {
    "kernelspec": {
      "display_name": "Python 3.9.13 ('base')",
      "language": "python",
      "name": "python3"
    },
    "language_info": {
      "codemirror_mode": {
        "name": "ipython",
        "version": 3
      },
      "file_extension": ".py",
      "mimetype": "text/x-python",
      "name": "python",
      "nbconvert_exporter": "python",
      "pygments_lexer": "ipython3",
      "version": "3.9.13"
    },
    "orig_nbformat": 4,
    "vscode": {
      "interpreter": {
        "hash": "42a3cfd936dca6cd9134016eb9598fa6c0736d544a7437139bac2f86277545e6"
      }
    },
    "colab": {
      "provenance": [],
      "include_colab_link": true
    }
  },
  "nbformat": 4,
  "nbformat_minor": 0
}