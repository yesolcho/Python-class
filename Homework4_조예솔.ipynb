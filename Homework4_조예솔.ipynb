{
  "nbformat": 4,
  "nbformat_minor": 0,
  "metadata": {
    "colab": {
      "provenance": [],
      "collapsed_sections": [],
      "authorship_tag": "ABX9TyPM66Lwuy8im2Pwl/xTkYV4",
      "include_colab_link": true
    },
    "kernelspec": {
      "name": "python3",
      "display_name": "Python 3"
    },
    "language_info": {
      "name": "python"
    }
  },
  "cells": [
    {
      "cell_type": "markdown",
      "metadata": {
        "id": "view-in-github",
        "colab_type": "text"
      },
      "source": [
        "<a href=\"https://colab.research.google.com/github/yesolcho/Python-class/blob/main/Homework4_%EC%A1%B0%EC%98%88%EC%86%94.ipynb\" target=\"_parent\"><img src=\"https://colab.research.google.com/assets/colab-badge.svg\" alt=\"Open In Colab\"/></a>"
      ]
    },
    {
      "cell_type": "code",
      "execution_count": null,
      "metadata": {
        "colab": {
          "base_uri": "https://localhost:8080/"
        },
        "id": "0qmUxLFcC8NT",
        "outputId": "8effa046-8954-41ea-d57f-1e37edf54491"
      },
      "outputs": [
        {
          "output_type": "stream",
          "name": "stdout",
          "text": [
            "()\n"
          ]
        }
      ],
      "source": [
        "#071\n",
        "\n",
        "my_variable = ()\n",
        "print(my_variable)"
      ]
    },
    {
      "cell_type": "code",
      "source": [
        "#072\n",
        "\n",
        "movie_rank = ('닥터 스트레인지', '스플릿', '럭키')\n",
        "print(movie_rank)"
      ],
      "metadata": {
        "colab": {
          "base_uri": "https://localhost:8080/"
        },
        "id": "kWlZ1RfBFrDP",
        "outputId": "10c2ec08-afeb-48f5-9001-706402c36541"
      },
      "execution_count": null,
      "outputs": [
        {
          "output_type": "stream",
          "name": "stdout",
          "text": [
            "('닥터 스트레인지', '스플릿', '럭키')\n"
          ]
        }
      ]
    },
    {
      "cell_type": "code",
      "source": [
        "#073\n",
        "\n",
        "Tu = (1,)\n",
        "print(Tu)"
      ],
      "metadata": {
        "colab": {
          "base_uri": "https://localhost:8080/"
        },
        "id": "zqonE_2kF0q_",
        "outputId": "f7bf13bf-636a-40bd-ada0-35ee1de693a3"
      },
      "execution_count": null,
      "outputs": [
        {
          "output_type": "stream",
          "name": "stdout",
          "text": [
            "(1,)\n"
          ]
        }
      ]
    },
    {
      "cell_type": "code",
      "source": [
        "#074\n",
        "\n",
        "t = (1, 2, 3)\n",
        "t[0] = 'a'\n",
        "\n",
        "# 원인: 튜플은 immutable한 자료형이기 때문에 원솟값 수정이 불가능하다."
      ],
      "metadata": {
        "colab": {
          "base_uri": "https://localhost:8080/",
          "height": 209
        },
        "id": "InrvwTVCF79x",
        "outputId": "2bfcca7f-3488-4d81-8b8f-f5a8e66169c6"
      },
      "execution_count": null,
      "outputs": [
        {
          "output_type": "error",
          "ename": "TypeError",
          "evalue": "ignored",
          "traceback": [
            "\u001b[0;31m---------------------------------------------------------------------------\u001b[0m",
            "\u001b[0;31mTypeError\u001b[0m                                 Traceback (most recent call last)",
            "\u001b[0;32m<ipython-input-8-11f17ab961cb>\u001b[0m in \u001b[0;36m<module>\u001b[0;34m\u001b[0m\n\u001b[1;32m      2\u001b[0m \u001b[0;34m\u001b[0m\u001b[0m\n\u001b[1;32m      3\u001b[0m \u001b[0mt\u001b[0m \u001b[0;34m=\u001b[0m \u001b[0;34m(\u001b[0m\u001b[0;36m1\u001b[0m\u001b[0;34m,\u001b[0m \u001b[0;36m2\u001b[0m\u001b[0;34m,\u001b[0m \u001b[0;36m3\u001b[0m\u001b[0;34m)\u001b[0m\u001b[0;34m\u001b[0m\u001b[0;34m\u001b[0m\u001b[0m\n\u001b[0;32m----> 4\u001b[0;31m \u001b[0mt\u001b[0m\u001b[0;34m[\u001b[0m\u001b[0;36m0\u001b[0m\u001b[0;34m]\u001b[0m \u001b[0;34m=\u001b[0m \u001b[0;34m'a'\u001b[0m\u001b[0;34m\u001b[0m\u001b[0;34m\u001b[0m\u001b[0m\n\u001b[0m",
            "\u001b[0;31mTypeError\u001b[0m: 'tuple' object does not support item assignment"
          ]
        }
      ]
    },
    {
      "cell_type": "code",
      "source": [
        "#075\n",
        "\n",
        "t = 1,2,3,4,\n",
        "\n",
        "# 답: 튜플 - 튜플은 괄호 생략이 가능하다."
      ],
      "metadata": {
        "id": "T6O-LaJAGO8F"
      },
      "execution_count": null,
      "outputs": []
    },
    {
      "cell_type": "code",
      "source": [
        "#076 ***\n",
        "\n",
        "t = ('a', 'b', 'c')\n",
        "\n",
        "# 튜플->리스트로 바꿔준 뒤, 수정해서 다시 리스트를 튜플로 바꿔주면 된다! 근데 왜 안되지..\n",
        "\n",
        "list(t)\n",
        "t[0] = 'A'\n",
        "tuple(t)"
      ],
      "metadata": {
        "colab": {
          "base_uri": "https://localhost:8080/",
          "height": 227
        },
        "id": "Tw0jS6C7GkxX",
        "outputId": "1158edc8-fc7e-4472-cd98-210b3eef1427"
      },
      "execution_count": null,
      "outputs": [
        {
          "output_type": "error",
          "ename": "TypeError",
          "evalue": "ignored",
          "traceback": [
            "\u001b[0;31m---------------------------------------------------------------------------\u001b[0m",
            "\u001b[0;31mTypeError\u001b[0m                                 Traceback (most recent call last)",
            "\u001b[0;32m<ipython-input-16-51ebb18c1bc9>\u001b[0m in \u001b[0;36m<module>\u001b[0;34m\u001b[0m\n\u001b[1;32m      6\u001b[0m \u001b[0;34m\u001b[0m\u001b[0m\n\u001b[1;32m      7\u001b[0m \u001b[0mlist\u001b[0m\u001b[0;34m(\u001b[0m\u001b[0mt\u001b[0m\u001b[0;34m)\u001b[0m\u001b[0;34m\u001b[0m\u001b[0;34m\u001b[0m\u001b[0m\n\u001b[0;32m----> 8\u001b[0;31m \u001b[0mt\u001b[0m\u001b[0;34m[\u001b[0m\u001b[0;36m0\u001b[0m\u001b[0;34m]\u001b[0m \u001b[0;34m=\u001b[0m \u001b[0;34m'A'\u001b[0m\u001b[0;34m\u001b[0m\u001b[0;34m\u001b[0m\u001b[0m\n\u001b[0m\u001b[1;32m      9\u001b[0m \u001b[0mtuple\u001b[0m\u001b[0;34m(\u001b[0m\u001b[0mt\u001b[0m\u001b[0;34m)\u001b[0m\u001b[0;34m\u001b[0m\u001b[0;34m\u001b[0m\u001b[0m\n",
            "\u001b[0;31mTypeError\u001b[0m: 'tuple' object does not support item assignment"
          ]
        }
      ]
    },
    {
      "cell_type": "code",
      "source": [
        "#077\n",
        "\n",
        "interest = ('삼성전자', 'LG전자', 'SK Hynix')\n",
        "print(list(interest))"
      ],
      "metadata": {
        "colab": {
          "base_uri": "https://localhost:8080/"
        },
        "id": "Y8XUkFVNG344",
        "outputId": "28b26d1e-141f-4dc6-ea5d-06675660bc0f"
      },
      "execution_count": null,
      "outputs": [
        {
          "output_type": "stream",
          "name": "stdout",
          "text": [
            "['삼성전자', 'LG전자', 'SK Hynix']\n"
          ]
        }
      ]
    },
    {
      "cell_type": "markdown",
      "source": [
        "#**튜플-리스트** 변환\n",
        "\n",
        "**리스트->튜플:** tuple(list)\n",
        "\n",
        "**튜플->리스트:** list(tuple)\n"
      ],
      "metadata": {
        "id": "5-7GCuPBIA1H"
      }
    },
    {
      "cell_type": "code",
      "source": [
        "#078\n",
        "\n",
        "interest = ['삼성전자', 'LG전자', 'SK Hynix']\n",
        "print(tuple(interest))"
      ],
      "metadata": {
        "colab": {
          "base_uri": "https://localhost:8080/"
        },
        "id": "dH1gXf6FH2Bb",
        "outputId": "f8691665-caa9-48ea-e301-cfc9d9e2fc87"
      },
      "execution_count": null,
      "outputs": [
        {
          "output_type": "stream",
          "name": "stdout",
          "text": [
            "('삼성전자', 'LG전자', 'SK Hynix')\n"
          ]
        }
      ]
    },
    {
      "cell_type": "code",
      "source": [
        "#079\n",
        "\n",
        "# 답: apple banana cake\n",
        "\n",
        "temp = ('apple', 'banana', 'cake')\n",
        "a, b, c = temp\n",
        "print(a, b, c)"
      ],
      "metadata": {
        "colab": {
          "base_uri": "https://localhost:8080/"
        },
        "id": "IlIIXNU5LVMu",
        "outputId": "9b04ddbc-77f4-4e5a-b0c8-2e0b9fea9c50"
      },
      "execution_count": null,
      "outputs": [
        {
          "output_type": "stream",
          "name": "stdout",
          "text": [
            "apple banana cake\n"
          ]
        }
      ]
    },
    {
      "cell_type": "markdown",
      "source": [
        "#**튜플 언팩킹**\n",
        "\n",
        "튜플은 언팩킹해서 각 변수에 튜플 값들을 할당할 수 있다.\n",
        "\n",
        "위 79번 문제의 경우\n",
        "a = apple\n",
        "b = banana\n",
        "c = cake\n",
        "\n",
        "1. 사용되지 않거나 필요없는 변수는 언더스코어(_) 표시를 한다.\n",
        "ex) a, _, c = temp\n",
        "\n",
        "2. 변수명 앞에 * 표시를 하면 여러 개의 값을 갖는 리스트가 된다.\n",
        "\n"
      ],
      "metadata": {
        "id": "VtaNg1UfMyc7"
      }
    },
    {
      "cell_type": "code",
      "source": [
        "#080\n",
        "\n",
        "a = range(2,99,2)\n",
        "print(tuple(a))\n",
        "\n",
        "# range함수를 어떤 자료형으로 표현할지 print 출력시 기입하자!"
      ],
      "metadata": {
        "colab": {
          "base_uri": "https://localhost:8080/"
        },
        "id": "fSbNOpD7Ncr0",
        "outputId": "4d88b845-f1ae-47ae-eb5a-00e2155427b4"
      },
      "execution_count": null,
      "outputs": [
        {
          "output_type": "stream",
          "name": "stdout",
          "text": [
            "(2, 4, 6, 8, 10, 12, 14, 16, 18, 20, 22, 24, 26, 28, 30, 32, 34, 36, 38, 40, 42, 44, 46, 48, 50, 52, 54, 56, 58, 60, 62, 64, 66, 68, 70, 72, 74, 76, 78, 80, 82, 84, 86, 88, 90, 92, 94, 96, 98)\n"
          ]
        }
      ]
    },
    {
      "cell_type": "markdown",
      "source": [
        "#**range 함수**\n",
        "\n",
        "파이썬의 range함수는 특정 구간의 숫자의 범위를 만들어주는 함수.\n",
        "\n",
        "a = range(A) : 0부터 A-1까지의 숫자 출력\n",
        "\n",
        "a = range(A,B) : A부터 B-1까지의 숫자 출력\n",
        "\n",
        "a = range(A,B,C) : A부터 C만큼의 간격으로 B-1까지의 숫자를 출력"
      ],
      "metadata": {
        "id": "qM6PMq6QNvLL"
      }
    },
    {
      "cell_type": "code",
      "source": [
        "#081 ***\n",
        "\n",
        "scores = [8.8, 8.9, 8.7, 9.2, 9.3, 9.7, 9.9, 9.5, 7.8, 9.4]\n",
        "*valid_score,a,b = scores\n",
        "print(valid_score)"
      ],
      "metadata": {
        "colab": {
          "base_uri": "https://localhost:8080/"
        },
        "id": "_1ickhoOsIil",
        "outputId": "03ba056d-3515-4e6b-8967-7cf85f5a8a42"
      },
      "execution_count": null,
      "outputs": [
        {
          "output_type": "stream",
          "name": "stdout",
          "text": [
            "[8.8, 8.9, 8.7, 9.2, 9.3, 9.7, 9.9, 9.5]\n"
          ]
        }
      ]
    },
    {
      "cell_type": "code",
      "source": [
        "#082 ***\n",
        "\n",
        "scores = [8.8, 8.9, 8.7, 9.2, 9.3, 9.7, 9.9, 9.5, 7.8, 9.4]\n",
        "a,b,*valid_score = scores\n",
        "print(valid_score)"
      ],
      "metadata": {
        "colab": {
          "base_uri": "https://localhost:8080/"
        },
        "id": "voy2PVt3ulZ3",
        "outputId": "25adcf89-1bcf-470f-d413-ab81d08c1b17"
      },
      "execution_count": null,
      "outputs": [
        {
          "output_type": "stream",
          "name": "stdout",
          "text": [
            "[8.7, 9.2, 9.3, 9.7, 9.9, 9.5, 7.8, 9.4]\n"
          ]
        }
      ]
    },
    {
      "cell_type": "code",
      "source": [
        "#083\n",
        "\n",
        "scores = [8.8, 8.9, 8.7, 9.2, 9.3, 9.7, 9.9, 9.5, 7.8, 9.4]\n",
        "a,*valid_score,b =scores\n",
        "print(valid_score)"
      ],
      "metadata": {
        "id": "A_RKptxlvWCk",
        "colab": {
          "base_uri": "https://localhost:8080/"
        },
        "outputId": "532adf98-b1d6-4681-cbc7-5a8a038c0809"
      },
      "execution_count": null,
      "outputs": [
        {
          "output_type": "stream",
          "name": "stdout",
          "text": [
            "[8.9, 8.7, 9.2, 9.3, 9.7, 9.9, 9.5, 7.8]\n"
          ]
        }
      ]
    },
    {
      "cell_type": "code",
      "source": [
        "#084\n",
        "\n",
        "temp = {}"
      ],
      "metadata": {
        "id": "BzMPyarGvWx5"
      },
      "execution_count": null,
      "outputs": []
    },
    {
      "cell_type": "code",
      "source": [
        "#085\n",
        "\n",
        "dic = {'메로나':1000,'폴라포':1200,'빵빠레':1800}\n",
        "print(dic)"
      ],
      "metadata": {
        "colab": {
          "base_uri": "https://localhost:8080/"
        },
        "id": "IcoWIV0CvssR",
        "outputId": "b9972a4c-0afd-4092-bf38-d1ec6580d7c7"
      },
      "execution_count": null,
      "outputs": [
        {
          "output_type": "stream",
          "name": "stdout",
          "text": [
            "{'메로나': 1000, '폴라포': 1200, '빵빠레': 1800}\n"
          ]
        }
      ]
    },
    {
      "cell_type": "code",
      "source": [
        "#086\n",
        "\n",
        "dic = {'메로나':1000,'폴라포':1200,'빵빠레':1800}\n",
        "dic['죠스바'] = 1200\n",
        "dic['월드콘'] = 1500\n",
        "print(dic)"
      ],
      "metadata": {
        "colab": {
          "base_uri": "https://localhost:8080/"
        },
        "id": "c6IqZbVjvW1k",
        "outputId": "2a85ce8f-15f5-4711-82fd-5f0622ad4c5c"
      },
      "execution_count": null,
      "outputs": [
        {
          "output_type": "stream",
          "name": "stdout",
          "text": [
            "{'메로나': 1000, '폴라포': 1200, '빵빠레': 1800, '죠스바': 1200, '월드콘': 1500}\n"
          ]
        }
      ]
    },
    {
      "cell_type": "code",
      "source": [
        "#087\n",
        "\n",
        "ice = {'메로나': 1000,\n",
        "       '폴로포': 1200,\n",
        "       '빵빠레': 1800,\n",
        "       '죠스바': 1200,\n",
        "       '월드콘': 1500}\n",
        "print(\"메로나 가격:\",ice['메로나'])"
      ],
      "metadata": {
        "colab": {
          "base_uri": "https://localhost:8080/"
        },
        "id": "hoyhLcoBktNM",
        "outputId": "7cff70b0-6760-40fd-b2de-77a929306877"
      },
      "execution_count": null,
      "outputs": [
        {
          "output_type": "stream",
          "name": "stdout",
          "text": [
            "메로나 가격: 1000\n"
          ]
        }
      ]
    },
    {
      "cell_type": "code",
      "source": [
        "#088\n",
        "\n",
        "ice = {'메로나': 1000,\n",
        "       '폴로포': 1200,\n",
        "       '빵빠레': 1800,\n",
        "       '죠스바': 1200,\n",
        "       '월드콘': 1500}\n",
        "ice['메로나'] = 1300\n",
        "print(ice)"
      ],
      "metadata": {
        "colab": {
          "base_uri": "https://localhost:8080/"
        },
        "id": "vdK2u97alb9T",
        "outputId": "c16b22ad-6c01-443c-b787-9683d43fced0"
      },
      "execution_count": null,
      "outputs": [
        {
          "output_type": "stream",
          "name": "stdout",
          "text": [
            "{'메로나': 1300, '폴로포': 1200, '빵빠레': 1800, '죠스바': 1200, '월드콘': 1500}\n"
          ]
        }
      ]
    },
    {
      "cell_type": "code",
      "source": [
        "#089\n",
        "\n",
        "ice = {'메로나': 1000,\n",
        "       '폴로포': 1200,\n",
        "       '빵빠레': 1800,\n",
        "       '죠스바': 1200,\n",
        "       '월드콘': 1500}\n",
        "\n",
        "del ice['메로나']\n",
        "print(ice)"
      ],
      "metadata": {
        "colab": {
          "base_uri": "https://localhost:8080/"
        },
        "id": "d7yTQN61miKI",
        "outputId": "413c31aa-8a6c-4bc2-ef6c-32695bb6e331"
      },
      "execution_count": null,
      "outputs": [
        {
          "output_type": "stream",
          "name": "stdout",
          "text": [
            "{'폴로포': 1200, '빵빠레': 1800, '죠스바': 1200, '월드콘': 1500}\n"
          ]
        }
      ]
    },
    {
      "cell_type": "code",
      "source": [
        "#090\n",
        "\n",
        "icecream = {'폴라포': 1200, '빵빠레': 1800, '월드콘': 1500, '메로나': 1000}\n",
        "icecream['누가바']\n",
        "\n",
        "# 딕셔너리에 '누가바'라는 key값이 없기 때문에."
      ],
      "metadata": {
        "colab": {
          "base_uri": "https://localhost:8080/"
        },
        "id": "X_q7ZnthmpkW",
        "outputId": "20014bb1-086e-4bf2-9dfc-795928e54f09"
      },
      "execution_count": null,
      "outputs": [
        {
          "output_type": "execute_result",
          "data": {
            "text/plain": [
              "1200"
            ]
          },
          "metadata": {},
          "execution_count": 12
        }
      ]
    }
  ]
}