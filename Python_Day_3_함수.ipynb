{
  "nbformat": 4,
  "nbformat_minor": 0,
  "metadata": {
    "colab": {
      "provenance": [],
      "authorship_tag": "ABX9TyMoeFAs2mIPPlhS7aaUAJYV",
      "include_colab_link": true
    },
    "kernelspec": {
      "name": "python3",
      "display_name": "Python 3"
    },
    "language_info": {
      "name": "python"
    }
  },
  "cells": [
    {
      "cell_type": "markdown",
      "metadata": {
        "id": "view-in-github",
        "colab_type": "text"
      },
      "source": [
        "<a href=\"https://colab.research.google.com/github/yesolcho/Python-class/blob/main/Python_Day_3_%ED%95%A8%EC%88%98.ipynb\" target=\"_parent\"><img src=\"https://colab.research.google.com/assets/colab-badge.svg\" alt=\"Open In Colab\"/></a>"
      ]
    },
    {
      "cell_type": "markdown",
      "source": [
        "# (+)NFT\n",
        "\n",
        "대체 불가 고유성을 판매하는 플랫폼\n",
        "\n",
        "블록체인, 이더리움 계좌\n",
        "\n",
        "이더리움 = 가상화폐\n",
        "\n",
        "\n",
        "이더리움 지갑 세팅 -> 집에서는 import\n",
        "\n",
        "가장 큰 NFT 거래소: OpenSea \n",
        "\n",
        "올리는 건 polygon에. 돈은 이더리움으로.\n",
        "\n",
        "이렇게 판매 등록하는 과정을 '민팅'이라고 한다."
      ],
      "metadata": {
        "id": "U6W9PDLMa7AA"
      }
    },
    {
      "cell_type": "markdown",
      "source": [
        "#(++) vsCode\n",
        "\n",
        "모든 언어를 다 다룰 수 있다. 강추!!!\n",
        "\n",
        "파이썬 쓰는 걸 도와주는 거지 파이썬을 갖고 있는 건 아니다.\n",
        "\n",
        "파일 -> open folder -> 내문서에 Python class만들기\n",
        "\n",
        "문서 버튼 -> 오픈 에디터 -> 새 파일 -> hello.py -> print(\"Hello World\") -> 파이썬 깔아주기\n",
        "\n",
        "디버깅 없이 실행(컨트롤 F5)\n",
        "\n",
        "\n",
        "\n",
        "**아나콘다로 파이썬을 깔아서 충돌할 경우**\n",
        "\n",
        "vscode가 아나콘다를 인식 못함. 따라서 아나콘다에서 vscode를 들어간다. 그래도 이 방법일 경우도 vs는 깔아둬야한다.\n",
        "\n",
        "아나콘다에서 직접 vs코드로 들어간다. 이후 동일\n",
        "\n",
        "흰화면 -> 네모네모 -> theme -> winter is coming\n",
        "\n",
        "\n",
        "\n",
        "**반드시 .py 로 만들어야 한다.**\n",
        "하지만 vs코드에서 공부할 때 좋게 셀 단위로 쓸 수 있다. => **.ipynb**"
      ],
      "metadata": {
        "id": "7pNQMvWyga0A"
      }
    },
    {
      "cell_type": "markdown",
      "source": [
        "# 함수 Fuction\n",
        "\n",
        "수학에서의 함수와 거의 같은 개념. (ex) 2x + 1 = y\n",
        "\n",
        "왜 사용하나? => 프로그래밍을 하다보면 반복되는 비슷한 작업을 할 때가 많다. (반복문을 반복하고 ...) 이럴때 함수를 사용하면 불필요한 반복적인 코드 사용을 줄일 수 있다.\n",
        "\n",
        "한번 작성한 코드를 나중에 다른 프로그램을 작성할 때 그대로 가져다가 사용할 수 있다. 따라서 효율성을 높이는 방법으로 함수를 사용하여 다른 프로젝트에서도 재사용한다.\n",
        "\n",
        "\n",
        "**함수의 기본형**\n",
        "\n",
        "    def 함수 이름(매개변수):\n",
        "\n",
        "     return 수행 구문\n",
        "\n"
      ],
      "metadata": {
        "id": "-z-ClCiGhRa_"
      }
    },
    {
      "cell_type": "code",
      "source": [
        "def add(a, b):\n",
        "    return a+b  #믹서기\n",
        "\n",
        "print(add(1,3))"
      ],
      "metadata": {
        "colab": {
          "base_uri": "https://localhost:8080/"
        },
        "id": "nW-fcIFHq7bB",
        "outputId": "91da19ef-d5b5-40c4-fefc-a453b92024d6"
      },
      "execution_count": 2,
      "outputs": [
        {
          "output_type": "stream",
          "name": "stdout",
          "text": [
            "4\n"
          ]
        }
      ]
    },
    {
      "cell_type": "markdown",
      "source": [
        "# 함수의 4가지 형태\n",
        "\n",
        "- input, output 모두 있는 형태 (가장 많이 사용)\n",
        "\n",
        "\n",
        "- input, output 모두 없는 형태\n",
        "\n",
        "\n",
        "- input만 있는 형태\n",
        "\n",
        "\n",
        "- output만 있는 형태"
      ],
      "metadata": {
        "id": "fn5mM_OWsqHi"
      }
    },
    {
      "cell_type": "code",
      "source": [
        "#input, output 모두 있는 형태 (가장 많이 사용)\n",
        "\n",
        "def add(a,b):   #a,b : input\n",
        "    return a+b   #return : output\n",
        "\n",
        "print(add(1,4))"
      ],
      "metadata": {
        "colab": {
          "base_uri": "https://localhost:8080/"
        },
        "id": "Gm3LvM6ItH_5",
        "outputId": "c6778708-eb43-49cd-b8fd-a6abaa064877"
      },
      "execution_count": 3,
      "outputs": [
        {
          "output_type": "stream",
          "name": "stdout",
          "text": [
            "5\n"
          ]
        }
      ]
    },
    {
      "cell_type": "code",
      "source": [
        "#input, output 모두 없는 형태\n",
        "\n",
        "def say():   # 괄호 안에 매개변수가 없으니 input도 없다.\n",
        "    print(\"hello\")   #리턴 키워드가 없으니 output이 없이 찌꺼기만 찍혀나옴. 기능만.\n",
        "\n",
        "say()"
      ],
      "metadata": {
        "colab": {
          "base_uri": "https://localhost:8080/"
        },
        "id": "ClRSR4AFtU4R",
        "outputId": "69474a47-4c54-466d-83a7-19b49c0d94e9"
      },
      "execution_count": 5,
      "outputs": [
        {
          "output_type": "stream",
          "name": "stdout",
          "text": [
            "hello\n"
          ]
        }
      ]
    },
    {
      "cell_type": "code",
      "source": [
        "#input만 있는 형태\n",
        "\n",
        "def inputonly(name):\n",
        "    print(name, \"님 환영합니다.\")   #return이 없으니 output이 없다.\n",
        "\n",
        "inputonly(\"홍길동\")    # 매개변수가 문자라면 \"\" 를 써서 인수를 입력해야한다."
      ],
      "metadata": {
        "colab": {
          "base_uri": "https://localhost:8080/"
        },
        "id": "OeFgwNCXuDPg",
        "outputId": "047f46f6-0c8e-46bd-bf23-00c9115b1545"
      },
      "execution_count": 9,
      "outputs": [
        {
          "output_type": "stream",
          "name": "stdout",
          "text": [
            "홍길동 님 환영합니다.\n"
          ]
        }
      ]
    },
    {
      "cell_type": "code",
      "source": [
        "#output만 있는 형태\n",
        "\n",
        "def outputonly():\n",
        "    return \"hello world.\"\n",
        "\n",
        "outputonly()"
      ],
      "metadata": {
        "colab": {
          "base_uri": "https://localhost:8080/",
          "height": 35
        },
        "id": "UBCtWE-fuxNA",
        "outputId": "98beb251-62c3-4793-a58a-3479f745359c"
      },
      "execution_count": 10,
      "outputs": [
        {
          "output_type": "execute_result",
          "data": {
            "text/plain": [
              "'hello world.'"
            ],
            "application/vnd.google.colaboratory.intrinsic+json": {
              "type": "string"
            }
          },
          "metadata": {},
          "execution_count": 10
        }
      ]
    },
    {
      "cell_type": "code",
      "source": [
        "# 입력값들의 합을 만드는 함수\n",
        "\n",
        "def sumf1(a,b):\n",
        "    return a+b\n",
        "\n",
        "print(sumf1(1,2))\n",
        "\n",
        "\n",
        "def sumf2(a,b,c):\n",
        "    return a+b+c\n",
        "\n",
        "print(sumf2(1,2,3))"
      ],
      "metadata": {
        "colab": {
          "base_uri": "https://localhost:8080/"
        },
        "id": "S6Jxh6pMwK1Z",
        "outputId": "ce997912-e05c-4f97-a57d-b48f44f4c868"
      },
      "execution_count": 11,
      "outputs": [
        {
          "output_type": "stream",
          "name": "stdout",
          "text": [
            "3\n",
            "6\n"
          ]
        }
      ]
    },
    {
      "cell_type": "code",
      "source": [
        "#함수의 인수의 갯수가 일정하지 않을 경우 처리 방법 특징\n",
        "\n",
        "def sumf(*args):   #rgs : 여러개를 뜻하는 함수\n",
        "    result = 0\n",
        "    for i in args:\n",
        "        result = result + i\n",
        "    return result\n",
        "\n",
        "print(sumf(1,2))\n",
        "print(sumf(1,2,3))"
      ],
      "metadata": {
        "id": "GIjcMIOyw3J4"
      },
      "execution_count": null,
      "outputs": []
    },
    {
      "cell_type": "code",
      "source": [
        "# 함수의 결과값은 언제나 '하나'라는 특징\n",
        "\n",
        "def add_mul(a, b):   # 더하기도 하고 곱하기도 하고 싶다.\n",
        "    return a+b, a*b\n",
        "\n",
        "print(add_mul(2,3))\n",
        "\n",
        "res1, res2 = add_mul(2,3)\n",
        "print(res1)\n",
        "print(res2)\n",
        "# 결과 2개가 들어가있는 '하나'의 튜플로 결과값이 나온다.\n",
        "# 이 튜플을 나중에 인덱싱을 하던지 해서 사용한다."
      ],
      "metadata": {
        "colab": {
          "base_uri": "https://localhost:8080/"
        },
        "id": "j3B97iMAyD93",
        "outputId": "6fb07275-1413-49da-cf2a-e13061225c77"
      },
      "execution_count": 14,
      "outputs": [
        {
          "output_type": "stream",
          "name": "stdout",
          "text": [
            "(5, 6)\n",
            "5\n",
            "6\n"
          ]
        }
      ]
    },
    {
      "cell_type": "code",
      "source": [
        "def add_mul(a, b):  \n",
        "    return a+b\n",
        "    return a*b   # 곱하기 결과는 수행되지 않는다.\n",
        "                 # return을 만나면 함수에서 나간다는 특징이 있다. (break같은 역할을 수행)\n",
        "\n",
        "res = add_mul(2,3)\n",
        "print(res)"
      ],
      "metadata": {
        "colab": {
          "base_uri": "https://localhost:8080/"
        },
        "id": "AJQlC0h5y2Zf",
        "outputId": "c67de617-0329-4201-8b86-4b98166748a9"
      },
      "execution_count": 15,
      "outputs": [
        {
          "output_type": "stream",
          "name": "stdout",
          "text": [
            "5\n"
          ]
        }
      ]
    },
    {
      "cell_type": "code",
      "source": [
        "# return의 마지막 특징\n",
        "\n",
        "def sayhello(name):\n",
        "    if name == \"Austin\":\n",
        "        return   # return만 쓰면 어스틴일때는 아무것도 찍지 않는다. 함수에서 빠져나감.\n",
        "    print(\"Hello\", name)\n",
        "\n",
        "sayhello(\"nick\")\n",
        "sayhello(\"Austin\")\n",
        "sayhello(\"jane\")"
      ],
      "metadata": {
        "colab": {
          "base_uri": "https://localhost:8080/"
        },
        "id": "na-BIiqQ2Q4l",
        "outputId": "78d2660d-f3dd-4326-b71d-1d9fa2d060fe"
      },
      "execution_count": 16,
      "outputs": [
        {
          "output_type": "stream",
          "name": "stdout",
          "text": [
            "Hello nick\n",
            "Hello jane\n"
          ]
        }
      ]
    },
    {
      "cell_type": "markdown",
      "source": [
        "파이썬으로 웹 만드는 django(백엔드) - 파이썬 웹개발\n",
        "모두 함수 기반으로 움직인다.\n",
        "\n",
        "flask도 파이썬 웹개발 (소규모) "
      ],
      "metadata": {
        "id": "tO8kOXfI2c1t"
      }
    },
    {
      "cell_type": "code",
      "source": [
        "#매개변수에 미리 초기값을 설정하는 특징\n",
        "# 인수가 없이 들어올 경우 기본값을 줌\n",
        "\n",
        "def sayname(name, age, man=True):   #디폴트값 man\n",
        "    print(\"내 이름은\",name,\"이고 나이는\",age,\"이며\",end = \" \")\n",
        "    if man:\n",
        "        print(\"남성입니다.\")\n",
        "    else:\n",
        "        print(\"여성입니다.\")\n",
        "\n",
        "sayname(\"홍길동\",21)  # 기본값 남성으로 출력\n",
        "sayname(\"이몽룡\",14,True)\n",
        "sayname(\"성춘향\",13,False)"
      ],
      "metadata": {
        "colab": {
          "base_uri": "https://localhost:8080/"
        },
        "id": "nPJBBeKN2_7d",
        "outputId": "a022a690-7d8a-4655-c8e0-3eba4ed520ce"
      },
      "execution_count": 6,
      "outputs": [
        {
          "output_type": "stream",
          "name": "stdout",
          "text": [
            "내 이름은 홍길동 이고 나이는 21 이며 남성입니다.\n",
            "내 이름은 이몽룡 이고 나이는 14 이며 남성입니다.\n",
            "내 이름은 성춘향 이고 나이는 13 이며 여성입니다.\n"
          ]
        }
      ]
    },
    {
      "cell_type": "code",
      "source": [
        "def sayname(name, age, woman=True):\n",
        "  print(f\"내 이름은 {name}이고, 나이는 {age}이며\",end = \" \")\n",
        "  if woman:\n",
        "    print(\"여성입니다.\")\n",
        "  else:\n",
        "    print(\"남성입니다.\")\n",
        "\n",
        "sayname(\"에이미\",25,True)\n",
        "sayname(\"벤\",25,False)"
      ],
      "metadata": {
        "colab": {
          "base_uri": "https://localhost:8080/"
        },
        "id": "LjqaRRDnPMV6",
        "outputId": "6a27ec50-0963-497a-910f-93ac3842ff55"
      },
      "execution_count": 21,
      "outputs": [
        {
          "output_type": "stream",
          "name": "stdout",
          "text": [
            "내 이름은 에이미이고, 나이는 25이며 여성입니다.\n",
            "내 이름은 벤이고, 나이는 25이며 남성입니다.\n"
          ]
        }
      ]
    },
    {
      "cell_type": "code",
      "source": [
        "#출력 방법 - f스트링 (포매팅)\n",
        "\n",
        "name = \"홍길동\"\n",
        "age = 18\n",
        "print(f\"나의 이름은 {name}이고 나이는 {age}입니다.\")"
      ],
      "metadata": {
        "colab": {
          "base_uri": "https://localhost:8080/"
        },
        "id": "KJH5-upO47C0",
        "outputId": "96508233-0785-4ba2-f19c-6bc48930e988"
      },
      "execution_count": 7,
      "outputs": [
        {
          "output_type": "stream",
          "name": "stdout",
          "text": [
            "나의 이름은 홍길동이고 나이는 18입니다.\n"
          ]
        }
      ]
    },
    {
      "cell_type": "markdown",
      "source": [
        "# 전역변수/지역변수 Global/Local variable\n",
        "\n",
        "함수 안에서의 변수 영향 범위\n",
        "\n",
        "기왕이면 지역변수를 쓰는 게 좋다.\n",
        "\n",
        "\n",
        "\n",
        "\n",
        "\n"
      ],
      "metadata": {
        "id": "NKHf_vUL6hCk"
      }
    },
    {
      "cell_type": "code",
      "source": [
        "a = 1\n",
        "def varexam(a):\n",
        "    a += 1    #WHY : 함수 안에서의 변수값은 함수 밖에는 전혀 영향을 미치지 않는다.(완전 다른 변수 취급)\n",
        "\n",
        "varexam(a)  #a를 호출해서 위 함수에 넣으면 2가 나올 것 같은데 1이 나옴. \n",
        "print(a)"
      ],
      "metadata": {
        "colab": {
          "base_uri": "https://localhost:8080/"
        },
        "id": "qDFUVI8s60sM",
        "outputId": "747379ad-496f-4505-f072-287008bd66ae"
      },
      "execution_count": 22,
      "outputs": [
        {
          "output_type": "stream",
          "name": "stdout",
          "text": [
            "1\n"
          ]
        }
      ]
    },
    {
      "cell_type": "code",
      "source": [
        "a = 1\n",
        "def varexam(a):\n",
        "  a += 1\n",
        "  return a\n",
        "\n",
        "print(varexam(a))"
      ],
      "metadata": {
        "colab": {
          "base_uri": "https://localhost:8080/"
        },
        "id": "u28N7kG7QhTr",
        "outputId": "226f9856-fd69-41f3-a53f-84cbfa71c47d"
      },
      "execution_count": 23,
      "outputs": [
        {
          "output_type": "stream",
          "name": "stdout",
          "text": [
            "2\n"
          ]
        }
      ]
    },
    {
      "cell_type": "code",
      "source": [
        "# 해결책 1\n",
        "\n",
        "a = 1\n",
        "def varexam(a):\n",
        "    a += 1   \n",
        "    return a  #함수 안에서 영향을 미치진 않지만 그걸 가지고 나가기\n",
        "\n",
        "print(varexam(a))  # 가져오기만 하는 게 아니라 얘를 찍어야 한다. \n",
        "print(a)"
      ],
      "metadata": {
        "id": "qb76t7eB9g7T"
      },
      "execution_count": null,
      "outputs": []
    },
    {
      "cell_type": "code",
      "source": [
        "# 해결책 2 (안좋음 ㅋㅋㅋ 쓰지 말고 알고만 있어라.)\n",
        "\n",
        "a = 1\n",
        "def varexam():\n",
        "    global a   # 변수a를 함수 안에서 선언하면(글로벌) 전역변수가 된다. -> 전체에 영향을 미치게 됨.\n",
        "    a += 1\n",
        "     \n",
        "varexam()   # 그냥 호출\n",
        "print(a)"
      ],
      "metadata": {
        "id": "0gIFg4z29jvL"
      },
      "execution_count": null,
      "outputs": []
    },
    {
      "cell_type": "code",
      "source": [
        "# 해결책 - 지역변수 정리\n",
        "\n",
        "a = 1\n",
        "def varexam(b):\n",
        "    b += 1   \n",
        "    return b  \n",
        "\n",
        "print(varexam(a))  # 결과값을 다시 a로 가지고 나온다.\n"
      ],
      "metadata": {
        "id": "n5_O01Il9kLT"
      },
      "execution_count": null,
      "outputs": []
    },
    {
      "cell_type": "code",
      "source": [
        "#입력으로 들어오는 모든 수의 평균 값을 계산해주는 함수를 작성해보자.\n",
        "\n",
        "def avgnum(*args):\n",
        "    result = 0\n",
        "    t = 0\n",
        "    for i in args:\n",
        "        result = result + i\n",
        "        t = t + 1\n",
        "    return result/t\n",
        "\n",
        "print(avgnum(1,2,3))\n",
        "print(avgnum(1,2,3,4,5))   "
      ],
      "metadata": {
        "colab": {
          "base_uri": "https://localhost:8080/"
        },
        "id": "2SJQoqymM7iy",
        "outputId": "911d206f-919e-4b58-837d-c44a88996722"
      },
      "execution_count": 8,
      "outputs": [
        {
          "output_type": "stream",
          "name": "stdout",
          "text": [
            "2.0\n",
            "3.0\n"
          ]
        }
      ]
    },
    {
      "cell_type": "code",
      "source": [
        "# 선생님 버전\n",
        "\n",
        "#입력으로 들어오는 모든 수의 평균 값을 계산해주는 함수를 작성해보자.\n",
        "\n",
        "def avgnum(*args):\n",
        "    result = 0\n",
        "    for i in args:\n",
        "        result = result + i\n",
        "    return result/len(args)\n",
        "\n",
        "print(avgnum(1,2,3))\n",
        "print(avgnum(1,2,3,4,5))   "
      ],
      "metadata": {
        "colab": {
          "base_uri": "https://localhost:8080/"
        },
        "id": "xTh_6FMCRI1L",
        "outputId": "060d16ce-448e-4964-a34e-b0ba18511621"
      },
      "execution_count": 24,
      "outputs": [
        {
          "output_type": "stream",
          "name": "stdout",
          "text": [
            "2.0\n",
            "3.0\n"
          ]
        }
      ]
    },
    {
      "cell_type": "markdown",
      "source": [
        "# 파일 읽고 쓰기\n",
        "\n",
        "쓸 일이 별로 없음. 보통 데이터를 텍스트가 아니라 엑셀로 저장하니까 텍스트를 읽을 일이 거의 없다.\n",
        "\n",
        "보통: .csv   .xlsx"
      ],
      "metadata": {
        "id": "CLjAcEvBRZwb"
      }
    },
    {
      "cell_type": "code",
      "source": [
        "f = open(\"newfile.txt\",\"w\")\n",
        "f.close()\n",
        "\n",
        "#새로 파일을 만들고 닫고"
      ],
      "metadata": {
        "id": "q6Sl0VDQSYTS"
      },
      "execution_count": null,
      "outputs": []
    },
    {
      "cell_type": "code",
      "source": [
        "# 파일에 내용 넣기\n",
        "\n",
        "f = open(\"newfile2.txt\",\"w\")\n",
        "for i in range(1,11):\n",
        "    data = \"%d line \\n\" % i\n",
        "    f.write(data)\n",
        "\n",
        "f.close()"
      ],
      "metadata": {
        "id": "leNiakcNTleC"
      },
      "execution_count": null,
      "outputs": []
    },
    {
      "cell_type": "markdown",
      "source": [
        "# 객체지향프로그래밍 OOP(object oriented programming)\n",
        "\n",
        "C언어는 객체지향 언어가 아니어도 오랜 시간 동안 사랑을 받아온 언어이다. 따라서 객체지향이 프로그래밍에서의 필수 조건은 아니다. 즉, 반드시 필요한 개념은 아니다.\n",
        "\n",
        "하지만, ... 객체지향을 사용하면 얻을 수 있는 유익이 상당히 크다.\n",
        "\n",
        "/\n",
        "\n",
        "모든것을 **'객체'**로 치환해 생각한다. 그렇다면 그 객체를 만들어야한다. \n",
        "\n",
        "**클래스 class**: 클래스로 객체를 생성한다. 도면. \n",
        "\n",
        "    ex) 붕어빵 기계 - 클래스 / 찍어낸 붕어빵 - 객체\n",
        "\n",
        "틀(클래스)를 하나 만들어놓으면 일정한 객체를 손쉽게 만들 수 있다.\n",
        "\n",
        "\n",
        "\n",
        "\n",
        "\n"
      ],
      "metadata": {
        "id": "YMxGmMVYhUYH"
      }
    },
    {
      "cell_type": "code",
      "source": [
        "# OOP\n",
        "\n",
        "result1 = 0\n",
        "result2 = 0\n",
        "\n",
        "def add1(num):\n",
        "    global result1\n",
        "    result1 += num   # 누적됨\n",
        "    return result1\n",
        "\n",
        "def add2(num):\n",
        "    global result2\n",
        "    result2 += num\n",
        "    return result2\n",
        "\n",
        "print(add1(3))\n",
        "print(add1(2))\n",
        "\n",
        "print(add2(1))\n",
        "print(add2(2))\n",
        "\n",
        "#계산기 1개를 만들었다. 계산기를 1대 더 만들자.\n",
        "#위와 같은 방식으로 계산기가 필요할 때마다 새로운 코드를 만드는 것은 귀찮다. 또한 유지보수면에서도 불편함이 배가 된다. (1000개 언제 다 바꾸고 있어)\n",
        "#그러니 이 계산기를 찍어내자 = 객체지향"
      ],
      "metadata": {
        "colab": {
          "base_uri": "https://localhost:8080/"
        },
        "id": "cEUUu7rfXCvb",
        "outputId": "22b77c41-e559-49b6-b4de-d39385be9fc2"
      },
      "execution_count": 32,
      "outputs": [
        {
          "output_type": "stream",
          "name": "stdout",
          "text": [
            "3\n",
            "5\n",
            "1\n",
            "3\n"
          ]
        }
      ]
    },
    {
      "cell_type": "code",
      "source": [
        "# 객체지향으로 위 문제를 해결해보자\n",
        "\n",
        "\n",
        "#Cal이라는 클래스(붕어빵 기계 설계도)\n",
        "class Cal:   \n",
        "\n",
        "    def __init__(self):  #던더(더블언더바)인잇 : 생성자\n",
        "        self.result = 0\n",
        "\n",
        "    def add(self,num):   # 함수가 아닌 매서드\n",
        "        self.result += num\n",
        "        return self.result\n",
        "\n",
        "\n",
        "# 위 설계도로 이렇게 쉽게 객체(계산기) 123 생성\n",
        "Cal1 = Cal()   \n",
        "Cal2 = Cal()\n",
        "Cal3 = Cal()\n",
        "\n",
        "\n",
        "print(Cal1.add(3))\n",
        "print(Cal1.add(2))\n",
        "\n",
        "print(Cal2.add(1))\n",
        "print(Cal2.add(2))\n",
        "\n",
        "print(Cal3.add(1))\n",
        "print(Cal3.add(2))\n",
        "print(Cal3.add(3))\n",
        "\n",
        "# 객체지향은 같은 클래스로 찍어냈지만 각기 다른 성질을 지닌다. \n",
        "# 수정이 필요할 땐 위의 설계만 수정하면 밑에도 한번에 고쳐진다."
      ],
      "metadata": {
        "colab": {
          "base_uri": "https://localhost:8080/"
        },
        "id": "nWc9EKafeUxu",
        "outputId": "739f0111-073a-445c-c274-e7cb1104e1a8"
      },
      "execution_count": 31,
      "outputs": [
        {
          "output_type": "stream",
          "name": "stdout",
          "text": [
            "3\n",
            "5\n",
            "1\n",
            "3\n",
            "1\n",
            "3\n",
            "6\n"
          ]
        }
      ]
    },
    {
      "cell_type": "markdown",
      "source": [
        "vs코드에서 자동완성 쓰고 싶을땐 탭"
      ],
      "metadata": {
        "id": "cq3ydBfldRRH"
      }
    },
    {
      "cell_type": "code",
      "source": [
        "class Cal: \n",
        "\n",
        "    def __init__(self):   #생성자\n",
        "        self.result = 0\n",
        "\n",
        "    def add(self,num):   #매서드\n",
        "        self.result += num\n",
        "        return self.result\n",
        "\n",
        "    def mul(self,num):   \n",
        "        self.result *= num\n",
        "        return self.result\n",
        "\n",
        "\n",
        "# 계산기 123 생성\n",
        "Cal1 = Cal()\n",
        "Cal2 = Cal()\n",
        "Cal3 = Cal()\n",
        "\n",
        "\n",
        "print(Cal1.add(3))\n",
        "print(Cal1.add(2))\n",
        "print()\n",
        "\n",
        "print(Cal2.add(1))\n",
        "print(Cal2.add(2))\n",
        "print()\n",
        "\n",
        "print(Cal3.add(1))\n",
        "print(Cal3.add(2))\n",
        "print(Cal3.add(3))\n",
        "print()\n",
        "print(Cal3.mul(7))\n",
        "\n"
      ],
      "metadata": {
        "colab": {
          "base_uri": "https://localhost:8080/"
        },
        "id": "WlyOK9VKerdn",
        "outputId": "b80d2121-6574-4850-84db-42f7e657fedb"
      },
      "execution_count": 25,
      "outputs": [
        {
          "output_type": "stream",
          "name": "stdout",
          "text": [
            "3\n",
            "5\n",
            "\n",
            "1\n",
            "3\n",
            "\n",
            "1\n",
            "3\n",
            "6\n",
            "\n",
            "42\n"
          ]
        }
      ]
    },
    {
      "cell_type": "markdown",
      "source": [
        "# 1. 함수가 클래스 안에서 구현될때는 '매서드(method)'라고 부른다.\n",
        "\n",
        "# 2. 매서드의 매개변수 자리의 맨 앞 'self'는 그 매서드를 호출한 객체의 이름이 온다.\n",
        "\n",
        "어떤 객체가 호출했는지 명확하게 알려줌! 클래스로 찍어낸 객체가 많으니까.\n"
      ],
      "metadata": {
        "id": "rcIZDx_WfcI2"
      }
    },
    {
      "cell_type": "code",
      "source": [
        "class Cal:\n",
        "\n",
        "    def add(self,first,second):  #클래스 안에서 def됐으니 함수가 아니라 '매서드'\n",
        "        result = first + second\n",
        "        return result\n",
        "\n",
        "Cal1 = Cal()   # Cal1이 위 매서드를 호출했으니 self자리에 Cal1이 간다. \n",
        "Cal2 = Cal()\n",
        "\n",
        "print(Cal1.add(1,2))\n",
        "print(Cal2.add(4,9))"
      ],
      "metadata": {
        "colab": {
          "base_uri": "https://localhost:8080/"
        },
        "id": "UE09eRtmgmBP",
        "outputId": "3efad587-b54f-4bee-d64e-bc4c5357eee0"
      },
      "execution_count": 30,
      "outputs": [
        {
          "output_type": "stream",
          "name": "stdout",
          "text": [
            "3\n",
            "13\n"
          ]
        }
      ]
    },
    {
      "cell_type": "code",
      "source": [
        "class Cal:\n",
        "\n",
        "    def add(self,first,second): \n",
        "        result = first + second\n",
        "        return result\n",
        "\n",
        "    def mul(self,first,second): \n",
        "        result = first * second\n",
        "        return result\n",
        "\n",
        "\n",
        "Cal1 = Cal()  \n",
        "Cal2 = Cal()\n",
        "\n",
        "\n",
        "print(Cal1.add(1,2))\n",
        "print(Cal2.add(4,9))\n",
        "print()\n",
        "\n",
        "print(Cal1.mul(1,2))\n",
        "print(Cal2.mul(4,9))"
      ],
      "metadata": {
        "colab": {
          "base_uri": "https://localhost:8080/"
        },
        "id": "_x2YvWmCetNe",
        "outputId": "dc665ade-9c5a-45db-8551-60fa282c812b"
      },
      "execution_count": 29,
      "outputs": [
        {
          "output_type": "stream",
          "name": "stdout",
          "text": [
            "3\n",
            "13\n",
            "\n",
            "2\n",
            "36\n"
          ]
        }
      ]
    },
    {
      "cell_type": "code",
      "source": [
        "class Cal:\n",
        "\n",
        "    def setdata(self,first,second):\n",
        "        self.first = first   # Cal1의 first는 1이다.\n",
        "        self.second = second\n",
        "\n",
        "Cal1 = Cal()  # 객체 찍어서\n",
        "Cal1.setdata(1,2)  #Cal1 객체로 매서드를 호출\n",
        "\n",
        "print(Cal1.first)\n",
        "print(Cal1.second)\n",
        "\n",
        "Cal2 = Cal() \n",
        "Cal2.setdata(3,4)\n",
        "\n",
        "print(Cal2.first)\n",
        "print(Cal2.second)\n",
        "\n",
        "#객체들이 각자의 변수를 따로따로 유지한다. \n"
      ],
      "metadata": {
        "colab": {
          "base_uri": "https://localhost:8080/"
        },
        "id": "Zf1OhJEliL0W",
        "outputId": "f4690829-2e51-4626-df28-604aeae72e11"
      },
      "execution_count": 28,
      "outputs": [
        {
          "output_type": "stream",
          "name": "stdout",
          "text": [
            "1\n",
            "2\n",
            "3\n",
            "4\n"
          ]
        }
      ]
    },
    {
      "cell_type": "code",
      "source": [
        "class Cal:\n",
        "\n",
        "    def setdata(self,first,second):\n",
        "        self.first = first   \n",
        "        self.second = second\n",
        "\n",
        "    def add(self): \n",
        "        result = self.first + self.second\n",
        "        return result\n",
        "\n",
        "    def mul(self): \n",
        "        result = self.first * self.second\n",
        "        return result\n",
        "\n",
        "\n",
        "Cal1 = Cal()  \n",
        "Cal1.setdata(1,2)\n",
        "print(Cal1.add())\n",
        "print(Cal1.mul())\n",
        "\n",
        "Cal2 = Cal() \n",
        "Cal2.setdata(3,4)\n",
        "print(Cal2.add())\n",
        "print(Cal2.mul())\n"
      ],
      "metadata": {
        "colab": {
          "base_uri": "https://localhost:8080/"
        },
        "id": "uiIqwedCiNUX",
        "outputId": "9380fd49-e3d6-4302-e4e6-1c0a29a8b75c"
      },
      "execution_count": 27,
      "outputs": [
        {
          "output_type": "stream",
          "name": "stdout",
          "text": [
            "3\n",
            "2\n",
            "7\n",
            "12\n"
          ]
        }
      ]
    },
    {
      "cell_type": "code",
      "source": [],
      "metadata": {
        "id": "55thyNqxrAvr"
      },
      "execution_count": null,
      "outputs": []
    },
    {
      "cell_type": "markdown",
      "source": [
        "# 생성자\n",
        "\n",
        "클래스로 객체를 생성할 때 자동으로 호출되는 매서드\n",
        "\n",
        "파이썬에서는 ** _ _init_ _ ** 으로 생성자를 만든다.\n",
        "\n"
      ],
      "metadata": {
        "id": "5ErXTcAmj8S1"
      }
    },
    {
      "cell_type": "code",
      "source": [
        "# 생성자 Constructor (던더 인잇)\n",
        "# 객체를 찍을 때 자동으로 호출됨\n",
        "\n",
        "class Cal:\n",
        "\n",
        "    def __init__(self,first,second):   #생성자:  이름만 다르고 밑의 매서드와 완전히 똑같음.\n",
        "        self.first = first   \n",
        "        self.second = second\n",
        "\n",
        "#   def setdata(self,first,second):\n",
        "#       self.first = first   \n",
        "#       self.second = second\n",
        "\n",
        "    def add(self): \n",
        "        result = self.first + self.second\n",
        "        return result\n",
        "\n",
        "    def mul(self): \n",
        "        result = self.first * self.second\n",
        "        return result\n",
        "\n",
        "\n",
        "Cal1 = Cal(1,2)    # 대신 객체를 찍을 때 인수를 던져줌\n",
        "#Cal1.setdata(1,2)\n",
        "print(Cal1.add())\n",
        "print(Cal1.mul())\n",
        "\n",
        "Cal2 = Cal(3,4) \n",
        "#Cal2.setdata(3,4)\n",
        "print(Cal2.add())\n",
        "print(Cal2.mul())"
      ],
      "metadata": {
        "colab": {
          "base_uri": "https://localhost:8080/"
        },
        "id": "fmI65yKujJY1",
        "outputId": "1046e8c7-bb39-47e3-9964-93a182c04893"
      },
      "execution_count": 26,
      "outputs": [
        {
          "output_type": "stream",
          "name": "stdout",
          "text": [
            "3\n",
            "2\n",
            "7\n",
            "12\n"
          ]
        }
      ]
    },
    {
      "cell_type": "markdown",
      "source": [
        "# 상속 inheritance \n",
        "\n",
        "객체지향 프로그래밍에서 아주 중요한 요소. 특히 파이썬은 여러클래스에서 한번에 상속을 받을 수 있는 특징이 있다. 즉, 다중상속이 가능하다. (자바는 안 됨) \n",
        "\n",
        "'다른 class가 가진 기능을 다중상속받는다.' \n",
        "\n",
        "일반적으로 상속을 받은 자식 클래스가 부모 클래스보다 많은 기능을 구현하게 된다. (부모+본인 기능)"
      ],
      "metadata": {
        "id": "C723W1rzkiA2"
      }
    },
    {
      "cell_type": "code",
      "source": [
        "# 상속\n",
        "\n",
        "\n",
        "class Cal:\n",
        "\n",
        "    def __init__(self,first,second):  \n",
        "        self.first = first   \n",
        "        self.second = second\n",
        "\n",
        "    def add(self): \n",
        "        result = self.first + self.second\n",
        "        return result\n",
        "\n",
        "    def mul(self): \n",
        "        result = self.first * self.second\n",
        "        return result\n",
        "\n",
        "\n",
        "#상속 시작\n",
        "class MoreCal(Cal):  #MoreCal이라는 클래스는 Cal 클래스의 기능을 상속받는다.\n",
        "    def sub(self): \n",
        "        result = self.first - self.second\n",
        "        return result\n",
        "\n",
        "\n",
        "Cal3 = MoreCal(3,2)\n",
        "# Cal3.add()   # 부모의 기능이지만 쓸 수 있다.\n",
        "Cal3.sub()\n",
        "\n",
        "Cal4 = Cal(2,1)\n",
        "Cal4.add()"
      ],
      "metadata": {
        "colab": {
          "base_uri": "https://localhost:8080/"
        },
        "id": "PfcvkeJToIP9",
        "outputId": "e0bc975b-2781-4e6f-f8f4-93ae03b4d817"
      },
      "execution_count": 33,
      "outputs": [
        {
          "output_type": "execute_result",
          "data": {
            "text/plain": [
              "3"
            ]
          },
          "metadata": {},
          "execution_count": 33
        }
      ]
    },
    {
      "cell_type": "markdown",
      "source": [
        "# 매서드 오버라이딩 (method overriding)\n",
        "\n",
        "자식이 부모의 클래스를 상속했을 때,\n",
        "\n",
        "부모가 가진 매서드명과 동일한 이름으로 자식 클레스에 새로 구현을 하게되면, 부모의 매서드가 실행되지 않고 자식에 구현된 매서드가 동작하게 되는 것.\n",
        "\n",
        "보통 부모 매서드의 기능을 보완하거나 확장하는 용도로 많이 사용된다.\n"
      ],
      "metadata": {
        "id": "iIl2vxHPoaCE"
      }
    },
    {
      "cell_type": "code",
      "source": [
        "class Cal:\n",
        "\n",
        "    def __init__(self,first,second):  \n",
        "        self.first = first   \n",
        "        self.second = second\n",
        "\n",
        "    def add(self): \n",
        "        result = self.first + self.second\n",
        "        return result\n",
        "\n",
        "    def mul(self): \n",
        "        result = self.first * self.second\n",
        "        return result\n",
        "\n",
        "    def div(self): \n",
        "        result = self.first / self.second\n",
        "        return result\n",
        "\n",
        "\n",
        "class MoreCal(Cal):  \n",
        "    def sub(self): \n",
        "        result = self.first - self.second\n",
        "        return result\n",
        "\n",
        "    def div(self):\n",
        "        if self.second == 0:   #오버라이딩\n",
        "            return \"계산 불가입니다.\"\n",
        "        else:\n",
        "            result = self.first - self.second\n",
        "            return result\n",
        "\n",
        "\n",
        "# Cal5 = Cal(2,0)  # 부모div로 똑같은걸 써서 0으로 나누면 에러가 발생한다. 이걸 개선시켜보자!\n",
        "# Cal5.div()\n",
        "\n",
        "Cal6 = MoreCal(2,0)\n",
        "Cal6.div()\n"
      ],
      "metadata": {
        "colab": {
          "base_uri": "https://localhost:8080/",
          "height": 35
        },
        "id": "CvF77nz_uIuF",
        "outputId": "f07ba62b-e12c-491d-ebaf-7aca186c17da"
      },
      "execution_count": 34,
      "outputs": [
        {
          "output_type": "execute_result",
          "data": {
            "text/plain": [
              "'계산 불가입니다.'"
            ],
            "application/vnd.google.colaboratory.intrinsic+json": {
              "type": "string"
            }
          },
          "metadata": {},
          "execution_count": 34
        }
      ]
    },
    {
      "cell_type": "markdown",
      "source": [
        "# 매서드 오버로딩 (method overloading)\n",
        "\n",
        "파이썬은 지원하지 않는다. 자바만 지원한다."
      ],
      "metadata": {
        "id": "5UNXh5K_snAj"
      }
    },
    {
      "cell_type": "markdown",
      "source": [
        "# 예외 처리 exception ★★★\n",
        "\n",
        "예외: 오류, 에러\n",
        "\n",
        "오류, 에러가 발생했을 때 상황에 따라 적절하게 처리해주는 것.\n",
        "\n",
        "**기본 구문**\n",
        "\n",
        "    try:\n",
        "      에러가 발생할 수도 있을 것 같은 구문\n",
        "    except:\n",
        "      에러가 발생했을 때 적용되는 구문\n",
        "\n",
        "*if로도 처리할 수 있지만 보통 예외처리를 사용한다.\n",
        "\n"
      ],
      "metadata": {
        "id": "UOl_5ugdvjlj"
      }
    },
    {
      "cell_type": "code",
      "source": [
        "# 예외처리 (1개)\n",
        "\n",
        "try:\n",
        "    4/0\n",
        "except:\n",
        "    print(\"에러가 발생했습니다.\")"
      ],
      "metadata": {
        "colab": {
          "base_uri": "https://localhost:8080/"
        },
        "id": "EM8ZdM-5xmjz",
        "outputId": "200ae288-237f-4714-b54a-2eb1e138f621"
      },
      "execution_count": 36,
      "outputs": [
        {
          "output_type": "stream",
          "name": "stdout",
          "text": [
            "에러가 발생했습니다.\n"
          ]
        }
      ]
    },
    {
      "cell_type": "code",
      "source": [
        "# finally\n",
        "\n",
        "try:\n",
        "    print(4/0)\n",
        "except:\n",
        "    print(\"에러가 발생했습니다.\")\n",
        "finally:\n",
        "    print(\"프로그램을 종료합니다.\")   # 에러발생 유무와 상관없이 항상 마지막에 실행"
      ],
      "metadata": {
        "id": "WwZ7I7eIx8SK"
      },
      "execution_count": null,
      "outputs": []
    },
    {
      "cell_type": "markdown",
      "source": [
        "# 예외가 여러개일 경우\n",
        "\n",
        "    try:\n",
        "      에러가 발생할 수도 있을 것 같은 구문\n",
        "    except:\n",
        "      에러1이 발생했을 때 적용되는 구문\n",
        "    except:\n",
        "      에러2가 발생했을 때 적용되는 구문\n",
        "    ..."
      ],
      "metadata": {
        "id": "f2h6jeIdyStq"
      }
    },
    {
      "cell_type": "code",
      "source": [
        "# 여러 예외 처리\n",
        "\n",
        "try:\n",
        "    a = [1,2]\n",
        "    print(a[2])\n",
        "    print(4/0)\n",
        "\n",
        "except:\n",
        "    print(\"예외가 발생했습니다.\")\n",
        "\n",
        "# 예외가 앞에서 발생하면 밑의 건 안 본다. 터지는 순간 나가버림.\n",
        "# 어디서 에러가 발생했는지 알 수가 없다."
      ],
      "metadata": {
        "id": "xTHSdO0_yZ-h"
      },
      "execution_count": null,
      "outputs": []
    },
    {
      "cell_type": "code",
      "source": [
        "a = [1,2]\n",
        "print(a[2])\n",
        "\n",
        "# 'IndexError'라는 에러 객체의 이름이 나옴."
      ],
      "metadata": {
        "colab": {
          "base_uri": "https://localhost:8080/",
          "height": 229
        },
        "id": "68lpmz80z2Fp",
        "outputId": "d349ae28-dd2e-486c-e000-ce7213a70ff6"
      },
      "execution_count": 37,
      "outputs": [
        {
          "output_type": "error",
          "ename": "IndexError",
          "evalue": "ignored",
          "traceback": [
            "\u001b[0;31m---------------------------------------------------------------------------\u001b[0m",
            "\u001b[0;31mIndexError\u001b[0m                                Traceback (most recent call last)",
            "\u001b[0;32m<ipython-input-37-f4e625d01a7e>\u001b[0m in \u001b[0;36m<module>\u001b[0;34m\u001b[0m\n\u001b[1;32m      1\u001b[0m \u001b[0ma\u001b[0m \u001b[0;34m=\u001b[0m \u001b[0;34m[\u001b[0m\u001b[0;36m1\u001b[0m\u001b[0;34m,\u001b[0m\u001b[0;36m2\u001b[0m\u001b[0;34m]\u001b[0m\u001b[0;34m\u001b[0m\u001b[0;34m\u001b[0m\u001b[0m\n\u001b[0;32m----> 2\u001b[0;31m \u001b[0mprint\u001b[0m\u001b[0;34m(\u001b[0m\u001b[0ma\u001b[0m\u001b[0;34m[\u001b[0m\u001b[0;36m2\u001b[0m\u001b[0;34m]\u001b[0m\u001b[0;34m)\u001b[0m\u001b[0;34m\u001b[0m\u001b[0;34m\u001b[0m\u001b[0m\n\u001b[0m\u001b[1;32m      3\u001b[0m \u001b[0;34m\u001b[0m\u001b[0m\n\u001b[1;32m      4\u001b[0m \u001b[0;31m# 'IndexError'라는 에러 객체의 이름이 나옴.\u001b[0m\u001b[0;34m\u001b[0m\u001b[0;34m\u001b[0m\u001b[0;34m\u001b[0m\u001b[0m\n",
            "\u001b[0;31mIndexError\u001b[0m: list index out of range"
          ]
        }
      ]
    },
    {
      "cell_type": "code",
      "source": [
        "# 여러 예외 처리\n",
        "\n",
        "try:\n",
        "    a = [1,2]\n",
        "    print(a[0])\n",
        "    print(4/0)\n",
        "\n",
        "except ZeroDivisionError:\n",
        "    print(\"0으로 나누면 에외가 발생됩니다.\")\n",
        "\n",
        "except IndexError:\n",
        "    print(\"찾으시는 인덱스가 없습니다.\")"
      ],
      "metadata": {
        "colab": {
          "base_uri": "https://localhost:8080/"
        },
        "id": "AGHMen-Qz28y",
        "outputId": "217ae429-a6bb-4465-bb7e-31fd8635660b"
      },
      "execution_count": 38,
      "outputs": [
        {
          "output_type": "stream",
          "name": "stdout",
          "text": [
            "1\n",
            "0으로 나누면 에외가 발생됩니다.\n"
          ]
        }
      ]
    },
    {
      "cell_type": "code",
      "source": [
        "# 좀 더 세련된 표현: as e\n",
        "\n",
        "try:\n",
        "    a = [1,2]\n",
        "    print(a[3])\n",
        "    print(4/2)\n",
        "\n",
        "except ZeroDivisionError as e:  #except의 e\n",
        "    print(e)\n",
        "\n",
        "except IndexError as e:\n",
        "    print(e)"
      ],
      "metadata": {
        "colab": {
          "base_uri": "https://localhost:8080/"
        },
        "id": "zIaMBzqw0jgi",
        "outputId": "9aa7268e-e72d-4eaf-8bff-3b9b18832d0a"
      },
      "execution_count": 39,
      "outputs": [
        {
          "output_type": "stream",
          "name": "stdout",
          "text": [
            "list index out of range\n"
          ]
        }
      ]
    },
    {
      "cell_type": "code",
      "source": [
        "# 더 간편버전\n",
        "\n",
        "try:\n",
        "    a = [1,2]\n",
        "    print(a[0])\n",
        "    print(4/0)\n",
        "\n",
        "except (ZeroDivisionError,IndexError) as e:\n",
        "    print(e)\n"
      ],
      "metadata": {
        "colab": {
          "base_uri": "https://localhost:8080/"
        },
        "id": "u38_wKD51JVC",
        "outputId": "6ef4f172-da40-448e-898b-771657b0456d"
      },
      "execution_count": 40,
      "outputs": [
        {
          "output_type": "stream",
          "name": "stdout",
          "text": [
            "1\n",
            "division by zero\n"
          ]
        }
      ]
    },
    {
      "cell_type": "markdown",
      "source": [
        "#else\n",
        "\n",
        "문제가 없을때만 실행되는 구문\n",
        "\n",
        "    try: \n",
        "    except: 예외가 있을 때만 실행\n",
        "    else: 예외가 없을 때만 실행\n",
        "    fianlly: 언제나 항상 마지막에 실행되는 구문"
      ],
      "metadata": {
        "id": "oAhfrQ211Pvb"
      }
    },
    {
      "cell_type": "code",
      "source": [
        "try:\n",
        "    4/2\n",
        "except:\n",
        "    print(\"exception!\")\n",
        "else:  \n",
        "    print(\"no problem\")\n",
        "finally:\n",
        "    print(\"program end\")    \n"
      ],
      "metadata": {
        "colab": {
          "base_uri": "https://localhost:8080/"
        },
        "id": "vVVM43a_2U8U",
        "outputId": "e7e547e1-c83b-4d42-b3f7-93b1f3531c23"
      },
      "execution_count": 41,
      "outputs": [
        {
          "output_type": "stream",
          "name": "stdout",
          "text": [
            "no problem\n",
            "program end\n"
          ]
        }
      ]
    },
    {
      "cell_type": "markdown",
      "source": [
        "#예외 회피\n",
        "\n",
        "예외가 발생했을 때 무시한다."
      ],
      "metadata": {
        "id": "8nXen3py2ekK"
      }
    },
    {
      "cell_type": "code",
      "source": [
        "try:\n",
        "    4/0\n",
        "except:\n",
        "    pass"
      ],
      "metadata": {
        "id": "O7YEAosM2wnp"
      },
      "execution_count": null,
      "outputs": []
    },
    {
      "cell_type": "markdown",
      "source": [
        "# 예외를 강제로 발생시키기 raise\n",
        "\n",
        "예외 상황이 아님에도 불구하고 강제로 예외 상황 만들기."
      ],
      "metadata": {
        "id": "HwGlKPjW28IB"
      }
    },
    {
      "cell_type": "code",
      "source": [
        "class Bird:\n",
        "    def fly(self):\n",
        "        raise NotImplementedError\n",
        "\n",
        "bird1 = bird()\n",
        "bird1.fly()"
      ],
      "metadata": {
        "id": "znugdZ7e3v3h"
      },
      "execution_count": null,
      "outputs": []
    },
    {
      "cell_type": "code",
      "source": [
        "class Calculator:\n",
        "    def __init__(self):\n",
        "        self.value = 0\n",
        "\n",
        "    def add(self,val):\n",
        "        self.value += val\n",
        "\n",
        "class UpgradeCalculator(Calculator):\n",
        "    def minus(self,val):\n",
        "        self.value = self.value - val \n",
        "\n",
        "Cal = UpgradeCalculator()\n",
        "Cal.add(10)\n",
        "Cal.minus(7)\n",
        "\n",
        "print(Cal.value)"
      ],
      "metadata": {
        "colab": {
          "base_uri": "https://localhost:8080/"
        },
        "id": "VvDY6Kjk9QHJ",
        "outputId": "09e29279-3b12-467c-9e0a-bfb3df5c19da"
      },
      "execution_count": 43,
      "outputs": [
        {
          "output_type": "stream",
          "name": "stdout",
          "text": [
            "3\n"
          ]
        }
      ]
    },
    {
      "cell_type": "code",
      "source": [
        "class Calculator:\n",
        "    def __init__(self):\n",
        "        self.value = 0\n",
        "\n",
        "    def add(self,val):\n",
        "        self.value += val\n",
        "\n",
        "class MaxLimitCalculator(Calculator):\n",
        "    def add(self,val):\n",
        "        self.value += val\n",
        "        if self.value > 100:\n",
        "            self.value = 100\n",
        "            \n",
        "cal = MaxLimitCalculator()\n",
        "cal.add(50)\n",
        "cal.add(60)\n",
        "\n",
        "print(cal.value)"
      ],
      "metadata": {
        "colab": {
          "base_uri": "https://localhost:8080/"
        },
        "id": "hnrCSq_l9RzP",
        "outputId": "970b2d92-b139-466f-d2dc-ebc3d47aedf0"
      },
      "execution_count": 42,
      "outputs": [
        {
          "output_type": "stream",
          "name": "stdout",
          "text": [
            "100\n"
          ]
        }
      ]
    }
  ]
}