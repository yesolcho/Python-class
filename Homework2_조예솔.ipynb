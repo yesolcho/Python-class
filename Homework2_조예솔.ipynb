{
  "nbformat": 4,
  "nbformat_minor": 0,
  "metadata": {
    "colab": {
      "provenance": [],
      "collapsed_sections": [],
      "authorship_tag": "ABX9TyPjbg1yOxxMAZQrlXxJmL6G",
      "include_colab_link": true
    },
    "kernelspec": {
      "name": "python3",
      "display_name": "Python 3"
    },
    "language_info": {
      "name": "python"
    }
  },
  "cells": [
    {
      "cell_type": "markdown",
      "metadata": {
        "id": "view-in-github",
        "colab_type": "text"
      },
      "source": [
        "<a href=\"https://colab.research.google.com/github/yesolcho/Python-class/blob/main/Homework2_%EC%A1%B0%EC%98%88%EC%86%94.ipynb\" target=\"_parent\"><img src=\"https://colab.research.google.com/assets/colab-badge.svg\" alt=\"Open In Colab\"/></a>"
      ]
    },
    {
      "cell_type": "code",
      "execution_count": null,
      "metadata": {
        "colab": {
          "base_uri": "https://localhost:8080/"
        },
        "id": "nss9PEoelwyq",
        "outputId": "d06ce644-1584-432f-c9bb-ee0d997e95a5"
      },
      "outputs": [
        {
          "output_type": "stream",
          "name": "stdout",
          "text": [
            "p t\n"
          ]
        }
      ],
      "source": [
        "#021\n",
        "\n",
        "letters = \"python\"\n",
        "\n",
        "print(letters[0],letters[2])"
      ]
    },
    {
      "cell_type": "markdown",
      "source": [
        "(+) **TC**\n",
        "\n",
        "인덱싱: 문자열에서 한 글자를 가져오는 것"
      ],
      "metadata": {
        "id": "WGCtG_2No5_n"
      }
    },
    {
      "cell_type": "code",
      "source": [
        "#022\n",
        "\n",
        "license_plate = \"24가 2210\"\n",
        "\n",
        "print(license_plate[4:])\n",
        "\n",
        "# [a:b]에서 b는 '미만'임을 기억하자!\n",
        "\n",
        "\n",
        "# 이렇게도 할 수 있다. 뒷 글자를 남길땐 음수를 사용하는 게 편한듯!\n",
        "print(license_plate[-4:])\n"
      ],
      "metadata": {
        "colab": {
          "base_uri": "https://localhost:8080/"
        },
        "id": "kD0qUUiZnwaq",
        "outputId": "a85f295d-86a4-4ad5-8824-d12915d15d4e"
      },
      "execution_count": null,
      "outputs": [
        {
          "output_type": "stream",
          "name": "stdout",
          "text": [
            "2210\n",
            "2210\n"
          ]
        }
      ]
    },
    {
      "cell_type": "markdown",
      "source": [
        "**(+) TC**\n",
        "\n",
        "슬라이싱: 문자열에서 여러 글자를 가져오는 것. "
      ],
      "metadata": {
        "id": "qO0IatRDpHi7"
      }
    },
    {
      "cell_type": "code",
      "source": [
        "#023\n",
        "\n",
        "string = \"홀짝홀짝홀짝\"\n",
        "\n",
        "print(string[0]+string[2]+string[4])\n",
        "\n",
        "\n",
        "# [:] 처음부터 끝까지\n",
        "# [start : end : step] step만큼 문자를 건너뛰면서, 위와 동일하게 추출\n",
        "\n",
        "print(string[::2])"
      ],
      "metadata": {
        "colab": {
          "base_uri": "https://localhost:8080/"
        },
        "id": "xMp5kSYDpxqH",
        "outputId": "854935b5-97bb-48c6-a8ae-f320c3bdadce"
      },
      "execution_count": null,
      "outputs": [
        {
          "output_type": "stream",
          "name": "stdout",
          "text": [
            "홀홀홀\n",
            "홀홀홀\n"
          ]
        }
      ]
    },
    {
      "cell_type": "code",
      "source": [
        "#024\n",
        "\n",
        "string = \"PYTHON\"\n",
        "\n",
        "print(string[5]+string[4]+string[3]+string[2]+string[1]+string[0])\n",
        "\n",
        "\n",
        "#뒤에서부터는 음수를 쓰자!\n",
        "\n",
        "print(string[::-1])\n",
        "# 처음부터 끝까지 전부 출력하는데 -1번마다 반복해라"
      ],
      "metadata": {
        "colab": {
          "base_uri": "https://localhost:8080/"
        },
        "id": "y6aa9wvjrW4T",
        "outputId": "8ddb274b-fce9-43c8-ff3d-8f6098cbe3e1"
      },
      "execution_count": null,
      "outputs": [
        {
          "output_type": "stream",
          "name": "stdout",
          "text": [
            "NOHTYP\n",
            "NOHTYP\n"
          ]
        }
      ]
    },
    {
      "cell_type": "code",
      "source": [
        "#025\n",
        "\n",
        "phone_number = \"010-1111-2222\"\n",
        "\n",
        "print(phone_number[0:3],phone_number[4:8],phone_number[9:])\n",
        "\n",
        "\n",
        "#replace 매소드 이용하기\n",
        "print(phone_number.replace(\"-\",\" \"))"
      ],
      "metadata": {
        "colab": {
          "base_uri": "https://localhost:8080/"
        },
        "id": "mXY2nBMCsMOA",
        "outputId": "a18ef727-1bb1-4416-8d4f-ea7f0eaa62a1"
      },
      "execution_count": null,
      "outputs": [
        {
          "output_type": "stream",
          "name": "stdout",
          "text": [
            "010 1111 2222\n",
            "010 1111 2222\n"
          ]
        }
      ]
    },
    {
      "cell_type": "code",
      "source": [
        "#026\n",
        "\n",
        "phone_number = \"010-1111-2222\"\n",
        "\n",
        "print(phone_number[0:3]+phone_number[4:8]+phone_number[9:])\n",
        "\n",
        "\n",
        "#replace 매소드 사용하기\n",
        "\n",
        "phone_number1 = phone_number.replace(\"-\",\"\")\n",
        "print(phone_number1)"
      ],
      "metadata": {
        "colab": {
          "base_uri": "https://localhost:8080/"
        },
        "id": "NJfVpvODsvKE",
        "outputId": "a39b05d9-93da-41af-d785-d933e48418af"
      },
      "execution_count": null,
      "outputs": [
        {
          "output_type": "stream",
          "name": "stdout",
          "text": [
            "01011112222\n",
            "01011112222\n"
          ]
        }
      ]
    },
    {
      "cell_type": "code",
      "source": [
        "#027\n",
        "\n",
        "url = \"http://sharebook.kr\"\n",
        "\n",
        "# 하나하나 세고 있지 말고 len을 사용하자!\n",
        "# len가 알려주는 건 순서가 아니라 '갯수'\n",
        "print(len(url))\n",
        "\n",
        "print(url[17:])\n",
        "#or\n",
        "print(url[-2:])\n",
        "\n",
        "\n",
        "#split 사용하기\n",
        "\n",
        "url_split = url.split(\".\")\n",
        "#제발 요솟값 넣을때 \"\"좀 빼먹지 마\n",
        "\n",
        "print(url_split[-1])"
      ],
      "metadata": {
        "colab": {
          "base_uri": "https://localhost:8080/"
        },
        "id": "1MiRfITOs2rd",
        "outputId": "c7cd1826-9ea5-4591-c946-84042aad2355"
      },
      "execution_count": null,
      "outputs": [
        {
          "output_type": "stream",
          "name": "stdout",
          "text": [
            "19\n",
            "kr\n",
            "kr\n",
            "kr\n"
          ]
        }
      ]
    },
    {
      "cell_type": "markdown",
      "source": [
        "#**문자열 나누기 Split**\n",
        "\n",
        "split함수는 괄호 안의 값을 기준으로 문자열을 나눠 리스트에 넣어준다.\n",
        "\n",
        "괄호를 빈칸으로 두면 공백을 기준으로 문자열을 나눠준다."
      ],
      "metadata": {
        "id": "Wxqpfhv4zfrX"
      }
    },
    {
      "cell_type": "code",
      "source": [
        "#028\n",
        "\n",
        "# 답: 문자열의 요솟값은 immutable하다. 따라서 오류가 뜬다."
      ],
      "metadata": {
        "id": "3ot0w1BWtk5V"
      },
      "execution_count": null,
      "outputs": []
    },
    {
      "cell_type": "code",
      "source": [
        "#029\n",
        "\n",
        "string = 'abcdfe2a354a32a'\n",
        "\n",
        "string.replace('a','A')\n",
        "\n",
        "# 문자열은 '' 잊지말기..."
      ],
      "metadata": {
        "colab": {
          "base_uri": "https://localhost:8080/",
          "height": 35
        },
        "id": "BjOH3O5ZuJKV",
        "outputId": "887b3e11-3a8a-42c3-908d-bbb88a683a3b"
      },
      "execution_count": null,
      "outputs": [
        {
          "output_type": "execute_result",
          "data": {
            "text/plain": [
              "'Abcdfe2A354A32A'"
            ],
            "application/vnd.google.colaboratory.intrinsic+json": {
              "type": "string"
            }
          },
          "metadata": {},
          "execution_count": 13
        }
      ]
    },
    {
      "cell_type": "markdown",
      "source": [
        "#**replace 메소드**\n",
        "\n",
        "문자열을 치환하는 함수. 문자열 안의 특정한 요솟값을 변경시킬 수 있다.\n",
        "\n",
        "replace(old,new,[count])\n",
        "- old: 바꾸고 싶은 문자\n",
        "- new: 바꿀 문자\n",
        "- count: 바꿀 횟수. 입력하지 않으면 문자열 전체를 바꾼다.\n",
        "\n",
        "**주의)** 문자열은 immutable하기 때문에, replace 함수를 사용해 치환한 문자열은 '원본과는 다른 새로운 문자열 객체'를 리턴해준 것이다."
      ],
      "metadata": {
        "id": "60hYfTyD1zd0"
      }
    },
    {
      "cell_type": "code",
      "source": [
        "#030\n",
        "\n",
        "# 답: abcd\n",
        "\n",
        "string = 'abcd'\n",
        "string.replace('b', 'B')\n",
        "print(string)\n",
        "\n",
        "# 문자열은 immutable하기 때문에, replace 함수를 사용해 치환한 문자열은 '원본과는 다른 새로운 문자열 객체'를 리턴해준 것이다."
      ],
      "metadata": {
        "colab": {
          "base_uri": "https://localhost:8080/"
        },
        "id": "t_Pkr2uG1E1m",
        "outputId": "23a23db1-b8a3-4618-f520-d9b347af8016"
      },
      "execution_count": null,
      "outputs": [
        {
          "output_type": "stream",
          "name": "stdout",
          "text": [
            "abcd\n"
          ]
        }
      ]
    },
    {
      "cell_type": "code",
      "source": [
        "#031\n",
        "\n",
        "답: 34\n",
        "\n",
        "a = \"3\"\n",
        "b = \"4\"\n",
        "print(a + b)"
      ],
      "metadata": {
        "colab": {
          "base_uri": "https://localhost:8080/"
        },
        "id": "GHFkTTw424s5",
        "outputId": "b9714e82-ed53-49b5-8e23-a4453a591c8f"
      },
      "execution_count": null,
      "outputs": [
        {
          "output_type": "stream",
          "name": "stdout",
          "text": [
            "34\n"
          ]
        }
      ]
    },
    {
      "cell_type": "code",
      "source": [
        "#032\n",
        "\n",
        "# 답: HiHiHi\n",
        "\n",
        "print(\"Hi\" * 3)"
      ],
      "metadata": {
        "colab": {
          "base_uri": "https://localhost:8080/"
        },
        "id": "wlq4OkiR3OVq",
        "outputId": "01c003f1-b902-41ae-df56-64b910a8b9f8"
      },
      "execution_count": null,
      "outputs": [
        {
          "output_type": "stream",
          "name": "stdout",
          "text": [
            "HiHiHi\n"
          ]
        }
      ]
    },
    {
      "cell_type": "code",
      "source": [
        "#033\n",
        "\n",
        "print(\"-\"*80)"
      ],
      "metadata": {
        "colab": {
          "base_uri": "https://localhost:8080/"
        },
        "id": "mRcnia0F3UlE",
        "outputId": "c6998cdb-a17a-4a94-d93c-b12bdc298758"
      },
      "execution_count": null,
      "outputs": [
        {
          "output_type": "stream",
          "name": "stdout",
          "text": [
            "--------------------------------------------------------------------------------\n"
          ]
        }
      ]
    },
    {
      "cell_type": "code",
      "source": [
        "#034\n",
        "\n",
        "t1 = 'python'\n",
        "t2 = 'java'\n",
        "t3 = t1+' '+t2+' '\n",
        "\n",
        "print(t3*4)\n",
        "\n",
        "#새 변수를 설정하는 걸 두려워하지 말자!"
      ],
      "metadata": {
        "colab": {
          "base_uri": "https://localhost:8080/"
        },
        "id": "wCFCI6W33aTn",
        "outputId": "fb3d63eb-72a8-4b88-fd02-8f31361d9992"
      },
      "execution_count": null,
      "outputs": [
        {
          "output_type": "stream",
          "name": "stdout",
          "text": [
            "python java python java python java python java \n"
          ]
        }
      ]
    },
    {
      "cell_type": "code",
      "source": [
        "#035\n",
        "\n",
        "name1 = \"김민수\"\n",
        "age1 = 10\n",
        "name2 = \"이철희\"\n",
        "age2 = 13\n",
        "\n",
        "print(\"이름: %s 나이: %d이름: %s 나이: %d\" %(name1,age1,name2,age2))\n",
        "\n",
        "#print로 출력을 안하면 ''가 붙는구나..."
      ],
      "metadata": {
        "colab": {
          "base_uri": "https://localhost:8080/"
        },
        "id": "Op3fTPNA5u4D",
        "outputId": "76d33a86-f737-4756-e626-40d62c5debaa"
      },
      "execution_count": null,
      "outputs": [
        {
          "output_type": "stream",
          "name": "stdout",
          "text": [
            "이름: 김민수 나이: 10이름: 이철희 나이: 13\n"
          ]
        }
      ]
    },
    {
      "cell_type": "markdown",
      "source": [
        "#**문자열 포매팅(% formatting)**\n",
        "문자열 안의 특정한 값을 바꿀 수 있게 해주는 것.문자열 안에 어떤 값을 삽입하는 방법.\n",
        "\n",
        "문자열 안에서 어떤 값을 넣고 싶은 자리에 **문자열 포맷 코드**를 삽입하고, 삽입할 값은 가장 뒤에 있는 %문자 다음에 써 넣는다.\n",
        "\n",
        "ex) \"I eat %d apples.\" %3\n",
        "\n",
        "**문자열 포맷 코드** \n",
        "- %s : 문자열(string)\n",
        "- %d : 정수(integer)\n",
        "- %c : 문자 1개(Character)\n",
        "- %% : %\n",
        "\n",
        "**%s** 코드는 어떤 형태의 값이든 변환해 넣을 수 있다.\n",
        "\n",
        "**2개 이상의 값 넣기**\n",
        ": 마지막 % 다음 괄호 안에 콤마(,)로 구분하여 각각의 값을 넣어주면 된다. \n",
        "\n",
        "\n",
        "\n",
        "\n"
      ],
      "metadata": {
        "id": "gtDzVOiO545J"
      }
    },
    {
      "cell_type": "code",
      "source": [
        "#036\n",
        "\n",
        "name1 = \"김민수\"\n",
        "age1 = 10\n",
        "name2 = \"이철희\"\n",
        "age2 = 13\n",
        "\n",
        "print(\"이름: {0} 나이:{1}이름: {2} 나이: {3}\".format(name1,age1,name2,age2))\n",
        "\n",
        "\n",
        "# {}안에 아무것도 안 넣어도 작동한다!\n",
        "\n",
        "print(\"이름: {} 나이:{}이름: {} 나이: {}\".format(name1,age1,name2,age2))"
      ],
      "metadata": {
        "colab": {
          "base_uri": "https://localhost:8080/"
        },
        "id": "Jx9vWKtB82W7",
        "outputId": "9d948c41-2f86-4c0a-99e4-b017d6d005af"
      },
      "execution_count": null,
      "outputs": [
        {
          "output_type": "stream",
          "name": "stdout",
          "text": [
            "이름: 김민수 나이:10이름: 이철희 나이: 13\n",
            "이름: 김민수 나이:10이름: 이철희 나이: 13\n"
          ]
        }
      ]
    },
    {
      "cell_type": "markdown",
      "source": [
        "#**format 함수를 이용한 포매팅**\n",
        "\n",
        "**format 함수**를 이용하면 좀 더 발전된 스타일로 문자열 포맷을 지정가능하다.\n",
        "\n",
        "ex) \"I eate {0} apples\".format(3)\n",
        "\n",
        "\n",
        "**2개 이상의 값 넣기**\n",
        ": {0}, {1}과 같은 인덱스 항목이 format 함수의 입력값으로 순서에 맞게 바뀐다.\n"
      ],
      "metadata": {
        "id": "8TyFUxr-980O"
      }
    },
    {
      "cell_type": "code",
      "source": [
        "#037\n",
        "\n",
        "name1 = \"김민수\"\n",
        "age1 = 10\n",
        "name2 = \"이철희\"\n",
        "age2 = 13\n",
        "\n",
        "print(f\"이름: {name1} 나이: {age1}이름: {name2} 나이: {age2}\")"
      ],
      "metadata": {
        "colab": {
          "base_uri": "https://localhost:8080/"
        },
        "id": "rtBXWB6m_XSP",
        "outputId": "c45a0871-7637-491b-e091-cb4ee873d492"
      },
      "execution_count": null,
      "outputs": [
        {
          "output_type": "stream",
          "name": "stdout",
          "text": [
            "이름: 김민수 나이: 10이름: 이철희 나이: 13\n"
          ]
        }
      ]
    },
    {
      "cell_type": "markdown",
      "source": [
        "#**f string 포매팅**\n",
        "\n",
        "문자열 앞에 f 접두사를 붙여 사용한다.변수 값을 생성한 후에 그 값을 참조할 수 있다. \n",
        "\n",
        "또한 표현식(문자열 안에서 +,-와 같은 수식을 함께 사용하는 것)을 지원한다.\n",
        "\n",
        "ex) \n",
        "name = '홍길동'\n",
        "age = '30'\n",
        "f'나의 이름은 {name}입니다. 나이는{age}입니다.'\n",
        "\n"
      ],
      "metadata": {
        "id": "nFyybWgv_cFb"
      }
    },
    {
      "cell_type": "code",
      "source": [
        "#038\n",
        "\n",
        "상장주식수 = \"5,969,782,550\"\n",
        "\n",
        "\n",
        "#replace로 콤마 제거하기\n",
        "\n",
        "콤마없음 = 상장주식수.replace(\",\", \"\")\n",
        "\n",
        "print(int(콤마없음))"
      ],
      "metadata": {
        "colab": {
          "base_uri": "https://localhost:8080/"
        },
        "id": "30KOuCjlA01s",
        "outputId": "c773dee2-61dc-4d36-b691-ba8cfee20199"
      },
      "execution_count": null,
      "outputs": [
        {
          "output_type": "stream",
          "name": "stdout",
          "text": [
            "5969782550\n"
          ]
        }
      ]
    },
    {
      "cell_type": "code",
      "source": [
        "#039\n",
        "\n",
        "분기 = \"2020/03(E) (IFRS연결)\"\n",
        "\n",
        "print(분기[0:7])"
      ],
      "metadata": {
        "colab": {
          "base_uri": "https://localhost:8080/"
        },
        "id": "kHXyxA7PDJEh",
        "outputId": "dc7262ae-1fce-4139-a5ee-aff71ee33898"
      },
      "execution_count": null,
      "outputs": [
        {
          "output_type": "stream",
          "name": "stdout",
          "text": [
            "2020/03\n"
          ]
        }
      ]
    },
    {
      "cell_type": "code",
      "source": [
        "#040\n",
        "\n",
        "data = \"   삼성전자    \"\n",
        "\n",
        "data1 = data.strip()\n",
        "\n",
        "print(data1)\n",
        "\n",
        "\n",
        "# 함수를 실행한 뒤 꼭 print 형식으로 출력하자.\n",
        "# 함수를 실행했다 해서 기존 문자열이 수정되는 게 아니다. 새로운 문자열이 만들어지는 거란걸 명심하고 변수 설정을 꼭 하자!"
      ],
      "metadata": {
        "colab": {
          "base_uri": "https://localhost:8080/"
        },
        "id": "a6sPezk1DTnV",
        "outputId": "b6a90539-2704-40b6-f0d3-4bb0d9b57944"
      },
      "execution_count": null,
      "outputs": [
        {
          "output_type": "stream",
          "name": "stdout",
          "text": [
            "삼성전자\n"
          ]
        }
      ]
    },
    {
      "cell_type": "markdown",
      "source": [
        "#**strip 함수**\n",
        "\n",
        "문자열의 한 칸 이상의 연속된 공백을 모두 제거해주는 함수.\n",
        "\n",
        "- 오른쪽 공백 : rstrip\n",
        "- 왼쪽 공백 : lstrip\n",
        "- 좌우 공백 :strip"
      ],
      "metadata": {
        "id": "xxnmZ5WPDVZa"
      }
    }
  ]
}