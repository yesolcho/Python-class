{
  "cells": [
    {
      "cell_type": "markdown",
      "metadata": {
        "id": "view-in-github",
        "colab_type": "text"
      },
      "source": [
        "<a href=\"https://colab.research.google.com/github/yesolcho/Python-class/blob/main/Homework29.ipynb\" target=\"_parent\"><img src=\"https://colab.research.google.com/assets/colab-badge.svg\" alt=\"Open In Colab\"/></a>"
      ]
    },
    {
      "cell_type": "code",
      "execution_count": null,
      "metadata": {
        "id": "Y9p016QPuOCs",
        "outputId": "4cca400b-f99c-4428-bc15-44a74f469a48"
      },
      "outputs": [
        {
          "name": "stdout",
          "output_type": "stream",
          "text": [
            "     서비스   순위                        제목                아티스트\n",
            "0   Bugs    1                  Hype Boy            NewJeans\n",
            "1   Bugs    2                   사건의 지평선      윤하(Younha/ユンナ)\n",
            "2   Bugs    3               WHEN I MOVE            카라(Kara)\n",
            "3   Bugs    4               ANTIFRAGILE  LE SSERAFIM (르세라핌)\n",
            "4   Bugs    5                After LIKE           IVE (아이브)\n",
            "..   ...  ...                       ...                 ...\n",
            "95  Bugs   96                    그대를 알고                 송하예\n",
            "96  Bugs   97                   그래서 그대는                 이영현\n",
            "97  Bugs   98  Must Have Love (우리들의 겨울)               SG워너비\n",
            "98  Bugs   99                       첫사랑          백아(Baek A)\n",
            "99  Bugs  100                       아저씨   릴러말즈 (Leellamarz)\n",
            "\n",
            "[100 rows x 4 columns]\n"
          ]
        }
      ],
      "source": [
        "# 벅스\n",
        "\n",
        "import requests\n",
        "from bs4 import BeautifulSoup as bs\n",
        "\n",
        "url = \"https://music.bugs.co.kr/chart\"\n",
        "html = requests.get(url)\n",
        "\n",
        "soup = bs(html.text)\n",
        "songs = soup.select(\"table.byChart > tbody > tr\")\n",
        "\n",
        "Bugs_data = []\n",
        "rank = 1\n",
        "\n",
        "for song in songs:\n",
        "    title = song.select(\"p.title > a\")[0].text\n",
        "    artist = song.select(\"p.artist > a\")[0].text  # 끝까지 펼쳐보기\n",
        "    Bugs_data.append([\"Bugs\", rank, title, artist])\n",
        "    rank += 1\n",
        "\n",
        "import pandas as pd\n",
        "df = pd.DataFrame(Bugs_data, columns = ['서비스', '순위', '제목', '아티스트'])\n",
        "print(df)\n",
        "\n",
        "df.to_excel(\"Bugs.xlsx\", index = False)\n"
      ]
    },
    {
      "cell_type": "code",
      "execution_count": null,
      "metadata": {
        "id": "gz78rJKWuOCt"
      },
      "outputs": [],
      "source": [
        "# 멜론\n",
        "\n",
        "# pip install selenium \n",
        "# pip install이 안 될 때는 Terminal에서 하자.\n",
        "\n",
        "from selenium import webdriver\n",
        "from bs4 import BeautifulSoup as bs\n",
        "import pandas as pd\n",
        "\n",
        "driver = webdriver.Chrome()\n",
        "\n",
        "url = \"https://www.melon.com/chart/\"\n",
        "driver.get(url)\n",
        "html = driver.page_source\n",
        "\n",
        "soup = bs(html)   # requests로 가져온 text가 아니니까\n",
        "songs = soup.select(\"tbody > tr\")\n",
        "\n",
        "Melon_data = []\n",
        "rank = 1\n",
        "\n",
        "for song in songs:\n",
        "    title = song.select(\"div.rank01 > span > a\")[0].text\n",
        "    artist = song.select(\"div.rank02 > a\")[0].text\n",
        "    Melon_data.append([\"Melon\", rank, title, artist])\n",
        "    rank += 1\n",
        "\n",
        "df = pd.DataFrame(Melon_data, columns = ['서비스', '순위', '제목', '아티스트'])\n",
        "\n",
        "df.to_excel(\"Melon.xlsx\", index = False)\n",
        "\n",
        "# 돌아가는 도중에 뜨는 페이지 끄면 에러난다.. 기다리자."
      ]
    },
    {
      "cell_type": "code",
      "execution_count": null,
      "metadata": {
        "id": "WBsZcwyjuOCu"
      },
      "outputs": [],
      "source": [
        "# 지니\n",
        "\n",
        "from selenium import webdriver\n",
        "from bs4 import BeautifulSoup as bs\n",
        "import pandas as pd\n",
        "\n",
        "driver = webdriver.Chrome()\n",
        "url = \"https://www.genie.co.kr/chart/top200\"\n",
        "driver.get(url)\n",
        "html = driver.page_source\n",
        "\n",
        "soup = bs(html)\n",
        "songs = soup.select(\"tbody > tr\")\n",
        "\n",
        "Genie_data = []\n",
        "rank = 1\n",
        "\n",
        "for song in songs:\n",
        "    title = song.select(\"td.info > a.ellipsis\")[0].text\n",
        "    artist = song.select(\"td.info > a.artist.ellipsis\")[0].text   # 클래스 명에 공백이 있을 때는 '.'를 쓴다\n",
        "    Genie_data.append(['서비스', rank, title.strip(), artist.strip()])\n",
        "    rank += 1\n",
        "\n",
        "df = pd.DataFrame(Genie_data, columns = ['서비스', '순위', '제목', '아티스트'])\n",
        "\n",
        "df.to_excel('Genie.xlsx', index = False)\n",
        "\n"
      ]
    }
  ],
  "metadata": {
    "kernelspec": {
      "display_name": "base",
      "language": "python",
      "name": "python3"
    },
    "language_info": {
      "codemirror_mode": {
        "name": "ipython",
        "version": 3
      },
      "file_extension": ".py",
      "mimetype": "text/x-python",
      "name": "python",
      "nbconvert_exporter": "python",
      "pygments_lexer": "ipython3",
      "version": "3.9.13"
    },
    "orig_nbformat": 4,
    "vscode": {
      "interpreter": {
        "hash": "42a3cfd936dca6cd9134016eb9598fa6c0736d544a7437139bac2f86277545e6"
      }
    },
    "colab": {
      "provenance": [],
      "include_colab_link": true
    }
  },
  "nbformat": 4,
  "nbformat_minor": 0
}