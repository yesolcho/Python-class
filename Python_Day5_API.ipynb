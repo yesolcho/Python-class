{
  "cells": [
    {
      "cell_type": "markdown",
      "metadata": {
        "id": "view-in-github",
        "colab_type": "text"
      },
      "source": [
        "<a href=\"https://colab.research.google.com/github/yesolcho/Python-class/blob/main/Python_Day5_API.ipynb\" target=\"_parent\"><img src=\"https://colab.research.google.com/assets/colab-badge.svg\" alt=\"Open In Colab\"/></a>"
      ]
    },
    {
      "cell_type": "markdown",
      "metadata": {
        "id": "OiVMWaudcHeA"
      },
      "source": [
        "# 비트코인 가격 조회 윈도우 프로그램\n",
        "\n",
        "**PyQt** 를 이용한 윈도우 앱 만들기\n",
        "\n",
        "QT Designer 로 쉽고 편하게 윈도우를 고성할 수 있다. anaconda가 이미 설치해놓았다.\n",
        "\n",
        "        anaconda 오른쪽 클릭 -> 파일 위치 열기 -> 파일 위치 열기 -> 검색: designer.exe\n",
        "\n",
        "        (또는 library - bin) -> 바탕화면에 보내기\n",
        "\n",
        "폰트 등은 **[속성]**\n",
        "글자는 label"
      ]
    },
    {
      "cell_type": "code",
      "execution_count": null,
      "metadata": {
        "id": "V4hG3PL1cHeB"
      },
      "outputs": [],
      "source": [
        "# 기본 창 띄우기\n",
        "\n",
        "import sys                          # 윈도우 시스템 접근\n",
        "from PyQt5.QtWidgets import *       # PyQt5 모듈 읽어오기\n",
        "\n",
        "app = QApplication(sys.argv)        # 윈도우 창 띄우기\n",
        "label = QLabel(\"Hello World\")       # 창에 글자 넣기\n",
        "label.show()   # 글자 보여주기\n",
        "\n",
        "app.exec_()                         # 파이썬은 인터프리터기 때문에 종료가 되지만, 윈도우 창은 계속 떠있어야 함.\n",
        "                                    # 따라서 윈도우 창을 계속 유지시켜주는 코드.\n",
        "\n",
        "\n",
        "#kernal이 죽을 경우 kernel -> 엔진 -> restart\n",
        "#되도록 주피터노트북으로 해보자."
      ]
    },
    {
      "cell_type": "code",
      "execution_count": null,
      "metadata": {
        "id": "ipPsJQqmcHeC",
        "outputId": "839cf0fa-6e8e-4ace-d833-bc98858ed305"
      },
      "outputs": [
        {
          "ename": "KeyboardInterrupt",
          "evalue": "",
          "output_type": "error",
          "traceback": [
            "\u001b[1;31m---------------------------------------------------------------------------\u001b[0m",
            "\u001b[1;31mKeyboardInterrupt\u001b[0m                         Traceback (most recent call last)",
            "\u001b[1;32m~\\AppData\\Local\\Temp\\ipykernel_5380\\1398792447.py\u001b[0m in \u001b[0;36m<module>\u001b[1;34m\u001b[0m\n\u001b[0;32m     13\u001b[0m \u001b[0mwindow\u001b[0m\u001b[1;33m.\u001b[0m\u001b[0mshow\u001b[0m\u001b[1;33m(\u001b[0m\u001b[1;33m)\u001b[0m\u001b[1;33m\u001b[0m\u001b[1;33m\u001b[0m\u001b[0m\n\u001b[0;32m     14\u001b[0m \u001b[1;33m\u001b[0m\u001b[0m\n\u001b[1;32m---> 15\u001b[1;33m \u001b[0mapp\u001b[0m\u001b[1;33m.\u001b[0m\u001b[0mexec_\u001b[0m\u001b[1;33m(\u001b[0m\u001b[1;33m)\u001b[0m\u001b[1;33m\u001b[0m\u001b[1;33m\u001b[0m\u001b[0m\n\u001b[0m",
            "\u001b[1;31mKeyboardInterrupt\u001b[0m: "
          ]
        }
      ],
      "source": [
        "# 윈도우 창 크기 조절해 띄우기\n",
        "\n",
        "import sys\n",
        "from PyQt5.QtWidgets import *\n",
        "\n",
        "class MyWindow(QMainWindow):                    # 위에서 import한 PyQt에 있는 QMainWindow 클래스 상속\n",
        "    def __init__(self):\n",
        "        super().__init__()\n",
        "        self.setGeometry(100,200,300,400)       # 모니터 왼쪽 상단에서부터 x축, y축의 위치부터 너비 300, 높이 400인 크기의 윈도우를 지정한다.\n",
        "\n",
        "app = QApplication(sys.argv)\n",
        "window = MyWindow()\n",
        "window.show()\n",
        "\n",
        "app.exec_() "
      ]
    },
    {
      "cell_type": "code",
      "execution_count": null,
      "metadata": {
        "id": "mObOpPUGcHeD",
        "outputId": "b5f408cc-1e53-4b52-8a42-8d8177324f22"
      },
      "outputs": [
        {
          "data": {
            "text/plain": [
              "0"
            ]
          },
          "execution_count": 1,
          "metadata": {},
          "output_type": "execute_result"
        }
      ],
      "source": [
        "# 창 이름 설정하기\n",
        "\n",
        "import sys\n",
        "from PyQt5.QtWidgets import *\n",
        "\n",
        "class MyWindow(QMainWindow):                  \n",
        "    def __init__(self):\n",
        "        super().__init__()\n",
        "        self.setGeometry(100,200,300,400) \n",
        "        self.setWindowTitle(\"헬로우 월드!!!\")   # 윈도우 창 이름 설정\n",
        "\n",
        "app = QApplication(sys.argv)\n",
        "window = MyWindow()\n",
        "window.show()\n",
        "\n",
        "app.exec_()"
      ]
    },
    {
      "cell_type": "code",
      "execution_count": null,
      "metadata": {
        "id": "tOyOz6cfcHeD",
        "outputId": "50d1bbfb-96b5-41ee-e778-c21a341ba484"
      },
      "outputs": [
        {
          "data": {
            "text/plain": [
              "0"
            ]
          },
          "execution_count": 1,
          "metadata": {},
          "output_type": "execute_result"
        }
      ],
      "source": [
        "# 버튼 추가하기\n",
        "\n",
        "import sys\n",
        "from PyQt5.QtWidgets import *\n",
        "from PyQt5.QtGui import *           # 단추 등 다양한 윈도우 도구가 있는 모듈\n",
        "\n",
        "class MyWindow(QMainWindow):                  \n",
        "    def __init__(self):\n",
        "        super().__init__()\n",
        "        self.setGeometry(100,200,300,400) \n",
        "        self.setWindowTitle(\"헬로우 월드!!!\")\n",
        "\n",
        "        button = QPushButton(\"버튼\", self)\n",
        "\n",
        "app = QApplication(sys.argv)\n",
        "window = MyWindow()\n",
        "window.show()\n",
        "\n",
        "app.exec_()"
      ]
    },
    {
      "cell_type": "markdown",
      "metadata": {
        "id": "Pr3mf0dpcHeD"
      },
      "source": [
        "~ 여기까지가 기본 ~\n",
        "\n",
        "하지만 디자이너를 이용하면 이렇게 하나하나 복잡하게 코드화 할 필요 없다.\n",
        "\n",
        "디자이너가 자동화 시켜줌. 이런 방식으로 하지 않는다."
      ]
    },
    {
      "cell_type": "markdown",
      "metadata": {
        "id": "vJ354_e4cHeD"
      },
      "source": [
        "레이아웃: Push Button\n",
        "\n",
        "오른쪽 객체 탐색기에서 버튼의 클래스가 보인다: QPushButton\n",
        "\n",
        "작업하고 있는 파일 위치에 Designer 로 그린 창을 저장한다. "
      ]
    },
    {
      "cell_type": "code",
      "execution_count": null,
      "metadata": {
        "id": "ss850zngcHeE",
        "outputId": "2ccb5cdd-f4eb-4e13-ad4d-e878eb8df56c"
      },
      "outputs": [
        {
          "data": {
            "text/plain": [
              "0"
            ]
          },
          "execution_count": 1,
          "metadata": {},
          "output_type": "execute_result"
        }
      ],
      "source": [
        "# Qt Designer 사용하고 파이썬 코드와 연결하기\n",
        "\n",
        "import sys\n",
        "from PyQt5.QtWidgets import *\n",
        "from PyQt5 import uic               # 디자이너로 만든 창을 사용만 하기\n",
        "\n",
        "form_class = uic.loadUiType(\"mywindow.ui\")[0]   # 디자이너로 만든 창 사용하기. 괄호 안에는 창의 이름이 들어간다.\n",
        "\n",
        "class MyWindow(QMainWindow, form_class):        # 파이썬은 다중 상속이 가능하다.                 \n",
        "    def __init__(self):\n",
        "        super().__init__()\n",
        "        self.setupUi(self)\n",
        "        # self.setGeometry(100,200,300,400) \n",
        "        # self.setWindowTitle(\"헬로우 월드!!!\")\n",
        "        # button = QPushButton(\"버튼\", self)\n",
        "    \n",
        "app = QApplication(sys.argv)\n",
        "window = MyWindow()\n",
        "window.show()\n",
        "\n",
        "app.exec_()\n",
        "\n",
        "\n",
        "# 로직은 이곳에서, 디자인은 디자이너에서"
      ]
    },
    {
      "cell_type": "code",
      "execution_count": null,
      "metadata": {
        "id": "rz0al42pcHeE",
        "outputId": "915f0af4-5534-424e-87b5-2deee2582e04"
      },
      "outputs": [
        {
          "name": "stdout",
          "output_type": "stream",
          "text": [
            "버튼이 클릭되었네요.\n",
            "버튼이 클릭되었네요.\n"
          ]
        }
      ],
      "source": [
        "# 단추 동작 확인하기\n",
        "\n",
        "import sys\n",
        "from PyQt5.QtWidgets import *\n",
        "from PyQt5 import uic              \n",
        "\n",
        "form_class = uic.loadUiType(\"mywindow.ui\")[0] \n",
        "\n",
        "class MyWindow(QMainWindow, form_class):           \n",
        "    def __init__(self):\n",
        "        super().__init__()\n",
        "        self.setupUi(self)\n",
        "        self.pushButton.clicked.connect(self.btn_clicked)   # pushBotton 라는 이름(객체 탐색기에서 확인)의 버튼을 누르면 해당 매소드로 연결해라\n",
        "\n",
        "    def btn_clicked(self):\n",
        "        print(\"버튼이 클릭되었네요.\")\n",
        "\n",
        "app = QApplication(sys.argv)\n",
        "window = MyWindow()\n",
        "window.show()\n",
        "\n",
        "app.exec_()\n"
      ]
    },
    {
      "cell_type": "markdown",
      "metadata": {
        "id": "lDtQsr0GcHeE"
      },
      "source": [
        "**Line Edit** : 출력창\n",
        "\n",
        "-\n",
        "\n",
        "큰 사이트들은 크롤링을 굳이 하지 않아도 api를 제공하는 경우가 있음. (고객지원 -> api docs)\n",
        "\n",
        "그러니 api를 제공하는지 확인해보자."
      ]
    },
    {
      "cell_type": "code",
      "execution_count": null,
      "metadata": {
        "id": "yRTaqOMtcHeE",
        "outputId": "d37f3e3a-8bab-4a02-d564-9d11d900af55"
      },
      "outputs": [
        {
          "name": "stdout",
          "output_type": "stream",
          "text": [
            "Collecting pybithumb\n",
            "  Downloading pybithumb-1.0.21-py3-none-any.whl (9.9 kB)\n",
            "Requirement already satisfied: pandas in c:\\users\\ezen\\anaconda3\\lib\\site-packages (from pybithumb) (1.4.4)\n",
            "Collecting bs4\n",
            "  Downloading bs4-0.0.1.tar.gz (1.1 kB)\n",
            "  Preparing metadata (setup.py): started\n",
            "  Preparing metadata (setup.py): finished with status 'done'\n",
            "Requirement already satisfied: requests in c:\\users\\ezen\\anaconda3\\lib\\site-packages (from pybithumb) (2.28.1)\n",
            "Collecting datetime\n",
            "  Downloading DateTime-4.7-py2.py3-none-any.whl (52 kB)\n",
            "     ---------------------------------------- 52.2/52.2 kB ? eta 0:00:00\n",
            "Collecting websockets\n",
            "  Downloading websockets-10.4-cp39-cp39-win_amd64.whl (101 kB)\n",
            "     -------------------------------------- 101.4/101.4 kB 5.7 MB/s eta 0:00:00\n",
            "Collecting html5lib\n",
            "  Downloading html5lib-1.1-py2.py3-none-any.whl (112 kB)\n",
            "     -------------------------------------- 112.2/112.2 kB 6.4 MB/s eta 0:00:00\n",
            "Requirement already satisfied: beautifulsoup4 in c:\\users\\ezen\\anaconda3\\lib\\site-packages (from bs4->pybithumb) (4.11.1)\n",
            "Requirement already satisfied: pytz in c:\\users\\ezen\\anaconda3\\lib\\site-packages (from datetime->pybithumb) (2022.1)\n",
            "Requirement already satisfied: zope.interface in c:\\users\\ezen\\anaconda3\\lib\\site-packages (from datetime->pybithumb) (5.4.0)\n",
            "Requirement already satisfied: six>=1.9 in c:\\users\\ezen\\anaconda3\\lib\\site-packages (from html5lib->pybithumb) (1.16.0)\n",
            "Requirement already satisfied: webencodings in c:\\users\\ezen\\anaconda3\\lib\\site-packages (from html5lib->pybithumb) (0.5.1)\n",
            "Requirement already satisfied: numpy>=1.18.5 in c:\\users\\ezen\\anaconda3\\lib\\site-packages (from pandas->pybithumb) (1.21.5)\n",
            "Requirement already satisfied: python-dateutil>=2.8.1 in c:\\users\\ezen\\anaconda3\\lib\\site-packages (from pandas->pybithumb) (2.8.2)\n",
            "Requirement already satisfied: charset-normalizer<3,>=2 in c:\\users\\ezen\\anaconda3\\lib\\site-packages (from requests->pybithumb) (2.0.4)\n",
            "Requirement already satisfied: certifi>=2017.4.17 in c:\\users\\ezen\\anaconda3\\lib\\site-packages (from requests->pybithumb) (2022.9.14)\n",
            "Requirement already satisfied: urllib3<1.27,>=1.21.1 in c:\\users\\ezen\\anaconda3\\lib\\site-packages (from requests->pybithumb) (1.26.11)\n",
            "Requirement already satisfied: idna<4,>=2.5 in c:\\users\\ezen\\anaconda3\\lib\\site-packages (from requests->pybithumb) (3.3)\n",
            "Requirement already satisfied: soupsieve>1.2 in c:\\users\\ezen\\anaconda3\\lib\\site-packages (from beautifulsoup4->bs4->pybithumb) (2.3.1)\n",
            "Requirement already satisfied: setuptools in c:\\users\\ezen\\anaconda3\\lib\\site-packages (from zope.interface->datetime->pybithumb) (63.4.1)\n",
            "Building wheels for collected packages: bs4\n",
            "  Building wheel for bs4 (setup.py): started\n",
            "  Building wheel for bs4 (setup.py): finished with status 'done'\n",
            "  Created wheel for bs4: filename=bs4-0.0.1-py3-none-any.whl size=1257 sha256=783aecb490ff3e8d0c7880245c1b36cdf0fcf79d8ac659b5eab87287443f1612\n",
            "  Stored in directory: c:\\users\\ezen\\appdata\\local\\pip\\cache\\wheels\\73\\2b\\cb\\099980278a0c9a3e57ff1a89875ec07bfa0b6fcbebb9a8cad3\n",
            "Successfully built bs4\n",
            "Installing collected packages: websockets, html5lib, datetime, bs4, pybithumb\n",
            "Successfully installed bs4-0.0.1 datetime-4.7 html5lib-1.1 pybithumb-1.0.21 websockets-10.4\n",
            "Note: you may need to restart the kernel to use updated packages.\n"
          ]
        }
      ],
      "source": [
        "# pip install pybithumb"
      ]
    },
    {
      "cell_type": "code",
      "execution_count": null,
      "metadata": {
        "id": "wkW9GHTgcHeF",
        "outputId": "536d34b4-544d-4a7f-bd3f-42c6ad67ef8f"
      },
      "outputs": [
        {
          "name": "stdout",
          "output_type": "stream",
          "text": [
            "Collecting pykorbit\n",
            "  Downloading pykorbit-0.2.2-py3-none-any.whl (7.5 kB)\n",
            "Requirement already satisfied: websockets in c:\\users\\ezen\\anaconda3\\lib\\site-packages (from pykorbit) (10.4)\n",
            "Requirement already satisfied: numpy in c:\\users\\ezen\\anaconda3\\lib\\site-packages (from pykorbit) (1.21.5)\n",
            "Requirement already satisfied: xlrd in c:\\users\\ezen\\anaconda3\\lib\\site-packages (from pykorbit) (2.0.1)\n",
            "Requirement already satisfied: requests in c:\\users\\ezen\\anaconda3\\lib\\site-packages (from pykorbit) (2.28.1)\n",
            "Requirement already satisfied: datetime in c:\\users\\ezen\\anaconda3\\lib\\site-packages (from pykorbit) (4.7)\n",
            "Requirement already satisfied: pandas in c:\\users\\ezen\\anaconda3\\lib\\site-packages (from pykorbit) (1.4.4)\n",
            "Requirement already satisfied: PyJWT in c:\\users\\ezen\\anaconda3\\lib\\site-packages (from pykorbit) (2.4.0)\n",
            "Requirement already satisfied: pytz in c:\\users\\ezen\\anaconda3\\lib\\site-packages (from datetime->pykorbit) (2022.1)\n",
            "Requirement already satisfied: zope.interface in c:\\users\\ezen\\anaconda3\\lib\\site-packages (from datetime->pykorbit) (5.4.0)\n",
            "Requirement already satisfied: python-dateutil>=2.8.1 in c:\\users\\ezen\\anaconda3\\lib\\site-packages (from pandas->pykorbit) (2.8.2)\n",
            "Requirement already satisfied: idna<4,>=2.5 in c:\\users\\ezen\\anaconda3\\lib\\site-packages (from requests->pykorbit) (3.3)\n",
            "Requirement already satisfied: urllib3<1.27,>=1.21.1 in c:\\users\\ezen\\anaconda3\\lib\\site-packages (from requests->pykorbit) (1.26.11)\n",
            "Requirement already satisfied: charset-normalizer<3,>=2 in c:\\users\\ezen\\anaconda3\\lib\\site-packages (from requests->pykorbit) (2.0.4)\n",
            "Requirement already satisfied: certifi>=2017.4.17 in c:\\users\\ezen\\anaconda3\\lib\\site-packages (from requests->pykorbit) (2022.9.14)\n",
            "Requirement already satisfied: six>=1.5 in c:\\users\\ezen\\anaconda3\\lib\\site-packages (from python-dateutil>=2.8.1->pandas->pykorbit) (1.16.0)\n",
            "Requirement already satisfied: setuptools in c:\\users\\ezen\\anaconda3\\lib\\site-packages (from zope.interface->datetime->pykorbit) (63.4.1)\n",
            "Installing collected packages: pykorbit\n",
            "Successfully installed pykorbit-0.2.2\n",
            "Note: you may need to restart the kernel to use updated packages.\n"
          ]
        }
      ],
      "source": [
        "# pip install pykorbit"
      ]
    },
    {
      "cell_type": "code",
      "execution_count": null,
      "metadata": {
        "id": "6H7py2IfcHeF",
        "outputId": "7333ba01-61e5-44e6-f1b2-fe3e11220e29"
      },
      "outputs": [
        {
          "name": "stdout",
          "output_type": "stream",
          "text": [
            "22872000.0\n",
            "22872000.0\n",
            "22872000.0\n",
            "22872000.0\n",
            "22870000.0\n",
            "22867000.0\n"
          ]
        },
        {
          "data": {
            "text/plain": [
              "0"
            ]
          },
          "execution_count": 1,
          "metadata": {},
          "output_type": "execute_result"
        }
      ],
      "source": [
        "# 단추를 클릭하면 가격 조회해서 출력하기\n",
        "\n",
        "import sys\n",
        "from PyQt5.QtWidgets import *\n",
        "from PyQt5 import uic\n",
        "import pybithumb              # 빗썸의 api 모듈 읽어오기        \n",
        "\n",
        "form_class = uic.loadUiType(\"mywindow.ui\")[0] \n",
        "\n",
        "class MyWindow(QMainWindow, form_class):           \n",
        "    def __init__(self):\n",
        "        super().__init__()\n",
        "        self.setupUi(self)\n",
        "        self.pushButton.clicked.connect(self.btn_clicked)\n",
        "\n",
        "    def btn_clicked(self):\n",
        "        price = pybithumb.get_current_price(\"BTC\")      # 코인 이름만 바꾸면 그 코인을 조회해온다.\n",
        "        print(price)\n",
        "\n",
        "app = QApplication(sys.argv)\n",
        "window = MyWindow()\n",
        "window.show()\n",
        "\n",
        "app.exec_()"
      ]
    },
    {
      "cell_type": "code",
      "execution_count": null,
      "metadata": {
        "id": "IR-0C9RGcHeF",
        "outputId": "3aaecf55-c956-40a0-d9c5-8bd0c672ebfd"
      },
      "outputs": [
        {
          "data": {
            "text/plain": [
              "0"
            ]
          },
          "execution_count": 1,
          "metadata": {},
          "output_type": "execute_result"
        }
      ],
      "source": [
        "# 단추를 클릭하면 가격 조회해서 윈도우에 출력하기\n",
        "\n",
        "import sys\n",
        "from PyQt5.QtWidgets import *\n",
        "from PyQt5 import uic\n",
        "import pybithumb     \n",
        "\n",
        "form_class = uic.loadUiType(\"mywindow.ui\")[0] \n",
        "\n",
        "class MyWindow(QMainWindow, form_class):           \n",
        "    def __init__(self):\n",
        "        super().__init__()\n",
        "        self.setupUi(self)\n",
        "        self.pushButton.clicked.connect(self.btn_clicked)\n",
        "\n",
        "    def btn_clicked(self):\n",
        "        price = pybithumb.get_current_price(\"BTC\")\n",
        "        self.lineEdit.setText(str(price))   \n",
        "        \n",
        "\n",
        "app = QApplication(sys.argv)\n",
        "window = MyWindow()\n",
        "window.show()\n",
        "\n",
        "app.exec_()"
      ]
    },
    {
      "cell_type": "code",
      "execution_count": null,
      "metadata": {
        "id": "0Z5NzW0qcHeG",
        "outputId": "37059a1c-f29c-40f6-93a4-173d43d18412"
      },
      "outputs": [
        {
          "data": {
            "text/plain": [
              "0"
            ]
          },
          "execution_count": 1,
          "metadata": {},
          "output_type": "execute_result"
        }
      ],
      "source": [
        "# 퀴즈\n",
        "\n",
        "import sys\n",
        "from PyQt5.QtWidgets import *\n",
        "from PyQt5 import uic\n",
        "import pybithumb     \n",
        "\n",
        "form_class = uic.loadUiType(\"mywindow.ui\")[0] \n",
        "\n",
        "class MyWindow(QMainWindow, form_class):           \n",
        "    def __init__(self):\n",
        "        super().__init__()\n",
        "        self.setupUi(self)\n",
        "        self.pushButton.clicked.connect(self.btn_clicked)\n",
        "\n",
        "    def btn_clicked(self):\n",
        "        price1 = pybithumb.get_current_price(\"BTC\")\n",
        "        self.lineEdit.setText(str(price1))\n",
        "        price2 = pybithumb.get_current_price(\"ETH\")\n",
        "        self.lineEdit_2.setText(str(price2))\n",
        "        price3 = pybithumb.get_current_price(\"XRP\")\n",
        "        self.lineEdit_3.setText(str(price3))\n",
        "        \n",
        "\n",
        "app = QApplication(sys.argv)\n",
        "window = MyWindow()\n",
        "window.show()\n",
        "\n",
        "app.exec_()\n",
        "\n",
        "\n",
        "# ui를 수정한 후 꼭 >>>저장<<<하는거 잊지말자.\n",
        "# 문제는 칸을 대량으로 만들어야 한다는 것."
      ]
    },
    {
      "cell_type": "markdown",
      "metadata": {
        "id": "2VL3PkTOcHeG"
      },
      "source": [
        "# Table Widget\n",
        "\n",
        "대량으로 집어넣기 좋은 칸\n",
        "\n",
        "더블 클릭 후 행에 index 추가해서 편집하기.\n",
        "\n",
        "\n",
        "이제 윈도우 웹으로 만들것. 진짜 파이썬 파일을 사용한다. "
      ]
    },
    {
      "cell_type": "code",
      "execution_count": null,
      "metadata": {
        "id": "cRUxwm0YcHeG",
        "outputId": "ec66614b-0c66-46dd-aad9-bb74c4889c74"
      },
      "outputs": [
        {
          "ename": "TypeError",
          "evalue": "'QTableWidgetItem' object is not callable",
          "output_type": "error",
          "traceback": [
            "\u001b[1;31m---------------------------------------------------------------------------\u001b[0m",
            "\u001b[1;31mTypeError\u001b[0m                                 Traceback (most recent call last)",
            "\u001b[1;32m~\\AppData\\Local\\Temp\\ipykernel_6500\\408784086.py\u001b[0m in \u001b[0;36mbtn_clicked\u001b[1;34m(self)\u001b[0m\n\u001b[0;32m     21\u001b[0m \u001b[1;33m\u001b[0m\u001b[0m\n\u001b[0;32m     22\u001b[0m             \u001b[0mprice\u001b[0m \u001b[1;33m=\u001b[0m \u001b[0mpybithumb\u001b[0m\u001b[1;33m.\u001b[0m\u001b[0mget_current_price\u001b[0m\u001b[1;33m(\u001b[0m\u001b[0mticker\u001b[0m\u001b[1;33m)\u001b[0m\u001b[1;33m\u001b[0m\u001b[1;33m\u001b[0m\u001b[0m\n\u001b[1;32m---> 23\u001b[1;33m             \u001b[0mself\u001b[0m\u001b[1;33m.\u001b[0m\u001b[0mtableWidget\u001b[0m\u001b[1;33m.\u001b[0m\u001b[0msetItem\u001b[0m\u001b[1;33m(\u001b[0m\u001b[0mi\u001b[0m\u001b[1;33m,\u001b[0m \u001b[1;36m1\u001b[0m\u001b[1;33m,\u001b[0m \u001b[0mitem\u001b[0m\u001b[1;33m(\u001b[0m\u001b[0mstr\u001b[0m\u001b[1;33m(\u001b[0m\u001b[0mprice\u001b[0m\u001b[1;33m)\u001b[0m\u001b[1;33m)\u001b[0m\u001b[1;33m)\u001b[0m\u001b[1;33m\u001b[0m\u001b[1;33m\u001b[0m\u001b[0m\n\u001b[0m\u001b[0;32m     24\u001b[0m \u001b[1;33m\u001b[0m\u001b[0m\n\u001b[0;32m     25\u001b[0m \u001b[1;33m\u001b[0m\u001b[0m\n",
            "\u001b[1;31mTypeError\u001b[0m: 'QTableWidgetItem' object is not callable"
          ]
        },
        {
          "ename": "TypeError",
          "evalue": "'QTableWidgetItem' object is not callable",
          "output_type": "error",
          "traceback": [
            "\u001b[1;31m---------------------------------------------------------------------------\u001b[0m",
            "\u001b[1;31mTypeError\u001b[0m                                 Traceback (most recent call last)",
            "\u001b[1;32m~\\AppData\\Local\\Temp\\ipykernel_6500\\408784086.py\u001b[0m in \u001b[0;36mbtn_clicked\u001b[1;34m(self)\u001b[0m\n\u001b[0;32m     21\u001b[0m \u001b[1;33m\u001b[0m\u001b[0m\n\u001b[0;32m     22\u001b[0m             \u001b[0mprice\u001b[0m \u001b[1;33m=\u001b[0m \u001b[0mpybithumb\u001b[0m\u001b[1;33m.\u001b[0m\u001b[0mget_current_price\u001b[0m\u001b[1;33m(\u001b[0m\u001b[0mticker\u001b[0m\u001b[1;33m)\u001b[0m\u001b[1;33m\u001b[0m\u001b[1;33m\u001b[0m\u001b[0m\n\u001b[1;32m---> 23\u001b[1;33m             \u001b[0mself\u001b[0m\u001b[1;33m.\u001b[0m\u001b[0mtableWidget\u001b[0m\u001b[1;33m.\u001b[0m\u001b[0msetItem\u001b[0m\u001b[1;33m(\u001b[0m\u001b[0mi\u001b[0m\u001b[1;33m,\u001b[0m \u001b[1;36m1\u001b[0m\u001b[1;33m,\u001b[0m \u001b[0mitem\u001b[0m\u001b[1;33m(\u001b[0m\u001b[0mstr\u001b[0m\u001b[1;33m(\u001b[0m\u001b[0mprice\u001b[0m\u001b[1;33m)\u001b[0m\u001b[1;33m)\u001b[0m\u001b[1;33m)\u001b[0m\u001b[1;33m\u001b[0m\u001b[1;33m\u001b[0m\u001b[0m\n\u001b[0m\u001b[0;32m     24\u001b[0m \u001b[1;33m\u001b[0m\u001b[0m\n\u001b[0;32m     25\u001b[0m \u001b[1;33m\u001b[0m\u001b[0m\n",
            "\u001b[1;31mTypeError\u001b[0m: 'QTableWidgetItem' object is not callable"
          ]
        },
        {
          "ename": "TypeError",
          "evalue": "'QTableWidgetItem' object is not callable",
          "output_type": "error",
          "traceback": [
            "\u001b[1;31m---------------------------------------------------------------------------\u001b[0m",
            "\u001b[1;31mTypeError\u001b[0m                                 Traceback (most recent call last)",
            "\u001b[1;32m~\\AppData\\Local\\Temp\\ipykernel_6500\\408784086.py\u001b[0m in \u001b[0;36mbtn_clicked\u001b[1;34m(self)\u001b[0m\n\u001b[0;32m     21\u001b[0m \u001b[1;33m\u001b[0m\u001b[0m\n\u001b[0;32m     22\u001b[0m             \u001b[0mprice\u001b[0m \u001b[1;33m=\u001b[0m \u001b[0mpybithumb\u001b[0m\u001b[1;33m.\u001b[0m\u001b[0mget_current_price\u001b[0m\u001b[1;33m(\u001b[0m\u001b[0mticker\u001b[0m\u001b[1;33m)\u001b[0m\u001b[1;33m\u001b[0m\u001b[1;33m\u001b[0m\u001b[0m\n\u001b[1;32m---> 23\u001b[1;33m             \u001b[0mself\u001b[0m\u001b[1;33m.\u001b[0m\u001b[0mtableWidget\u001b[0m\u001b[1;33m.\u001b[0m\u001b[0msetItem\u001b[0m\u001b[1;33m(\u001b[0m\u001b[0mi\u001b[0m\u001b[1;33m,\u001b[0m \u001b[1;36m1\u001b[0m\u001b[1;33m,\u001b[0m \u001b[0mitem\u001b[0m\u001b[1;33m(\u001b[0m\u001b[0mstr\u001b[0m\u001b[1;33m(\u001b[0m\u001b[0mprice\u001b[0m\u001b[1;33m)\u001b[0m\u001b[1;33m)\u001b[0m\u001b[1;33m)\u001b[0m\u001b[1;33m\u001b[0m\u001b[1;33m\u001b[0m\u001b[0m\n\u001b[0m\u001b[0;32m     24\u001b[0m \u001b[1;33m\u001b[0m\u001b[0m\n\u001b[0;32m     25\u001b[0m \u001b[1;33m\u001b[0m\u001b[0m\n",
            "\u001b[1;31mTypeError\u001b[0m: 'QTableWidgetItem' object is not callable"
          ]
        },
        {
          "data": {
            "text/plain": [
              "0"
            ]
          },
          "execution_count": 1,
          "metadata": {},
          "output_type": "execute_result"
        }
      ],
      "source": [
        "import sys\n",
        "from PyQt5.QtWidgets import *\n",
        "from PyQt5 import uic\n",
        "import pybithumb\n",
        "from PyQt5.QtCore import *\n",
        "\n",
        "tickers = [\"BTC\", \"ETH\", \"XRP\", \"ADA\"]\n",
        "\n",
        "form_class = uic.loadUiType(\"mywindow.ui\")[0] \n",
        "\n",
        "class MyWindow(QMainWindow, form_class):           \n",
        "    def __init__(self):\n",
        "        super().__init__()\n",
        "        self.setupUi(self)\n",
        "        self.pushButton.clicked.connect(self.btn_clicked)\n",
        "\n",
        "    def btn_clicked(self):\n",
        "        for i, ticker in enumerate(tickers):        # 하나씩 뽑을 때마다 index를 걸어줌 : enumerate\n",
        "            item = QTableWidgetItem(ticker)        # 테이블의 클래스 이름\n",
        "            self.tableWidget.setItem(i, 0, item)   # (행, 열은 0으로 고정, 이름을 0번째 열에)\n",
        "\n",
        "            price = pybithumb.get_current_price(ticker)\n",
        "            self.tableWidget.setItem(i, 1, QTableWidegetItem(str(price)))\n",
        "\n",
        "\n",
        "app = QApplication(sys.argv)\n",
        "window = MyWindow()\n",
        "window.show()\n",
        "\n",
        "app.exec_()\n"
      ]
    },
    {
      "cell_type": "markdown",
      "metadata": {
        "id": "a6DkRv34cHeG"
      },
      "source": [
        "# 윈도우 앱으로 만들기\n",
        "\n",
        "        pyinstaller : 일반 파이썬 파일을 윈도우 실행 exe 파일로 만들어준다.\n"
      ]
    },
    {
      "cell_type": "code",
      "execution_count": null,
      "metadata": {
        "id": "OS20mcalcHeG",
        "outputId": "0bb0347e-0078-4e5a-aa6d-779d7b377eb9"
      },
      "outputs": [
        {
          "name": "stdout",
          "output_type": "stream",
          "text": [
            "Collecting pyinstaller\n",
            "  Downloading pyinstaller-5.7.0-py3-none-win_amd64.whl (1.3 MB)\n",
            "     ---------------------------------------- 1.3/1.3 MB 10.0 MB/s eta 0:00:00\n",
            "Requirement already satisfied: setuptools>=42.0.0 in c:\\users\\ezen\\anaconda3\\lib\\site-packages (from pyinstaller) (63.4.1)\n",
            "Collecting pyinstaller-hooks-contrib>=2021.4\n",
            "  Downloading pyinstaller_hooks_contrib-2022.14-py2.py3-none-any.whl (252 kB)\n",
            "     ------------------------------------- 252.6/252.6 kB 16.2 MB/s eta 0:00:00\n",
            "Collecting altgraph\n",
            "  Downloading altgraph-0.17.3-py2.py3-none-any.whl (21 kB)\n",
            "Collecting pefile>=2022.5.30\n",
            "  Downloading pefile-2022.5.30.tar.gz (72 kB)\n",
            "     ---------------------------------------- 72.9/72.9 kB 3.9 MB/s eta 0:00:00\n",
            "  Preparing metadata (setup.py): started\n",
            "  Preparing metadata (setup.py): finished with status 'done'\n",
            "Requirement already satisfied: pywin32-ctypes>=0.2.0 in c:\\users\\ezen\\anaconda3\\lib\\site-packages (from pyinstaller) (0.2.0)\n",
            "Requirement already satisfied: future in c:\\users\\ezen\\anaconda3\\lib\\site-packages (from pefile>=2022.5.30->pyinstaller) (0.18.2)\n",
            "Building wheels for collected packages: pefile\n",
            "  Building wheel for pefile (setup.py): started\n",
            "  Building wheel for pefile (setup.py): finished with status 'done'\n",
            "  Created wheel for pefile: filename=pefile-2022.5.30-py3-none-any.whl size=69362 sha256=cb7a94d42052085d2741efa18d1151fb3f1ad80958c17233d71fede91f29275c\n",
            "  Stored in directory: c:\\users\\ezen\\appdata\\local\\pip\\cache\\wheels\\f1\\fe\\01\\5536332fc49e010786c52886ac14f72073dd65fed3c3d8945c\n",
            "Successfully built pefile\n",
            "Installing collected packages: altgraph, pyinstaller-hooks-contrib, pefile, pyinstaller\n",
            "Successfully installed altgraph-0.17.3 pefile-2022.5.30 pyinstaller-5.7.0 pyinstaller-hooks-contrib-2022.14\n",
            "Note: you may need to restart the kernel to use updated packages.\n"
          ]
        }
      ],
      "source": [
        "# pip install pyinstaller"
      ]
    },
    {
      "cell_type": "markdown",
      "metadata": {
        "id": "V_uiwAW7cHeH"
      },
      "source": [
        "1. cmd 방법\n",
        "   \n",
        "        설치 후 -> cmd -> 관리자 권한 실행 -> cd C:\\Users\\EZEN\\Documents\\Python class -> pyinstaller Python_Day5-web.py\n",
        "\n",
        "2. 터미널 방법\n",
        "\n",
        "        혹은 py파일 터미널 -> pyinstaller coiner.py\n",
        "\n",
        "3. anaconda \n",
        "\n",
        "        anaconda prompt -> pyinstaller coiner.py\n",
        "   \n",
        "\n",
        "웹을 완료 후 -> ui파일을 복사 -> dist -> coiner -> 붙여넣기 -> dist 파일의 coiner.exe 실행"
      ]
    },
    {
      "cell_type": "markdown",
      "metadata": {
        "id": "aL-FpSu7cHeH"
      },
      "source": [
        "# 숙제\n",
        "\n",
        "3대 사이트 탑 100 리스트 윈도우 웹 파일과 코드를 카톡으로 보내기"
      ]
    }
  ],
  "metadata": {
    "kernelspec": {
      "display_name": "Python 3.9.13 ('base')",
      "language": "python",
      "name": "python3"
    },
    "language_info": {
      "codemirror_mode": {
        "name": "ipython",
        "version": 3
      },
      "file_extension": ".py",
      "mimetype": "text/x-python",
      "name": "python",
      "nbconvert_exporter": "python",
      "pygments_lexer": "ipython3",
      "version": "3.9.13"
    },
    "orig_nbformat": 4,
    "vscode": {
      "interpreter": {
        "hash": "7f7e32c5e102288e992346f63d8c1eb5d8460aac8c9e83a028ee1cbe79ab1c05"
      }
    },
    "colab": {
      "provenance": [],
      "include_colab_link": true
    }
  },
  "nbformat": 4,
  "nbformat_minor": 0
}