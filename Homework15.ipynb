{
  "cells": [
    {
      "cell_type": "markdown",
      "metadata": {
        "id": "view-in-github",
        "colab_type": "text"
      },
      "source": [
        "<a href=\"https://colab.research.google.com/github/yesolcho/Python-class/blob/main/Homework15.ipynb\" target=\"_parent\"><img src=\"https://colab.research.google.com/assets/colab-badge.svg\" alt=\"Open In Colab\"/></a>"
      ]
    },
    {
      "cell_type": "markdown",
      "metadata": {
        "id": "aeNRvUlHGGtu"
      },
      "source": [
        "# round(number,n)\n",
        "\n",
        "number 인자를 반올림해서 소수 n번째 자리까지 나타내어주는 함수\n",
        "\n",
        "\n",
        "# math.sqrt(number)\n",
        "\n",
        "number인자의 제곱근을 구해주는 함수.\n",
        "import math 필요\n",
        "\n",
        "\n",
        "# math.pi\n",
        "\n",
        "파이를 소숫점 15째 자리까지 나타내주는 함수. \n",
        "import math 필요"
      ]
    },
    {
      "cell_type": "code",
      "execution_count": null,
      "metadata": {
        "colab": {
          "base_uri": "https://localhost:8080/"
        },
        "id": "wqRIKTH4GGtv",
        "outputId": "3a006628-53b8-4895-ff19-461db60d759f"
      },
      "outputs": [
        {
          "output_type": "stream",
          "name": "stdout",
          "text": [
            "Enter a number with lots of decimal places: 1.8888888\n",
            "3.7777776\n"
          ]
        }
      ],
      "source": [
        "# 027\n",
        "\n",
        "n = float(input(\"Enter a number with lots of decimal places: \"))\n",
        "\n",
        "print(n*2)"
      ]
    },
    {
      "cell_type": "code",
      "execution_count": null,
      "metadata": {
        "colab": {
          "base_uri": "https://localhost:8080/"
        },
        "id": "GqlFMapZGGtw",
        "outputId": "dfb073fe-681e-4d2b-86f8-c1ea75c1d0bb"
      },
      "outputs": [
        {
          "output_type": "stream",
          "name": "stdout",
          "text": [
            "Enter a number with lots of decimal places: 1.8888888\n",
            "3.78\n"
          ]
        }
      ],
      "source": [
        "# 028\n",
        "\n",
        "n = float(input(\"Enter a number with lots of decimal places: \"))\n",
        "n2 = n*2\n",
        "print(round(n2,2))"
      ]
    },
    {
      "cell_type": "code",
      "execution_count": null,
      "metadata": {
        "colab": {
          "base_uri": "https://localhost:8080/"
        },
        "id": "Q8l-N9kdGGtx",
        "outputId": "c0307f07-f7b9-4b11-ac61-b9f18eafb405"
      },
      "outputs": [
        {
          "output_type": "stream",
          "name": "stdout",
          "text": [
            "Enter an integer over 500: 600\n",
            "24.49\n"
          ]
        }
      ],
      "source": [
        "# 029\n",
        "\n",
        "a = int(input(\"Enter an integer over 500: \"))\n",
        "import math\n",
        "a2 = math.sqrt(a)\n",
        "print(round(a2,2))"
      ]
    },
    {
      "cell_type": "code",
      "execution_count": null,
      "metadata": {
        "colab": {
          "base_uri": "https://localhost:8080/"
        },
        "id": "1FvT5V-fGGtx",
        "outputId": "5a045636-7f72-4632-a9a3-47eb47aec10e"
      },
      "outputs": [
        {
          "output_type": "stream",
          "name": "stdout",
          "text": [
            "3.14159\n"
          ]
        }
      ],
      "source": [
        "# 030\n",
        "\n",
        "import math\n",
        "p = math.pi\n",
        "\n",
        "print(round(p,5))\n",
        "\n",
        "# round(math.pi,5) "
      ]
    },
    {
      "cell_type": "code",
      "execution_count": null,
      "metadata": {
        "colab": {
          "base_uri": "https://localhost:8080/"
        },
        "id": "vPNSr181GGtx",
        "outputId": "e5d91728-c5ab-4690-f32f-870b25c8c404"
      },
      "outputs": [
        {
          "output_type": "stream",
          "name": "stdout",
          "text": [
            "Enter the radius of a circle: 3\n",
            "28.274333882308138\n"
          ]
        }
      ],
      "source": [
        "# 031\n",
        "\n",
        "a = float(input(\"Enter the radius of a circle: \"))\n",
        "a2 = a**2\n",
        "\n",
        "import math\n",
        "p = math.pi\n",
        "\n",
        "print(p*a2) \n",
        "\n",
        "# math.pi*a2"
      ]
    },
    {
      "cell_type": "markdown",
      "metadata": {
        "id": "RqH8mKxmGGtx"
      },
      "source": [
        "# 제곱\n",
        "\n",
        "x의 y제곱: x**y"
      ]
    },
    {
      "cell_type": "code",
      "execution_count": null,
      "metadata": {
        "colab": {
          "base_uri": "https://localhost:8080/"
        },
        "id": "pF_k7VxdGGtx",
        "outputId": "a519ba4a-77d8-45ec-9686-61713a840618"
      },
      "outputs": [
        {
          "output_type": "stream",
          "name": "stdout",
          "text": [
            "Radius: 3\n",
            "Depth of a ylinder: 6\n",
            "169.646\n"
          ]
        }
      ],
      "source": [
        "# 032\n",
        "\n",
        "a = float(input(\"Radius: \"))\n",
        "b = float(input(\"Depth of a ylinder: \"))\n",
        "\n",
        "import math\n",
        "p = math.pi\n",
        "\n",
        "volume = (a**2)*p*b\n",
        "\n",
        "print(round(volume,3))"
      ]
    },
    {
      "cell_type": "code",
      "execution_count": null,
      "metadata": {
        "colab": {
          "base_uri": "https://localhost:8080/"
        },
        "id": "kQERgIIBGGty",
        "outputId": "66e4331d-961e-46bd-dcb3-a016ea894837"
      },
      "outputs": [
        {
          "output_type": "stream",
          "name": "stdout",
          "text": [
            "Number1: 7\n",
            "Number2: 2\n",
            "7 divided by 2 is 3 with 1\n"
          ]
        }
      ],
      "source": [
        "# 033\n",
        "\n",
        "a = int(input(\"Number1: \"))\n",
        "b = int(input(\"Number2: \"))\n",
        "\n",
        "print(f\"{a} divided by {b} is {a//b} with {a%b}\")"
      ]
    },
    {
      "cell_type": "code",
      "execution_count": null,
      "metadata": {
        "colab": {
          "base_uri": "https://localhost:8080/"
        },
        "id": "lpnqcRKIGGty",
        "outputId": "5335bfe8-551e-473b-beed-a49937a562d6"
      },
      "outputs": [
        {
          "output_type": "stream",
          "name": "stdout",
          "text": [
            "1) Square\n",
            "2) Triangle\n",
            "Enter a number: 2\n",
            "The length of base: 4\n",
            "The length of height: 3\n",
            "Area:  6.0\n"
          ]
        }
      ],
      "source": [
        "# 034\n",
        "\n",
        "a = int(input(\"1) Square\\n2) Triangle\\nEnter a number: \"))\n",
        "print()\n",
        "\n",
        "if a == 1:\n",
        "    s = float(input(\"The length of one of its sides: \"))\n",
        "    print(\"Area: \",s*s)\n",
        "elif a == 2:\n",
        "    t1 = float(input(\"The length of base: \"))\n",
        "    t2 = float(input(\"The length of height: \"))\n",
        "    print(\"Area: \",t1*t2/2)\n",
        "else:\n",
        "    print(f\"There is no number {a}.\")"
      ]
    }
  ],
  "metadata": {
    "kernelspec": {
      "display_name": "Python 3.9.13 ('base')",
      "language": "python",
      "name": "python3"
    },
    "language_info": {
      "codemirror_mode": {
        "name": "ipython",
        "version": 3
      },
      "file_extension": ".py",
      "mimetype": "text/x-python",
      "name": "python",
      "nbconvert_exporter": "python",
      "pygments_lexer": "ipython3",
      "version": "3.9.13"
    },
    "orig_nbformat": 4,
    "vscode": {
      "interpreter": {
        "hash": "42a3cfd936dca6cd9134016eb9598fa6c0736d544a7437139bac2f86277545e6"
      }
    },
    "colab": {
      "provenance": [],
      "include_colab_link": true
    }
  },
  "nbformat": 4,
  "nbformat_minor": 0
}