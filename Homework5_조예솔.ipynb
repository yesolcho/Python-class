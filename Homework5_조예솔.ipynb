{
  "nbformat": 4,
  "nbformat_minor": 0,
  "metadata": {
    "colab": {
      "provenance": [],
      "collapsed_sections": [],
      "authorship_tag": "ABX9TyMXYQzkj49Ndh+hCMFN/x0N",
      "include_colab_link": true
    },
    "kernelspec": {
      "name": "python3",
      "display_name": "Python 3"
    },
    "language_info": {
      "name": "python"
    }
  },
  "cells": [
    {
      "cell_type": "markdown",
      "metadata": {
        "id": "view-in-github",
        "colab_type": "text"
      },
      "source": [
        "<a href=\"https://colab.research.google.com/github/yesolcho/Python-class/blob/main/Homework5_%EC%A1%B0%EC%98%88%EC%86%94.ipynb\" target=\"_parent\"><img src=\"https://colab.research.google.com/assets/colab-badge.svg\" alt=\"Open In Colab\"/></a>"
      ]
    },
    {
      "cell_type": "code",
      "execution_count": null,
      "metadata": {
        "colab": {
          "base_uri": "https://localhost:8080/"
        },
        "id": "OOX3XDB-YjXI",
        "outputId": "bc650d40-8b10-49ce-bcc0-85b064c8ee7b"
      },
      "outputs": [
        {
          "output_type": "stream",
          "name": "stdout",
          "text": [
            "First Name: Yesol\n",
            "Hello [Yesol]\n"
          ]
        }
      ],
      "source": [
        "#001\n",
        "\n",
        "a = \"First Name: \"\n",
        "\n",
        "print(\"Hello \"+\"[\"+input(a)+\"]\")"
      ]
    },
    {
      "cell_type": "code",
      "source": [
        "#002\n",
        "\n",
        "a = input(\"First name: \")\n",
        "b = input(\"surname: \")\n",
        "\n",
        "print(\"Hello \"+\"[\"+a+\"]\"+\" [\"+b+\"]\")"
      ],
      "metadata": {
        "colab": {
          "base_uri": "https://localhost:8080/"
        },
        "id": "-aW1Xcese0UD",
        "outputId": "6c4aa2a6-4298-4c92-e705-174baa89c3ab"
      },
      "execution_count": null,
      "outputs": [
        {
          "output_type": "stream",
          "name": "stdout",
          "text": [
            "First name: Yesol\n",
            "surname: Cho\n",
            "Hello [Yesol] [Cho]\n"
          ]
        }
      ]
    },
    {
      "cell_type": "code",
      "source": [
        "#003\n",
        "\n",
        "print(\"What do you call a bear with no teeth?\");print(\"Agummy bear!\")"
      ],
      "metadata": {
        "colab": {
          "base_uri": "https://localhost:8080/"
        },
        "id": "2imNyN3VfmiU",
        "outputId": "f43f5129-bd05-4655-81bc-084b44c9ec1f"
      },
      "execution_count": null,
      "outputs": [
        {
          "output_type": "stream",
          "name": "stdout",
          "text": [
            "What do you call a bear with no teeth?\n",
            "Agummy bear!\n"
          ]
        }
      ]
    },
    {
      "cell_type": "code",
      "source": [
        "#004\n",
        "\n",
        "a = input(\"number 1: \")\n",
        "b = input(\"number 2: \")\n",
        "c = int(a)+int(b)\n",
        "\n",
        "print(\"The total is\",\"[\",c,\"]\")\n",
        "\n",
        "\n",
        "# 왜 int를 쓸땐 +로 하면 안될까?\n",
        "print(\"The total is\",\"[\"+c+\"]\")"
      ],
      "metadata": {
        "colab": {
          "base_uri": "https://localhost:8080/",
          "height": 263
        },
        "id": "uvO7LPhGfxaM",
        "outputId": "21896f12-0f9d-4dea-b813-914a3b2e0176"
      },
      "execution_count": null,
      "outputs": [
        {
          "output_type": "stream",
          "name": "stdout",
          "text": [
            "number 1: 6\n",
            "number 2: 5\n",
            "The total is [ 11 ]\n"
          ]
        },
        {
          "output_type": "error",
          "ename": "TypeError",
          "evalue": "ignored",
          "traceback": [
            "\u001b[0;31m---------------------------------------------------------------------------\u001b[0m",
            "\u001b[0;31mTypeError\u001b[0m                                 Traceback (most recent call last)",
            "\u001b[0;32m<ipython-input-50-164054c250e3>\u001b[0m in \u001b[0;36m<module>\u001b[0;34m\u001b[0m\n\u001b[1;32m      9\u001b[0m \u001b[0;31m# 왜 int를 쓸땐 +로 하면 안될까?\u001b[0m\u001b[0;34m\u001b[0m\u001b[0;34m\u001b[0m\u001b[0;34m\u001b[0m\u001b[0m\n\u001b[1;32m     10\u001b[0m \u001b[0;34m\u001b[0m\u001b[0m\n\u001b[0;32m---> 11\u001b[0;31m \u001b[0mprint\u001b[0m\u001b[0;34m(\u001b[0m\u001b[0;34m\"The total is\"\u001b[0m\u001b[0;34m,\u001b[0m\u001b[0;34m\"[\"\u001b[0m\u001b[0;34m+\u001b[0m\u001b[0mc\u001b[0m\u001b[0;34m+\u001b[0m\u001b[0;34m\"]\"\u001b[0m\u001b[0;34m)\u001b[0m\u001b[0;34m\u001b[0m\u001b[0;34m\u001b[0m\u001b[0m\n\u001b[0m",
            "\u001b[0;31mTypeError\u001b[0m: can only concatenate str (not \"int\") to str"
          ]
        }
      ]
    },
    {
      "cell_type": "code",
      "source": [],
      "metadata": {
        "id": "DF15v--Zx_pj"
      },
      "execution_count": null,
      "outputs": []
    },
    {
      "cell_type": "code",
      "source": [
        "#005\n",
        "\n",
        "a = input(\"number 1: \")\n",
        "b = input(\"number 2: \")\n",
        "c = input(\"number 3: \")\n",
        "d = (int(a)+int(b))*int(c)\n",
        "\n",
        "print(\"The answer is \"+\"[\",d,\"]\")"
      ],
      "metadata": {
        "colab": {
          "base_uri": "https://localhost:8080/"
        },
        "id": "x7fsk5J6hVLO",
        "outputId": "c18deec5-f98c-4224-936f-93db73144fa5"
      },
      "execution_count": null,
      "outputs": [
        {
          "output_type": "stream",
          "name": "stdout",
          "text": [
            "number 1: 6\n",
            "number 2: 4\n",
            "number 3: 10\n",
            "The answer is [ 100 ]\n"
          ]
        }
      ]
    },
    {
      "cell_type": "code",
      "source": [
        "#006\n",
        "\n",
        "a = input(\"How many slices of pizza did you have? \")\n",
        "b = input(\"How many slices have you eaten? \")\n",
        "leftpizza = int(a)-int(b)\n",
        "\n",
        "print(leftpizza,\"slices of pizza have left.\")\n",
        "\n",
        "#변수에는 띄어쓰기를 할 수 없다."
      ],
      "metadata": {
        "colab": {
          "base_uri": "https://localhost:8080/"
        },
        "id": "5G2byXmIhir9",
        "outputId": "7f908a3e-381d-417f-9aee-9a32d21fd4a1"
      },
      "execution_count": null,
      "outputs": [
        {
          "output_type": "stream",
          "name": "stdout",
          "text": [
            "How many slices of pizza did you have? 8\n",
            "How many slices have you eaten? 5\n",
            "3 slices of pizza have left.\n"
          ]
        }
      ]
    },
    {
      "cell_type": "code",
      "source": [
        "#007\n",
        "\n",
        "a = input(\"Name: \")\n",
        "b = input(\"Age: \")\n",
        "c = int(b)+1\n",
        "\n",
        "print(\"[\",a,\"]\",\"next birthday you will be\", \"[\",c,\"]\")"
      ],
      "metadata": {
        "colab": {
          "base_uri": "https://localhost:8080/"
        },
        "id": "EL3RdVWMqrah",
        "outputId": "76bcf6de-5902-4064-ce9a-13ebfda671e5"
      },
      "execution_count": null,
      "outputs": [
        {
          "output_type": "stream",
          "name": "stdout",
          "text": [
            "Name: Yesol\n",
            "Age: 24\n",
            "[ Yesol ] next birthday you will be [ 25 ]\n"
          ]
        }
      ]
    },
    {
      "cell_type": "code",
      "source": [
        "#008\n",
        "\n",
        "a = input(\"Total price of the bill : \")\n",
        "b = input(\"How many diners there are? : \")\n",
        "c = int(a)/int(b)\n",
        "\n",
        "print(\"Each person must pay\",\"[\",c,\"]\",\"dollar.\")"
      ],
      "metadata": {
        "colab": {
          "base_uri": "https://localhost:8080/"
        },
        "id": "X99s3fAQsCt5",
        "outputId": "da1bd010-6f09-4d5e-8227-fc793964b4cc"
      },
      "execution_count": null,
      "outputs": [
        {
          "output_type": "stream",
          "name": "stdout",
          "text": [
            "Total price of the bill : 20\n",
            "How many diners there are? : 4\n",
            "Each person must pay [ 5.0 ] dollar.\n"
          ]
        }
      ]
    },
    {
      "cell_type": "code",
      "source": [
        "#009\n",
        "\n",
        "a = input(\"Days: \")\n",
        "H = int(a)*24\n",
        "M = int(a)*24*60\n",
        "S = int(a)*24*60*60\n",
        "\n",
        "print(a,\"Days are\",H,\"hours,\",M,\"minutes and\", S,\"Seconds.\")"
      ],
      "metadata": {
        "colab": {
          "base_uri": "https://localhost:8080/"
        },
        "id": "sEvctirCtTUZ",
        "outputId": "d6fb4c6d-931c-4460-8b40-c2179720a825"
      },
      "execution_count": null,
      "outputs": [
        {
          "output_type": "stream",
          "name": "stdout",
          "text": [
            "Days: 2\n",
            "2 Days are 48 hours, 2880 minutes and 172800 Seconds.\n"
          ]
        }
      ]
    },
    {
      "cell_type": "code",
      "source": [
        "#010\n",
        "\n",
        "a = input(\"Weight(kg): \")\n",
        "b = int(a)*2204\n",
        "\n",
        "print(\"Your weight is\",\"[\",b,\"]\",\"pounds.\")"
      ],
      "metadata": {
        "colab": {
          "base_uri": "https://localhost:8080/"
        },
        "id": "5zlrVtINsqTE",
        "outputId": "b97dd518-29d9-4459-ab26-10fa4ff3ce04"
      },
      "execution_count": null,
      "outputs": [
        {
          "output_type": "stream",
          "name": "stdout",
          "text": [
            "Weight(kg): 46\n",
            "Your weight is [ 101384 ] pounds.\n"
          ]
        }
      ]
    },
    {
      "cell_type": "code",
      "source": [
        "#011\n",
        "\n",
        "a = input(\"Enter a number over 100 : \")\n",
        "b = input(\"Enter a number under 10 : \")\n",
        "c = int(a)/int(b)\n",
        "d = int(a)//int(b)\n",
        "\n",
        "print(a,\"is\",c,\"times larger than\",b,\".\")\n",
        "#or\n",
        "print(a,\"is about\",d,\"times larger than\",b,\".\")"
      ],
      "metadata": {
        "colab": {
          "base_uri": "https://localhost:8080/"
        },
        "id": "pgG8yx3MtJnE",
        "outputId": "d3976c62-16df-4e7b-ac28-b89c92d5acf3"
      },
      "execution_count": null,
      "outputs": [
        {
          "output_type": "stream",
          "name": "stdout",
          "text": [
            "Enter a number over 100 : 200\n",
            "Enter a number under 10 : 6\n",
            "200 is 33.333333333333336 times larger than 6 .\n",
            "200 is about 33 times larger than 6 .\n"
          ]
        }
      ]
    }
  ]
}